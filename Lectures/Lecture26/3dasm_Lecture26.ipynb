{
 "cells": [
  {
   "cell_type": "markdown",
   "metadata": {
    "slideshow": {
     "slide_type": "slide"
    }
   },
   "source": [
    "<img src=../figures/Brown_logo.svg width=50%>\n",
    "\n",
    "# Data-Driven Design & Analyses of Structures & Materials (3dasm)\n",
    "\n",
    "## Lecture 26\n",
    "\n",
    "### Miguel A. Bessa | <a href = \"mailto: miguel_bessa@brown.edu\">miguel_bessa@brown.edu</a>  | Associate Professor\n",
    "\n",
    "### Suryanarayanan M. S. | <a href = \"mailto: s.manojsanu@tudelft.nl\">s.manojsanu@tudelft.nl</a>  | PhD Candidate"
   ]
  },
  {
   "cell_type": "markdown",
   "metadata": {
    "slideshow": {
     "slide_type": "slide"
    }
   },
   "source": [
    "# Outline for today's lecture\n",
    "\n",
    "* Recap of previous lecture\n",
    "* Introduction to first- and second-order optimizers\n",
    "    \n",
    "**References:**\n",
    "* J. R. R. Martins & Andrew Ning, Engineering Design Optimization, 2021 - Chapters 1 & 4\n",
    "* For practical details of algorithms (Extra):\n",
    "    * Nocedal, Jorge, and Stephen J. Wright. Numerical optimization. Springer Science & Business Media, 2006.\n",
    "* For Adam, momemtum & Adagrad\n",
    "    * Ian Goodfellow and Yoshua Bengio and Aaron Courville. Deep Learning. MIT Press, 2016 - Chapter 8"
   ]
  },
  {
   "cell_type": "markdown",
   "metadata": {
    "slideshow": {
     "slide_type": "slide"
    }
   },
   "source": [
    "## Recap & contextualization\n",
    "<img align=right src=\"./figures/lr.png\" width=30%>\n",
    "\n",
    "1. **Unconstrained** minimization\n",
    "\n",
    "2. **Zeroth-order** optimizers:\n",
    "    * Work for mixed variables and discontinuous functions\n",
    "    * Common in hyperparameter optimization\n",
    "\n",
    "3. **First-order** optimizers:\n",
    "    * Learning rate $\\alpha$ (a.k.a. step size) is important:\n",
    "        * Too small: less exploration & \"bad\" minima\n",
    "        * Too large: more exploration but risk of divergence\n",
    "    * Learning rate **schedule** is common solution:\n",
    "        * Decrease learning rate $\\alpha_t$ slowly at each increment $t$:\n",
    "\n",
    "$$\\mathbf{x}_{t+1} = \\mathbf{x}_t + \\alpha_t \\mathbf{p}$$ "
   ]
  },
  {
   "cell_type": "markdown",
   "metadata": {
    "slideshow": {
     "slide_type": "slide"
    }
   },
   "source": [
    "<img align=right src=\"./figures/1d_optimality.png\" width=20%>\n",
    "\n",
    "4. **Gradient information** is important:\n",
    "    * At a local minimum, first-order gradient vanishes: $\\nabla f(\\mathbf{x}^*) = \\mathbf{0}$\n",
    "    * But it can be zero at local maxima and at saddle points!\n",
    "5. If **Hessian** (second-order gradient) is available then that point is:\n",
    "    * A local minima if Hessian = positive definite (all eigenvalues are > 0)\n",
    "    * A local maxima if Hessian = negative definite (all eigenvalues < 0)\n",
    "    * A saddle point if Hessian has positive and negative eigenvalues\n",
    "    * Uncertain if Hessian is semi-definite (some/all eigenvalues are zero)\n",
    "\n",
    "<img src=\"./figures/hessian_stationary_points.png\" width=80%>"
   ]
  },
  {
   "cell_type": "markdown",
   "metadata": {
    "slideshow": {
     "slide_type": "slide"
    }
   },
   "source": [
    "6. Simplest first-order optimizer: **Gradient descent (GD)**\n",
    "    * Update rule: $\\mathbf{x}_{k+1} = \\mathbf{x}_k + \\alpha \\mathbf{p}$\n",
    "        * where $\\mathbf{p} = - \\nabla f$ is the search direction\n",
    "        * and where learning rate $\\alpha =$ scalar (same in every direction)\n",
    "\n",
    "7. **Stochastic** gradient descent (SGD):\n",
    "    * Only considers batches (subsets) of data to approximate the gradient\n",
    "    * Can be more robust to noisy data\n",
    "\n",
    "8. There's a **spectrum** of gradient-based optimizers\n",
    "\n",
    "<img align=centre src=\"./figures/opt_spectrum.png\" width=50%>"
   ]
  },
  {
   "cell_type": "code",
   "execution_count": 1,
   "metadata": {
    "scrolled": true,
    "slideshow": {
     "slide_type": "skip"
    }
   },
   "outputs": [],
   "source": [
    "# Basic plotting tools needed in Python.\n",
    "import matplotlib.pyplot as plt # import plotting tools to create figures\n",
    "import numpy as np # import numpy to handle a lot of things!\n",
    "\n",
    "%config InlineBackend.figure_format = \"retina\" # render higher resolution images in the notebook\n",
    "plt.rcParams[\"figure.figsize\"] = (8,4) # rescale figure size appropriately for slides"
   ]
  },
  {
   "cell_type": "code",
   "execution_count": 2,
   "metadata": {
    "slideshow": {
     "slide_type": "skip"
    }
   },
   "outputs": [],
   "source": [
    "class FunctionPlot():\n",
    "    \"\"\"Simple class to manage plotting of a function.\n",
    "\n",
    "    Plot the function, its first order model and its second order model.\n",
    "    All of these can be plotted one by one interactively.\n",
    "    \"\"\"\n",
    "    def __init__(self, bounds=50, convex=True):\n",
    "        self.count = 0\n",
    "        self.saved_x = []  # Saved every input received\n",
    "        self.line = None\n",
    "        self.bounds = bounds  # Bounds on the decision variable\n",
    "        self.convex = convex\n",
    "\n",
    "        self.random_coeff = np.random.choice([-25, -15, 10, 20])  # For the underlying function\n",
    "        self.sine_coeff = 100\n",
    "        self.sine_freq = 0.2\n",
    "        self.show_canvas()\n",
    "\n",
    "    def underlying_func(self, x):\n",
    "        \"\"\"True function.\n",
    "        Sum of two functions:\n",
    "        1. A quadratic function with a random coefficient\n",
    "        The form is ax**2 - bx + c, where a is 1, b is random_coeff and c is 1.\n",
    "        2. a*sine(b*x) \n",
    "        \"\"\"\n",
    "        if self.convex:\n",
    "            return x**2 - self.random_coeff*x + 1\n",
    "        else:\n",
    "            return x**2 - self.random_coeff*x + 1 + self.sine_coeff*np.sin(self.sine_freq*x)\n",
    "\n",
    "    def gradient(self, x):\n",
    "        \"\"\"The gradient of the underlying function.\"\"\"\n",
    "        if self.convex:\n",
    "            return 2*x - self.random_coeff\n",
    "        else:\n",
    "            return 2*x - self.random_coeff + self.sine_coeff*self.sine_freq*np.cos(self.sine_freq*x)\n",
    "\n",
    "    def hessian(self, x):\n",
    "        if self.convex:\n",
    "            return 2\n",
    "        else:\n",
    "            return 2 - self.sine_coeff*self.sine_freq**2*np.sin(self.sine_freq*x)\n",
    "\n",
    "    def first_order_model(self, x, x0):\n",
    "        \"\"\"The first order model of the underlying function.\"\"\"\n",
    "        return self.underlying_func(x0) + self.gradient(x0)*(x - x0)\n",
    "\n",
    "    def second_order_model(self, x, x0):\n",
    "        \"\"\"The second order model of the underlying function.\"\"\"\n",
    "        return self.underlying_func(x0) + self.gradient(x0)*(x - x0) + 0.5*self.hessian(x0)*(x - x0)**2\n",
    "\n",
    "    def show_canvas(self):\n",
    "        \"\"\"Shows the figure on which to plot along with the bounds.\"\"\"\n",
    "        fig, ax = plt.subplots(1, 1, figsize=(10, 5))\n",
    "        ax.set_xlabel('x')\n",
    "        ax.set_ylabel('y = f(x)')\n",
    "        ax.set_xlim(-self.bounds, self.bounds)\n",
    "        ax.axvline(x=-self.bounds+3, color='r')  # To show the limit\n",
    "        ax.axvline(x=self.bounds-3, color='r')\n",
    "        self.fig = fig\n",
    "        self.ax = ax\n",
    "\n",
    "    def plot(self, x_value, with_first_order=False, with_second_order=False):\n",
    "        \"\"\"Plots the function, its first order model or its second order model.\"\"\"\n",
    "        self.count += 1\n",
    "        self.saved_x.append(x_value)\n",
    "\n",
    "        self.ax.plot(self.saved_x,\n",
    "                         [self.underlying_func(x) for x in self.saved_x], 'bo')\n",
    "\n",
    "        if with_first_order:\n",
    "            self._plot_first_order_model()\n",
    "        elif with_second_order:\n",
    "            self._plot_second_order_model()\n",
    "        else:\n",
    "            pass\n",
    "\n",
    "#         self.ax.legend()\n",
    "        plt.show()\n",
    "\n",
    "    def _plot_first_order_model(self):\n",
    "        if self.line is not None:\n",
    "            self.line.pop(0).remove()\n",
    "        x = np.linspace(-self.bounds, self.bounds, 100)\n",
    "        y = self.first_order_model(x, self.saved_x[-1])\n",
    "        self.line = self.ax.plot(x, y, 'r--', label='First-order model')\n",
    "\n",
    "    def _plot_second_order_model(self):\n",
    "        if self.line is not None:\n",
    "            self.line.pop(0).remove()\n",
    "        x = np.linspace(-self.bounds, self.bounds, 100)\n",
    "        y = self.second_order_model(x, self.saved_x[-1])\n",
    "        self.line = self.ax.plot(x, y, 'r--', label='Second-order model')\n",
    "\n",
    "    def plot_minimum(self):\n",
    "        \"\"\"Shows the minimum of the function.\"\"\"\n",
    "        if self.convex:\n",
    "            min_x = self.random_coeff / 2\n",
    "            min_y = self.underlying_func(min_x)\n",
    "        else:\n",
    "            x = np.linspace(-self.bounds, self.bounds, 200)\n",
    "            yvals = self.underlying_func(x)\n",
    "            min_x = x[np.argmin(yvals)]\n",
    "            min_y = np.min(yvals)            \n",
    "        \n",
    "        self.ax.plot(min_x, min_y, 'x', markersize=20, color='b', label='Minimum')\n",
    "\n",
    "    def plot_func(self):\n",
    "        x = np.linspace(-self.bounds, self.bounds, 100)\n",
    "        y = self.underlying_func(x)\n",
    "        self.ax.plot(x, y, \"b:\",label='True function')\n"
   ]
  },
  {
   "cell_type": "markdown",
   "metadata": {
    "slideshow": {
     "slide_type": "slide"
    }
   },
   "source": [
    "### Today: why not always use GD?\n",
    "\n",
    "Imagine the following 2D optimization problem:\n",
    "* Change the length and thickness of a plate to improve its bending stiffness.\n",
    "    * Decision (a.k.a. design or input) variables: $[$length, thickness$]$\n",
    "    * length ~ 1m to 2m\n",
    "    * thickness ~ 1mm to 2mm"
   ]
  },
  {
   "cell_type": "markdown",
   "metadata": {
    "slideshow": {
     "slide_type": "fragment"
    }
   },
   "source": [
    "**Question**: What do you think will happen to the gradients?"
   ]
  },
  {
   "cell_type": "markdown",
   "metadata": {
    "slideshow": {
     "slide_type": "fragment"
    }
   },
   "source": [
    "* **Varying curvatures** for different variables lead to problems..."
   ]
  },
  {
   "cell_type": "markdown",
   "metadata": {
    "slideshow": {
     "slide_type": "slide"
    }
   },
   "source": [
    "Recall that step size $\\alpha$ is a **scalar**... And that in this case the gradient changes much faster in one direction than the other: **Scaling issues!**\n",
    "\n",
    "<img src=\"./figures/gd_oscillation.png\" width=40%>\n",
    "\n",
    "* Curvature along \"length\" axis << curvature along \"thickness\" axis\n",
    "\n",
    "* Hessian's eigenvalues would look something like this: $[1000, 1]$\n",
    "    * **Slow progress along low curvature directions!** "
   ]
  },
  {
   "cell_type": "markdown",
   "metadata": {
    "slideshow": {
     "slide_type": "slide"
    }
   },
   "source": [
    "Besides adequately **scaling your dataset** (always scale your data!!), there are **two other approaches that we can use to move forward** "
   ]
  },
  {
   "cell_type": "markdown",
   "metadata": {
    "slideshow": {
     "slide_type": "fragment"
    }
   },
   "source": [
    "1. Adjust the gradients, so that we get a better search direction"
   ]
  },
  {
   "cell_type": "markdown",
   "metadata": {
    "slideshow": {
     "slide_type": "fragment"
    }
   },
   "source": [
    "2. Adjust the step sizes individually"
   ]
  },
  {
   "cell_type": "markdown",
   "metadata": {
    "slideshow": {
     "slide_type": "slide"
    }
   },
   "source": [
    "## Newton's method\n",
    "\n",
    "Theoretically, a more powerful optimization method than first- and zero-order methods\n",
    "* Uses both Gradient and Hessian\n",
    "* Creates a quadratic assumption\n",
    "* Goes to the quadratic bowl's minimum\n",
    "    \n",
    "Still follows the same update rule:\n",
    "\n",
    "$$\\mathbf{x}_{t+1} = \\mathbf{x}_t + \\alpha_t \\mathbf{p}$$"
   ]
  },
  {
   "cell_type": "markdown",
   "metadata": {
    "slideshow": {
     "slide_type": "fragment"
    }
   },
   "source": [
    "But direction is dependent on the Hessian: $\\mathbf{p} = - \\mathbf{H}^{-1} \\nabla f(\\mathbf{x}_t)$\n",
    "\n",
    "* This can be thought of as scaling the gradients according to the curvatures\n",
    "    * It can be **independent of variable scaling**! (i.e. we could use $\\alpha_t = 1$)\n",
    "    * But in general, we can also associate a learning rate (or step size) $\\alpha_t$ with a schedule."
   ]
  },
  {
   "cell_type": "code",
   "execution_count": 3,
   "metadata": {
    "slideshow": {
     "slide_type": "slide"
    }
   },
   "outputs": [
    {
     "data": {
      "image/png": "[encoded data removed]",
      "text/plain": [
       "<Figure size 1000x500 with 1 Axes>"
      ]
     },
     "metadata": {
      "image/png": {
       "height": 453,
       "width": 846
      }
     },
     "output_type": "display_data"
    }
   ],
   "source": [
    "plotter = FunctionPlot(convex=True, bounds=50)"
   ]
  },
  {
   "cell_type": "code",
   "execution_count": 4,
   "metadata": {
    "slideshow": {
     "slide_type": "slide"
    }
   },
   "outputs": [
    {
     "data": {
      "image/png": "[encoded data removed]",
      "text/plain": [
       "<Figure size 1000x500 with 1 Axes>"
      ]
     },
     "execution_count": 4,
     "metadata": {
      "image/png": {
       "height": 448,
       "width": 859
      }
     },
     "output_type": "execute_result"
    }
   ],
   "source": [
    "x = -40.0\n",
    "plotter.plot(x, with_second_order=True)\n",
    "plotter.plot_minimum()\n",
    "plotter.plot_func()\n",
    "plotter.fig"
   ]
  },
  {
   "cell_type": "markdown",
   "metadata": {
    "slideshow": {
     "slide_type": "slide"
    }
   },
   "source": [
    "### Issues with Newton's method\n",
    "\n",
    "* Calculating the Hessian\n",
    "    * Storage\n",
    "    * Expense\n",
    "* For zero eigenvalues...\n",
    "    * Inversion does not exist\n",
    "* For negative eigenvalues...\n",
    "    * Goes uphill \n",
    "        * They can cause the optimizer to increase the function value!"
   ]
  },
  {
   "cell_type": "markdown",
   "metadata": {
    "slideshow": {
     "slide_type": "slide"
    }
   },
   "source": [
    "## Thinking broadly: gradient-based optimizers as preconditioned strategies\n",
    "\n",
    "**Preconditioned** strategies take the original update rule:\n",
    "\n",
    "$\\mathbf{x}_{k+1} = \\mathbf{x}_k + \\alpha \\mathbf{p}$\n",
    "\n",
    "and write it as follows:\n",
    "\n",
    "$\\mathbf{x}_{t+1} = \\mathbf{x}_{t} -\\alpha_t \\mathbf{M}_t^{-1} \\nabla f(\\mathbf{x}_t)$\n",
    "\n",
    "where $\\mathbf{p} = -\\mathbf{M}_t^{-1} \\nabla f(\\mathbf{x}_t)$\n",
    "\n",
    "Matrix $\\mathbf{M}_t$ is called the **preconditioning matrix** or **preconditioner**"
   ]
  },
  {
   "cell_type": "markdown",
   "metadata": {
    "slideshow": {
     "slide_type": "fragment"
    }
   },
   "source": [
    "**Question**: What was $\\mathbf{M}_t$ for Newton's method that we just saw?"
   ]
  },
  {
   "cell_type": "markdown",
   "metadata": {
    "slideshow": {
     "slide_type": "fragment"
    }
   },
   "source": [
    "* For Newton's method: $\\mathbf{M}_t = \\mathbf{H}_t$ (i.e. the Hessian *preconditions* the gradient direction!)"
   ]
  },
  {
   "cell_type": "markdown",
   "metadata": {
    "slideshow": {
     "slide_type": "slide"
    }
   },
   "source": [
    "### Quasi-Newton methods: L-BFGS example\n",
    "\n",
    "Quasi-Newton methods try to approximate the Hessian (or its inverse):\n",
    "\n",
    "$\\mathbf{p} = - \\mathbf{M}_t^{-1} \\nabla f$\n",
    "\n",
    "* $\\mathbf{M}_t \\approx \\mathbf{H}(\\mathbf{x}_t)$ \n",
    "    * $\\mathbf{M}_t$ being positive definite"
   ]
  },
  {
   "cell_type": "markdown",
   "metadata": {
    "slideshow": {
     "slide_type": "fragment"
    }
   },
   "source": [
    "How to construct $\\mathbf{M}_t$?"
   ]
  },
  {
   "cell_type": "markdown",
   "metadata": {
    "slideshow": {
     "slide_type": "fragment"
    }
   },
   "source": [
    "* Estimate curvature based on previous gradients!"
   ]
  },
  {
   "cell_type": "markdown",
   "metadata": {
    "slideshow": {
     "slide_type": "slide"
    }
   },
   "source": [
    "A success case: **BFGS optimization algorithm**\n",
    "* BFGS stands for the initials of its inventors: Broyden, Fletcher, Goldfarb, and Shanno\n",
    "* It uses a clever update formula based on **storing all successive gradients** to approximate the Hessian\n",
    "* Nice because we don't need to specify the learning rate (it's one!). This is a form of \"Line Search\"."
   ]
  },
  {
   "cell_type": "markdown",
   "metadata": {
    "slideshow": {
     "slide_type": "slide"
    }
   },
   "source": [
    "However, it can be **expensive to store all successive gradients** to calculate $\\mathbf{B}$\n",
    "\n",
    "Instead, we can decide to store only the gradients of the last $m$ iterations!\n",
    "\n",
    "* This is called the **L-BFGS** optimization algorithm\n",
    "    * The \"L-\" stands for \"limited\" memory"
   ]
  },
  {
   "cell_type": "markdown",
   "metadata": {
    "slideshow": {
     "slide_type": "slide"
    }
   },
   "source": [
    "### Other preconditioning examples: momentum strategies for Gradient Descent (GD)\n",
    "\n",
    "* \"Heavy ball\" momentum\n",
    "* **Idea: Assign more weight to gradient directions that are consistent**\n",
    "    * If it oscillates in one direction, assign less weight\n",
    "\n",
    "<img align=centre src=\"./figures/gd_momentum.png\" width=50%>"
   ]
  },
  {
   "cell_type": "markdown",
   "metadata": {
    "slideshow": {
     "slide_type": "slide"
    }
   },
   "source": [
    "#### General procedure:\n",
    "* Analogy by thinking about a velocity vector (unit mass)\n",
    "    * Exponentially weighted average of previous gradients\n",
    "    * $\\mathbf{v}_t = \\beta \\mathbf{v}_{t-1} - \\alpha \\nabla f$\n",
    "        * $\\beta$ is a scalar hyperparameter\n",
    "        * Controls importance of previous gradients \n",
    "        \n",
    "$\\mathbf{x}_{t+1} = \\mathbf{x}_{t} + \\mathbf{v}_t$\n",
    "\n",
    "where $\\mathbf{v}_t = \\alpha \\left[\\frac{\\beta}{\\alpha} (\\mathbf{B} - \\mathbf{I}) \\nabla f\\right]$\n",
    "* Same step size for all directions, but using a particular type of preconditioner that depends on a matrix $\\mathbf{B}$"
   ]
  },
  {
   "cell_type": "markdown",
   "metadata": {
    "slideshow": {
     "slide_type": "slide"
    }
   },
   "source": [
    "### Other preconditioning examples: Adagrad optimizer\n",
    "\n",
    "* **Idea : Different step sizes for each direction**\n",
    "    * Using a history of squared gradients\n",
    "    \n",
    "It's easier to understand Adagrad in index notation:\n",
    "\n",
    "$$x_{t+1,d} = x_{t,d} - \\alpha_t \\frac{1}{\\sqrt{s_{t,d}+\\epsilon}} \\frac{\\partial f}{\\partial x_{t,d}}$$\n",
    "\n",
    "where $d$ indicates the particular dimension of the input variable.\n",
    "\n",
    "* $\\epsilon$ = small number to prevent division by zero\n",
    "* $\\alpha_t$ = step size at increment $t$ (scalar hyperparameter)\n",
    "* $s_{t,d}$ = sum of the squared gradients at past increments $i=1,...,t$:\n",
    "    $$s_{t,d} = \\sum_{i=1}^t \\left(\\frac{\\partial f}{\\partial x_{i,d}}\\right)^2$$"
   ]
  },
  {
   "cell_type": "markdown",
   "metadata": {
    "slideshow": {
     "slide_type": "slide"
    }
   },
   "source": [
    "**AdaGrad** can also be written in matrix form:\n",
    "\n",
    "$$\\mathbf{x}_{t+1} = \\mathbf{x}_{t} - \\alpha_t\\mathbf{M}_t^{-1} \\nabla f(\\mathbf{x}_t) $$\n",
    "\n",
    "but be careful because each operation needs to be done **element-wise**, such that the preconditioner is:\n",
    "\n",
    "$$\\mathbf{M}_t^{-1} = \\text{diag}(\\mathbf{s}_t+\\epsilon)^{1/2}$$\n",
    "\n",
    "And the final expression in matrix form becomes:\n",
    "\n",
    "$$\\mathbf{x}_{t+1} = \\mathbf{x}_{t} - \\alpha_t\\frac{1}{\\sqrt{\\mathbf{s}_{t}+\\epsilon}} \\odot \\nabla f(\\mathbf{x}_t) $$\n",
    "\n",
    "* The symbol $\\odot$ indicates that multiplication is element-wise."
   ]
  },
  {
   "cell_type": "markdown",
   "metadata": {
    "slideshow": {
     "slide_type": "slide"
    }
   },
   "source": [
    "### Other preconditioning examples: Adam (widely used in neural networks)\n",
    "\n",
    "**Adam = Momentum + Adagrad**\n",
    "\n",
    "* Uses momentum's velocity as aspect (for past gradients)\n",
    "    * $\\beta_1$ hyperparameter\n",
    "* Modifies Adagrad with an exponential weighted average (for past squared gradients)\n",
    "    * $\\beta_2$ hyperparameter\n",
    "* Performs some bias correction for the estimates\n",
    "* $\\alpha$ hyperparameter (learning-rate)\n",
    "\n",
    "Read the original paper! [Adam: A Method for Stochastic Optimization](https://arxiv.org/abs/1412.6980)"
   ]
  },
  {
   "cell_type": "markdown",
   "metadata": {
    "slideshow": {
     "slide_type": "slide"
    }
   },
   "source": [
    "# Summary of our brief introduction to optimization\n",
    "\n",
    "* Zeroth-order optimizers\n",
    "    * Common choice for black-box functions\n",
    "    * Curse of dimensionality\n",
    "* Optimality criteria\n",
    "    * Gradient and Hessian to identify minima\n",
    "* Gradient-based optimizers\n",
    "    * General format is to have a search direction and step size (a.k.a. learning rate)\n",
    "* GD and SGD\n",
    "    * Simple but can oscillate\n",
    "* Newton's method\n",
    "    * Robust to scaling but costly & does not like noise...\n",
    "* Adam\n",
    "    * Adaptive step size +  modified search direction"
   ]
  },
  {
   "cell_type": "markdown",
   "metadata": {
    "slideshow": {
     "slide_type": "slide"
    }
   },
   "source": [
    "### See you next class where we start with Artificial Neural Networks!\n",
    "\n",
    "Have fun!"
   ]
  }
 ],
 "metadata": {
  "celltoolbar": "Slideshow",
  "kernelspec": {
   "display_name": "Python [conda env:3dasm]",
   "language": "python",
   "name": "conda-env-3dasm-py"
  },
  "language_info": {
   "codemirror_mode": {
    "name": "ipython",
    "version": 3
   },
   "file_extension": ".py",
   "mimetype": "text/x-python",
   "name": "python",
   "nbconvert_exporter": "python",
   "pygments_lexer": "ipython3",
   "version": "3.10.0"
  }
 },
 "nbformat": 4,
 "nbformat_minor": 2
}

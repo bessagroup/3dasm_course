{
 "cells": [
  {
   "cell_type": "markdown",
   "id": "70972ef6",
   "metadata": {
    "slideshow": {
     "slide_type": "slide"
    }
   },
   "source": [
    "<img src=./img/Brown_logo.svg width=30%>\n",
    "\n",
    "# Project 1: Learning to Choose Optimizers\n",
    "\n",
    "\n",
    "### Martin van der Schelling | <a href = \"mailto: martin_van_der_schelling@brown.edu\">martin_van_der_schelling@brown.edu</a>  | PhD candidate"
   ]
  },
  {
   "cell_type": "markdown",
   "id": "507e04ce",
   "metadata": {
    "slideshow": {
     "slide_type": "slide"
    }
   },
   "source": [
    "## Outline of today\n",
    "\n",
    "At the end of this lecture you have learned:\n",
    "\n",
    "* Why we need optimization algorithms\n",
    "* Why we need to make an informed decision on our optimizer choice\n",
    "* How we might get free lunch anyway!\n",
    "* How to get started on project 1: L2O\n",
    "\n"
   ]
  },
  {
   "cell_type": "markdown",
   "id": "4e7cd91c",
   "metadata": {
    "slideshow": {
     "slide_type": "slide"
    }
   },
   "source": [
    "## Optimization problems are everywhere\n",
    "\n",
    "Optimization is the process of finding the **best solution** or outcome from a set of possible options based on a certain **criteria**.\n",
    "\n",
    "<!-- * learning goal: understand that optimization is used in machine learning but also in other disciplines: -->\n",
    "\n",
    "<img src=./img/examples_opt.png width=60%>"
   ]
  },
  {
   "cell_type": "markdown",
   "id": "61b371e5",
   "metadata": {
    "slideshow": {
     "slide_type": "slide"
    }
   },
   "source": [
    "## Different kind of optimization problems\n",
    "\n",
    "### Time complexity\n",
    "* *\"How much does the time to solve increase when we make the problem bigger?\"*\n",
    "* Time complexity is a measure of the **amount of time an algorithm takes as a function of the size of the input ($n$)**\n",
    "\n",
    "* This is often expressed using **\"Big O\" notation**: $\\mathcal{O}(n)$, $\\mathcal{O}(n \\; \\mathrm{log}(n))$"
   ]
  },
  {
   "cell_type": "markdown",
   "id": "44aabfb5",
   "metadata": {
    "slideshow": {
     "slide_type": "fragment"
    }
   },
   "source": [
    "### Why is this important?\n",
    "* Gives us a sense if the algorithm can solve this problem\n",
    "* It let us compare the **efficiency** of algorithms"
   ]
  },
  {
   "cell_type": "markdown",
   "id": "d7438589",
   "metadata": {
    "slideshow": {
     "slide_type": "slide"
    }
   },
   "source": [
    "<img src=./img/time-complexity-examples.png width=40%>"
   ]
  },
  {
   "cell_type": "markdown",
   "id": "d1bcfdeb",
   "metadata": {
    "slideshow": {
     "slide_type": "fragment"
    }
   },
   "source": [
    "What happens when we **scale the problem** and try to solve a optimization problem that has $\\mathcal{O}(2^n)$ ?"
   ]
  },
  {
   "cell_type": "markdown",
   "id": "f6424750",
   "metadata": {
    "slideshow": {
     "slide_type": "fragment"
    }
   },
   "source": [
    "**We run out of memory/time to solve the problem exactly**"
   ]
  },
  {
   "cell_type": "markdown",
   "id": "7ae51dc6",
   "metadata": {
    "slideshow": {
     "slide_type": "slide"
    }
   },
   "source": [
    "## Well how do we solve those problems?\n",
    "\n",
    "🫱🏽‍🫲🏻 Making a compromise: Get a good enough solution within polynomial time complexity\n",
    "* Trade-off between **complexity** and **solution quality**"
   ]
  },
  {
   "cell_type": "markdown",
   "id": "15ec2684",
   "metadata": {
    "slideshow": {
     "slide_type": "slide"
    }
   },
   "source": [
    "### Iterative procedure\n",
    "\n",
    "<img src=./img/schematic_optimization.png width=80%>"
   ]
  },
  {
   "cell_type": "markdown",
   "id": "4dc66818",
   "metadata": {
    "slideshow": {
     "slide_type": "-"
    }
   },
   "source": [
    "Step 1) Choose an **initial guess** ($\\mathbf{x}_0$)\n",
    "\n",
    "Step 2) Update your current solution with an **optimization algorithm**\n",
    "\n",
    " $\\mathbf{x}_{t+1} = \\mathbf{x}_t + \\omega$\n",
    " \n",
    "Step 3) Repeat step 2 until some **stopping criteria**\n",
    "\n",
    "Step 4) Take your optimized value and hope for the best :)"
   ]
  },
  {
   "cell_type": "markdown",
   "id": "822ce683",
   "metadata": {
    "slideshow": {
     "slide_type": "slide"
    }
   },
   "source": [
    "## For now, you can treat the optimization as a black box\n",
    "\n",
    "*More in-depth information about 'opening the black-box' of optimization in a later lecture!*\n",
    "\n",
    "<img src=./img/opt_blackbox.png width=40%>\n",
    "\n",
    "Your next iteration $\\mathbf{x}_{t+1}$ can depend on:\n",
    "* The **current solution** ($\\mathbf{x}_{t}$) and **response** ($y_{t}$) that you have\n",
    "* (Optionally) other information like **gradients** or **history of evaluations** ($\\mathbf{X}_{0 .. t}$ and $\\mathbf{y}_{0..t}$)\n",
    "* The **choice** of optimization algorithm\n",
    "* Any **hyperparameters** of the optimizer (e.g. the learning rate $\\alpha$)"
   ]
  },
  {
   "cell_type": "markdown",
   "id": "709e9165",
   "metadata": {
    "slideshow": {
     "slide_type": "slide"
    }
   },
   "source": [
    "## There are many, many different optimization algorithms ..\n",
    "\n",
    "Each field has its own collection of optimizers: \n",
    "\n",
    "| Engineering Application | Optimization Algorithms |\n",
    "|-------------------------|--------------------------|\n",
    "| Structural design      | Genetic algorithms, simulated annealing, gradient descent |\n",
    "| Topology optimization  | Method of moving Asymptotes (MMA), Interior-point line-search (IPOPT), Optimality Criteria (OC) |\n",
    "| Process control        | Linear programming, quadratic programming, nonlinear programming |\n",
    "| Supply chain management| Linear programming, mixed integer programming |\n",
    "| Machine learning       | Stochastic gradient descent (SGD), Adam, Conjugate gradient (CG) |\n",
    "| Computer vision        | Gradient descent, stochastic gradient descent (SGD), coordinate descent |\n",
    "| Robotics               | Trajectory optimization, model predictive control |\n",
    "| Protein docking        | Monte Carlo with minimization (MCM), conformational space annealing (CSA), particle swarm optimization (PSO) |\n",
    " \n",
    "Basically, every optimizer has an $\\omega$ operation of calculating the next iterate $\\mathbf{x}_{t+1}$\n",
    "\n",
    "For example: Gradient descent: \n",
    "\n",
    "$\\mathbf{x}_{t+1} = \\mathbf{x}_{t} - \\alpha \\cdot \\frac{dy}{dx}$\n",
    "\n",
    "$\\omega = - \\alpha \\cdot \\frac{dy}{dx}$"
   ]
  },
  {
   "cell_type": "markdown",
   "id": "ffd9b511",
   "metadata": {
    "slideshow": {
     "slide_type": "slide"
    }
   },
   "source": [
    "But why so many? Why don't we have **one optimizer to rule them all**?\n",
    "\n",
    "<img src=./img/one_optimizer.png width=40%, aling='center'>"
   ]
  },
  {
   "cell_type": "markdown",
   "id": "ebf65d85",
   "metadata": {
    "slideshow": {
     "slide_type": "slide"
    }
   },
   "source": [
    "## ❌🥪 No Free Lunch Theorem [1]\n",
    "\n",
    "> \"Any elevated performance over one class of problems is offset by performance over another class.\"\n",
    "\n",
    "\n",
    "*[1] Wolpert, D. H., & Macready, W. G. (1997). No free lunch theorems for optimization. IEEE Transactions on Evolutionary Computation, 1(1), 67–82. https://doi.org/10.1109/4235.585893*"
   ]
  },
  {
   "cell_type": "markdown",
   "id": "88586969",
   "metadata": {
    "slideshow": {
     "slide_type": "fragment"
    }
   },
   "source": [
    "In other words; some optimization algorithms work on specific problems, but might not work for others!\n",
    "\n",
    "In the limit: **no optimization algorithm will perform better than random search over the entire space of optimization problems**"
   ]
  },
  {
   "cell_type": "markdown",
   "id": "45f616e5",
   "metadata": {
    "slideshow": {
     "slide_type": "slide"
    }
   },
   "source": [
    "## Example: gradient based optimizer\n",
    "<img src=./img/Adam.gif width=40%, align='right'>\n",
    "\n",
    "\n",
    "\n",
    "<img src=./img/Sphere.png width=20%, align='left'><img src=./img/Schwefel.png width=20%, align='left'>\n",
    "\n",
    "\n",
    "* Gradient based optimizers work well in convex landscapes\n",
    "* They fail when multiple local minima are involved!"
   ]
  },
  {
   "cell_type": "markdown",
   "id": "20c9e6b1",
   "metadata": {
    "slideshow": {
     "slide_type": "slide"
    }
   },
   "source": [
    "Optimizers are designed to **exploit differen problem characteristics** in order to gain an advantage over random search"
   ]
  },
  {
   "cell_type": "markdown",
   "id": "9ef08552",
   "metadata": {
    "slideshow": {
     "slide_type": "slide"
    }
   },
   "source": [
    "## How do we choose an optimizer?\n",
    "\n",
    "* Choose one based on the **knowledge** you have about your problem\n",
    "* Or you can try a bunch of them out (architecture search)"
   ]
  },
  {
   "cell_type": "markdown",
   "id": "5365d9c9",
   "metadata": {
    "slideshow": {
     "slide_type": "fragment"
    }
   },
   "source": [
    "But what if we **learn our optimization choice with data?**"
   ]
  },
  {
   "cell_type": "markdown",
   "id": "b13c7ddd",
   "metadata": {
    "slideshow": {
     "slide_type": "slide"
    }
   },
   "source": [
    "## Learning to Optimize (L2O)\n",
    "\n",
    "Adjust optimizer based on the response of the problem\n",
    "\n",
    "<img src=./img/l2o.png width=40%>\n",
    "\n",
    "*[2] Li, K., & Malik, J. (2017). Learning to optimize. 5th International Conference on Learning Representations, ICLR 2017 - Conference Track Proceedings.*"
   ]
  },
  {
   "cell_type": "markdown",
   "id": "4ef47296",
   "metadata": {
    "slideshow": {
     "slide_type": "slide"
    }
   },
   "source": [
    "From **constant** update step to **trainable model**:\n",
    "\n",
    "* 'Classic' optimizer: $\\mathbf{x}_{t+1} = \\mathbf{x}_t + \\omega$\n",
    "* Learning to optimize: $\\mathbf{x}_{t+1} = \\mathbf{x}_t + m(\\omega ; \\phi)$"
   ]
  },
  {
   "cell_type": "markdown",
   "id": "02825f34",
   "metadata": {
    "slideshow": {
     "slide_type": "-"
    }
   },
   "source": [
    "<!-- ### Classic optimizer -->\n",
    "\n",
    "<img src=./img/schematic_opt_chen2021.png width=45%, align='left'>\n",
    "\n",
    "<!-- ### Learning to optimize -->\n",
    "\n",
    "<img src=./img/schematic_l2o_chen2021.png width=45%, align='right'>\n"
   ]
  },
  {
   "cell_type": "markdown",
   "id": "e896d438",
   "metadata": {
    "slideshow": {
     "slide_type": "-"
    }
   },
   "source": [
    " \n",
    "*T. Chen, X. Chen, W. Chen, H. Heaton, J. Liu, Z. Wang, and W. Yin, Learning to Optimize: A Primer and A Benchmark, 2021 (2021)*"
   ]
  },
  {
   "cell_type": "markdown",
   "id": "21de46f0",
   "metadata": {
    "slideshow": {
     "slide_type": "slide"
    }
   },
   "source": [
    "## Project 1: L2O\n",
    "\n",
    "**Provided data and resources**: Two datasets with the training dynamics of a set of benchmark funcitons, optimized with a variety of hand-engineered optimizers: \n",
    "\n",
    "**Aim of the project**: Design a general *data-driven optimization strategy* with machine learning that competes with classic hand-engineered optimizers"
   ]
  },
  {
   "cell_type": "markdown",
   "id": "eb4ba43f",
   "metadata": {
    "slideshow": {
     "slide_type": "slide"
    }
   },
   "source": [
    "### How is the dataset generated?\n",
    "\n",
    "... with `f3dasm` of course ! 🌟🌟🌟🌟🌟\n",
    "\n",
    "<img src=\"./img/blocks_project.png\" width=\"100%\">"
   ]
  },
  {
   "cell_type": "code",
   "execution_count": 1,
   "id": "f657be6d",
   "metadata": {
    "slideshow": {
     "slide_type": "-"
    }
   },
   "outputs": [
    {
     "name": "stderr",
     "output_type": "stream",
     "text": [
      "2023-10-23 11:02:12.403955: W tensorflow/compiler/tf2tensorrt/utils/py_utils.cc:38] TF-TRT Warning: Could not find TensorRT\n",
      "2023-10-23 11:02:13,068 - f3dasm - INFO - Imported f3dasm (version: 1.4.3)\n"
     ]
    }
   ],
   "source": [
    "from f3dasm import ExperimentData\n",
    "from f3dasm.design import Domain, make_nd_continuous_domain\n",
    "import numpy as np"
   ]
  },
  {
   "cell_type": "markdown",
   "id": "235216aa",
   "metadata": {
    "slideshow": {
     "slide_type": "slide"
    }
   },
   "source": [
    "First, we create a `Domain` object with continuous input variables bounded by $[0.0, 1.0]^{d}$, where $d$ is the number of input parameters (=`dimensionality`):"
   ]
  },
  {
   "cell_type": "code",
   "execution_count": 20,
   "id": "30260aca",
   "metadata": {
    "slideshow": {
     "slide_type": "fragment"
    }
   },
   "outputs": [
    {
     "data": {
      "text/plain": [
       "Domain(space={'x0': ContinuousParameter(lower_bound=0.0, upper_bound=1.0, log=False), 'x1': ContinuousParameter(lower_bound=0.0, upper_bound=1.0, log=False)})"
      ]
     },
     "execution_count": 20,
     "metadata": {},
     "output_type": "execute_result"
    }
   ],
   "source": [
    "domain = make_nd_continuous_domain(bounds=[[0.0, 1.0], [0.0, 1.0]], dimensionality=2)\n",
    "domain"
   ]
  },
  {
   "cell_type": "markdown",
   "id": "5f2e89f5",
   "metadata": {
    "slideshow": {
     "slide_type": "-"
    }
   },
   "source": [
    "*`make_nd_continuous_domain` is a helper function to easily create n-dimensional continuous design spaces*"
   ]
  },
  {
   "cell_type": "markdown",
   "id": "b416ba0e",
   "metadata": {
    "slideshow": {
     "slide_type": "fragment"
    }
   },
   "source": [
    "Then, we sample $30$ initial points from the domain with Latin Hypercube sampling:"
   ]
  },
  {
   "cell_type": "code",
   "execution_count": 9,
   "id": "98642172",
   "metadata": {
    "slideshow": {
     "slide_type": "fragment"
    }
   },
   "outputs": [],
   "source": [
    "experimentdata = ExperimentData(domain)\n",
    "experimentdata.sample(sampler='latin', n_samples=30, seed=2023)"
   ]
  },
  {
   "cell_type": "markdown",
   "id": "d631b6cd",
   "metadata": {
    "slideshow": {
     "slide_type": "slide"
    }
   },
   "source": [
    "We evaluate the samples with one of the benchmark functions (in this case the `Ackley` function)\n",
    "We can provide the following options:\n",
    "* `noise`: Gaussian noise with a certain standard deviation\n",
    "* `seed`: If the function is noisy, seed for the pseudo random-number-generator\n",
    "* `scale_bounds`: Scaling the function to some other boundaries, in this case the box-constraints of the `Domain`\n",
    "\n",
    "Note: Each benchmark-function is **off-set by a random vector**. As most of the benchmark functions have their global minimum in the center of the design space, we want to avoid optimizers to \"cheat\" their way to the optimum by immediately jumping to the middle.\n",
    "\n"
   ]
  },
  {
   "cell_type": "markdown",
   "id": "c66e6abf",
   "metadata": {
    "slideshow": {
     "slide_type": "slide"
    }
   },
   "source": [
    "This is how a 2D-representation of these analytical functions looks like:\n",
    "\n",
    "<img src=./img/func_cropped.gif width=30%>\n",
    "\n",
    "Each of the generated functions have **labels** that describe the **characteristics** of the loss-landscape"
   ]
  },
  {
   "cell_type": "code",
   "execution_count": 10,
   "id": "c79f07c2",
   "metadata": {
    "slideshow": {
     "slide_type": "-"
    }
   },
   "outputs": [],
   "source": [
    "experimentdata.evaluate(data_generator='Ackley', \n",
    "                        kwargs={'seed': 2023, 'noise': 0.0, 'scale_bounds': domain.get_bounds()})"
   ]
  },
  {
   "cell_type": "markdown",
   "id": "6bf3971f",
   "metadata": {
    "slideshow": {
     "slide_type": "slide"
    }
   },
   "source": [
    "We **optimize** the benchmark function with an optimizer for $2000$ iterations (our `budget`) with the default hyper-parameters:"
   ]
  },
  {
   "cell_type": "code",
   "execution_count": 11,
   "id": "42dc08eb",
   "metadata": {
    "slideshow": {
     "slide_type": "fragment"
    }
   },
   "outputs": [],
   "source": [
    "experimentdata.optimize(data_generator='Ackley', optimizer='CMAES', iterations=2000, hyperparameters={'seed': 2023},\n",
    "                       kwargs={'seed': 2023, 'noise': 0.0, 'scale_bounds': domain.get_bounds()})"
   ]
  },
  {
   "cell_type": "code",
   "execution_count": 12,
   "id": "ad81d881",
   "metadata": {
    "slideshow": {
     "slide_type": "fragment"
    }
   },
   "outputs": [
    {
     "data": {
      "text/html": [
       "<div>\n",
       "<style scoped>\n",
       "    .dataframe tbody tr th:only-of-type {\n",
       "        vertical-align: middle;\n",
       "    }\n",
       "\n",
       "    .dataframe tbody tr th {\n",
       "        vertical-align: top;\n",
       "    }\n",
       "\n",
       "    .dataframe thead tr th {\n",
       "        text-align: left;\n",
       "    }\n",
       "</style>\n",
       "<table border=\"1\" class=\"dataframe\">\n",
       "  <thead>\n",
       "    <tr>\n",
       "      <th></th>\n",
       "      <th>jobs</th>\n",
       "      <th colspan=\"2\" halign=\"left\">input</th>\n",
       "      <th>output</th>\n",
       "    </tr>\n",
       "    <tr>\n",
       "      <th></th>\n",
       "      <th></th>\n",
       "      <th>x0</th>\n",
       "      <th>x1</th>\n",
       "      <th>y</th>\n",
       "    </tr>\n",
       "  </thead>\n",
       "  <tbody>\n",
       "    <tr>\n",
       "      <th>0</th>\n",
       "      <td>finished</td>\n",
       "      <td>0.181879</td>\n",
       "      <td>0.857659</td>\n",
       "      <td>21.650953</td>\n",
       "    </tr>\n",
       "    <tr>\n",
       "      <th>1</th>\n",
       "      <td>finished</td>\n",
       "      <td>0.377353</td>\n",
       "      <td>0.790722</td>\n",
       "      <td>21.957123</td>\n",
       "    </tr>\n",
       "    <tr>\n",
       "      <th>2</th>\n",
       "      <td>finished</td>\n",
       "      <td>0.945234</td>\n",
       "      <td>0.643587</td>\n",
       "      <td>21.709284</td>\n",
       "    </tr>\n",
       "    <tr>\n",
       "      <th>3</th>\n",
       "      <td>finished</td>\n",
       "      <td>0.629493</td>\n",
       "      <td>0.603660</td>\n",
       "      <td>21.623877</td>\n",
       "    </tr>\n",
       "    <tr>\n",
       "      <th>4</th>\n",
       "      <td>finished</td>\n",
       "      <td>0.313033</td>\n",
       "      <td>0.238736</td>\n",
       "      <td>20.218512</td>\n",
       "    </tr>\n",
       "    <tr>\n",
       "      <th>...</th>\n",
       "      <td>...</td>\n",
       "      <td>...</td>\n",
       "      <td>...</td>\n",
       "      <td>...</td>\n",
       "    </tr>\n",
       "    <tr>\n",
       "      <th>2025</th>\n",
       "      <td>finished</td>\n",
       "      <td>0.588052</td>\n",
       "      <td>0.126597</td>\n",
       "      <td>0.000129</td>\n",
       "    </tr>\n",
       "    <tr>\n",
       "      <th>2026</th>\n",
       "      <td>finished</td>\n",
       "      <td>0.588052</td>\n",
       "      <td>0.126596</td>\n",
       "      <td>0.000064</td>\n",
       "    </tr>\n",
       "    <tr>\n",
       "      <th>2027</th>\n",
       "      <td>finished</td>\n",
       "      <td>0.588052</td>\n",
       "      <td>0.126596</td>\n",
       "      <td>0.000066</td>\n",
       "    </tr>\n",
       "    <tr>\n",
       "      <th>2028</th>\n",
       "      <td>finished</td>\n",
       "      <td>0.588052</td>\n",
       "      <td>0.126596</td>\n",
       "      <td>0.000024</td>\n",
       "    </tr>\n",
       "    <tr>\n",
       "      <th>2029</th>\n",
       "      <td>finished</td>\n",
       "      <td>0.588052</td>\n",
       "      <td>0.126596</td>\n",
       "      <td>0.000076</td>\n",
       "    </tr>\n",
       "  </tbody>\n",
       "</table>\n",
       "<p>2030 rows × 4 columns</p>\n",
       "</div>"
      ],
      "text/plain": [
       "<f3dasm._src.experimentdata.experimentdata.ExperimentData at 0x7f3219941cd0>"
      ]
     },
     "execution_count": 12,
     "metadata": {},
     "output_type": "execute_result"
    }
   ],
   "source": [
    "experimentdata"
   ]
  },
  {
   "cell_type": "markdown",
   "id": "3db74a58",
   "metadata": {
    "slideshow": {
     "slide_type": "slide"
    }
   },
   "source": [
    "We redo this optimization for **different initial conditions** ($x_{0}$) and save the **entire history of iterations**.\n",
    "\n",
    "\n",
    "We run this optimization process with a **set of different optimizers**\n",
    "* Adam\n",
    "* Covariance matrix adaptation evolution strategy (CMAES)\n",
    "* Particle Swarm Optimization (PSO)\n",
    "* Limited-memory BFGS with box constraints (L-BFGS-B)\n",
    "* Random Search"
   ]
  },
  {
   "cell_type": "code",
   "execution_count": 21,
   "id": "55f29c22",
   "metadata": {
    "slideshow": {
     "slide_type": "slide"
    }
   },
   "outputs": [
    {
     "data": {
      "text/html": [
       "<div>\n",
       "<style scoped>\n",
       "    .dataframe tbody tr th:only-of-type {\n",
       "        vertical-align: middle;\n",
       "    }\n",
       "\n",
       "    .dataframe tbody tr th {\n",
       "        vertical-align: top;\n",
       "    }\n",
       "\n",
       "    .dataframe thead tr th {\n",
       "        text-align: left;\n",
       "    }\n",
       "</style>\n",
       "<table border=\"1\" class=\"dataframe\">\n",
       "  <thead>\n",
       "    <tr>\n",
       "      <th></th>\n",
       "      <th>jobs</th>\n",
       "      <th colspan=\"5\" halign=\"left\">input</th>\n",
       "      <th colspan=\"2\" halign=\"left\">output</th>\n",
       "    </tr>\n",
       "    <tr>\n",
       "      <th></th>\n",
       "      <th></th>\n",
       "      <th>budget</th>\n",
       "      <th>dimensionality</th>\n",
       "      <th>function_name</th>\n",
       "      <th>noise</th>\n",
       "      <th>seed</th>\n",
       "      <th>path_raw</th>\n",
       "      <th>path_post</th>\n",
       "    </tr>\n",
       "  </thead>\n",
       "  <tbody>\n",
       "    <tr>\n",
       "      <th>2198</th>\n",
       "      <td>finished</td>\n",
       "      <td>2000.0</td>\n",
       "      <td>2</td>\n",
       "      <td>Thevenot</td>\n",
       "      <td>0.1</td>\n",
       "      <td>100895</td>\n",
       "      <td>raw/2198.nc</td>\n",
       "      <td>post/2198.nc</td>\n",
       "    </tr>\n",
       "    <tr>\n",
       "      <th>1478</th>\n",
       "      <td>finished</td>\n",
       "      <td>2000.0</td>\n",
       "      <td>2</td>\n",
       "      <td>Quartic</td>\n",
       "      <td>0.1</td>\n",
       "      <td>91077</td>\n",
       "      <td>raw/1478.nc</td>\n",
       "      <td>post/1478.nc</td>\n",
       "    </tr>\n",
       "    <tr>\n",
       "      <th>130</th>\n",
       "      <td>finished</td>\n",
       "      <td>2000.0</td>\n",
       "      <td>2</td>\n",
       "      <td>Levy</td>\n",
       "      <td>0.0</td>\n",
       "      <td>554703</td>\n",
       "      <td>raw/130.nc</td>\n",
       "      <td>post/130.nc</td>\n",
       "    </tr>\n",
       "    <tr>\n",
       "      <th>2951</th>\n",
       "      <td>finished</td>\n",
       "      <td>2000.0</td>\n",
       "      <td>100</td>\n",
       "      <td>Shubert</td>\n",
       "      <td>0.0</td>\n",
       "      <td>152730</td>\n",
       "      <td>raw/2951.nc</td>\n",
       "      <td>post/2951.nc</td>\n",
       "    </tr>\n",
       "    <tr>\n",
       "      <th>2547</th>\n",
       "      <td>finished</td>\n",
       "      <td>2000.0</td>\n",
       "      <td>2</td>\n",
       "      <td>Schwefel2_20</td>\n",
       "      <td>0.1</td>\n",
       "      <td>204304</td>\n",
       "      <td>raw/2547.nc</td>\n",
       "      <td>post/2547.nc</td>\n",
       "    </tr>\n",
       "    <tr>\n",
       "      <th>...</th>\n",
       "      <td>...</td>\n",
       "      <td>...</td>\n",
       "      <td>...</td>\n",
       "      <td>...</td>\n",
       "      <td>...</td>\n",
       "      <td>...</td>\n",
       "      <td>...</td>\n",
       "      <td>...</td>\n",
       "    </tr>\n",
       "    <tr>\n",
       "      <th>1423</th>\n",
       "      <td>finished</td>\n",
       "      <td>2000.0</td>\n",
       "      <td>2</td>\n",
       "      <td>XinSheYang</td>\n",
       "      <td>0.0</td>\n",
       "      <td>328933</td>\n",
       "      <td>raw/1423.nc</td>\n",
       "      <td>post/1423.nc</td>\n",
       "    </tr>\n",
       "    <tr>\n",
       "      <th>713</th>\n",
       "      <td>finished</td>\n",
       "      <td>2000.0</td>\n",
       "      <td>10</td>\n",
       "      <td>Ackley</td>\n",
       "      <td>0.0</td>\n",
       "      <td>1357</td>\n",
       "      <td>raw/713.nc</td>\n",
       "      <td>post/713.nc</td>\n",
       "    </tr>\n",
       "    <tr>\n",
       "      <th>1954</th>\n",
       "      <td>finished</td>\n",
       "      <td>2000.0</td>\n",
       "      <td>10</td>\n",
       "      <td>Powell</td>\n",
       "      <td>0.0</td>\n",
       "      <td>276639</td>\n",
       "      <td>raw/1954.nc</td>\n",
       "      <td>post/1954.nc</td>\n",
       "    </tr>\n",
       "    <tr>\n",
       "      <th>691</th>\n",
       "      <td>finished</td>\n",
       "      <td>2000.0</td>\n",
       "      <td>10</td>\n",
       "      <td>Ackley</td>\n",
       "      <td>0.0</td>\n",
       "      <td>504520</td>\n",
       "      <td>raw/691.nc</td>\n",
       "      <td>post/691.nc</td>\n",
       "    </tr>\n",
       "    <tr>\n",
       "      <th>280</th>\n",
       "      <td>finished</td>\n",
       "      <td>2000.0</td>\n",
       "      <td>100</td>\n",
       "      <td>StyblinskiTang</td>\n",
       "      <td>0.1</td>\n",
       "      <td>874591</td>\n",
       "      <td>raw/280.nc</td>\n",
       "      <td>post/280.nc</td>\n",
       "    </tr>\n",
       "  </tbody>\n",
       "</table>\n",
       "<p>100 rows × 8 columns</p>\n",
       "</div>"
      ],
      "text/plain": [
       "<f3dasm._src.experimentdata.experimentdata.ExperimentData at 0x7f3217d153a0>"
      ]
     },
     "execution_count": 21,
     "metadata": {},
     "output_type": "execute_result"
    }
   ],
   "source": [
    "small_dataset = ExperimentData.from_file('/home/martin/Documents/GitHub/3dasm_course/Projects/L2O/STUFF_NOT_TO_UPLOAD/data/small_dataset/small_dataset')\n",
    "small_dataset"
   ]
  },
  {
   "cell_type": "markdown",
   "id": "5f964b56",
   "metadata": {
    "slideshow": {
     "slide_type": "slide"
    }
   },
   "source": [
    "The data for each experiment is stored in two ways:\n",
    "* `raw`: file with the **entire history of iterations** for multiple realization and optimizers\n",
    "* `post`: file with already post-processed data containing a **performance metric** and the **problem-specific characteristics** "
   ]
  },
  {
   "cell_type": "markdown",
   "id": "52e49482",
   "metadata": {
    "slideshow": {
     "slide_type": "slide"
    }
   },
   "source": [
    "### 👋 Say hello to the multidimensional pandas: `xarray`:\n",
    "\n",
    "<img src=\"./img/hi_xarray.png\" title=\"hi xarray\" width=\"30%\" align=\"right\">\n",
    "<img src=\"./img/datastructure.png\" width=\"60%\" align=\"left\">\n",
    "\n",
    "* `pandas` is great when working with two coordinates (rows and columns) \n",
    "* However, when you have structured data that uses more coordinates it becomes complicated\n",
    "* `xarray`: a data-analysis library for multi-coordinate data with a similar API to `pandas`!"
   ]
  },
  {
   "cell_type": "markdown",
   "id": "eaaef2f2",
   "metadata": {},
   "source": [
    "### Aim of the project"
   ]
  },
  {
   "cell_type": "code",
   "execution_count": null,
   "id": "86aae229",
   "metadata": {},
   "outputs": [],
   "source": []
  }
 ],
 "metadata": {
  "celltoolbar": "Slideshow",
  "kernelspec": {
   "display_name": "Python [conda env:presentation] *",
   "language": "python",
   "name": "conda-env-presentation-py"
  },
  "language_info": {
   "codemirror_mode": {
    "name": "ipython",
    "version": 3
   },
   "file_extension": ".py",
   "mimetype": "text/x-python",
   "name": "python",
   "nbconvert_exporter": "python",
   "pygments_lexer": "ipython3",
   "version": "3.8.17"
  }
 },
 "nbformat": 4,
 "nbformat_minor": 5
}

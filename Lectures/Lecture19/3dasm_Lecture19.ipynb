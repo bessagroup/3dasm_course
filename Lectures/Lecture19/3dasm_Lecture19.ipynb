{
 "cells": [
  {
   "cell_type": "markdown",
   "metadata": {
    "hideCode": false,
    "hidePrompt": false,
    "slideshow": {
     "slide_type": "slide"
    }
   },
   "source": [
    "<img src=../figures/Brown_logo.svg width=50%>\n",
    "\n",
    "## Data-Driven Design & Analyses of Structures & Materials (3dasm)\n",
    "\n",
    "## Lecture 19\n",
    "\n",
    "### Martin van der Schelling | <a href = \"mailto: m.p.vanderschelling@tudelft.nl\">m.p.vanderschelling@tudelft.nl</a>  | Doctoral Candidate\n",
    "\n",
    "### Miguel A. Bessa | <a href = \"mailto: miguel_bessa@brown.edu\">miguel_bessa@brown.edu</a>  | Associate Professor"
   ]
  },
  {
   "cell_type": "markdown",
   "metadata": {
    "hideCode": false,
    "hidePrompt": false,
    "slideshow": {
     "slide_type": "notes"
    }
   },
   "source": [
    "**What:** A lecture of the \"3dasm\" course\n",
    "\n",
    "**Where:** This notebook comes from this [repository](https://github.com/bessagroup/3dasm_course)\n",
    "\n",
    "**Reference for entire course:** Murphy, Kevin P. *Probabilistic machine learning: an introduction*. MIT press, 2022. Available online [here](https://probml.github.io/pml-book/book1.html)\n",
    "\n",
    "**How:** We try to follow Murphy's book closely, but the sequence of Chapters and Sections is different. The intention is to use notebooks as an introduction to the topic and Murphy's book as a resource.\n",
    "* If working offline: Go through this notebook and read the book.\n",
    "* If attending class in person: listen to me (!) but also go through the notebook in your laptop at the same time. Read the book.\n",
    "* If attending lectures remotely: listen to me (!) via Zoom and (ideally) use two screens where you have the notebook open in 1 screen and you see the lectures on the other. Read the book."
   ]
  },
  {
   "cell_type": "markdown",
   "metadata": {
    "hideCode": false,
    "hidePrompt": false,
    "slideshow": {
     "slide_type": "notes"
    }
   },
   "source": [
    "## **OPTION 1**. Run this notebook **locally in your computer**:\n",
    "1. Confirm that you have the '3dasm' mamba (or conda) environment (see Lecture 1).\n",
    "2. Go to the 3dasm_course folder in your computer and pull the last updates of the [repository](https://github.com/bessagroup/3dasm_course):\n",
    "```\n",
    "git pull\n",
    "```\n",
    "    - Note: if you can't pull the repo due to conflicts (and you can't handle these conflicts), use this command (with **caution**!) and your repo becomes the same as the one online:\n",
    "```\n",
    "git reset --hard origin/main\n",
    "```\n",
    "3. Open command window and load jupyter notebook (it will open in your internet browser):\n",
    "```\n",
    "jupyter notebook\n",
    "```\n",
    "5. Open notebook of this Lecture and choose the '3dasm' kernel."
   ]
  },
  {
   "cell_type": "markdown",
   "metadata": {
    "hideCode": false,
    "hidePrompt": false,
    "slideshow": {
     "slide_type": "notes"
    }
   },
   "source": [
    "## **OPTION 2**. Use **Google's Colab** (no installation required, but times out if idle):\n",
    "\n",
    "1. go to https://colab.research.google.com\n",
    "2. login\n",
    "3. File > Open notebook\n",
    "4. click on Github (no need to login or authorize anything)\n",
    "5. paste the git link: https://github.com/bessagroup/3dasm_course\n",
    "6. click search and then click on the notebook for this Lecture."
   ]
  },
  {
   "cell_type": "code",
   "execution_count": 1,
   "metadata": {
    "hideCode": false,
    "hidePrompt": false,
    "scrolled": true,
    "slideshow": {
     "slide_type": "notes"
    }
   },
   "outputs": [],
   "source": [
    "# Basic plotting tools needed in Python.\n",
    "\n",
    "import matplotlib.pyplot as plt # import plotting tools to create figures\n",
    "import numpy as np # import numpy to handle a lot of things!\n",
    "\n",
    "%config InlineBackend.figure_format = \"retina\" # render higher resolution images in the notebook\n",
    "plt.rcParams[\"figure.figsize\"] = (8,4) # rescale figure size appropriately for slides\n",
    "\n",
    "# To limit the number of rows to show in a dataframe, for presentation purposes:\n",
    "import pandas as pd\n",
    "\n",
    "pd.set_option('display.max_rows', 10)"
   ]
  },
  {
   "cell_type": "markdown",
   "metadata": {
    "hideCode": false,
    "hidePrompt": false,
    "slideshow": {
     "slide_type": "slide"
    }
   },
   "source": [
    "## Outline for today\n",
    "\n",
    "* Introducing advanced usage of the `f3dasm.datageneration` submodule using the `DataGenerator`\n",
    "* Using the built-in features of `f3dasm`: samplers and benchmark functions\n",
    "* Basic usage of optimization\n",
    "\n",
    "**Reading material**: This notebook + `f3dasm` documentation page ([link](https://f3dasm.readthedocs.io/en/latest/))"
   ]
  },
  {
   "cell_type": "markdown",
   "metadata": {
    "slideshow": {
     "slide_type": "slide"
    }
   },
   "source": [
    "### Installing `f3dasm`\n",
    "\n",
    "You can install `f3dasm` with pip:\n",
    "\n",
    "_Make sure you install the correct version (2.1.0)_"
   ]
  },
  {
   "cell_type": "code",
   "execution_count": null,
   "metadata": {
    "slideshow": {
     "slide_type": "fragment"
    }
   },
   "outputs": [],
   "source": [
    "try:\n",
    "    import f3dasm\n",
    "except ModuleNotFoundError: # If f3dasm is not found in current environment, install the correct version from pip\n",
    "    %pip install f3dasm==2.1.0 --quiet\n",
    "    import f3dasm"
   ]
  },
  {
   "cell_type": "markdown",
   "metadata": {
    "slideshow": {
     "slide_type": "notes"
    }
   },
   "source": [
    "Optionally, it is also possible to install from source:\n",
    "\n",
    "```\n",
    "git clone https://github.com/bessagroup/f3dasm\n",
    "pip install -e .\n",
    "```\n",
    "\n",
    "For more installation instruction you can check the [installation documentation](https://github.com/bessagroup/f3dasm)"
   ]
  },
  {
   "cell_type": "markdown",
   "metadata": {
    "slideshow": {
     "slide_type": "slide"
    }
   },
   "source": [
    "### `f3dasm`: streamlining your data-driven process!\n",
    "\n",
    "The **f**ramework for **d**ata-**d**riven **d**esign and **a**nalysis of **s**tructures and **m**aterials (`f3dasm`) aims to generalize this workflow with interfaces (templates of code that you have to fill in)\n",
    "\n",
    "\n",
    "<center><img src=\"../figures/f3dasm_overview.svg\" title=\"f3dasm Car stopping distance\" width=\"70%\"></center>"
   ]
  },
  {
   "cell_type": "markdown",
   "metadata": {
    "slideshow": {
     "slide_type": "slide"
    }
   },
   "source": [
    "#### FAQ\n",
    "\n",
    "**Does `f3dasm` contain fancy machine learning models and simulation software?**"
   ]
  },
  {
   "cell_type": "markdown",
   "metadata": {
    "slideshow": {
     "slide_type": "fragment"
    }
   },
   "source": [
    "- No, there are many other packages providing you the tools to create machine learning models (jax, pytorch, scikit-learn etc.) or material simulators (ABAQUS, Fenics)\n",
    "- But you can wrap those models in `f3dasm` objects!"
   ]
  },
  {
   "cell_type": "markdown",
   "metadata": {
    "slideshow": {
     "slide_type": "slide"
    }
   },
   "source": [
    "**But what comes in the box then?**"
   ]
  },
  {
   "cell_type": "markdown",
   "metadata": {
    "slideshow": {
     "slide_type": "fragment"
    }
   },
   "source": [
    "- `f3dasm` facilitates common interfaces where you need to provide the implementation for it!\n",
    "- Think about it as a template where you need to fill in the blanks"
   ]
  },
  {
   "cell_type": "markdown",
   "metadata": {
    "slideshow": {
     "slide_type": "slide"
    }
   },
   "source": [
    "**What is the advantage of using `f3dasm`?**"
   ]
  },
  {
   "cell_type": "markdown",
   "metadata": {
    "slideshow": {
     "slide_type": "fragment"
    }
   },
   "source": [
    "By wrapping your code into this common interface, you:\n",
    "- Don't waste time implementing common data-driven procedure (e.g. data management and parallelization); this is done for you\n",
    "- Allow other `f3dasm` users to use your model right away, since you have the same interfaces!\n",
    "- Force your research to obide the FAIR principles (**F**indable, **A**ccessible, **I**nteroperable and **R**eusable)\n",
    "\n",
    "<center><img src=\"../figures/f3dasm_overview.svg\" title=\"f3dasm Car stopping distance\" width=\"30%\"></center>"
   ]
  },
  {
   "cell_type": "markdown",
   "metadata": {
    "slideshow": {
     "slide_type": "slide"
    }
   },
   "source": [
    "### Advanced data generation with `f3dasm`\n",
    "\n",
    "First, we load the `ExperimentData` with our car velocities from the previous lecture:"
   ]
  },
  {
   "cell_type": "code",
   "execution_count": 3,
   "metadata": {
    "slideshow": {
     "slide_type": "fragment"
    }
   },
   "outputs": [
    {
     "data": {
      "text/html": [
       "<div>\n",
       "<style scoped>\n",
       "    .dataframe tbody tr th:only-of-type {\n",
       "        vertical-align: middle;\n",
       "    }\n",
       "\n",
       "    .dataframe tbody tr th {\n",
       "        vertical-align: top;\n",
       "    }\n",
       "\n",
       "    .dataframe thead tr th {\n",
       "        text-align: left;\n",
       "    }\n",
       "</style>\n",
       "<table border=\"1\" class=\"dataframe\">\n",
       "  <thead>\n",
       "    <tr>\n",
       "      <th></th>\n",
       "      <th>jobs</th>\n",
       "      <th>input</th>\n",
       "    </tr>\n",
       "    <tr>\n",
       "      <th></th>\n",
       "      <th></th>\n",
       "      <th>x</th>\n",
       "    </tr>\n",
       "  </thead>\n",
       "  <tbody>\n",
       "    <tr>\n",
       "      <th>0</th>\n",
       "      <td>open</td>\n",
       "      <td>3.0</td>\n",
       "    </tr>\n",
       "    <tr>\n",
       "      <th>1</th>\n",
       "      <td>open</td>\n",
       "      <td>5.5</td>\n",
       "    </tr>\n",
       "    <tr>\n",
       "      <th>2</th>\n",
       "      <td>open</td>\n",
       "      <td>8.0</td>\n",
       "    </tr>\n",
       "    <tr>\n",
       "      <th>3</th>\n",
       "      <td>open</td>\n",
       "      <td>10.5</td>\n",
       "    </tr>\n",
       "    <tr>\n",
       "      <th>4</th>\n",
       "      <td>open</td>\n",
       "      <td>13.0</td>\n",
       "    </tr>\n",
       "    <tr>\n",
       "      <th>...</th>\n",
       "      <td>...</td>\n",
       "      <td>...</td>\n",
       "    </tr>\n",
       "    <tr>\n",
       "      <th>28</th>\n",
       "      <td>open</td>\n",
       "      <td>73.0</td>\n",
       "    </tr>\n",
       "    <tr>\n",
       "      <th>29</th>\n",
       "      <td>open</td>\n",
       "      <td>75.5</td>\n",
       "    </tr>\n",
       "    <tr>\n",
       "      <th>30</th>\n",
       "      <td>open</td>\n",
       "      <td>78.0</td>\n",
       "    </tr>\n",
       "    <tr>\n",
       "      <th>31</th>\n",
       "      <td>open</td>\n",
       "      <td>80.5</td>\n",
       "    </tr>\n",
       "    <tr>\n",
       "      <th>32</th>\n",
       "      <td>open</td>\n",
       "      <td>83.0</td>\n",
       "    </tr>\n",
       "  </tbody>\n",
       "</table>\n",
       "<p>33 rows × 2 columns</p>\n",
       "</div>"
      ],
      "text/plain": [
       "    jobs input\n",
       "             x\n",
       "0   open   3.0\n",
       "1   open   5.5\n",
       "2   open   8.0\n",
       "3   open  10.5\n",
       "4   open  13.0\n",
       "..   ...   ...\n",
       "28  open  73.0\n",
       "29  open  75.5\n",
       "30  open  78.0\n",
       "31  open  80.5\n",
       "32  open  83.0\n",
       "\n",
       "[33 rows x 2 columns]"
      ]
     },
     "execution_count": 3,
     "metadata": {},
     "output_type": "execute_result"
    }
   ],
   "source": [
    "import numpy as np\n",
    "from f3dasm import ExperimentData # Import the ExperimentData class\n",
    "from f3dasm.design import Domain # Import the Domain class from the design submodule\n",
    "from f3dasm import datagenerator\n",
    "\n",
    "domain = Domain() # Creat the Domain object\n",
    "domain.add_float('x', low=3.0, high=83.0) # add the car velocity x to the domain\n",
    "Data_x = np.linspace(3, 83, 33) # create 33 points, uniformly spaced between 3 and 83\n",
    "\n",
    "my_experimentdata = ExperimentData(input_data=Data_x, domain=domain)\n",
    "my_experimentdata"
   ]
  },
  {
   "cell_type": "markdown",
   "metadata": {
    "slideshow": {
     "slide_type": "notes"
    }
   },
   "source": [
    "_We can also load the `ExperimentData` from the previous lecture, though it includes the car stopping distances (`y`) and the predicted values (`y_pred`). To reuse the data, we can remove these output fields and then mark the jobs as open again._"
   ]
  },
  {
   "cell_type": "code",
   "execution_count": 4,
   "metadata": {
    "slideshow": {
     "slide_type": "notes"
    }
   },
   "outputs": [],
   "source": [
    "my_experimentdata = ExperimentData.from_file('../Lecture17/your_data')\n",
    "\n",
    "Data_x, _ = my_experimentdata.to_pandas()\n",
    "my_experimentdata = ExperimentData(input_data=Data_x, domain=my_experimentdata.domain)\n",
    "my_experimentdata = my_experimentdata.mark_all('open')"
   ]
  },
  {
   "cell_type": "markdown",
   "metadata": {
    "slideshow": {
     "slide_type": "slide"
    }
   },
   "source": [
    "Previously we have seen that we can feed a **function** to the `ExperimentData` object in order to evaluate each design:"
   ]
  },
  {
   "cell_type": "code",
   "execution_count": 5,
   "metadata": {
    "slideshow": {
     "slide_type": "fragment"
    }
   },
   "outputs": [],
   "source": [
    "from scipy.stats import norm # import the normal dist, as we learned before!\n",
    "\n",
    "# Define our car stopping distance function\n",
    "@datagenerator(output_names=['y'])\n",
    "def compute_distance(x: float) -> float:\n",
    "    z = norm.rvs(1.5, 0.5, size=1) # randomly draw 1 sample from the normal dist.\n",
    "    y = z*x + 0.1*x**2 # compute the stopping distance\n",
    "    return float(y)"
   ]
  },
  {
   "cell_type": "markdown",
   "metadata": {
    "slideshow": {
     "slide_type": "slide"
    }
   },
   "source": [
    "#### Creating a `DataGenerator` class\n",
    "\n",
    "<img src=\"../figures/f3dasm_carstopping_datageneration.svg\" title=\"f3dasm Car stopping distance datageneration\" width=\"22%\" align=\"right\">\n",
    "\n",
    "However, we might want to create a custom class that has custom attributes and methods to allow more flexibility over the data generation process. \n",
    "\n",
    "I will show you how we can create the same car stopping distance dataset but now with an object-oriented approach.\n",
    "\n",
    "In order to do this, you have to create a new class that inherits from the `f3dasm.datageneration.DataGenerator` class:"
   ]
  },
  {
   "cell_type": "code",
   "execution_count": 6,
   "metadata": {
    "slideshow": {
     "slide_type": "fragment"
    }
   },
   "outputs": [],
   "source": [
    "from f3dasm.datageneration import DataGenerator"
   ]
  },
  {
   "cell_type": "code",
   "execution_count": 7,
   "metadata": {
    "slideshow": {
     "slide_type": "slide"
    }
   },
   "outputs": [],
   "source": [
    "class CarStoppingDistance(DataGenerator):\n",
    "    def __init__(self, mu_z: float, sigma_z: float):\n",
    "        self.mu_z = mu_z\n",
    "        self.sigma_z = sigma_z\n",
    "            \n",
    "    def execute(self, experiment_sample):\n",
    "        x = experiment_sample.get('x')\n",
    "        z = norm.rvs(self.mu_z, self.sigma_z, size=1)\n",
    "        y = z*x + 0.1*x**2\n",
    "        experiment_sample.store(name='y', object=float(y.item()))\n",
    "        return experiment_sample"
   ]
  },
  {
   "cell_type": "markdown",
   "metadata": {
    "slideshow": {
     "slide_type": "fragment"
    }
   },
   "source": [
    "#### Implementing the `execute()` method\n",
    "\n",
    "- The custom class `CarStoppingDistance` can have any methods or attributes that you want\n",
    "- It requires you to implement the `execute()` method\n",
    "- This method will be called for every experiment when you evaluate the `ExperimentData`.\n",
    "- A single experiment is called an `ExperimentSample`"
   ]
  },
  {
   "cell_type": "markdown",
   "metadata": {
    "slideshow": {
     "slide_type": "slide"
    }
   },
   "source": [
    "#### The `ExperimentSample` object\n",
    "- Each experiment will be converted into an `ExperimentSample` object\n",
    "- The `ExperimentSample` can be seen as a 'row' in the table of experiments\n",
    "- It can be accessed in the `execute()` method as `self.experiment_sample`"
   ]
  },
  {
   "cell_type": "code",
   "execution_count": 8,
   "metadata": {
    "slideshow": {
     "slide_type": "fragment"
    }
   },
   "outputs": [
    {
     "data": {
      "text/html": [
       "<div>\n",
       "<style scoped>\n",
       "    .dataframe tbody tr th:only-of-type {\n",
       "        vertical-align: middle;\n",
       "    }\n",
       "\n",
       "    .dataframe tbody tr th {\n",
       "        vertical-align: top;\n",
       "    }\n",
       "\n",
       "    .dataframe thead tr th {\n",
       "        text-align: left;\n",
       "    }\n",
       "</style>\n",
       "<table border=\"1\" class=\"dataframe\">\n",
       "  <thead>\n",
       "    <tr>\n",
       "      <th></th>\n",
       "      <th>jobs</th>\n",
       "      <th>input</th>\n",
       "    </tr>\n",
       "    <tr>\n",
       "      <th></th>\n",
       "      <th></th>\n",
       "      <th>x</th>\n",
       "    </tr>\n",
       "  </thead>\n",
       "  <tbody>\n",
       "    <tr>\n",
       "      <th>0</th>\n",
       "      <td>open</td>\n",
       "      <td>3.0</td>\n",
       "    </tr>\n",
       "    <tr>\n",
       "      <th>1</th>\n",
       "      <td>open</td>\n",
       "      <td>5.5</td>\n",
       "    </tr>\n",
       "    <tr>\n",
       "      <th>2</th>\n",
       "      <td>open</td>\n",
       "      <td>8.0</td>\n",
       "    </tr>\n",
       "    <tr>\n",
       "      <th>3</th>\n",
       "      <td>open</td>\n",
       "      <td>10.5</td>\n",
       "    </tr>\n",
       "    <tr>\n",
       "      <th>4</th>\n",
       "      <td>open</td>\n",
       "      <td>13.0</td>\n",
       "    </tr>\n",
       "    <tr>\n",
       "      <th>...</th>\n",
       "      <td>...</td>\n",
       "      <td>...</td>\n",
       "    </tr>\n",
       "    <tr>\n",
       "      <th>28</th>\n",
       "      <td>open</td>\n",
       "      <td>73.0</td>\n",
       "    </tr>\n",
       "    <tr>\n",
       "      <th>29</th>\n",
       "      <td>open</td>\n",
       "      <td>75.5</td>\n",
       "    </tr>\n",
       "    <tr>\n",
       "      <th>30</th>\n",
       "      <td>open</td>\n",
       "      <td>78.0</td>\n",
       "    </tr>\n",
       "    <tr>\n",
       "      <th>31</th>\n",
       "      <td>open</td>\n",
       "      <td>80.5</td>\n",
       "    </tr>\n",
       "    <tr>\n",
       "      <th>32</th>\n",
       "      <td>open</td>\n",
       "      <td>83.0</td>\n",
       "    </tr>\n",
       "  </tbody>\n",
       "</table>\n",
       "<p>33 rows × 2 columns</p>\n",
       "</div>"
      ],
      "text/plain": [
       "    jobs input\n",
       "             x\n",
       "0   open   3.0\n",
       "1   open   5.5\n",
       "2   open   8.0\n",
       "3   open  10.5\n",
       "4   open  13.0\n",
       "..   ...   ...\n",
       "28  open  73.0\n",
       "29  open  75.5\n",
       "30  open  78.0\n",
       "31  open  80.5\n",
       "32  open  83.0\n",
       "\n",
       "[33 rows x 2 columns]"
      ]
     },
     "execution_count": 8,
     "metadata": {},
     "output_type": "execute_result"
    }
   ],
   "source": [
    "my_experimentdata"
   ]
  },
  {
   "cell_type": "code",
   "execution_count": 9,
   "metadata": {
    "slideshow": {
     "slide_type": "fragment"
    }
   },
   "outputs": [
    {
     "name": "stdout",
     "output_type": "stream",
     "text": [
      "ExperimentSample(input_data={'x': 8.0}, output_data={}, job_status=JobStatus.OPEN)\n"
     ]
    }
   ],
   "source": [
    "my_experimentsample = my_experimentdata.get_experiment_sample(2)\n",
    "print(my_experimentsample)"
   ]
  },
  {
   "cell_type": "markdown",
   "metadata": {
    "slideshow": {
     "slide_type": "slide"
    }
   },
   "source": [
    "We can access the current `input_data`, `output_data` and `job_status` from the experiment sample"
   ]
  },
  {
   "cell_type": "code",
   "execution_count": 10,
   "metadata": {
    "slideshow": {
     "slide_type": "fragment"
    }
   },
   "outputs": [
    {
     "name": "stdout",
     "output_type": "stream",
     "text": [
      " Input data: {'x': 8.0}\n",
      " Output data: {}\n",
      " Job number: JobStatus.OPEN\n"
     ]
    }
   ],
   "source": [
    "print(f\" Input data: {my_experimentsample.input_data}\")\n",
    "print(f\" Output data: {my_experimentsample.output_data}\")\n",
    "print(f\" Job number: {my_experimentsample.job_status}\")"
   ]
  },
  {
   "cell_type": "markdown",
   "metadata": {
    "slideshow": {
     "slide_type": "fragment"
    }
   },
   "source": [
    "Alternatively, the `get()` method can also retrieve individual parameters:"
   ]
  },
  {
   "cell_type": "code",
   "execution_count": 11,
   "metadata": {
    "slideshow": {
     "slide_type": "fragment"
    }
   },
   "outputs": [
    {
     "data": {
      "text/plain": [
       "8.0"
      ]
     },
     "execution_count": 11,
     "metadata": {},
     "output_type": "execute_result"
    }
   ],
   "source": [
    "my_experimentsample.get('x')"
   ]
  },
  {
   "cell_type": "markdown",
   "metadata": {
    "slideshow": {
     "slide_type": "fragment"
    }
   },
   "source": [
    "Another useful feature is to convert the experiment sample object to a tuple of numpy arrays:"
   ]
  },
  {
   "cell_type": "code",
   "execution_count": 12,
   "metadata": {
    "slideshow": {
     "slide_type": "fragment"
    }
   },
   "outputs": [
    {
     "name": "stdout",
     "output_type": "stream",
     "text": [
      "(array([8.]), array([], dtype=float64))\n"
     ]
    }
   ],
   "source": [
    "print(my_experimentsample.to_numpy())"
   ]
  },
  {
   "cell_type": "markdown",
   "metadata": {
    "slideshow": {
     "slide_type": "slide"
    }
   },
   "source": [
    "Storing objects back into the `ExperimentData` object can be done with the `store()` method"
   ]
  },
  {
   "cell_type": "code",
   "execution_count": 13,
   "metadata": {
    "slideshow": {
     "slide_type": "fragment"
    }
   },
   "outputs": [
    {
     "data": {
      "text/plain": [
       "ExperimentSample(input_data={'x': 8.0}, output_data={'y': 3.4}, job_status=JobStatus.OPEN)"
      ]
     },
     "execution_count": 13,
     "metadata": {},
     "output_type": "execute_result"
    }
   ],
   "source": [
    "my_experimentsample.store(name='y', object=3.4)\n",
    "my_experimentsample"
   ]
  },
  {
   "cell_type": "markdown",
   "metadata": {
    "slideshow": {
     "slide_type": "slide"
    }
   },
   "source": [
    "#### Running the datagenerator on your experimentdata\n",
    "\n",
    "Now we are going to compute the car stopping distance with our custom class!"
   ]
  },
  {
   "cell_type": "markdown",
   "metadata": {
    "slideshow": {
     "slide_type": "slide"
    }
   },
   "source": [
    "First, we are creating an object from the `CarStoppingDistance` class with our chosen $\\mu_z$ and $\\sigma_z$"
   ]
  },
  {
   "cell_type": "code",
   "execution_count": 14,
   "metadata": {
    "slideshow": {
     "slide_type": "fragment"
    }
   },
   "outputs": [],
   "source": [
    "csd = CarStoppingDistance(mu_z=1.5, sigma_z=0.5)"
   ]
  },
  {
   "cell_type": "markdown",
   "metadata": {
    "slideshow": {
     "slide_type": "fragment"
    }
   },
   "source": [
    "Now we call evaluate on the `ExperimentData` (we don't need to provide `output_names` for the custom class approach since we decided on them in the `store` method of the `ExperimentSample`)"
   ]
  },
  {
   "cell_type": "code",
   "execution_count": 15,
   "metadata": {
    "slideshow": {
     "slide_type": "fragment"
    }
   },
   "outputs": [],
   "source": [
    "my_experimentdata = csd.call(data=my_experimentdata)"
   ]
  },
  {
   "cell_type": "code",
   "execution_count": 16,
   "metadata": {
    "slideshow": {
     "slide_type": "fragment"
    }
   },
   "outputs": [
    {
     "data": {
      "text/html": [
       "<div>\n",
       "<style scoped>\n",
       "    .dataframe tbody tr th:only-of-type {\n",
       "        vertical-align: middle;\n",
       "    }\n",
       "\n",
       "    .dataframe tbody tr th {\n",
       "        vertical-align: top;\n",
       "    }\n",
       "\n",
       "    .dataframe thead tr th {\n",
       "        text-align: left;\n",
       "    }\n",
       "</style>\n",
       "<table border=\"1\" class=\"dataframe\">\n",
       "  <thead>\n",
       "    <tr>\n",
       "      <th></th>\n",
       "      <th>jobs</th>\n",
       "      <th>input</th>\n",
       "      <th>output</th>\n",
       "    </tr>\n",
       "    <tr>\n",
       "      <th></th>\n",
       "      <th></th>\n",
       "      <th>x</th>\n",
       "      <th>y</th>\n",
       "    </tr>\n",
       "  </thead>\n",
       "  <tbody>\n",
       "    <tr>\n",
       "      <th>0</th>\n",
       "      <td>finished</td>\n",
       "      <td>3.0</td>\n",
       "      <td>2.970653</td>\n",
       "    </tr>\n",
       "    <tr>\n",
       "      <th>1</th>\n",
       "      <td>finished</td>\n",
       "      <td>5.5</td>\n",
       "      <td>11.561784</td>\n",
       "    </tr>\n",
       "    <tr>\n",
       "      <th>2</th>\n",
       "      <td>finished</td>\n",
       "      <td>8.0</td>\n",
       "      <td>23.546985</td>\n",
       "    </tr>\n",
       "    <tr>\n",
       "      <th>3</th>\n",
       "      <td>finished</td>\n",
       "      <td>10.5</td>\n",
       "      <td>24.592015</td>\n",
       "    </tr>\n",
       "    <tr>\n",
       "      <th>4</th>\n",
       "      <td>finished</td>\n",
       "      <td>13.0</td>\n",
       "      <td>29.379763</td>\n",
       "    </tr>\n",
       "    <tr>\n",
       "      <th>...</th>\n",
       "      <td>...</td>\n",
       "      <td>...</td>\n",
       "      <td>...</td>\n",
       "    </tr>\n",
       "    <tr>\n",
       "      <th>28</th>\n",
       "      <td>finished</td>\n",
       "      <td>73.0</td>\n",
       "      <td>630.428280</td>\n",
       "    </tr>\n",
       "    <tr>\n",
       "      <th>29</th>\n",
       "      <td>finished</td>\n",
       "      <td>75.5</td>\n",
       "      <td>685.187420</td>\n",
       "    </tr>\n",
       "    <tr>\n",
       "      <th>30</th>\n",
       "      <td>finished</td>\n",
       "      <td>78.0</td>\n",
       "      <td>741.516788</td>\n",
       "    </tr>\n",
       "    <tr>\n",
       "      <th>31</th>\n",
       "      <td>finished</td>\n",
       "      <td>80.5</td>\n",
       "      <td>748.098808</td>\n",
       "    </tr>\n",
       "    <tr>\n",
       "      <th>32</th>\n",
       "      <td>finished</td>\n",
       "      <td>83.0</td>\n",
       "      <td>827.067160</td>\n",
       "    </tr>\n",
       "  </tbody>\n",
       "</table>\n",
       "<p>33 rows × 3 columns</p>\n",
       "</div>"
      ],
      "text/plain": [
       "        jobs input      output\n",
       "                 x           y\n",
       "0   finished   3.0    2.970653\n",
       "1   finished   5.5   11.561784\n",
       "2   finished   8.0   23.546985\n",
       "3   finished  10.5   24.592015\n",
       "4   finished  13.0   29.379763\n",
       "..       ...   ...         ...\n",
       "28  finished  73.0  630.428280\n",
       "29  finished  75.5  685.187420\n",
       "30  finished  78.0  741.516788\n",
       "31  finished  80.5  748.098808\n",
       "32  finished  83.0  827.067160\n",
       "\n",
       "[33 rows x 3 columns]"
      ]
     },
     "execution_count": 16,
     "metadata": {},
     "output_type": "execute_result"
    }
   ],
   "source": [
    "my_experimentdata"
   ]
  },
  {
   "cell_type": "markdown",
   "metadata": {
    "slideshow": {
     "slide_type": "slide"
    }
   },
   "source": [
    "### Easy parallelization\n",
    "\n",
    "One common procedure that everyone encounters at some point is **parallelization**.\n",
    "\n",
    "&#x1F31F; `ExperimentData.evaluate` offers three different modes of evaluating all the experiments:\n",
    "- `sequential` mode: evaluates each experiment one at a time (default)\n",
    "- `parallel` mode: using multiprocessing capabilities, evaluating the experments in parallel on your cores\n",
    "- `cluster` mode: after each writing operation, saves the `ExperimentData` object to disk so it can be accessed by different processes. Useful for the Brown CCV"
   ]
  },
  {
   "cell_type": "code",
   "execution_count": 17,
   "metadata": {
    "slideshow": {
     "slide_type": "slide"
    }
   },
   "outputs": [],
   "source": [
    "domain = Domain() # Create a new Domain object\n",
    "domain.add_int(name='x', low=0, high=5) # Add an arbitrary parameter to it\n",
    "\n",
    "experimentdata_sequential = ExperimentData(input_data=np.arange(0, 5), domain=domain)\n",
    "experimentdata_parallel = ExperimentData(input_data=np.arange(0, 5), domain=domain)"
   ]
  },
  {
   "cell_type": "markdown",
   "metadata": {
    "slideshow": {
     "slide_type": "fragment"
    }
   },
   "source": [
    "For demonstration purposes, we create a custom `DataGenerator` that just waits 1 second:"
   ]
  },
  {
   "cell_type": "code",
   "execution_count": 18,
   "metadata": {
    "slideshow": {
     "slide_type": "fragment"
    }
   },
   "outputs": [],
   "source": [
    "from time import sleep, perf_counter\n",
    "\n",
    "class Sleep(DataGenerator):\n",
    "    def execute(self, experiment_sample):\n",
    "        # Elaborate process, but for now just sleep 1 second\n",
    "        sleep(1)\n",
    "        return experiment_sample\n",
    "\n",
    "my_datagenerator = Sleep() # Create the custom data generator"
   ]
  },
  {
   "cell_type": "markdown",
   "metadata": {
    "slideshow": {
     "slide_type": "fragment"
    }
   },
   "source": [
    "We evaluate both `ExperimentData` objects with `'sequential'` and `'parallel'` mode:"
   ]
  },
  {
   "cell_type": "code",
   "execution_count": 19,
   "metadata": {
    "slideshow": {
     "slide_type": "fragment"
    }
   },
   "outputs": [
    {
     "name": "stdout",
     "output_type": "stream",
     "text": [
      "Time took for sequential: 5.01 seconds.\n",
      "Time took for sequential: 1.06 seconds.\n"
     ]
    }
   ],
   "source": [
    "# Evaluate the experimentdata in sequential mode\n",
    "t_start = perf_counter()\n",
    "experimentdata_sequential = my_datagenerator.call(data=experimentdata_sequential, mode='sequential')\n",
    "print(f\"Time took for sequential: {perf_counter() - t_start:.2f} seconds.\")\n",
    "\n",
    "# Evaluate the experimentdata in parallel mode\n",
    "t_start = perf_counter()\n",
    "experimentdata_parallel = my_datagenerator.call(data=experimentdata_parallel, mode='parallel', nodes=3)\n",
    "print(f\"Time took for sequential: {perf_counter() - t_start:.2f} seconds.\")"
   ]
  },
  {
   "cell_type": "markdown",
   "metadata": {
    "slideshow": {
     "slide_type": "slide"
    }
   },
   "source": [
    "### Store more complex data\n",
    "\n",
    "&#x1F31F; To store more complex, array-like, or custom objects, you can use the optional argument `to_disk=True`. This will save the object to disk and retain only a reference to it within the `ExperimentData` object."
   ]
  },
  {
   "cell_type": "markdown",
   "metadata": {
    "slideshow": {
     "slide_type": "slide"
    }
   },
   "source": [
    "We demonstrate this by creating a datagenerator that generates a numpy array as output:\n",
    "\n",
    "The input data `n_dim` denotes the size of the square matrix."
   ]
  },
  {
   "cell_type": "code",
   "execution_count": 20,
   "metadata": {
    "slideshow": {
     "slide_type": "fragment"
    }
   },
   "outputs": [],
   "source": [
    "domain = Domain()\n",
    "domain.add_int('n_dim', low=1, high=3)\n",
    "Data_x = np.arange(1, 4)\n",
    "experiment_data = ExperimentData(input_data=Data_x, domain=domain)"
   ]
  },
  {
   "cell_type": "code",
   "execution_count": 21,
   "metadata": {
    "slideshow": {
     "slide_type": "fragment"
    }
   },
   "outputs": [],
   "source": [
    "class MyDataGenerator(DataGenerator):\n",
    "    def execute(self, experiment_sample):\n",
    "        n_dim = experiment_sample.get('n_dim')\n",
    "        my_array = np.ones((n_dim, n_dim))\n",
    "        experiment_sample.store(name='my_array', object=my_array, to_disk=True)\n",
    "        return experiment_sample\n",
    "        \n",
    "my_datagenerator = MyDataGenerator()"
   ]
  },
  {
   "cell_type": "code",
   "execution_count": 22,
   "metadata": {
    "slideshow": {
     "slide_type": "fragment"
    }
   },
   "outputs": [],
   "source": [
    "experiment_data.store('./your_data') # We store the ExperimentData first to disk\n",
    "experiment_data = my_datagenerator.call(data=experiment_data)"
   ]
  },
  {
   "cell_type": "markdown",
   "metadata": {
    "slideshow": {
     "slide_type": "slide"
    }
   },
   "source": [
    "The resulting `ExperimentData` object looks like this:"
   ]
  },
  {
   "cell_type": "code",
   "execution_count": 23,
   "metadata": {
    "slideshow": {
     "slide_type": "fragment"
    }
   },
   "outputs": [
    {
     "data": {
      "text/html": [
       "<div>\n",
       "<style scoped>\n",
       "    .dataframe tbody tr th:only-of-type {\n",
       "        vertical-align: middle;\n",
       "    }\n",
       "\n",
       "    .dataframe tbody tr th {\n",
       "        vertical-align: top;\n",
       "    }\n",
       "\n",
       "    .dataframe thead tr th {\n",
       "        text-align: left;\n",
       "    }\n",
       "</style>\n",
       "<table border=\"1\" class=\"dataframe\">\n",
       "  <thead>\n",
       "    <tr>\n",
       "      <th></th>\n",
       "      <th>jobs</th>\n",
       "      <th>input</th>\n",
       "      <th>output</th>\n",
       "    </tr>\n",
       "    <tr>\n",
       "      <th></th>\n",
       "      <th></th>\n",
       "      <th>n_dim</th>\n",
       "      <th>my_array</th>\n",
       "    </tr>\n",
       "  </thead>\n",
       "  <tbody>\n",
       "    <tr>\n",
       "      <th>0</th>\n",
       "      <td>finished</td>\n",
       "      <td>1</td>\n",
       "      <td>my_array/0.npy</td>\n",
       "    </tr>\n",
       "    <tr>\n",
       "      <th>1</th>\n",
       "      <td>finished</td>\n",
       "      <td>2</td>\n",
       "      <td>my_array/1.npy</td>\n",
       "    </tr>\n",
       "    <tr>\n",
       "      <th>2</th>\n",
       "      <td>finished</td>\n",
       "      <td>3</td>\n",
       "      <td>my_array/2.npy</td>\n",
       "    </tr>\n",
       "  </tbody>\n",
       "</table>\n",
       "</div>"
      ],
      "text/plain": [
       "       jobs input          output\n",
       "            n_dim        my_array\n",
       "0  finished     1  my_array/0.npy\n",
       "1  finished     2  my_array/1.npy\n",
       "2  finished     3  my_array/2.npy"
      ]
     },
     "execution_count": 23,
     "metadata": {},
     "output_type": "execute_result"
    }
   ],
   "source": [
    "experiment_data"
   ]
  },
  {
   "cell_type": "markdown",
   "metadata": {
    "slideshow": {
     "slide_type": "fragment"
    }
   },
   "source": [
    "The numpy arrays are stored in a folder `my_array` in `your_data` directory:\n",
    "```\n",
    "your_data/\n",
    "├── my_array/\n",
    "│   ├── 0.npy\n",
    "│   ├── 1.npy\n",
    "│   └── 2.npy\n",
    "└── experiment_data/\n",
    "    ├── domain.json\n",
    "    ├── input.csv\n",
    "    ├── output.csv\n",
    "    └── jobs.csv\n",
    "```"
   ]
  },
  {
   "cell_type": "markdown",
   "metadata": {
    "slideshow": {
     "slide_type": "slide"
    }
   },
   "source": [
    "`f3dasm` supports storing commonly used data types (`pd.DataFrame`, `numpy.array`, `xarray.DataArray` etc.)\n",
    "But you can also [write your own storing protocol](https://f3dasm.readthedocs.io/en/latest/auto_examples/003_datageneration/003_storing.html#create-a-custom-storage-method)"
   ]
  },
  {
   "cell_type": "markdown",
   "metadata": {
    "slideshow": {
     "slide_type": "slide"
    }
   },
   "source": [
    "<!-- ### Overview of methods for stage of the data-driven process\n",
    "\n",
    "<table style=\"width: 100%; table-layout: fixed;\">\n",
    "  <tr>\n",
    "    <td style=\"text-align: center; width: 25%;\">\n",
    "      <img src=\"../figures/f3dasm_design.svg\" title=\"f3dasm design\" width=\"100%\">\n",
    "    </td>\n",
    "    <td style=\"text-align: center; width: 25%;\">\n",
    "      <img src=\"../figures/f3dasm_datageneration.svg\" title=\"f3dasm datageneration\" width=\"100%\">\n",
    "    </td>\n",
    "    <td style=\"text-align: center; width: 25%;\">\n",
    "      <img src=\"../figures/f3dasm_machinelearning.svg\" title=\"f3dasm machine learning\" width=\"100%\">\n",
    "    </td>\n",
    "    <td style=\"text-align: center; width: 25%;\">\n",
    "      <img src=\"../figures/f3dasm_optimization.svg\" title=\"f3dasm optimization\" width=\"100%\">\n",
    "    </td>\n",
    "  </tr>\n",
    "  <tr>\n",
    "    <td style=\"text-align: center;\"><code>f3dasm.design.Domain</code></td>\n",
    "    <td style=\"text-align: center;\"><code>f3dasm.datageneration.DataGenerator</code></td>\n",
    "    <td style=\"text-align: center;\"><code>-</code></td>\n",
    "    <td style=\"text-align: center;\"><code>f3dasm.optimization.Optimizer</code></td>\n",
    "  </tr>\n",
    "  <tr>\n",
    "    <td style=\"text-align: center;\"><code>ExperimentData.sample</code></td>\n",
    "    <td style=\"text-align: center;\"><code>ExperimentData.evaluate</code></td>\n",
    "    <td style=\"text-align: center;\"><code>-</code></td>\n",
    "    <td style=\"text-align: center;\"><code>ExperimentData.optimize</code></td>\n",
    "  </tr>\n",
    "</table> -->\n"
   ]
  },
  {
   "cell_type": "markdown",
   "metadata": {
    "slideshow": {
     "slide_type": "slide"
    }
   },
   "source": [
    "### Built-in defaults\n",
    "\n",
    "`f3dasm` comes with [built-in functionalities](https://f3dasm.readthedocs.io/en/latest/rst_doc_files/defaults.html#) for each of the stages of the data-driven process to get you started right away.\n",
    "\n",
    "For each of the stages of the data-driven process, you can provide a string argument from the list of available options instead of a function/class object:\n",
    "\n",
    "- **sampling**: `create_sampler('random')`\n",
    "- **data generation**: `create_datagenerator('ackley')`\n",
    "- **optimization**: `create_optimizer('cg')`\n",
    "\n",
    "Today we are going to look at built-in sampling and built-in data generation"
   ]
  },
  {
   "cell_type": "markdown",
   "metadata": {
    "slideshow": {
     "slide_type": "slide"
    }
   },
   "source": [
    "We can make an array parameter like this:"
   ]
  },
  {
   "cell_type": "code",
   "execution_count": 24,
   "metadata": {
    "slideshow": {
     "slide_type": "fragment"
    }
   },
   "outputs": [],
   "source": [
    "domain = Domain()\n",
    "domain.add_array(name='x', shape=(2,), low=-10., high=10.)"
   ]
  },
  {
   "cell_type": "markdown",
   "metadata": {
    "slideshow": {
     "slide_type": "fragment"
    }
   },
   "source": [
    "We create an empty `ExperimentData` object with this domain:"
   ]
  },
  {
   "cell_type": "code",
   "execution_count": 25,
   "metadata": {
    "slideshow": {
     "slide_type": "fragment"
    }
   },
   "outputs": [
    {
     "data": {
      "text/html": [
       "<div>\n",
       "<style scoped>\n",
       "    .dataframe tbody tr th:only-of-type {\n",
       "        vertical-align: middle;\n",
       "    }\n",
       "\n",
       "    .dataframe tbody tr th {\n",
       "        vertical-align: top;\n",
       "    }\n",
       "\n",
       "    .dataframe thead th {\n",
       "        text-align: right;\n",
       "    }\n",
       "</style>\n",
       "<table border=\"1\" class=\"dataframe\">\n",
       "  <thead>\n",
       "    <tr style=\"text-align: right;\">\n",
       "      <th></th>\n",
       "    </tr>\n",
       "  </thead>\n",
       "  <tbody>\n",
       "  </tbody>\n",
       "</table>\n",
       "</div>"
      ],
      "text/plain": [
       "Empty DataFrame\n",
       "Columns: []\n",
       "Index: []"
      ]
     },
     "execution_count": 25,
     "metadata": {},
     "output_type": "execute_result"
    }
   ],
   "source": [
    "experiment_data = ExperimentData(domain=domain)\n",
    "experiment_data"
   ]
  },
  {
   "cell_type": "markdown",
   "metadata": {
    "slideshow": {
     "slide_type": "slide"
    }
   },
   "source": [
    "#### Built-in sampling\n",
    "\n",
    "We can call the `sample()` method and provide a sampler to add datapoints to our `ExperimentData` object:"
   ]
  },
  {
   "cell_type": "code",
   "execution_count": 26,
   "metadata": {
    "slideshow": {
     "slide_type": "fragment"
    }
   },
   "outputs": [],
   "source": [
    "from f3dasm import create_sampler\n",
    "\n",
    "sampler = create_sampler('random', seed=123)\n",
    "experiment_data = sampler.call(data=experiment_data, n_samples=10)"
   ]
  },
  {
   "cell_type": "code",
   "execution_count": 27,
   "metadata": {
    "slideshow": {
     "slide_type": "fragment"
    }
   },
   "outputs": [
    {
     "data": {
      "image/png": "[encoded data removed]",
      "text/plain": [
       "<Figure size 800x400 with 1 Axes>"
      ]
     },
     "metadata": {
      "image/png": {
       "height": 351,
       "width": 683
      }
     },
     "output_type": "display_data"
    }
   ],
   "source": [
    "fig, ax = plt.subplots()\n",
    "for i, es in experiment_data:\n",
    "    x = es.get('x')\n",
    "    ax.scatter(x[0], x[1], color='blue')"
   ]
  },
  {
   "cell_type": "markdown",
   "metadata": {
    "slideshow": {
     "slide_type": "slide"
    }
   },
   "source": [
    "`f3dasm` comes with four [built-in samplers](https://f3dasm.readthedocs.io/en/latest/rst_doc_files/defaults.html#implemented-samplers):\n",
    "- `random`: Random uniform sampling\n",
    "- `latin`: Latin Hypercube sampling\n",
    "- `sobol`: Sobol sequence sampling\n",
    "- `grid`: Grid search sampling"
   ]
  },
  {
   "cell_type": "code",
   "execution_count": 28,
   "metadata": {
    "slideshow": {
     "slide_type": "fragment"
    }
   },
   "outputs": [
    {
     "name": "stderr",
     "output_type": "stream",
     "text": [
      "/Users/martin/miniforge3/envs/3dasm/lib/python3.10/site-packages/scipy/stats/_qmc.py:993: UserWarning: The balance properties of Sobol' points require n to be a power of 2.\n",
      "  sample = self._random(n, workers=workers)\n"
     ]
    },
    {
     "data": {
      "image/png": "[encoded data removed]",
      "text/plain": [
       "<Figure size 1000x300 with 3 Axes>"
      ]
     },
     "metadata": {
      "image/png": {
       "height": 296,
       "width": 833
      }
     },
     "output_type": "display_data"
    }
   ],
   "source": [
    "fig, axes = plt.subplots(1, 3, figsize=(10, 3))\n",
    "\n",
    "for ax, sampler_name in zip(axes.flatten(), ['random', 'latin', 'sobol']):\n",
    "    sampler = create_sampler(sampler_name, seed=123)\n",
    "    edata = sampler.call(data=experiment_data, n_samples=200)\n",
    "    for _, es in edata:\n",
    "        x = es.get('x')\n",
    "        ax.scatter(*x, s=1, color='blue')\n",
    "    ax.set_title(sampler_name)"
   ]
  },
  {
   "cell_type": "markdown",
   "metadata": {
    "slideshow": {
     "slide_type": "slide"
    }
   },
   "source": [
    "#### Built-in data generation\n",
    "\n",
    "`f3dasm` comes with a [collection of benchmark functions](https://f3dasm.readthedocs.io/en/latest/rst_doc_files/defaults.html#implemented-benchmark-functions) that can used to evaluate your experiments.\n",
    "\n",
    "For instance, the Levy function:"
   ]
  },
  {
   "cell_type": "markdown",
   "metadata": {
    "slideshow": {
     "slide_type": "fragment"
    }
   },
   "source": [
    "![Alt text](https://www.sfu.ca/~ssurjano/levy.png)"
   ]
  },
  {
   "cell_type": "code",
   "execution_count": 29,
   "metadata": {
    "slideshow": {
     "slide_type": "slide"
    }
   },
   "outputs": [],
   "source": [
    "from f3dasm import create_datagenerator\n",
    "\n",
    "data_generator = create_datagenerator('levy', output_names='y')\n",
    "\n",
    "experiment_data = data_generator.call(data=experiment_data)"
   ]
  },
  {
   "cell_type": "code",
   "execution_count": 30,
   "metadata": {},
   "outputs": [
    {
     "data": {
      "text/html": [
       "<div>\n",
       "<style scoped>\n",
       "    .dataframe tbody tr th:only-of-type {\n",
       "        vertical-align: middle;\n",
       "    }\n",
       "\n",
       "    .dataframe tbody tr th {\n",
       "        vertical-align: top;\n",
       "    }\n",
       "\n",
       "    .dataframe thead tr th {\n",
       "        text-align: left;\n",
       "    }\n",
       "</style>\n",
       "<table border=\"1\" class=\"dataframe\">\n",
       "  <thead>\n",
       "    <tr>\n",
       "      <th></th>\n",
       "      <th>jobs</th>\n",
       "      <th>input</th>\n",
       "      <th>output</th>\n",
       "    </tr>\n",
       "    <tr>\n",
       "      <th></th>\n",
       "      <th></th>\n",
       "      <th>x</th>\n",
       "      <th>y</th>\n",
       "    </tr>\n",
       "  </thead>\n",
       "  <tbody>\n",
       "    <tr>\n",
       "      <th>0</th>\n",
       "      <td>finished</td>\n",
       "      <td>[3.6470372649628686, -8.923579623955547]</td>\n",
       "      <td>7.461407</td>\n",
       "    </tr>\n",
       "    <tr>\n",
       "      <th>1</th>\n",
       "      <td>finished</td>\n",
       "      <td>[-5.592802544547773, -6.312563786026606]</td>\n",
       "      <td>29.574500</td>\n",
       "    </tr>\n",
       "    <tr>\n",
       "      <th>2</th>\n",
       "      <td>finished</td>\n",
       "      <td>[-6.481881978299393, 6.241890133115472]</td>\n",
       "      <td>40.909259</td>\n",
       "    </tr>\n",
       "    <tr>\n",
       "      <th>3</th>\n",
       "      <td>finished</td>\n",
       "      <td>[8.466899960541127, -4.468512044057875]</td>\n",
       "      <td>17.052997</td>\n",
       "    </tr>\n",
       "    <tr>\n",
       "      <th>4</th>\n",
       "      <td>finished</td>\n",
       "      <td>[6.395091231860043, 7.797853862223718]</td>\n",
       "      <td>21.728063</td>\n",
       "    </tr>\n",
       "    <tr>\n",
       "      <th>5</th>\n",
       "      <td>finished</td>\n",
       "      <td>[0.25940910459063815, -5.1007079786240705]</td>\n",
       "      <td>2.776598</td>\n",
       "    </tr>\n",
       "    <tr>\n",
       "      <th>6</th>\n",
       "      <td>finished</td>\n",
       "      <td>[6.484831921948228, -5.72474073249809]</td>\n",
       "      <td>20.770015</td>\n",
       "    </tr>\n",
       "    <tr>\n",
       "      <th>7</th>\n",
       "      <td>finished</td>\n",
       "      <td>[4.829341044694193, 2.5988040917936157]</td>\n",
       "      <td>6.467240</td>\n",
       "    </tr>\n",
       "    <tr>\n",
       "      <th>8</th>\n",
       "      <td>finished</td>\n",
       "      <td>[8.54814517050334, -5.361836227871624]</td>\n",
       "      <td>19.818509</td>\n",
       "    </tr>\n",
       "    <tr>\n",
       "      <th>9</th>\n",
       "      <td>finished</td>\n",
       "      <td>[5.982502572401657, 0.3633007370542849]</td>\n",
       "      <td>16.979349</td>\n",
       "    </tr>\n",
       "  </tbody>\n",
       "</table>\n",
       "</div>"
      ],
      "text/plain": [
       "       jobs                                       input     output\n",
       "                                                      x          y\n",
       "0  finished    [3.6470372649628686, -8.923579623955547]   7.461407\n",
       "1  finished    [-5.592802544547773, -6.312563786026606]  29.574500\n",
       "2  finished     [-6.481881978299393, 6.241890133115472]  40.909259\n",
       "3  finished     [8.466899960541127, -4.468512044057875]  17.052997\n",
       "4  finished      [6.395091231860043, 7.797853862223718]  21.728063\n",
       "5  finished  [0.25940910459063815, -5.1007079786240705]   2.776598\n",
       "6  finished      [6.484831921948228, -5.72474073249809]  20.770015\n",
       "7  finished     [4.829341044694193, 2.5988040917936157]   6.467240\n",
       "8  finished      [8.54814517050334, -5.361836227871624]  19.818509\n",
       "9  finished     [5.982502572401657, 0.3633007370542849]  16.979349"
      ]
     },
     "execution_count": 30,
     "metadata": {},
     "output_type": "execute_result"
    }
   ],
   "source": [
    "experiment_data"
   ]
  },
  {
   "cell_type": "markdown",
   "metadata": {
    "slideshow": {
     "slide_type": "fragment"
    }
   },
   "source": [
    "A list of available benchmark functions is available on the [documentation page](https://f3dasm.readthedocs.io/en/latest/rst_doc_files/defaults.html#implemented-benchmark-functions) or as a list in the `f3dasm.datageneration` submodule:"
   ]
  },
  {
   "cell_type": "markdown",
   "metadata": {
    "slideshow": {
     "slide_type": "slide"
    }
   },
   "source": [
    "### Optimization\n",
    "\n",
    "<img src=\"../figures/f3dasm_optimization.svg\" title=\"f3dasm optimization\" width=\"22%\" align=\"right\">\n",
    "\n",
    "Optimization can be performed on an `ExperimentData` object by:\n",
    "- providing a data generator (built-in or custom)\n",
    "- providing an optimization algorithm (built-in or custom)\n",
    "- providing the number of iterations"
   ]
  },
  {
   "cell_type": "code",
   "execution_count": 31,
   "metadata": {
    "slideshow": {
     "slide_type": "slide"
    }
   },
   "outputs": [
    {
     "data": {
      "text/html": [
       "<div>\n",
       "<style scoped>\n",
       "    .dataframe tbody tr th:only-of-type {\n",
       "        vertical-align: middle;\n",
       "    }\n",
       "\n",
       "    .dataframe tbody tr th {\n",
       "        vertical-align: top;\n",
       "    }\n",
       "\n",
       "    .dataframe thead tr th {\n",
       "        text-align: left;\n",
       "    }\n",
       "</style>\n",
       "<table border=\"1\" class=\"dataframe\">\n",
       "  <thead>\n",
       "    <tr>\n",
       "      <th></th>\n",
       "      <th>jobs</th>\n",
       "      <th>input</th>\n",
       "      <th>output</th>\n",
       "    </tr>\n",
       "    <tr>\n",
       "      <th></th>\n",
       "      <th></th>\n",
       "      <th>x</th>\n",
       "      <th>y</th>\n",
       "    </tr>\n",
       "  </thead>\n",
       "  <tbody>\n",
       "    <tr>\n",
       "      <th>0</th>\n",
       "      <td>finished</td>\n",
       "      <td>[3.6470372649628686, -8.923579623955547]</td>\n",
       "      <td>7.461407e+00</td>\n",
       "    </tr>\n",
       "    <tr>\n",
       "      <th>1</th>\n",
       "      <td>finished</td>\n",
       "      <td>[-5.592802544547773, -6.312563786026606]</td>\n",
       "      <td>2.957450e+01</td>\n",
       "    </tr>\n",
       "    <tr>\n",
       "      <th>2</th>\n",
       "      <td>finished</td>\n",
       "      <td>[-6.481881978299393, 6.241890133115472]</td>\n",
       "      <td>4.090926e+01</td>\n",
       "    </tr>\n",
       "    <tr>\n",
       "      <th>3</th>\n",
       "      <td>finished</td>\n",
       "      <td>[8.466899960541127, -4.468512044057875]</td>\n",
       "      <td>1.705300e+01</td>\n",
       "    </tr>\n",
       "    <tr>\n",
       "      <th>4</th>\n",
       "      <td>finished</td>\n",
       "      <td>[6.395091231860043, 7.797853862223718]</td>\n",
       "      <td>2.172806e+01</td>\n",
       "    </tr>\n",
       "    <tr>\n",
       "      <th>...</th>\n",
       "      <td>...</td>\n",
       "      <td>...</td>\n",
       "      <td>...</td>\n",
       "    </tr>\n",
       "    <tr>\n",
       "      <th>12</th>\n",
       "      <td>finished</td>\n",
       "      <td>[1.0000007572420657, 1.000001525521625]</td>\n",
       "      <td>6.783765e-04</td>\n",
       "    </tr>\n",
       "    <tr>\n",
       "      <th>13</th>\n",
       "      <td>finished</td>\n",
       "      <td>[1.0000007572420657, 1.000001525521625]</td>\n",
       "      <td>3.779841e-05</td>\n",
       "    </tr>\n",
       "    <tr>\n",
       "      <th>14</th>\n",
       "      <td>finished</td>\n",
       "      <td>[1.0000007572420657, 1.000001525521625]</td>\n",
       "      <td>2.453467e-07</td>\n",
       "    </tr>\n",
       "    <tr>\n",
       "      <th>15</th>\n",
       "      <td>finished</td>\n",
       "      <td>[1.0000007572420657, 1.000001525521625]</td>\n",
       "      <td>1.289369e-09</td>\n",
       "    </tr>\n",
       "    <tr>\n",
       "      <th>16</th>\n",
       "      <td>finished</td>\n",
       "      <td>[1.0000007572420657, 1.000001525521625]</td>\n",
       "      <td>7.887639e-13</td>\n",
       "    </tr>\n",
       "  </tbody>\n",
       "</table>\n",
       "<p>17 rows × 3 columns</p>\n",
       "</div>"
      ],
      "text/plain": [
       "        jobs                                     input        output\n",
       "                                                     x             y\n",
       "0   finished  [3.6470372649628686, -8.923579623955547]  7.461407e+00\n",
       "1   finished  [-5.592802544547773, -6.312563786026606]  2.957450e+01\n",
       "2   finished   [-6.481881978299393, 6.241890133115472]  4.090926e+01\n",
       "3   finished   [8.466899960541127, -4.468512044057875]  1.705300e+01\n",
       "4   finished    [6.395091231860043, 7.797853862223718]  2.172806e+01\n",
       "..       ...                                       ...           ...\n",
       "12  finished   [1.0000007572420657, 1.000001525521625]  6.783765e-04\n",
       "13  finished   [1.0000007572420657, 1.000001525521625]  3.779841e-05\n",
       "14  finished   [1.0000007572420657, 1.000001525521625]  2.453467e-07\n",
       "15  finished   [1.0000007572420657, 1.000001525521625]  1.289369e-09\n",
       "16  finished   [1.0000007572420657, 1.000001525521625]  7.887639e-13\n",
       "\n",
       "[17 rows x 3 columns]"
      ]
     },
     "execution_count": 31,
     "metadata": {},
     "output_type": "execute_result"
    }
   ],
   "source": [
    "from f3dasm import create_optimizer\n",
    "\n",
    "optimizer = create_optimizer('lbfgsb')\n",
    "\n",
    "optimizer.arm(data=experiment_data, data_generator=data_generator, output_name='y')\n",
    "\n",
    "experiment_data += optimizer.call(data=experiment_data, n_iterations=30)\n",
    "\n",
    "\n",
    "experiment_data"
   ]
  },
  {
   "cell_type": "markdown",
   "metadata": {
    "slideshow": {
     "slide_type": "slide"
    }
   },
   "source": [
    "A list of all the available optimization algorithms can be found on the [documentation page](https://f3dasm.readthedocs.io/en/latest/rst_doc_files/defaults.html#implemented-optimizers) or in the `f3dasm.optimization` sub-module"
   ]
  },
  {
   "cell_type": "markdown",
   "metadata": {
    "slideshow": {
     "slide_type": "slide"
    }
   },
   "source": [
    "### Other things to explore ...\n",
    "\n",
    "- &#x1F31F; [Hydra](https://hydra.cc/) configuration integration; seperating your constants and parameters from your code!\n",
    "- &#x1F31F; [Studies](https://github.com/bessagroup/f3dasm/tree/main/studies), showcasing paper replications with the `f3dasm` worfklow\n",
    "- &#x1F31F; [abaqus2py](https://pypi.org/project/abaqus2py/) port of managing multiple simulation of ABAQUS with `f3dasm` (under development)"
   ]
  },
  {
   "cell_type": "markdown",
   "metadata": {
    "slideshow": {
     "slide_type": "slide"
    }
   },
   "source": [
    "### See you next class!\n",
    "\n",
    "Useful links\n",
    "\n",
    "- &#x1F31F; [GitHub repository](https://github.com/bessagroup/f3dasm)\n",
    "- &#x1F4D5; [Online documentation](https://f3dasm.readthedocs.io/)\n",
    "- &#x1F4F0; [JOSS Paper](https://doi.org/10.21105/joss.06912)\n",
    "\n",
    "Give the repository a star &#x1F600; !"
   ]
  }
 ],
 "metadata": {
  "celltoolbar": "Slideshow",
  "hide_code_all_hidden": false,
  "kernelspec": {
   "display_name": "3dasm",
   "language": "python",
   "name": "python3"
  },
  "language_info": {
   "codemirror_mode": {
    "name": "ipython",
    "version": 3
   },
   "file_extension": ".py",
   "mimetype": "text/x-python",
   "name": "python",
   "nbconvert_exporter": "python",
   "pygments_lexer": "ipython3",
   "version": "3.10.0"
  }
 },
 "nbformat": 4,
 "nbformat_minor": 4
}

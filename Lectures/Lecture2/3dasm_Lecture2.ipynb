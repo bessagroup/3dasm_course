{
 "cells": [
  {
   "cell_type": "markdown",
   "metadata": {
    "hideCode": false,
    "hidePrompt": false,
    "slideshow": {
     "slide_type": "slide"
    }
   },
   "source": [
    "<img src=../figures/Brown_logo.svg width=50%>\n",
    "\n",
    "## Data-Driven Design & Analyses of Structures & Materials (3dasm)\n",
    "\n",
    "## Lecture 2\n",
    "\n",
    "### Miguel A. Bessa | <a href = \"mailto: miguel_bessa@brown.edu\">miguel_bessa@brown.edu</a>  | Associate Professor"
   ]
  },
  {
   "cell_type": "markdown",
   "metadata": {
    "hideCode": false,
    "hidePrompt": false,
    "slideshow": {
     "slide_type": "notes"
    }
   },
   "source": [
    "**What:** A lecture of the \"3dasm\" course\n",
    "\n",
    "**Where:** This notebook comes from this [repository](https://github.com/bessagroup/3dasm_course)\n",
    "\n",
    "**Reference for entire course:** Murphy, Kevin P. *Probabilistic machine learning: an introduction*. MIT press, 2022. Available online [here](https://probml.github.io/pml-book/book1.html)\n",
    "\n",
    "**How:** We try to follow Murphy's book closely, but the sequence of Chapters and Sections is different. The intention is to use notebooks as an introduction to the topic and Murphy's book as a resource.\n",
    "* If working offline: Go through this notebook and read the book.\n",
    "* If attending class in person: listen to me (!) but also go through the notebook in your laptop at the same time. Read the book.\n",
    "* If attending lectures remotely: listen to me (!) via Zoom and (ideally) use two screens where you have the notebook open in 1 screen and you see the lectures on the other. Read the book."
   ]
  },
  {
   "cell_type": "markdown",
   "metadata": {
    "hideCode": false,
    "hidePrompt": false,
    "slideshow": {
     "slide_type": "notes"
    }
   },
   "source": [
    "**Optional reference (the \"bible\" by the \"bishop\"... pun intended 😆) :** Bishop, Christopher M. *Pattern recognition and machine learning*. Springer Verlag, 2006.\n",
    "\n",
    "**References/resources to create this notebook:**\n",
    "* [Car figure](https://korkortonline.se/en/theory/reaction-braking-stopping/)\n",
    "* [Pandas figure](https://yesofcorsa.com/wp-content/uploads/2019/12/Pandas-Reserve-In-China-Wallpaper-1080p.jpeg)\n",
    "\n",
    "Apologies in advance if I missed some reference used in this notebook. Please contact me if that is the case, and I will gladly include it here."
   ]
  },
  {
   "cell_type": "markdown",
   "metadata": {
    "hideCode": false,
    "hidePrompt": false,
    "slideshow": {
     "slide_type": "slide"
    }
   },
   "source": [
    "## **OPTION 1**. Run this notebook **locally in your computer**:\n",
    "1. Confirm that you have the '3dasm' mamba (or conda) environment (see Lecture 1).\n",
    "2. Go to the 3dasm_course folder in your computer and pull the last updates of the [repository](https://github.com/bessagroup/3dasm_course):\n",
    "```\n",
    "git pull\n",
    "```\n",
    "    - Note: if you can't pull the repo due to conflicts (and you can't handle these conflicts), use this command (with **caution**!) and your repo becomes the same as the one online:\n",
    "        ```\n",
    "        git reset --hard origin/main\n",
    "        ```\n",
    "3. Open command window and load jupyter notebook (it will open in your internet browser):\n",
    "```\n",
    "jupyter notebook\n",
    "```\n",
    "5. Open notebook of this Lecture and choose the '3dasm' kernel."
   ]
  },
  {
   "cell_type": "markdown",
   "metadata": {
    "hideCode": false,
    "hidePrompt": false,
    "slideshow": {
     "slide_type": "slide"
    }
   },
   "source": [
    "## **OPTION 2**. Use **Google's Colab** (no installation required, but times out if idle):\n",
    "\n",
    "1. go to https://colab.research.google.com\n",
    "2. login\n",
    "3. File > Open notebook\n",
    "4. click on Github (no need to login or authorize anything)\n",
    "5. paste the git link: https://github.com/bessagroup/3dasm_course\n",
    "6. click search and then click on the notebook for this Lecture."
   ]
  },
  {
   "cell_type": "code",
   "execution_count": 1,
   "metadata": {
    "hideCode": false,
    "hidePrompt": false,
    "scrolled": true,
    "slideshow": {
     "slide_type": "slide"
    }
   },
   "outputs": [],
   "source": [
    "# Basic plotting tools needed in Python.\n",
    "\n",
    "import matplotlib.pyplot as plt # import plotting tools to create figures\n",
    "import numpy as np # import numpy to handle a lot of things!\n",
    "\n",
    "%config InlineBackend.figure_format = \"retina\" # render higher resolution images in the notebook\n",
    "plt.rcParams[\"figure.figsize\"] = (8,4) # rescale figure size appropriately for slides"
   ]
  },
  {
   "cell_type": "code",
   "execution_count": 2,
   "metadata": {
    "slideshow": {
     "slide_type": "notes"
    }
   },
   "outputs": [],
   "source": [
    "# To limit the number of rows to show in a dataframe, for presentation purposes:\n",
    "import pandas as pd\n",
    "\n",
    "pd.set_option('display.max_rows', 10)"
   ]
  },
  {
   "cell_type": "markdown",
   "metadata": {
    "hideCode": false,
    "hidePrompt": false,
    "slideshow": {
     "slide_type": "slide"
    }
   },
   "source": [
    "## Outline for today\n",
    "\n",
    "* Handling data and handling pandas!\n",
    "* Introducing a Python framework for data-driven design and analysis of structures and materials: `f3dasm`\n",
    "* Application of knowledge gained in Lecture 1\n",
    "* Understanding the governing model for the car stopping distance problem\n",
    "\n",
    "**Reading material**: This notebook"
   ]
  },
  {
   "cell_type": "markdown",
   "metadata": {
    "slideshow": {
     "slide_type": "slide"
    }
   },
   "source": [
    "## The car stopping distance problem (again!)\n",
    "\n",
    "<img src=\"../figures/reaction-braking-stopping.svg\" title=\"Car stopping distance\" width=\"50%\" align=\"right\">\n",
    "\n",
    "Imagine we want to predict $\\color{red}y$ for a given ${\\color{green}x}$ but that **we had no idea** that this problem is governed by:\n",
    "\n",
    "${\\color{red}y} = {\\color{blue}z} x + 0.1 {\\color{green}x}^2$\n",
    "\n",
    "- ${\\color{red}y}$ is the **output**: the car stopping distance\n",
    "- ${\\color{green}x}$ is the **input**: the car velocity\n",
    "- ${\\color{blue}z}$ is a hidden variable: an <a title=\"random variable\">rv</a> $z$ representing the driver's reaction time (in seconds)\n",
    "\n",
    "where $z \\sim \\mathcal{N}(\\mu_z=1.5,\\sigma_z^2=0.5^2)$"
   ]
  },
  {
   "cell_type": "markdown",
   "metadata": {
    "cell_style": "center",
    "hideCode": false,
    "hidePrompt": false,
    "slideshow": {
     "slide_type": "slide"
    }
   },
   "source": [
    "## The car stopping distance problem\n",
    "\n",
    "<img src=\"../figures/reaction-braking-stopping.svg\" title=\"Car stopping distance\" width=\"25%\" align=\"right\">\n",
    "\n",
    "Instead, you are just provided with the data $\\mathcal{D}$ that contains $N$ measurements of different people stopping the car.\n",
    "\n",
    "How does the data $\\mathcal{D}$ look like?"
   ]
  },
  {
   "cell_type": "markdown",
   "metadata": {
    "cell_style": "center",
    "hideCode": false,
    "hidePrompt": false,
    "slideshow": {
     "slide_type": "fragment"
    }
   },
   "source": [
    "A table with $N$ rows and 2 columns (input $x=\\mathcal{D}_x$ and output $y=\\mathcal{D}_y$).\n",
    "\n",
    "| x (m/s)  | y (m) |\n",
    "| ----- | ---- |\n",
    "| 15.5  | 21.4 |\n",
    "| 5.3   | 11.8 |\n",
    "| 78.0  | 701.6|\n",
    "| ...   | ...  |\n",
    "| 10.8  | 22.1 |\n",
    "\n",
    "Note that $z$ is nowhere to be found! We could only measure the velocity of the car and the stopping distance, but we could not measure how quickly each driver reacts to seeing the deer!"
   ]
  },
  {
   "cell_type": "markdown",
   "metadata": {
    "slideshow": {
     "slide_type": "slide"
    }
   },
   "source": [
    "### `f3dasm`: streamlining your data-driven process!\n",
    "\n",
    "The **f**ramework for **d**ata-**d**riven **d**esign and **a**nalysis of **s**tructures and **m**aterials (`f3dasm`) aims to generalize this workflow with interfaces (templates of code that you have to fill in)\n",
    "\n",
    "\n",
    "<center><img src=\"../figures/f3dasm_carstoppingdistance_line.svg\" title=\"f3dasm Car stopping distance\" width=\"70%\"></center>\n",
    "\n",
    "Today, we will illustrate these modules with the car stopping distance problem:"
   ]
  },
  {
   "cell_type": "markdown",
   "metadata": {
    "slideshow": {
     "slide_type": "slide"
    }
   },
   "source": [
    "### Module `design`: Creating our design-of-experiments with the `Domain` class\n",
    "\n",
    "<img src=\"../figures/f3dasm_carstopping_design.svg\" title=\"f3dasm Car stopping distance design\" width=\"22%\" align=\"right\">\n",
    "\n",
    "The design-of-experiment aims to describe the variability on the **input** in order to control the **output** of the experiment.\n",
    "\n",
    "In order to create a design-of-experiment, we import the `Domain` class from the `f3dasm.design` module:"
   ]
  },
  {
   "cell_type": "code",
   "execution_count": 158,
   "metadata": {
    "slideshow": {
     "slide_type": "fragment"
    }
   },
   "outputs": [
    {
     "name": "stdout",
     "output_type": "stream",
     "text": [
      "Domain(space={}, output_space={})\n"
     ]
    }
   ],
   "source": [
    "from f3dasm.design import Domain\n",
    "\n",
    "domain = Domain()\n",
    "print(domain)"
   ]
  },
  {
   "cell_type": "markdown",
   "metadata": {
    "slideshow": {
     "slide_type": "slide"
    }
   },
   "source": [
    "Currently the domain is empty; but we can add the car velocity $x$ as an **input parameter**. <br>\n",
    "Since it is a continuous variable, we use the `add_float` method\n",
    "\n",
    "Optionally, we can give lower and upper bounds to this variable:"
   ]
  },
  {
   "cell_type": "code",
   "execution_count": 159,
   "metadata": {
    "slideshow": {
     "slide_type": "fragment"
    }
   },
   "outputs": [
    {
     "name": "stdout",
     "output_type": "stream",
     "text": [
      "Domain(space={'x': _ContinuousParameter(lower_bound=3.0, upper_bound=83.0, log=False)}, output_space={})\n"
     ]
    }
   ],
   "source": [
    "domain.add_float(name='x', low=3.0, high=83.0)\n",
    "print(domain)"
   ]
  },
  {
   "cell_type": "markdown",
   "metadata": {},
   "source": [
    "<center><img src=\"../figures/car_velocity_empty.svg\" title=\"Car stopping distance\" width=\"40%\"></center>"
   ]
  },
  {
   "cell_type": "markdown",
   "metadata": {
    "slideshow": {
     "slide_type": "fragment"
    }
   },
   "source": [
    "* Usually, in ML literature people don't create the data...\n",
    "    * Data is collected from somewhere (Internet?) and we don't have a clue about the hidden variables involved in the data generation process (unknown causes that explain the data!)."
   ]
  },
  {
   "cell_type": "markdown",
   "metadata": {
    "slideshow": {
     "slide_type": "fragment"
    }
   },
   "source": [
    "* **But**... In engineering practice this can be different! Sometimes you *can create data* (e.g. from computer simulations, from conducting your own experiments, etc.)\n",
    "    * Although, models/measurements are never perfect (errors) and can be stochastic (noise)!"
   ]
  },
  {
   "cell_type": "markdown",
   "metadata": {
    "slideshow": {
     "slide_type": "slide"
    }
   },
   "source": [
    "Let's create the **input data** for our problem..."
   ]
  },
  {
   "cell_type": "code",
   "execution_count": 160,
   "metadata": {
    "scrolled": true,
    "slideshow": {
     "slide_type": "fragment"
    }
   },
   "outputs": [
    {
     "name": "stdout",
     "output_type": "stream",
     "text": [
      "Let's see the Data_x vector:\n",
      " [ 3.   5.5  8.  10.5 13.  15.5 18.  20.5 23.  25.5 28.  30.5 33.  35.5\n",
      " 38.  40.5 43.  45.5 48.  50.5 53.  55.5 58.  60.5 63.  65.5 68.  70.5\n",
      " 73.  75.5 78.  80.5 83. ]\n"
     ]
    }
   ],
   "source": [
    "N = 33 # number of points to generate data\n",
    "Data_x = np.linspace(3, 83, N) # generate a dataset with N points for velocities x between 3 and 83 m/s\n",
    "print(\"Let's see the Data_x vector:\\n\", Data_x)"
   ]
  },
  {
   "cell_type": "markdown",
   "metadata": {
    "slideshow": {
     "slide_type": "-"
    }
   },
   "source": [
    "<center><img src=\"../figures/car_velocities.svg\" title=\"Car stopping distance\" width=\"40%\"></center>"
   ]
  },
  {
   "cell_type": "code",
   "execution_count": 207,
   "metadata": {
    "slideshow": {
     "slide_type": "notes"
    }
   },
   "outputs": [
    {
     "data": {
      "image/png": "[encoded data removed]",
      "text/plain": [
       "<Figure size 800x400 with 1 Axes>"
      ]
     },
     "metadata": {
      "image/png": {
       "height": 328,
       "width": 640
      }
     },
     "output_type": "display_data"
    }
   ],
   "source": [
    "# Optionally: instead of importing a schematic, create the above figure with matplotlib directly:\n",
    "\n",
    "fig, ax = plt.subplots()\n",
    "ax.spines['top'].set_visible(False)\n",
    "ax.spines['right'].set_visible(False)\n",
    "ax.spines['left'].set_visible(False)\n",
    "ax.spines['bottom'].set_position('zero')\n",
    "ax.get_yaxis().set_visible(False)\n",
    "ax.set_xlabel('car velocity ($x$) [m/s]')\n",
    "ax.set_xticks(np.linspace(3.0, 83.0, 6))\n",
    "\n",
    "ax.scatter(Data_x, np.zeros(len(Data_x)), s=20, c='red', marker='x' )\n",
    "plt.show()"
   ]
  },
  {
   "cell_type": "markdown",
   "metadata": {
    "slideshow": {
     "slide_type": "slide"
    }
   },
   "source": [
    "We combine both the **domain** and the **input data** in the `f3dasm.ExperimentData` object:"
   ]
  },
  {
   "cell_type": "code",
   "execution_count": 238,
   "metadata": {
    "slideshow": {
     "slide_type": "fragment"
    }
   },
   "outputs": [],
   "source": [
    "from f3dasm import ExperimentData"
   ]
  },
  {
   "cell_type": "code",
   "execution_count": 239,
   "metadata": {
    "scrolled": true,
    "slideshow": {
     "slide_type": "fragment"
    }
   },
   "outputs": [
    {
     "data": {
      "text/html": [
       "<div>\n",
       "<style scoped>\n",
       "    .dataframe tbody tr th:only-of-type {\n",
       "        vertical-align: middle;\n",
       "    }\n",
       "\n",
       "    .dataframe tbody tr th {\n",
       "        vertical-align: top;\n",
       "    }\n",
       "\n",
       "    .dataframe thead tr th {\n",
       "        text-align: left;\n",
       "    }\n",
       "</style>\n",
       "<table border=\"1\" class=\"dataframe\">\n",
       "  <thead>\n",
       "    <tr>\n",
       "      <th></th>\n",
       "      <th>jobs</th>\n",
       "      <th>input</th>\n",
       "    </tr>\n",
       "    <tr>\n",
       "      <th></th>\n",
       "      <th></th>\n",
       "      <th>x</th>\n",
       "    </tr>\n",
       "  </thead>\n",
       "  <tbody>\n",
       "    <tr>\n",
       "      <th>0</th>\n",
       "      <td>open</td>\n",
       "      <td>3.0</td>\n",
       "    </tr>\n",
       "    <tr>\n",
       "      <th>1</th>\n",
       "      <td>open</td>\n",
       "      <td>5.5</td>\n",
       "    </tr>\n",
       "    <tr>\n",
       "      <th>2</th>\n",
       "      <td>open</td>\n",
       "      <td>8.0</td>\n",
       "    </tr>\n",
       "    <tr>\n",
       "      <th>3</th>\n",
       "      <td>open</td>\n",
       "      <td>10.5</td>\n",
       "    </tr>\n",
       "    <tr>\n",
       "      <th>4</th>\n",
       "      <td>open</td>\n",
       "      <td>13.0</td>\n",
       "    </tr>\n",
       "    <tr>\n",
       "      <th>...</th>\n",
       "      <td>...</td>\n",
       "      <td>...</td>\n",
       "    </tr>\n",
       "    <tr>\n",
       "      <th>28</th>\n",
       "      <td>open</td>\n",
       "      <td>73.0</td>\n",
       "    </tr>\n",
       "    <tr>\n",
       "      <th>29</th>\n",
       "      <td>open</td>\n",
       "      <td>75.5</td>\n",
       "    </tr>\n",
       "    <tr>\n",
       "      <th>30</th>\n",
       "      <td>open</td>\n",
       "      <td>78.0</td>\n",
       "    </tr>\n",
       "    <tr>\n",
       "      <th>31</th>\n",
       "      <td>open</td>\n",
       "      <td>80.5</td>\n",
       "    </tr>\n",
       "    <tr>\n",
       "      <th>32</th>\n",
       "      <td>open</td>\n",
       "      <td>83.0</td>\n",
       "    </tr>\n",
       "  </tbody>\n",
       "</table>\n",
       "<p>33 rows × 2 columns</p>\n",
       "</div>"
      ],
      "text/plain": [
       "    jobs input\n",
       "             x\n",
       "0   open   3.0\n",
       "1   open   5.5\n",
       "2   open   8.0\n",
       "3   open  10.5\n",
       "4   open  13.0\n",
       "..   ...   ...\n",
       "28  open  73.0\n",
       "29  open  75.5\n",
       "30  open  78.0\n",
       "31  open  80.5\n",
       "32  open  83.0\n",
       "\n",
       "[33 rows x 2 columns]"
      ]
     },
     "execution_count": 239,
     "metadata": {},
     "output_type": "execute_result"
    }
   ],
   "source": [
    "experimentdata = ExperimentData(input_data=Data_x, domain=domain)\n",
    "experimentdata"
   ]
  },
  {
   "cell_type": "markdown",
   "metadata": {
    "slideshow": {
     "slide_type": "fragment"
    }
   },
   "source": [
    "This object is the central piece of the data-driven process with `f3dasm`!"
   ]
  },
  {
   "cell_type": "markdown",
   "metadata": {
    "slideshow": {
     "slide_type": "slide"
    }
   },
   "source": [
    "### Module `datageneration`: Measure the car stopping distance\n",
    "\n",
    "<!-- <img src=\"../figures/reaction-braking-stopping.svg\" title=\"Car stopping distance\" width=\"25%\" align=\"right\"> -->\n",
    "\n",
    "<img src=\"../figures/f3dasm_carstopping_datageneration.svg\" title=\"f3dasm Car stopping distance datageneration\" width=\"22%\" align=\"right\">\n",
    "\n",
    "We can *create* the data from the governing equation.\n",
    "\n",
    "${\\color{red}y} = {\\color{blue}z} x + 0.1 {\\color{green}x}^2$\n",
    "\n",
    "- ${\\color{red}y}$ is the **output**: the car stopping distance\n",
    "- ${\\color{green}x}$ is the **input**: the car velocity\n",
    "- ${\\color{blue}z}$ is a hidden variable: an <a title=\"random variable\">rv</a> $z$ representing the driver's reaction time (in seconds)\n",
    "\n",
    "where $z \\sim \\mathcal{N}(\\mu_z=1.5,\\sigma_z^2=0.5^2)$"
   ]
  },
  {
   "cell_type": "markdown",
   "metadata": {
    "slideshow": {
     "slide_type": "slide"
    }
   },
   "source": [
    "We create the function `compute_distance` with the governing equation:"
   ]
  },
  {
   "cell_type": "code",
   "execution_count": 240,
   "metadata": {
    "slideshow": {
     "slide_type": "fragment"
    }
   },
   "outputs": [],
   "source": [
    "from scipy.stats import norm # import the normal dist, as we learned before!\n",
    "\n",
    "# Define our car stopping distance function\n",
    "def compute_distance(x):\n",
    "    z = norm.rvs(1.5, 0.5, size=1) # randomly draw 1 sample from the normal dist.\n",
    "    y = z*x + 0.1*x**2 # compute the stopping distance\n",
    "    return y"
   ]
  },
  {
   "cell_type": "markdown",
   "metadata": {
    "slideshow": {
     "slide_type": "fragment"
    }
   },
   "source": [
    "<img src=\"../figures/car_stoppingdistance.svg\" title=\"Car stopping distance\" width=\"40%\" align=\"right\">\n",
    "\n",
    "We can evaluate our input data points $x$ to retrieve the stopping distance $y$:"
   ]
  },
  {
   "cell_type": "code",
   "execution_count": 241,
   "metadata": {
    "slideshow": {
     "slide_type": "slide"
    }
   },
   "outputs": [],
   "source": [
    "experimentdata.evaluate(compute_distance, output_names=['y'])"
   ]
  },
  {
   "cell_type": "code",
   "execution_count": 242,
   "metadata": {
    "slideshow": {
     "slide_type": "fragment"
    }
   },
   "outputs": [
    {
     "data": {
      "text/html": [
       "<div>\n",
       "<style scoped>\n",
       "    .dataframe tbody tr th:only-of-type {\n",
       "        vertical-align: middle;\n",
       "    }\n",
       "\n",
       "    .dataframe tbody tr th {\n",
       "        vertical-align: top;\n",
       "    }\n",
       "\n",
       "    .dataframe thead tr th {\n",
       "        text-align: left;\n",
       "    }\n",
       "</style>\n",
       "<table border=\"1\" class=\"dataframe\">\n",
       "  <thead>\n",
       "    <tr>\n",
       "      <th></th>\n",
       "      <th>jobs</th>\n",
       "      <th>input</th>\n",
       "      <th>output</th>\n",
       "    </tr>\n",
       "    <tr>\n",
       "      <th></th>\n",
       "      <th></th>\n",
       "      <th>x</th>\n",
       "      <th>y</th>\n",
       "    </tr>\n",
       "  </thead>\n",
       "  <tbody>\n",
       "    <tr>\n",
       "      <th>0</th>\n",
       "      <td>finished</td>\n",
       "      <td>3.0</td>\n",
       "      <td>6.586522</td>\n",
       "    </tr>\n",
       "    <tr>\n",
       "      <th>1</th>\n",
       "      <td>finished</td>\n",
       "      <td>5.5</td>\n",
       "      <td>7.990251</td>\n",
       "    </tr>\n",
       "    <tr>\n",
       "      <th>2</th>\n",
       "      <td>finished</td>\n",
       "      <td>8.0</td>\n",
       "      <td>18.044006</td>\n",
       "    </tr>\n",
       "    <tr>\n",
       "      <th>3</th>\n",
       "      <td>finished</td>\n",
       "      <td>10.5</td>\n",
       "      <td>32.724861</td>\n",
       "    </tr>\n",
       "    <tr>\n",
       "      <th>4</th>\n",
       "      <td>finished</td>\n",
       "      <td>13.0</td>\n",
       "      <td>27.839884</td>\n",
       "    </tr>\n",
       "    <tr>\n",
       "      <th>...</th>\n",
       "      <td>...</td>\n",
       "      <td>...</td>\n",
       "      <td>...</td>\n",
       "    </tr>\n",
       "    <tr>\n",
       "      <th>28</th>\n",
       "      <td>finished</td>\n",
       "      <td>73.0</td>\n",
       "      <td>614.589224</td>\n",
       "    </tr>\n",
       "    <tr>\n",
       "      <th>29</th>\n",
       "      <td>finished</td>\n",
       "      <td>75.5</td>\n",
       "      <td>668.61246</td>\n",
       "    </tr>\n",
       "    <tr>\n",
       "      <th>30</th>\n",
       "      <td>finished</td>\n",
       "      <td>78.0</td>\n",
       "      <td>750.179875</td>\n",
       "    </tr>\n",
       "    <tr>\n",
       "      <th>31</th>\n",
       "      <td>finished</td>\n",
       "      <td>80.5</td>\n",
       "      <td>703.880365</td>\n",
       "    </tr>\n",
       "    <tr>\n",
       "      <th>32</th>\n",
       "      <td>finished</td>\n",
       "      <td>83.0</td>\n",
       "      <td>748.412555</td>\n",
       "    </tr>\n",
       "  </tbody>\n",
       "</table>\n",
       "<p>33 rows × 3 columns</p>\n",
       "</div>"
      ],
      "text/plain": [
       "        jobs input      output\n",
       "                 x           y\n",
       "0   finished   3.0    6.586522\n",
       "1   finished   5.5    7.990251\n",
       "2   finished   8.0   18.044006\n",
       "3   finished  10.5   32.724861\n",
       "4   finished  13.0   27.839884\n",
       "..       ...   ...         ...\n",
       "28  finished  73.0  614.589224\n",
       "29  finished  75.5   668.61246\n",
       "30  finished  78.0  750.179875\n",
       "31  finished  80.5  703.880365\n",
       "32  finished  83.0  748.412555\n",
       "\n",
       "[33 rows x 3 columns]"
      ]
     },
     "execution_count": 242,
     "metadata": {},
     "output_type": "execute_result"
    }
   ],
   "source": [
    "experimentdata"
   ]
  },
  {
   "cell_type": "markdown",
   "metadata": {
    "slideshow": {
     "slide_type": "slide"
    }
   },
   "source": [
    "We can extract the car stopping distance $y$ as a numpy array:"
   ]
  },
  {
   "cell_type": "code",
   "execution_count": 243,
   "metadata": {
    "slideshow": {
     "slide_type": "fragment"
    }
   },
   "outputs": [],
   "source": [
    "# to_numpy extracts both the input and output data as numpy arrays:\n",
    "_, Data_y = experimentdata.to_numpy()"
   ]
  },
  {
   "cell_type": "code",
   "execution_count": 246,
   "metadata": {
    "slideshow": {
     "slide_type": "fragment"
    }
   },
   "outputs": [
    {
     "data": {
      "text/plain": [
       "Text(0.5, 0, 'car velocity ($x$) [m/s]')"
      ]
     },
     "execution_count": 246,
     "metadata": {},
     "output_type": "execute_result"
    },
    {
     "data": {
      "image/png": "[encoded data removed]",
      "text/plain": [
       "<Figure size 800x400 with 1 Axes>"
      ]
     },
     "metadata": {
      "image/png": {
       "height": 373,
       "width": 697
      }
     },
     "output_type": "display_data"
    }
   ],
   "source": [
    "fig, ax = plt.subplots()\n",
    "ax.scatter(Data_x, Data_y, color='r', marker='x', label='data')\n",
    "ax.legend()\n",
    "ax.set_ylabel('car stopping distance ($y$) [m]')\n",
    "ax.set_xlabel('car velocity ($x$) [m/s]')"
   ]
  },
  {
   "cell_type": "markdown",
   "metadata": {
    "slideshow": {
     "slide_type": "slide"
    }
   },
   "source": [
    "### Module `machine learning`: Fit a polynomial model to the data!\n",
    "\n",
    "<img src=\"../figures/f3dasm_carstopping_machinelearning.svg\" title=\"f3dasm Car stopping distance machine learning\" width=\"22%\" align=\"right\">"
   ]
  },
  {
   "cell_type": "code",
   "execution_count": 216,
   "metadata": {
    "slideshow": {
     "slide_type": "fragment"
    }
   },
   "outputs": [],
   "source": [
    "from sklearn.preprocessing import PolynomialFeatures # For Polynomial fit\n",
    "from sklearn.linear_model import LinearRegression # For Least Squares\n",
    "from sklearn.pipeline import make_pipeline # to link different objects"
   ]
  },
  {
   "cell_type": "markdown",
   "metadata": {
    "slideshow": {
     "slide_type": "fragment"
    }
   },
   "source": [
    "Creating the polynomial model:"
   ]
  },
  {
   "cell_type": "code",
   "execution_count": 247,
   "metadata": {
    "slideshow": {
     "slide_type": "fragment"
    }
   },
   "outputs": [],
   "source": [
    "degree = 1\n",
    "poly_model = make_pipeline(PolynomialFeatures(degree), LinearRegression())"
   ]
  },
  {
   "cell_type": "markdown",
   "metadata": {
    "slideshow": {
     "slide_type": "slide"
    }
   },
   "source": [
    "Fitting the model with the data:"
   ]
  },
  {
   "cell_type": "code",
   "execution_count": 250,
   "metadata": {
    "slideshow": {
     "slide_type": "fragment"
    }
   },
   "outputs": [
    {
     "data": {
      "text/html": [
       "<style>#sk-container-id-11 {color: black;background-color: white;}#sk-container-id-11 pre{padding: 0;}#sk-container-id-11 div.sk-toggleable {background-color: white;}#sk-container-id-11 label.sk-toggleable__label {cursor: pointer;display: block;width: 100%;margin-bottom: 0;padding: 0.3em;box-sizing: border-box;text-align: center;}#sk-container-id-11 label.sk-toggleable__label-arrow:before {content: \"▸\";float: left;margin-right: 0.25em;color: #696969;}#sk-container-id-11 label.sk-toggleable__label-arrow:hover:before {color: black;}#sk-container-id-11 div.sk-estimator:hover label.sk-toggleable__label-arrow:before {color: black;}#sk-container-id-11 div.sk-toggleable__content {max-height: 0;max-width: 0;overflow: hidden;text-align: left;background-color: #f0f8ff;}#sk-container-id-11 div.sk-toggleable__content pre {margin: 0.2em;color: black;border-radius: 0.25em;background-color: #f0f8ff;}#sk-container-id-11 input.sk-toggleable__control:checked~div.sk-toggleable__content {max-height: 200px;max-width: 100%;overflow: auto;}#sk-container-id-11 input.sk-toggleable__control:checked~label.sk-toggleable__label-arrow:before {content: \"▾\";}#sk-container-id-11 div.sk-estimator input.sk-toggleable__control:checked~label.sk-toggleable__label {background-color: #d4ebff;}#sk-container-id-11 div.sk-label input.sk-toggleable__control:checked~label.sk-toggleable__label {background-color: #d4ebff;}#sk-container-id-11 input.sk-hidden--visually {border: 0;clip: rect(1px 1px 1px 1px);clip: rect(1px, 1px, 1px, 1px);height: 1px;margin: -1px;overflow: hidden;padding: 0;position: absolute;width: 1px;}#sk-container-id-11 div.sk-estimator {font-family: monospace;background-color: #f0f8ff;border: 1px dotted black;border-radius: 0.25em;box-sizing: border-box;margin-bottom: 0.5em;}#sk-container-id-11 div.sk-estimator:hover {background-color: #d4ebff;}#sk-container-id-11 div.sk-parallel-item::after {content: \"\";width: 100%;border-bottom: 1px solid gray;flex-grow: 1;}#sk-container-id-11 div.sk-label:hover label.sk-toggleable__label {background-color: #d4ebff;}#sk-container-id-11 div.sk-serial::before {content: \"\";position: absolute;border-left: 1px solid gray;box-sizing: border-box;top: 0;bottom: 0;left: 50%;z-index: 0;}#sk-container-id-11 div.sk-serial {display: flex;flex-direction: column;align-items: center;background-color: white;padding-right: 0.2em;padding-left: 0.2em;position: relative;}#sk-container-id-11 div.sk-item {position: relative;z-index: 1;}#sk-container-id-11 div.sk-parallel {display: flex;align-items: stretch;justify-content: center;background-color: white;position: relative;}#sk-container-id-11 div.sk-item::before, #sk-container-id-11 div.sk-parallel-item::before {content: \"\";position: absolute;border-left: 1px solid gray;box-sizing: border-box;top: 0;bottom: 0;left: 50%;z-index: -1;}#sk-container-id-11 div.sk-parallel-item {display: flex;flex-direction: column;z-index: 1;position: relative;background-color: white;}#sk-container-id-11 div.sk-parallel-item:first-child::after {align-self: flex-end;width: 50%;}#sk-container-id-11 div.sk-parallel-item:last-child::after {align-self: flex-start;width: 50%;}#sk-container-id-11 div.sk-parallel-item:only-child::after {width: 0;}#sk-container-id-11 div.sk-dashed-wrapped {border: 1px dashed gray;margin: 0 0.4em 0.5em 0.4em;box-sizing: border-box;padding-bottom: 0.4em;background-color: white;}#sk-container-id-11 div.sk-label label {font-family: monospace;font-weight: bold;display: inline-block;line-height: 1.2em;}#sk-container-id-11 div.sk-label-container {text-align: center;}#sk-container-id-11 div.sk-container {/* jupyter's `normalize.less` sets `[hidden] { display: none; }` but bootstrap.min.css set `[hidden] { display: none !important; }` so we also need the `!important` here to be able to override the default hidden behavior on the sphinx rendered scikit-learn.org. See: https://github.com/scikit-learn/scikit-learn/issues/21755 */display: inline-block !important;position: relative;}#sk-container-id-11 div.sk-text-repr-fallback {display: none;}</style><div id=\"sk-container-id-11\" class=\"sk-top-container\"><div class=\"sk-text-repr-fallback\"><pre>Pipeline(steps=[(&#x27;polynomialfeatures&#x27;, PolynomialFeatures(degree=1)),\n",
       "                (&#x27;linearregression&#x27;, LinearRegression())])</pre><b>In a Jupyter environment, please rerun this cell to show the HTML representation or trust the notebook. <br />On GitHub, the HTML representation is unable to render, please try loading this page with nbviewer.org.</b></div><div class=\"sk-container\" hidden><div class=\"sk-item sk-dashed-wrapped\"><div class=\"sk-label-container\"><div class=\"sk-label sk-toggleable\"><input class=\"sk-toggleable__control sk-hidden--visually\" id=\"sk-estimator-id-31\" type=\"checkbox\" ><label for=\"sk-estimator-id-31\" class=\"sk-toggleable__label sk-toggleable__label-arrow\">Pipeline</label><div class=\"sk-toggleable__content\"><pre>Pipeline(steps=[(&#x27;polynomialfeatures&#x27;, PolynomialFeatures(degree=1)),\n",
       "                (&#x27;linearregression&#x27;, LinearRegression())])</pre></div></div></div><div class=\"sk-serial\"><div class=\"sk-item\"><div class=\"sk-estimator sk-toggleable\"><input class=\"sk-toggleable__control sk-hidden--visually\" id=\"sk-estimator-id-32\" type=\"checkbox\" ><label for=\"sk-estimator-id-32\" class=\"sk-toggleable__label sk-toggleable__label-arrow\">PolynomialFeatures</label><div class=\"sk-toggleable__content\"><pre>PolynomialFeatures(degree=1)</pre></div></div></div><div class=\"sk-item\"><div class=\"sk-estimator sk-toggleable\"><input class=\"sk-toggleable__control sk-hidden--visually\" id=\"sk-estimator-id-33\" type=\"checkbox\" ><label for=\"sk-estimator-id-33\" class=\"sk-toggleable__label sk-toggleable__label-arrow\">LinearRegression</label><div class=\"sk-toggleable__content\"><pre>LinearRegression()</pre></div></div></div></div></div></div></div>"
      ],
      "text/plain": [
       "Pipeline(steps=[('polynomialfeatures', PolynomialFeatures(degree=1)),\n",
       "                ('linearregression', LinearRegression())])"
      ]
     },
     "execution_count": 250,
     "metadata": {},
     "output_type": "execute_result"
    }
   ],
   "source": [
    "poly_model.fit(Data_x.reshape(-1, 1), Data_y)"
   ]
  },
  {
   "cell_type": "markdown",
   "metadata": {
    "slideshow": {
     "slide_type": "fragment"
    }
   },
   "source": [
    "Now, instead of using the governing equation (`compute_distance`), we can use the model to predict the car stopping distance:"
   ]
  },
  {
   "cell_type": "code",
   "execution_count": 252,
   "metadata": {
    "slideshow": {
     "slide_type": "fragment"
    }
   },
   "outputs": [],
   "source": [
    "def compute_distance_with_model(x):\n",
    "    y_pred = poly_model.predict(np.array(x).reshape(-1, 1)) # We need to reshape the array\n",
    "    return float(y_pred)"
   ]
  },
  {
   "cell_type": "code",
   "execution_count": 253,
   "metadata": {
    "slideshow": {
     "slide_type": "slide"
    }
   },
   "outputs": [],
   "source": [
    "experimentdata.mark_all('open') # Mark all experiments 'open' to evaluate them again\n",
    "experimentdata.evaluate(compute_distance_with_model, output_names=['y_pred'])"
   ]
  },
  {
   "cell_type": "code",
   "execution_count": 254,
   "metadata": {
    "slideshow": {
     "slide_type": "fragment"
    }
   },
   "outputs": [
    {
     "data": {
      "text/html": [
       "<div>\n",
       "<style scoped>\n",
       "    .dataframe tbody tr th:only-of-type {\n",
       "        vertical-align: middle;\n",
       "    }\n",
       "\n",
       "    .dataframe tbody tr th {\n",
       "        vertical-align: top;\n",
       "    }\n",
       "\n",
       "    .dataframe thead tr th {\n",
       "        text-align: left;\n",
       "    }\n",
       "</style>\n",
       "<table border=\"1\" class=\"dataframe\">\n",
       "  <thead>\n",
       "    <tr>\n",
       "      <th></th>\n",
       "      <th>jobs</th>\n",
       "      <th>input</th>\n",
       "      <th colspan=\"2\" halign=\"left\">output</th>\n",
       "    </tr>\n",
       "    <tr>\n",
       "      <th></th>\n",
       "      <th></th>\n",
       "      <th>x</th>\n",
       "      <th>y</th>\n",
       "      <th>y_pred</th>\n",
       "    </tr>\n",
       "  </thead>\n",
       "  <tbody>\n",
       "    <tr>\n",
       "      <th>0</th>\n",
       "      <td>finished</td>\n",
       "      <td>3.0</td>\n",
       "      <td>6.586522</td>\n",
       "      <td>-92.176999</td>\n",
       "    </tr>\n",
       "    <tr>\n",
       "      <th>1</th>\n",
       "      <td>finished</td>\n",
       "      <td>5.5</td>\n",
       "      <td>7.990251</td>\n",
       "      <td>-67.693674</td>\n",
       "    </tr>\n",
       "    <tr>\n",
       "      <th>2</th>\n",
       "      <td>finished</td>\n",
       "      <td>8.0</td>\n",
       "      <td>18.044006</td>\n",
       "      <td>-43.21035</td>\n",
       "    </tr>\n",
       "    <tr>\n",
       "      <th>3</th>\n",
       "      <td>finished</td>\n",
       "      <td>10.5</td>\n",
       "      <td>32.724861</td>\n",
       "      <td>-18.727025</td>\n",
       "    </tr>\n",
       "    <tr>\n",
       "      <th>4</th>\n",
       "      <td>finished</td>\n",
       "      <td>13.0</td>\n",
       "      <td>27.839884</td>\n",
       "      <td>5.7563</td>\n",
       "    </tr>\n",
       "    <tr>\n",
       "      <th>...</th>\n",
       "      <td>...</td>\n",
       "      <td>...</td>\n",
       "      <td>...</td>\n",
       "      <td>...</td>\n",
       "    </tr>\n",
       "    <tr>\n",
       "      <th>28</th>\n",
       "      <td>finished</td>\n",
       "      <td>73.0</td>\n",
       "      <td>614.589224</td>\n",
       "      <td>593.356097</td>\n",
       "    </tr>\n",
       "    <tr>\n",
       "      <th>29</th>\n",
       "      <td>finished</td>\n",
       "      <td>75.5</td>\n",
       "      <td>668.61246</td>\n",
       "      <td>617.839421</td>\n",
       "    </tr>\n",
       "    <tr>\n",
       "      <th>30</th>\n",
       "      <td>finished</td>\n",
       "      <td>78.0</td>\n",
       "      <td>750.179875</td>\n",
       "      <td>642.322746</td>\n",
       "    </tr>\n",
       "    <tr>\n",
       "      <th>31</th>\n",
       "      <td>finished</td>\n",
       "      <td>80.5</td>\n",
       "      <td>703.880365</td>\n",
       "      <td>666.806071</td>\n",
       "    </tr>\n",
       "    <tr>\n",
       "      <th>32</th>\n",
       "      <td>finished</td>\n",
       "      <td>83.0</td>\n",
       "      <td>748.412555</td>\n",
       "      <td>691.289396</td>\n",
       "    </tr>\n",
       "  </tbody>\n",
       "</table>\n",
       "<p>33 rows × 4 columns</p>\n",
       "</div>"
      ],
      "text/plain": [
       "        jobs input      output            \n",
       "                 x           y      y_pred\n",
       "0   finished   3.0    6.586522  -92.176999\n",
       "1   finished   5.5    7.990251  -67.693674\n",
       "2   finished   8.0   18.044006   -43.21035\n",
       "3   finished  10.5   32.724861  -18.727025\n",
       "4   finished  13.0   27.839884      5.7563\n",
       "..       ...   ...         ...         ...\n",
       "28  finished  73.0  614.589224  593.356097\n",
       "29  finished  75.5   668.61246  617.839421\n",
       "30  finished  78.0  750.179875  642.322746\n",
       "31  finished  80.5  703.880365  666.806071\n",
       "32  finished  83.0  748.412555  691.289396\n",
       "\n",
       "[33 rows x 4 columns]"
      ]
     },
     "execution_count": 254,
     "metadata": {},
     "output_type": "execute_result"
    }
   ],
   "source": [
    "experimentdata"
   ]
  },
  {
   "cell_type": "code",
   "execution_count": 256,
   "metadata": {
    "slideshow": {
     "slide_type": "slide"
    }
   },
   "outputs": [
    {
     "data": {
      "image/png": "[encoded data removed]",
      "text/plain": [
       "<Figure size 800x400 with 1 Axes>"
      ]
     },
     "metadata": {
      "image/png": {
       "height": 373,
       "width": 697
      }
     },
     "output_type": "display_data"
    }
   ],
   "source": [
    "# Converting the ExperimentData object to numpy arrays for plotting\n",
    "_, out_data = experimentdata.to_numpy()\n",
    "\n",
    "# Plotting the data and the model prediction\n",
    "fig, ax = plt.subplots()\n",
    "\n",
    "ax.scatter(Data_x, Data_y, marker='x', color='red', label='data')\n",
    "ax.plot(Data_x, out_data[:, 1], label=f'polynomial model with degree {degree}')\n",
    "ax.legend()\n",
    "ax.set_ylabel('car stopping distance ($y$) [m]')\n",
    "ax.set_xlabel('car velocity ($x$) [m/s]')\n",
    "plt.show()"
   ]
  },
  {
   "cell_type": "markdown",
   "metadata": {
    "slideshow": {
     "slide_type": "slide"
    }
   },
   "source": [
    "### Say hello to the pandas!\n",
    "\n",
    "<img src=\"../figures/hi_pandas.jpeg\" title=\"Pandas!\" width=\"60%\" align=\"right\">\n",
    "\n",
    "[pandas](https://pandas.pydata.org/docs/index.html) is an open source library that is very common to handle data in ML\n",
    "\n",
    "Let's create a pandas dataframe $\\mathcal{D}$ that includes both the input $\\mathcal{D}_x$ and output $\\mathcal{D}_y$ that we created.\n",
    "\n",
    "<img src=\"../figures/pandas_table_dataframe.svg\" title=\"Pandas DataFrame\" width=\"30%\" align=\"left\">\n",
    "\n"
   ]
  },
  {
   "cell_type": "code",
   "execution_count": 231,
   "metadata": {
    "scrolled": true,
    "slideshow": {
     "slide_type": "slide"
    }
   },
   "outputs": [
    {
     "name": "stdout",
     "output_type": "stream",
     "text": [
      "       x           y\n",
      "0    3.0    8.132784\n",
      "1    5.5    8.490631\n",
      "2    8.0   25.519176\n",
      "3   10.5   25.211323\n",
      "4   13.0   42.215584\n",
      "..   ...         ...\n",
      "28  73.0  653.164124\n",
      "29  75.5  641.235535\n",
      "30  78.0  614.798279\n",
      "31  80.5  738.052368\n",
      "32  83.0  854.257080\n",
      "\n",
      "[33 rows x 2 columns]\n"
     ]
    }
   ],
   "source": [
    "import pandas as pd # Pandas dataframe (very common in ML)\n",
    "#\n",
    "# Create a dictionary with the names of the input and output variables\n",
    "# and their respective values:\n",
    "input_dictionary = {\n",
    "            'x' : Data_x.flatten(), # vector with input values of x\n",
    "            'y' : Data_y.flatten(), # vector with output values of y\n",
    "            }\n",
    "#\n",
    "# Then, we create a Pandas data frame:\n",
    "car_df = pd.DataFrame(input_dictionary)\n",
    "\n",
    "print(car_df)"
   ]
  },
  {
   "cell_type": "markdown",
   "metadata": {
    "slideshow": {
     "slide_type": "slide"
    }
   },
   "source": [
    "### Say hello to the pandas!\n",
    "\n",
    "<img src=\"../figures/hi_pandas.jpeg\" title=\"Car stopping distance\" width=\"20%\" align=\"right\">\n",
    "\n",
    "The [pandas](https://pandas.pydata.org/docs/index.html) DataFrame we created is quite simple!\n",
    "\n",
    "Today we won't go through many of the powerful data handling features of pandas.\n",
    "\n",
    "We will try to introduce things as we need them.\n",
    "\n",
    "* A basic need: save your data!\n"
   ]
  },
  {
   "cell_type": "code",
   "execution_count": 232,
   "metadata": {
    "slideshow": {
     "slide_type": "fragment"
    }
   },
   "outputs": [],
   "source": [
    "# Saving our \"car_df\" pandas dataframe to the \"your_data\" folder in our computer is quite simple!\n",
    "car_df.to_pickle(\"your_data/car_dataframe.pkl\") # done!"
   ]
  },
  {
   "cell_type": "markdown",
   "metadata": {
    "slideshow": {
     "slide_type": "fragment"
    }
   },
   "source": [
    "Go check in the \"your_data\" folder if you have created the \"car_dataframe.pkl\" file!"
   ]
  },
  {
   "cell_type": "markdown",
   "metadata": {
    "slideshow": {
     "slide_type": "slide"
    }
   },
   "source": [
    "### Load data from someone else\n",
    "\n",
    "As mentioned, many ML problems start in a different way:\n",
    "* We are provided with a dataset in some format.\n",
    "    * For example, someone else conducted the car stopping distance experiment and saved the measurements in a <a title=\"comma-separated values\">csv</a> file called \"**data_for_car_prob.csv**\".\n",
    "    * Then we receive the file and have to use it in our analysis!"
   ]
  },
  {
   "cell_type": "markdown",
   "metadata": {
    "slideshow": {
     "slide_type": "fragment"
    }
   },
   "source": [
    "We have that file in folder \"../data\". The \"../\" just means that folder \"data\" is one level below the current folder (currently we are on \"Lecture2\" folder).\n",
    "\n",
    "* Find the \"data\" folder and open the \"data_for_car_prob.csv\" file inside that folder using a text editor!"
   ]
  },
  {
   "cell_type": "markdown",
   "metadata": {
    "slideshow": {
     "slide_type": "fragment"
    }
   },
   "source": [
    "* Let's learn how to import the data of this <a title=\"comma-separated values\">csv</a> file into a pandas dataframe."
   ]
  },
  {
   "cell_type": "code",
   "execution_count": 233,
   "metadata": {
    "cell_style": "center",
    "scrolled": true,
    "slideshow": {
     "slide_type": "slide"
    }
   },
   "outputs": [
    {
     "name": "stdout",
     "output_type": "stream",
     "text": [
      "    Unnamed: 0          x           y\n",
      "0            0   9.516939   29.749036\n",
      "1            1  72.398757  642.132203\n",
      "2            2  17.950326   36.648484\n",
      "3            3   9.440853   18.604106\n",
      "4            4  78.791008  769.656168\n",
      "..         ...        ...         ...\n",
      "45          45   3.087674    5.947997\n",
      "46          46  21.254611  101.295276\n",
      "47          47  46.939484  345.778352\n",
      "48          48  38.875692  219.095582\n",
      "49          49  76.705452  742.720134\n",
      "\n",
      "[50 rows x 3 columns]\n"
     ]
    }
   ],
   "source": [
    "car_csv_data = pd.read_csv(\"../data/data_for_car_prob.csv\") # read csv data provided by someone else\n",
    "print(car_csv_data)"
   ]
  },
  {
   "cell_type": "markdown",
   "metadata": {
    "slideshow": {
     "slide_type": "fragment"
    }
   },
   "source": [
    "We see that one of the columns is redundant!\n",
    "\n",
    "Let's delete that one"
   ]
  },
  {
   "cell_type": "code",
   "execution_count": 234,
   "metadata": {
    "scrolled": true,
    "slideshow": {
     "slide_type": "slide"
    }
   },
   "outputs": [
    {
     "name": "stdout",
     "output_type": "stream",
     "text": [
      "            x           y\n",
      "0    9.516939   29.749036\n",
      "1   72.398757  642.132203\n",
      "2   17.950326   36.648484\n",
      "3    9.440853   18.604106\n",
      "4   78.791008  769.656168\n",
      "..        ...         ...\n",
      "45   3.087674    5.947997\n",
      "46  21.254611  101.295276\n",
      "47  46.939484  345.778352\n",
      "48  38.875692  219.095582\n",
      "49  76.705452  742.720134\n",
      "\n",
      "[50 rows x 2 columns]\n"
     ]
    }
   ],
   "source": [
    "car_prob_df = car_csv_data[['x','y']] # pandas has a fast way to select the\n",
    "                                      # columns of interest (in this case 'x' and 'y')\n",
    "print(car_prob_df)"
   ]
  },
  {
   "cell_type": "markdown",
   "metadata": {
    "slideshow": {
     "slide_type": "fragment"
    }
   },
   "source": [
    "This looks better."
   ]
  },
  {
   "cell_type": "markdown",
   "metadata": {
    "slideshow": {
     "slide_type": "notes"
    }
   },
   "source": [
    "In case you are curious, the \"data_for_car_prob.csv\" was created very similarly to what we did by ourselves.\n",
    "\n",
    "It used more points (50) and it considered random measurements of $x$ because this mimicks what usually happens in an experiment (each driver will decide his/her own velocity).\n",
    "\n",
    "Here's the code I used to generate it:\n",
    "\n",
    "```python\n",
    "N = 50\n",
    "x = np.random.uniform(3,83,N)\n",
    "y = norm.rvs(1.5, 0.5, size=N)*x + 0.1*x**2\n",
    "data_dic = {\n",
    "            'x' : x, # vector with input values of x\n",
    "            'y' : y, # vector with output values of y\n",
    "            }\n",
    "data_for_car_prob = pd.DataFrame(data_dic)\n",
    "data_for_car_prob.to_csv(\"your_data/data_for_car_prob.csv\") # done!\n",
    "```"
   ]
  },
  {
   "cell_type": "code",
   "execution_count": 257,
   "metadata": {
    "scrolled": false,
    "slideshow": {
     "slide_type": "slide"
    }
   },
   "outputs": [
    {
     "name": "stdout",
     "output_type": "stream",
     "text": [
      "Data_x is:\n",
      " [ 9.51693942 72.39875748 17.95032583  9.44085299 78.79100778 16.96112056\n",
      " 65.4103675  58.67109927 21.55060313 36.86691294 15.72874781 58.51149357\n",
      " 57.41918959 38.45915667  8.84174221 60.73305107 49.25666345 35.89512052\n",
      " 79.19565172 69.15666925 77.63489641  9.25401128 15.45146824 14.43824684\n",
      " 13.41099874 53.74705712 10.28371886 82.00547705 81.80556249 51.8377421\n",
      " 20.28378484 28.35964692 74.99371524 21.82756352 70.51911096 74.20853195\n",
      " 14.51895792 13.35764354 75.34625316 44.92395642 26.80115926 29.90626522\n",
      " 40.22635624 66.28266205 47.34277718  3.08767411 21.25461134 46.93948443\n",
      " 38.87569199 76.70545196]\n",
      "\n",
      "Data_y is:\n",
      " [ 29.74903647 642.13220315  36.64848446  18.60410602 769.65616843\n",
      "  57.97101034 559.09331318 463.68661322  92.24267632 197.68857288\n",
      "  56.88523327 388.75379474 399.80748803 213.18151905  20.38738432\n",
      " 516.34172363 307.93195589 181.12304936 750.17828361 553.15354059\n",
      " 746.03187971  20.81069833  39.87252654  42.11877078  44.77512244\n",
      " 375.01393668  19.43886782 742.33684483 706.62028237 345.21287569\n",
      "  65.30316533 155.18513747 676.62898211  81.15093549 700.52003305\n",
      " 622.45356019  40.92757044  39.77092163 707.97375405 251.30080489\n",
      " 124.09865438 118.10089977 215.08209978 537.84504756 308.55883254\n",
      "   5.94799685 101.29527607 345.77835213 219.09558165 742.72013356]\n"
     ]
    }
   ],
   "source": [
    "Data_x = car_prob_df['x'].values # select the input VALUES from your dataframe into Data_x\n",
    "Data_y = car_prob_df['y'].values # select the output VALUES from your dataframe inta Data_y\n",
    "print(\"Data_x is:\\n\",Data_x)\n",
    "print(\"\\nData_y is:\\n\",Data_y)"
   ]
  },
  {
   "cell_type": "code",
   "execution_count": 258,
   "metadata": {
    "slideshow": {
     "slide_type": "slide"
    }
   },
   "outputs": [
    {
     "data": {
      "image/png": "[encoded data removed]",
      "text/plain": [
       "<Figure size 800x400 with 1 Axes>"
      ]
     },
     "metadata": {
      "image/png": {
       "height": 413,
       "width": 708
      }
     },
     "output_type": "display_data"
    }
   ],
   "source": [
    "fig_car_data, ax_car_data = plt.subplots() # create a plot\n",
    "ax_car_data.plot(Data_x, Data_y, 'b.')\n",
    "ax_car_data.set_xlabel(\"x (m/s)\", fontsize=20) # create x-axis label with font size 20\n",
    "ax_car_data.set_ylabel(\"y (m)\", fontsize=20) # create y-axis label with font size 20\n",
    "ax_car_data.set_title(\"Car stopping distance problem\", fontsize=20); # create title with font size 20"
   ]
  },
  {
   "cell_type": "markdown",
   "metadata": {
    "slideshow": {
     "slide_type": "slide"
    }
   },
   "source": [
    "### Creating the `ExperimentData` object from `pandas`\n",
    "\n",
    "Instead of numpy arrays, we can create the `ExperimentData` object directly from a `pandas` Dataframe:"
   ]
  },
  {
   "cell_type": "code",
   "execution_count": 267,
   "metadata": {
    "slideshow": {
     "slide_type": "fragment"
    }
   },
   "outputs": [
    {
     "data": {
      "text/html": [
       "<div>\n",
       "<style scoped>\n",
       "    .dataframe tbody tr th:only-of-type {\n",
       "        vertical-align: middle;\n",
       "    }\n",
       "\n",
       "    .dataframe tbody tr th {\n",
       "        vertical-align: top;\n",
       "    }\n",
       "\n",
       "    .dataframe thead tr th {\n",
       "        text-align: left;\n",
       "    }\n",
       "</style>\n",
       "<table border=\"1\" class=\"dataframe\">\n",
       "  <thead>\n",
       "    <tr>\n",
       "      <th></th>\n",
       "      <th>jobs</th>\n",
       "      <th>input</th>\n",
       "      <th>output</th>\n",
       "    </tr>\n",
       "    <tr>\n",
       "      <th></th>\n",
       "      <th></th>\n",
       "      <th>x</th>\n",
       "      <th>y</th>\n",
       "    </tr>\n",
       "  </thead>\n",
       "  <tbody>\n",
       "    <tr>\n",
       "      <th>0</th>\n",
       "      <td>finished</td>\n",
       "      <td>9.516939</td>\n",
       "      <td>29.749036</td>\n",
       "    </tr>\n",
       "    <tr>\n",
       "      <th>1</th>\n",
       "      <td>finished</td>\n",
       "      <td>72.398757</td>\n",
       "      <td>642.132203</td>\n",
       "    </tr>\n",
       "    <tr>\n",
       "      <th>2</th>\n",
       "      <td>finished</td>\n",
       "      <td>17.950326</td>\n",
       "      <td>36.648484</td>\n",
       "    </tr>\n",
       "    <tr>\n",
       "      <th>3</th>\n",
       "      <td>finished</td>\n",
       "      <td>9.440853</td>\n",
       "      <td>18.604106</td>\n",
       "    </tr>\n",
       "    <tr>\n",
       "      <th>4</th>\n",
       "      <td>finished</td>\n",
       "      <td>78.791008</td>\n",
       "      <td>769.656168</td>\n",
       "    </tr>\n",
       "    <tr>\n",
       "      <th>...</th>\n",
       "      <td>...</td>\n",
       "      <td>...</td>\n",
       "      <td>...</td>\n",
       "    </tr>\n",
       "    <tr>\n",
       "      <th>45</th>\n",
       "      <td>finished</td>\n",
       "      <td>3.087674</td>\n",
       "      <td>5.947997</td>\n",
       "    </tr>\n",
       "    <tr>\n",
       "      <th>46</th>\n",
       "      <td>finished</td>\n",
       "      <td>21.254611</td>\n",
       "      <td>101.295276</td>\n",
       "    </tr>\n",
       "    <tr>\n",
       "      <th>47</th>\n",
       "      <td>finished</td>\n",
       "      <td>46.939484</td>\n",
       "      <td>345.778352</td>\n",
       "    </tr>\n",
       "    <tr>\n",
       "      <th>48</th>\n",
       "      <td>finished</td>\n",
       "      <td>38.875692</td>\n",
       "      <td>219.095582</td>\n",
       "    </tr>\n",
       "    <tr>\n",
       "      <th>49</th>\n",
       "      <td>finished</td>\n",
       "      <td>76.705452</td>\n",
       "      <td>742.720134</td>\n",
       "    </tr>\n",
       "  </tbody>\n",
       "</table>\n",
       "<p>50 rows × 3 columns</p>\n",
       "</div>"
      ],
      "text/plain": [
       "        jobs      input      output\n",
       "                      x           y\n",
       "0   finished   9.516939   29.749036\n",
       "1   finished  72.398757  642.132203\n",
       "2   finished  17.950326   36.648484\n",
       "3   finished   9.440853   18.604106\n",
       "4   finished  78.791008  769.656168\n",
       "..       ...        ...         ...\n",
       "45  finished   3.087674    5.947997\n",
       "46  finished  21.254611  101.295276\n",
       "47  finished  46.939484  345.778352\n",
       "48  finished  38.875692  219.095582\n",
       "49  finished  76.705452  742.720134\n",
       "\n",
       "[50 rows x 3 columns]"
      ]
     },
     "execution_count": 267,
     "metadata": {},
     "output_type": "execute_result"
    }
   ],
   "source": [
    "ExperimentData(\n",
    "    input_data=car_prob_df['x'].to_frame(), \n",
    "    output_data=car_prob_df['y'].to_frame())"
   ]
  },
  {
   "cell_type": "markdown",
   "metadata": {},
   "source": [
    "Notice that we don't need to provide a `domain` object; `f3dasm` will infer the variable names and bounds directly from the DataFrame!"
   ]
  },
  {
   "cell_type": "markdown",
   "metadata": {
    "slideshow": {
     "slide_type": "slide"
    }
   },
   "source": [
    "## Saving the `ExperimentData`\n",
    "\n",
    "The `ExperimentData` object can be saved to your computer is easy with the `store` method:"
   ]
  },
  {
   "cell_type": "code",
   "execution_count": 268,
   "metadata": {
    "slideshow": {
     "slide_type": "-"
    }
   },
   "outputs": [],
   "source": [
    "experimentdata.store('./your_data')"
   ]
  },
  {
   "cell_type": "markdown",
   "metadata": {
    "slideshow": {
     "slide_type": "-"
    }
   },
   "source": [
    "This will create an `experiment_data` folder in the `Lecture1/your_data` directory:\n",
    "\n",
    "```\n",
    "your_data/\n",
    "└── experiment_data/\n",
    "    ├── domain.pkl\n",
    "    ├── input.csv\n",
    "    ├── output.csv\n",
    "    └── jobs.pkl\n",
    "```"
   ]
  },
  {
   "cell_type": "markdown",
   "metadata": {
    "slideshow": {
     "slide_type": "slide"
    }
   },
   "source": [
    "Importing from a folder is done like this:"
   ]
  },
  {
   "cell_type": "code",
   "execution_count": null,
   "metadata": {
    "slideshow": {
     "slide_type": "-"
    }
   },
   "outputs": [],
   "source": [
    "ExperimentData.from_file('./your_data')"
   ]
  },
  {
   "cell_type": "markdown",
   "metadata": {
    "slideshow": {
     "slide_type": "slide"
    }
   },
   "source": [
    "### Homework 2 (Exercise 2)\n",
    "<a id='exercise2_cell'></a>\n",
    "<img src=\"../figures/reaction-braking-stopping.svg\" title=\"Car stopping distance\" width=\"25%\" align=\"right\">\n",
    "\n",
    "Our famous car stopping distance problem:\n",
    "\n",
    "${\\color{red}y} = {\\color{blue}z} x + 0.1 {\\color{green}x}^2$\n",
    "\n",
    "where $z \\sim \\mathcal{N}(\\mu_z=1.5,\\sigma_z^2=0.5^2)$\n",
    "\n",
    "Derive the expected value and variance for the governing model for the car stopping distance problem:\n",
    "\n",
    "$\\mathbb{E}[y]=?$\n",
    "\n",
    "$\\mathbb{V}[y]=?$\n",
    "\n"
   ]
  },
  {
   "cell_type": "code",
   "execution_count": null,
   "metadata": {
    "slideshow": {
     "slide_type": "slide"
    }
   },
   "outputs": [],
   "source": [
    "# Let's plot the model (we pretend for a moment that we know it!)\n",
    "real_x = np.linspace(3, 83, 1000)\n",
    "real_mu_y = 1.5*real_x + 0.1*(real_x**2) # Recall: E[z*x+0.1*x^2] = E[z]*E[x]+0.1*E[x^2]\n",
    "real_sigma_y = np.sqrt( 0.5**2*real_x**2 ) # Recall: V[z*x+x^2] = V[z*x]+V[x^2]=...=sigma_z^2*mu_x^2\n",
    "\n",
    "ax_car_data.plot(real_x, real_mu_y, 'k:', label=\"Ground truth\")\n",
    "ax_car_data.fill_between(real_x, real_mu_y - 1.9600 * real_sigma_y,\n",
    "                real_mu_y + 1.9600 * real_sigma_y,\n",
    "                color='k', alpha=0.2,\n",
    "                label='95% confidence interval')\n",
    "                # See book Sections 4.7.4 and 4.7.5 for a discussion on CI vs credible interval\n",
    "ax_car_data.legend()\n",
    "fig_car_data"
   ]
  },
  {
   "cell_type": "markdown",
   "metadata": {
    "slideshow": {
     "slide_type": "notes"
    }
   },
   "source": [
    "### Confidence interval vs credible interval\n",
    "\n",
    "In frequentist statistics, we use the variability induced by the sampling distribution as a way to\n",
    "estimate uncertainty of a parameter estimate (e.g. mean and standard deviation). More precisely, we define a 100(1 − α)% confidence interval (CI) for a parameter derived from a dataset $\\mathcal{D}$.\n",
    "\n",
    "It is common to set $\\alpha = 0.05$, which yields a 95% CI. **This means that, if we repeatedly sample\n",
    "data, and compute $CI(\\mathcal{D})$ for each such dataset, then about 95% of such intervals will contain the true\n",
    "parameter (e.g. the true mean or the true standard deviation).**\n",
    "\n",
    "Note, however, that this **DOES NOT** mean that for any particular dataset that the parameter belongs to the CI\n",
    "with 95% probability! This is what a Bayesian credible interval computes (see book Sections 4.6.6, 4.7.4 and 4.7.5), not what a frequentist confidence interval computes."
   ]
  },
  {
   "cell_type": "markdown",
   "metadata": {
    "slideshow": {
     "slide_type": "fragment"
    }
   },
   "source": [
    "Question: If we didn't know the governing model, what should ML do using the data (blue dots)?"
   ]
  },
  {
   "cell_type": "markdown",
   "metadata": {
    "slideshow": {
     "slide_type": "slide"
    }
   },
   "source": [
    "## ML (supervised learning regression) goal\n",
    "\n",
    "1. ML should find the mean response $\\mu_y$ from the data $\\mathcal{D}=\\{\\mathcal{D}_x,\\mathcal{D}_y\\}$ (data: blue dots)."
   ]
  },
  {
   "cell_type": "markdown",
   "metadata": {
    "slideshow": {
     "slide_type": "fragment"
    }
   },
   "source": [
    "2. Of course we will always make a prediction error (we just see the data, and we don't know the model or complete reality)."
   ]
  },
  {
   "cell_type": "markdown",
   "metadata": {
    "slideshow": {
     "slide_type": "fragment"
    }
   },
   "source": [
    "3. Ideally, ML should also tell us the confidence we have on the predictions we are making.\n",
    "    - This is what probabilistic ML does!"
   ]
  },
  {
   "cell_type": "markdown",
   "metadata": {
    "slideshow": {
     "slide_type": "fragment"
    }
   },
   "source": [
    "4. **However**, even if we don't estimate our confidence (like most ML), having a probabilistic perspective over ML is advantageous because our unknowns can be modeled as <a title=\"random variables\">rv's</a>.\n",
    "    - This helps us understand where the models come from and that the world is probabilistic."
   ]
  },
  {
   "cell_type": "markdown",
   "metadata": {
    "slideshow": {
     "slide_type": "slide"
    }
   },
   "source": [
    "In the next classes we will understand the simplest ML supervised learning regression models.\n",
    "\n",
    "This will allow us to make simple predictions, so that later we make some serious predictions!\n",
    "\n",
    "Here's a teaser for the next lectures about linear regression:"
   ]
  },
  {
   "cell_type": "code",
   "execution_count": null,
   "metadata": {
    "slideshow": {
     "slide_type": "notes"
    }
   },
   "outputs": [],
   "source": [
    "# This cell will not show up on the presentation.\n",
    "from sklearn.preprocessing import PolynomialFeatures # For Polynomial fit\n",
    "from sklearn.linear_model import LinearRegression # For Least Squares\n",
    "from sklearn.pipeline import make_pipeline # to link different objects\n",
    "\n",
    "degree = 1 # degree of polynomial we want to fit [you can change this to see what happens!]\n",
    "poly_model = make_pipeline(PolynomialFeatures(degree),LinearRegression())\n",
    "poly_model.fit(np.reshape(Data_x, (-1, 1)),Data_y) # fit the polynomial\n",
    "                                                   # Note: we had to reshape Data_x into 2D array\n",
    "y_pred = poly_model.predict(np.reshape(Data_x, (-1, 1))) # In scikit-learn, predicting from a model is a one-liner\n",
    "# Now create linearly spaced points for plotting the polynomial model\n",
    "x_plot = np.linspace(3, 83, 200) # 200 points uniformly spaced\n",
    "y_plot = poly_model.predict(np.reshape(x_plot, (-1, 1))) # prediction of those points\n",
    "\n",
    "fig_poly, ax_poly = plt.subplots() # create a plot\n",
    "ax_poly.plot(Data_x, Data_y, 'b.', markersize=12,\n",
    "             label=\"Data\") # Markers locating data points)\n",
    "ax_poly.plot(Data_x, y_pred, 'm*', markersize=12,\n",
    "             label=\"Predictions\") # Markers locating prediction points)\n",
    "legend_str = \"Linear regression with Polynomial of degree \" + str(degree)\n",
    "ax_poly.plot(x_plot, y_plot, 'm-', linewidth=2,\n",
    "         label=legend_str) # polynomial interpolation\n",
    "                                              # plotted\n",
    "ax_poly.set_xlabel(\"x (m/s)\", fontsize=20) # create x-axis label with font size 20\n",
    "ax_poly.set_ylabel(\"y (m)\", fontsize=20) # create y-axis label with font size 20\n",
    "ax_poly.set_title(\"Car stopping distance problem\", fontsize=20) # create title with font size 20\n",
    "\n",
    "ax_poly.legend(loc='upper left') # replot legend\n",
    "plt.close(fig_poly) # do not plot the figure now. We will show it in a later cell"
   ]
  },
  {
   "cell_type": "code",
   "execution_count": null,
   "metadata": {
    "slideshow": {
     "slide_type": "fragment"
    }
   },
   "outputs": [],
   "source": [
    "# Code to generate this figure is hidden during presentation (it's shown as notes).\n",
    "# (We will learn how to do this later...)\n",
    "fig_poly # show figure"
   ]
  },
  {
   "cell_type": "markdown",
   "metadata": {
    "slideshow": {
     "slide_type": "slide"
    }
   },
   "source": [
    "### See you next class\n",
    "\n",
    "Have fun!"
   ]
  }
 ],
 "metadata": {
  "celltoolbar": "Slideshow",
  "hide_code_all_hidden": false,
  "kernelspec": {
   "display_name": "Python [conda env:l2co]",
   "language": "python",
   "name": "conda-env-l2co-py"
  },
  "language_info": {
   "codemirror_mode": {
    "name": "ipython",
    "version": 3
   },
   "file_extension": ".py",
   "mimetype": "text/x-python",
   "name": "python",
   "nbconvert_exporter": "python",
   "pygments_lexer": "ipython3",
   "version": "3.8.19"
  }
 },
 "nbformat": 4,
 "nbformat_minor": 4
}

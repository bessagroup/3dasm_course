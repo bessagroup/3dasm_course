{
 "cells": [
  {
   "cell_type": "markdown",
   "metadata": {
    "hideCode": false,
    "hidePrompt": false,
    "slideshow": {
     "slide_type": "slide"
    }
   },
   "source": [
    "<img src=../figures/Brown_logo.svg width=50%>\n",
    "\n",
    "## Data-Driven Design & Analyses of Structures & Materials (3dasm)\n",
    "\n",
    "## Lecture 9\n",
    "\n",
    "### Miguel A. Bessa | <a href = \"mailto: miguel_bessa@brown.edu\">miguel_bessa@brown.edu</a>  | Associate Professor"
   ]
  },
  {
   "cell_type": "markdown",
   "metadata": {
    "hideCode": false,
    "hidePrompt": false,
    "slideshow": {
     "slide_type": "notes"
    }
   },
   "source": [
    "**What:** A lecture of the \"3dasm\" course\n",
    "\n",
    "**Where:** This notebook comes from this [repository](https://github.com/bessagroup/3dasm_course)\n",
    "\n",
    "**Reference for entire course:** Murphy, Kevin P. *Probabilistic machine learning: an introduction*. MIT press, 2022. Available online [here](https://probml.github.io/pml-book/book1.html)\n",
    "\n",
    "**How:** We try to follow Murphy's book closely, but the sequence of Chapters and Sections is different. The intention is to use notebooks as an introduction to the topic and Murphy's book as a resource.\n",
    "* If working offline: Go through this notebook and read the book.\n",
    "* If attending class in person: listen to me (!) but also go through the notebook in your laptop at the same time. Read the book.\n",
    "* If attending lectures remotely: listen to me (!) via Zoom and (ideally) use two screens where you have the notebook open in 1 screen and you see the lectures on the other. Read the book."
   ]
  },
  {
   "cell_type": "markdown",
   "metadata": {
    "hideCode": false,
    "hidePrompt": false,
    "slideshow": {
     "slide_type": "notes"
    }
   },
   "source": [
    "**Optional reference (the \"bible\" by the \"bishop\"... pun intended 😆) :** Bishop, Christopher M. *Pattern recognition and machine learning*. Springer Verlag, 2006.\n",
    "\n",
    "**References/resources to create this notebook:**\n",
    "* [Car figure](https://korkortonline.se/en/theory/reaction-braking-stopping/)\n",
    "\n",
    "Apologies in advance if I missed some reference used in this notebook. Please contact me if that is the case, and I will gladly include it here."
   ]
  },
  {
   "cell_type": "markdown",
   "metadata": {
    "hideCode": false,
    "hidePrompt": false,
    "slideshow": {
     "slide_type": "notes"
    }
   },
   "source": [
    "## **OPTION 1**. Run this notebook **locally in your computer**:\n",
    "1. Confirm that you have the '3dasm' mamba (or conda) environment (see Lecture 1).\n",
    "2. Go to the 3dasm_course folder in your computer and pull the last updates of the [repository](https://github.com/bessagroup/3dasm_course):\n",
    "```\n",
    "git pull\n",
    "```\n",
    "    - Note: if you can't pull the repo due to conflicts (and you can't handle these conflicts), use this command (with **caution**!) and your repo becomes the same as the one online:\n",
    "        ```\n",
    "        git reset --hard origin/main\n",
    "        ```\n",
    "3. Open command window and load jupyter notebook (it will open in your internet browser):\n",
    "```\n",
    "jupyter notebook\n",
    "```\n",
    "5. Open notebook of this Lecture and choose the '3dasm' kernel."
   ]
  },
  {
   "cell_type": "markdown",
   "metadata": {
    "hideCode": false,
    "hidePrompt": false,
    "slideshow": {
     "slide_type": "notes"
    }
   },
   "source": [
    "## **OPTION 2**. Use **Google's Colab** (no installation required, but times out if idle):\n",
    "\n",
    "1. go to https://colab.research.google.com\n",
    "2. login\n",
    "3. File > Open notebook\n",
    "4. click on Github (no need to login or authorize anything)\n",
    "5. paste the git link: https://github.com/bessagroup/3dasm_course\n",
    "6. click search and then click on the notebook for this Lecture."
   ]
  },
  {
   "cell_type": "code",
   "execution_count": 1,
   "metadata": {
    "hideCode": false,
    "hidePrompt": false,
    "scrolled": true,
    "slideshow": {
     "slide_type": "notes"
    }
   },
   "outputs": [],
   "source": [
    "# Basic plotting tools needed in Python.\n",
    "\n",
    "import matplotlib.pyplot as plt # import plotting tools to create figures\n",
    "import numpy as np # import numpy to handle a lot of things!\n",
    "from IPython.display import display, Math # to print with Latex math\n",
    "\n",
    "%config InlineBackend.figure_format = \"retina\" # render higher resolution images in the notebook\n",
    "plt.rcParams[\"figure.figsize\"] = (8,4) # rescale figure size appropriately for slides"
   ]
  },
  {
   "cell_type": "markdown",
   "metadata": {
    "hideCode": false,
    "hidePrompt": false,
    "slideshow": {
     "slide_type": "slide"
    }
   },
   "source": [
    "## Outline for today\n",
    "\n",
    "* Linear models for regression: Practical tutorial (**Part I**: noiseless 1D example; underfitting vs. overfitting; interpolation vs. extrapolation)\n",
    "    - A practical session on how to train linear regression models (no theory!)\n",
    "\n",
    "**Reading material**: This notebook + Chapter 11"
   ]
  },
  {
   "cell_type": "markdown",
   "metadata": {
    "slideshow": {
     "slide_type": "slide"
    }
   },
   "source": [
    "## Today's lecture is going to be more practical\n",
    "\n",
    "Since we covered the fundamentals of Bayesian and non-Bayesian machine learning..."
   ]
  },
  {
   "cell_type": "markdown",
   "metadata": {
    "slideshow": {
     "slide_type": "fragment"
    }
   },
   "source": [
    "* Today we will focus on how to train **linear regression models** using [scikit-learn](https://scikit-learn.org)"
   ]
  },
  {
   "cell_type": "markdown",
   "metadata": {
    "slideshow": {
     "slide_type": "fragment"
    }
   },
   "source": [
    "* Soon we will derive the models that we are going to cover today..."
   ]
  },
  {
   "cell_type": "markdown",
   "metadata": {
    "slideshow": {
     "slide_type": "slide"
    }
   },
   "source": [
    "As we learned in Lecture 2, let's load the pandas dataframe that is in the \"../data\" folder:"
   ]
  },
  {
   "cell_type": "code",
   "execution_count": 2,
   "metadata": {
    "scrolled": true,
    "slideshow": {
     "slide_type": "fragment"
    }
   },
   "outputs": [
    {
     "name": "stdout",
     "output_type": "stream",
     "text": [
      "            x           y\n",
      "0    9.516939   29.749036\n",
      "1   72.398757  642.132203\n",
      "2   17.950326   36.648484\n",
      "3    9.440853   18.604106\n",
      "4   78.791008  769.656168\n",
      "5   16.961121   57.971010\n",
      "6   65.410368  559.093313\n",
      "7   58.671099  463.686613\n",
      "8   21.550603   92.242676\n",
      "9   36.866913  197.688573\n",
      "10  15.728748   56.885233\n",
      "11  58.511494  388.753795\n",
      "12  57.419190  399.807488\n",
      "13  38.459157  213.181519\n",
      "14   8.841742   20.387384\n",
      "15  60.733051  516.341724\n",
      "16  49.256663  307.931956\n",
      "17  35.895121  181.123049\n",
      "18  79.195652  750.178284\n",
      "19  69.156669  553.153541\n",
      "20  77.634896  746.031880\n",
      "21   9.254011   20.810698\n",
      "22  15.451468   39.872527\n",
      "23  14.438247   42.118771\n",
      "24  13.410999   44.775122\n",
      "25  53.747057  375.013937\n",
      "26  10.283719   19.438868\n",
      "27  82.005477  742.336845\n",
      "28  81.805562  706.620282\n",
      "29  51.837742  345.212876\n",
      "30  20.283785   65.303165\n",
      "31  28.359647  155.185137\n",
      "32  74.993715  676.628982\n",
      "33  21.827564   81.150935\n",
      "34  70.519111  700.520033\n",
      "35  74.208532  622.453560\n",
      "36  14.518958   40.927570\n",
      "37  13.357644   39.770922\n",
      "38  75.346253  707.973754\n",
      "39  44.923956  251.300805\n",
      "40  26.801159  124.098654\n",
      "41  29.906265  118.100900\n",
      "42  40.226356  215.082100\n",
      "43  66.282662  537.845048\n",
      "44  47.342777  308.558833\n",
      "45   3.087674    5.947997\n",
      "46  21.254611  101.295276\n",
      "47  46.939484  345.778352\n",
      "48  38.875692  219.095582\n",
      "49  76.705452  742.720134\n"
     ]
    }
   ],
   "source": [
    "import pandas as pd\n",
    "# read csv data provided by someone else (this time I also specify that the first column provides the indices)\n",
    "car_prob_df = pd.read_csv(\"../data/data_for_car_prob.csv\", index_col=0)\n",
    "print(car_prob_df)"
   ]
  },
  {
   "cell_type": "markdown",
   "metadata": {
    "slideshow": {
     "slide_type": "slide"
    }
   },
   "source": [
    "As before, we can separate the data into inputs (features) $x$ and outputs $y$ (targets)"
   ]
  },
  {
   "cell_type": "code",
   "execution_count": 3,
   "metadata": {
    "scrolled": true,
    "slideshow": {
     "slide_type": "fragment"
    }
   },
   "outputs": [
    {
     "name": "stdout",
     "output_type": "stream",
     "text": [
      "Data_x is:\n",
      " [ 9.51693942 72.39875748 17.95032583  9.44085299 78.79100778 16.96112056\n",
      " 65.4103675  58.67109927 21.55060313 36.86691294 15.72874781 58.51149357\n",
      " 57.41918959 38.45915667  8.84174221 60.73305107 49.25666345 35.89512052\n",
      " 79.19565172 69.15666925 77.63489641  9.25401128 15.45146824 14.43824684\n",
      " 13.41099874 53.74705712 10.28371886 82.00547705 81.80556249 51.8377421\n",
      " 20.28378484 28.35964692 74.99371524 21.82756352 70.51911096 74.20853195\n",
      " 14.51895792 13.35764354 75.34625316 44.92395642 26.80115926 29.90626522\n",
      " 40.22635624 66.28266205 47.34277718  3.08767411 21.25461134 46.93948443\n",
      " 38.87569199 76.70545196]\n",
      "\n",
      "Data_y is:\n",
      " [ 29.74903647 642.13220315  36.64848446  18.60410602 769.65616843\n",
      "  57.97101034 559.09331318 463.68661322  92.24267632 197.68857288\n",
      "  56.88523327 388.75379474 399.80748803 213.18151905  20.38738432\n",
      " 516.34172363 307.93195589 181.12304936 750.17828361 553.15354059\n",
      " 746.03187971  20.81069833  39.87252654  42.11877078  44.77512244\n",
      " 375.01393668  19.43886782 742.33684483 706.62028237 345.21287569\n",
      "  65.30316533 155.18513747 676.62898211  81.15093549 700.52003305\n",
      " 622.45356019  40.92757044  39.77092163 707.97375405 251.30080489\n",
      " 124.09865438 118.10089977 215.08209978 537.84504756 308.55883254\n",
      "   5.94799685 101.29527607 345.77835213 219.09558165 742.72013356]\n"
     ]
    }
   ],
   "source": [
    "Data_x = car_prob_df['x'].values # select the input VALUES from your dataframe into Data_x\n",
    "Data_y = car_prob_df['y'].values # select the output VALUES from your dataframe inta Data_y\n",
    "print(\"Data_x is:\\n\",Data_x)\n",
    "print(\"\\nData_y is:\\n\",Data_y)"
   ]
  },
  {
   "cell_type": "markdown",
   "metadata": {
    "slideshow": {
     "slide_type": "slide"
    }
   },
   "source": [
    "And we can plot the data:"
   ]
  },
  {
   "cell_type": "code",
   "execution_count": 4,
   "metadata": {
    "slideshow": {
     "slide_type": "fragment"
    }
   },
   "outputs": [
    {
     "data": {
      "image/png": "[encoded data removed]",
      "text/plain": [
       "<Figure size 800x400 with 1 Axes>"
      ]
     },
     "metadata": {
      "image/png": {
       "height": 413,
       "width": 708
      }
     },
     "output_type": "display_data"
    }
   ],
   "source": [
    "fig_car_data, ax_car_data = plt.subplots() # create a plot\n",
    "ax_car_data.plot(Data_x, Data_y, 'b.')\n",
    "ax_car_data.set_xlabel(\"x (m/s)\", fontsize=20) # create x-axis label with font size 20\n",
    "ax_car_data.set_ylabel(\"y (m)\", fontsize=20) # create y-axis label with font size 20\n",
    "ax_car_data.set_title(\"Car stopping distance problem\", fontsize=20); # create title with font size 20"
   ]
  },
  {
   "cell_type": "markdown",
   "metadata": {
    "slideshow": {
     "slide_type": "slide"
    }
   },
   "source": [
    "## Supervised learning: regression models\n",
    "\n",
    "As we have been discussing, when we do regression via supervised learning we want to:\n",
    "\n",
    "* create a machine learning model\n",
    "* train it on known data (known inputs $x$ and outputs $y$)\n",
    "* predict for new (unseen) data points, i.e. predict $y^*$ for a new value of $x^*$.\n",
    "\n",
    "Today we will talk about the simplest models: **linear regression**."
   ]
  },
  {
   "cell_type": "markdown",
   "metadata": {
    "slideshow": {
     "slide_type": "slide"
    }
   },
   "source": [
    "## Linear regression models\n",
    "\n",
    "Linear regression models encompass a class of machine learning methods that is larger than you might think..."
   ]
  },
  {
   "cell_type": "markdown",
   "metadata": {
    "slideshow": {
     "slide_type": "fragment"
    }
   },
   "source": [
    "As we will see, despite being called \"linear\" these models can do more than fitting a simple \"line\" to our data."
   ]
  },
  {
   "cell_type": "markdown",
   "metadata": {
    "slideshow": {
     "slide_type": "fragment"
    }
   },
   "source": [
    "For now, let's consider 1d datasets, i.e. where we have one input $x$ and one output $y$."
   ]
  },
  {
   "cell_type": "markdown",
   "metadata": {
    "slideshow": {
     "slide_type": "slide"
    }
   },
   "source": [
    "### Simplest 1d linear regression model: fitting a line to your data\n",
    "\n",
    "1. Observation distribution:\n",
    "\n",
    "Usually, assumed as a Gaussian distribution,\n",
    "\n",
    "$$\n",
    "p(y|x, \\mathbf{z}) = \\mathcal{N}(y| \\mu_{y|z} = \\mathbf{w}^T \\boldsymbol{\\phi}(x), \\sigma_{y|z}^2 = \\sigma^2)\n",
    "$$\n",
    "\n",
    "where $\\mathbf{z} = (\\mathbf{w}, \\sigma)$ are all the hidden rv's of the model, i.e. the model parameters.\n",
    "* the vector $\\mathbf{w} = [w_0, w_1]^T$ includes the **bias** term $w_0$ and the **weight** $w_1$.\n",
    "* the vector $\\boldsymbol{\\phi}(x) = [1, x]^T$ includes the **basis functions**.\n",
    "\n",
    "2. A chosen Prior distribution on each hidden rv of $\\mathbf{z}$:\n",
    "\n",
    "Usually, the prior on $w_0$ and $\\sigma$ is the Uniform distribution.\n",
    "\n",
    "However, the prior on the weight $w_1$ is often chosen as something else (but it can also be Uniform)."
   ]
  },
  {
   "cell_type": "markdown",
   "metadata": {
    "slideshow": {
     "slide_type": "slide"
    }
   },
   "source": [
    "Does this model remind you of something we did?"
   ]
  },
  {
   "cell_type": "markdown",
   "metadata": {
    "slideshow": {
     "slide_type": "fragment"
    }
   },
   "source": [
    "* Car stopping distance problem when we knew one of the rv's and fixed $x$!"
   ]
  },
  {
   "cell_type": "markdown",
   "metadata": {
    "slideshow": {
     "slide_type": "fragment"
    }
   },
   "source": [
    "Note that,\n",
    "\n",
    "$$\n",
    "\\begin{align}\n",
    "p(y|x, \\mathbf{z}) &= \\mathcal{N}(y| \\mathbf{w}^T \\boldsymbol{\\phi}(x), \\sigma^2) \\\\\n",
    "&= \\mathcal{N}(y| w_0 + w_1 x, \\sigma^2) \\\\\n",
    "\\end{align}\n",
    "$$\n",
    "\n",
    "where we previously called $w_0 \\equiv b$, $w_1 \\equiv z$ and $\\sigma^2 \\equiv \\sigma_{y|z}^2$."
   ]
  },
  {
   "cell_type": "markdown",
   "metadata": {
    "slideshow": {
     "slide_type": "fragment"
    }
   },
   "source": [
    "Therefore, the only difference is that we now start to consider more than one rv, so we group them into vector $\\mathbf{z} = (\\mathbf{w}, \\sigma)$.\n",
    "\n",
    "About notation:\n",
    "\n",
    "* We can also write $\\mathbf{z}^T = [\\mathbf{w}^T, \\sigma]$."
   ]
  },
  {
   "cell_type": "markdown",
   "metadata": {
    "slideshow": {
     "slide_type": "slide"
    }
   },
   "source": [
    "### 1d linear regression models with different basis functions: fitting a polynomial to your data\n",
    "\n",
    "However, we know that usually a straight line does not provide a good fit to most data sets."
   ]
  },
  {
   "cell_type": "markdown",
   "metadata": {
    "slideshow": {
     "slide_type": "fragment"
    }
   },
   "source": [
    "A very important realization:\n",
    "\n",
    "* The basis functions vector $\\boldsymbol{\\phi}(x)$ does not need to be a *linear transformation*."
   ]
  },
  {
   "cell_type": "markdown",
   "metadata": {
    "slideshow": {
     "slide_type": "fragment"
    }
   },
   "source": [
    "* It could be a polynomial or any other **nonlinear** transformation of the feature (input) $x$.\n",
    "\n",
    "As long as the parameters of the basis functions vector $\\boldsymbol{\\phi}(x)$ are **fixed**, the model remains **linear in the parameters**, even if is not linear in the input (feature). That's why we still call this a **linear model**."
   ]
  },
  {
   "cell_type": "markdown",
   "metadata": {
    "slideshow": {
     "slide_type": "slide"
    }
   },
   "source": [
    "Here's how our **linear** regression model looks like for a polynomial basis functions vector $\\boldsymbol{\\phi}(x)$.\n",
    "\n",
    "1. Observation distribution:\n",
    "\n",
    "$$\n",
    "p(y|x, \\mathbf{z}) = \\mathcal{N}(y| \\mu_{y|z} = \\mathbf{w}^T \\boldsymbol{\\phi}(x), \\sigma_{y|z}^2 = \\sigma^2)\n",
    "$$\n",
    "\n",
    "where $\\mathbf{z} = (\\mathbf{w}, \\sigma)$ are all the hidden rv's of the model, i.e. the model parameters.\n",
    "* the vector $\\mathbf{w} = [w_0, w_1, w_2 ..., w_d]^T$ includes the **bias** term $w_0$ and the remaining **weights** $w_i$ with $i=1,..., d$.\n",
    "* the vector $\\boldsymbol{\\phi}(x) = [1, x, x^2, ..., x^d]^T$ includes the **basis functions**, which now correspond to a polynomial of degree $d$.\n",
    "\n",
    "2. A chosen Prior distribution for each hidden rv of $\\mathbf{z}$, as mentioned previously."
   ]
  },
  {
   "cell_type": "markdown",
   "metadata": {
    "slideshow": {
     "slide_type": "slide"
    }
   },
   "source": [
    "## Linear regression models from a Bayesian perspective\n",
    "\n",
    "The choice of likelihood and prior determines what is the linear regression model that you are choosing!\n",
    "\n",
    "| Likelihood | Prior (on the weights)    | Posterior      | Name of the model | Book section  |\n",
    "|---        |---         |---             |---              |---            |\n",
    "| Gaussian  | Uniform    | Point estimate | Least Squares regression  | 11.2.2  |\n",
    "| Gaussian  | Gaussian    | Point estimate | Ridge regression   | 11.3  |\n",
    "| Gaussian  | Laplace    | Point estimate | Lasso regression  | 11.4  |\n",
    "| Student-$t$  | Uniform    | Point estimate | Robust regression   | 11.6.1  |\n",
    "| Laplace  | Uniform    | Point estimate | Robust regression   | 11.6.2  |\n",
    "| Gaussian  | Gaussian    | Gaussian | Bayesian linear regression   | 11.7 |\n",
    "\n",
    "We will derive some of these models soon but not today. Today, we focus on the practical aspects!"
   ]
  },
  {
   "cell_type": "markdown",
   "metadata": {
    "slideshow": {
     "slide_type": "slide"
    }
   },
   "source": [
    "## Training (fitting) a linear model with Scikit-learn\n",
    "\n",
    "Let's see how to use [scikit-learn](https://scikit-learn.org) to train linear regression models.\n",
    "\n",
    "* [scikit-learn](https://scikit-learn.org) is a well-documented and user-friendly library that is great for introducing machine learning."
   ]
  },
  {
   "cell_type": "markdown",
   "metadata": {
    "slideshow": {
     "slide_type": "fragment"
    }
   },
   "source": [
    "* You should really read the documentation.\n",
    "    - It includes many useful examples.\n",
    "    - It provides a short introduction to common machine learning algorithms."
   ]
  },
  {
   "cell_type": "markdown",
   "metadata": {
    "slideshow": {
     "slide_type": "slide"
    }
   },
   "source": [
    "## Example 1: training a linear model for the car stopping distance problem\n",
    "\n",
    "<img src=\"../figures/reaction-braking-stopping.svg\" title=\"Car stopping distance\" width=\"50%\" align=\"right\">\n",
    "\n",
    "Let's start by importing from scikit-learn the simplest linear regression model:\n",
    "\n",
    "* Least Squares Regression (i.e. model with Gaussian likelihood, Uniform prior and Point estimate posterior).\n",
    "\n",
    "And let's consider the simplest basis function:\n",
    "\n",
    "* A line (polynomial of degree 1)."
   ]
  },
  {
   "cell_type": "code",
   "execution_count": 5,
   "metadata": {
    "slideshow": {
     "slide_type": "fragment"
    }
   },
   "outputs": [],
   "source": [
    "from sklearn.linear_model import LinearRegression # For Least Squares Regression\n",
    "from sklearn.preprocessing import PolynomialFeatures # For Polynomial basis functions\n",
    "from sklearn.pipeline import make_pipeline # to link different objects"
   ]
  },
  {
   "cell_type": "markdown",
   "metadata": {
    "slideshow": {
     "slide_type": "slide"
    }
   },
   "source": [
    "Now let's define the model (Least Squares Regression + polynomial of degree 1)"
   ]
  },
  {
   "cell_type": "code",
   "execution_count": 6,
   "metadata": {
    "slideshow": {
     "slide_type": "fragment"
    }
   },
   "outputs": [],
   "source": [
    "# We start by defining the model (polynomial basis + Least Squares Regression)\n",
    "degree = 1 # degree of polynomial we want to fit\n",
    "poly_model = make_pipeline(PolynomialFeatures(degree),LinearRegression())"
   ]
  },
  {
   "cell_type": "markdown",
   "metadata": {
    "slideshow": {
     "slide_type": "slide"
    }
   },
   "source": [
    "Then we train the model for our data (input Data_x and output Data_y that were loaded with pandas)"
   ]
  },
  {
   "cell_type": "code",
   "execution_count": 7,
   "metadata": {
    "scrolled": true,
    "slideshow": {
     "slide_type": "fragment"
    }
   },
   "outputs": [],
   "source": [
    "# Uncomment line below (this is just for students to understand: don't panic when encountering an error!)\n",
    "#poly_model.fit(Data_x,Data_y) # but it gives an ERROR!"
   ]
  },
  {
   "cell_type": "markdown",
   "metadata": {
    "slideshow": {
     "slide_type": "fragment"
    }
   },
   "source": [
    "This gives an error! Fortunately, scikit-learn tells us what happened..."
   ]
  },
  {
   "cell_type": "markdown",
   "metadata": {
    "slideshow": {
     "slide_type": "slide"
    }
   },
   "source": [
    "Scikit-learn expects the inputs to be formatted as a 2D array (matrix), instead of a 1D array (vector).\n",
    "\n",
    "This happens because usually we fit machine learning models for multidimensional inputs."
   ]
  },
  {
   "cell_type": "code",
   "execution_count": 8,
   "metadata": {
    "slideshow": {
     "slide_type": "fragment"
    }
   },
   "outputs": [],
   "source": [
    "# Reshape the input vector into a 2D array:\n",
    "Data_X = np.reshape(Data_x, (-1, 1)) # we use capital letters for matrices and lower case for vectors"
   ]
  },
  {
   "cell_type": "code",
   "execution_count": 9,
   "metadata": {
    "scrolled": true,
    "slideshow": {
     "slide_type": "fragment"
    }
   },
   "outputs": [
    {
     "name": "stdout",
     "output_type": "stream",
     "text": [
      "[[ 9.51693942]\n",
      " [72.39875748]\n",
      " [17.95032583]\n",
      " [ 9.44085299]\n",
      " [78.79100778]\n",
      " [16.96112056]\n",
      " [65.4103675 ]\n",
      " [58.67109927]\n",
      " [21.55060313]\n",
      " [36.86691294]\n",
      " [15.72874781]\n",
      " [58.51149357]\n",
      " [57.41918959]\n",
      " [38.45915667]\n",
      " [ 8.84174221]\n",
      " [60.73305107]\n",
      " [49.25666345]\n",
      " [35.89512052]\n",
      " [79.19565172]\n",
      " [69.15666925]\n",
      " [77.63489641]\n",
      " [ 9.25401128]\n",
      " [15.45146824]\n",
      " [14.43824684]\n",
      " [13.41099874]\n",
      " [53.74705712]\n",
      " [10.28371886]\n",
      " [82.00547705]\n",
      " [81.80556249]\n",
      " [51.8377421 ]\n",
      " [20.28378484]\n",
      " [28.35964692]\n",
      " [74.99371524]\n",
      " [21.82756352]\n",
      " [70.51911096]\n",
      " [74.20853195]\n",
      " [14.51895792]\n",
      " [13.35764354]\n",
      " [75.34625316]\n",
      " [44.92395642]\n",
      " [26.80115926]\n",
      " [29.90626522]\n",
      " [40.22635624]\n",
      " [66.28266205]\n",
      " [47.34277718]\n",
      " [ 3.08767411]\n",
      " [21.25461134]\n",
      " [46.93948443]\n",
      " [38.87569199]\n",
      " [76.70545196]]\n"
     ]
    }
   ],
   "source": [
    "print(Data_X)"
   ]
  },
  {
   "cell_type": "markdown",
   "metadata": {
    "slideshow": {
     "slide_type": "slide"
    }
   },
   "source": [
    "After reshaping the input as a 2D array, we see that we can fit the model!"
   ]
  },
  {
   "cell_type": "code",
   "execution_count": 10,
   "metadata": {
    "scrolled": true,
    "slideshow": {
     "slide_type": "fragment"
    }
   },
   "outputs": [
    {
     "data": {
      "text/html": [
       "<style>#sk-container-id-1 {\n",
       "  /* Definition of color scheme common for light and dark mode */\n",
       "  --sklearn-color-text: black;\n",
       "  --sklearn-color-line: gray;\n",
       "  /* Definition of color scheme for unfitted estimators */\n",
       "  --sklearn-color-unfitted-level-0: #fff5e6;\n",
       "  --sklearn-color-unfitted-level-1: #f6e4d2;\n",
       "  --sklearn-color-unfitted-level-2: #ffe0b3;\n",
       "  --sklearn-color-unfitted-level-3: chocolate;\n",
       "  /* Definition of color scheme for fitted estimators */\n",
       "  --sklearn-color-fitted-level-0: #f0f8ff;\n",
       "  --sklearn-color-fitted-level-1: #d4ebff;\n",
       "  --sklearn-color-fitted-level-2: #b3dbfd;\n",
       "  --sklearn-color-fitted-level-3: cornflowerblue;\n",
       "\n",
       "  /* Specific color for light theme */\n",
       "  --sklearn-color-text-on-default-background: var(--sg-text-color, var(--theme-code-foreground, var(--jp-content-font-color1, black)));\n",
       "  --sklearn-color-background: var(--sg-background-color, var(--theme-background, var(--jp-layout-color0, white)));\n",
       "  --sklearn-color-border-box: var(--sg-text-color, var(--theme-code-foreground, var(--jp-content-font-color1, black)));\n",
       "  --sklearn-color-icon: #696969;\n",
       "\n",
       "  @media (prefers-color-scheme: dark) {\n",
       "    /* Redefinition of color scheme for dark theme */\n",
       "    --sklearn-color-text-on-default-background: var(--sg-text-color, var(--theme-code-foreground, var(--jp-content-font-color1, white)));\n",
       "    --sklearn-color-background: var(--sg-background-color, var(--theme-background, var(--jp-layout-color0, #111)));\n",
       "    --sklearn-color-border-box: var(--sg-text-color, var(--theme-code-foreground, var(--jp-content-font-color1, white)));\n",
       "    --sklearn-color-icon: #878787;\n",
       "  }\n",
       "}\n",
       "\n",
       "#sk-container-id-1 {\n",
       "  color: var(--sklearn-color-text);\n",
       "}\n",
       "\n",
       "#sk-container-id-1 pre {\n",
       "  padding: 0;\n",
       "}\n",
       "\n",
       "#sk-container-id-1 input.sk-hidden--visually {\n",
       "  border: 0;\n",
       "  clip: rect(1px 1px 1px 1px);\n",
       "  clip: rect(1px, 1px, 1px, 1px);\n",
       "  height: 1px;\n",
       "  margin: -1px;\n",
       "  overflow: hidden;\n",
       "  padding: 0;\n",
       "  position: absolute;\n",
       "  width: 1px;\n",
       "}\n",
       "\n",
       "#sk-container-id-1 div.sk-dashed-wrapped {\n",
       "  border: 1px dashed var(--sklearn-color-line);\n",
       "  margin: 0 0.4em 0.5em 0.4em;\n",
       "  box-sizing: border-box;\n",
       "  padding-bottom: 0.4em;\n",
       "  background-color: var(--sklearn-color-background);\n",
       "}\n",
       "\n",
       "#sk-container-id-1 div.sk-container {\n",
       "  /* jupyter's `normalize.less` sets `[hidden] { display: none; }`\n",
       "     but bootstrap.min.css set `[hidden] { display: none !important; }`\n",
       "     so we also need the `!important` here to be able to override the\n",
       "     default hidden behavior on the sphinx rendered scikit-learn.org.\n",
       "     See: https://github.com/scikit-learn/scikit-learn/issues/21755 */\n",
       "  display: inline-block !important;\n",
       "  position: relative;\n",
       "}\n",
       "\n",
       "#sk-container-id-1 div.sk-text-repr-fallback {\n",
       "  display: none;\n",
       "}\n",
       "\n",
       "div.sk-parallel-item,\n",
       "div.sk-serial,\n",
       "div.sk-item {\n",
       "  /* draw centered vertical line to link estimators */\n",
       "  background-image: linear-gradient(var(--sklearn-color-text-on-default-background), var(--sklearn-color-text-on-default-background));\n",
       "  background-size: 2px 100%;\n",
       "  background-repeat: no-repeat;\n",
       "  background-position: center center;\n",
       "}\n",
       "\n",
       "/* Parallel-specific style estimator block */\n",
       "\n",
       "#sk-container-id-1 div.sk-parallel-item::after {\n",
       "  content: \"\";\n",
       "  width: 100%;\n",
       "  border-bottom: 2px solid var(--sklearn-color-text-on-default-background);\n",
       "  flex-grow: 1;\n",
       "}\n",
       "\n",
       "#sk-container-id-1 div.sk-parallel {\n",
       "  display: flex;\n",
       "  align-items: stretch;\n",
       "  justify-content: center;\n",
       "  background-color: var(--sklearn-color-background);\n",
       "  position: relative;\n",
       "}\n",
       "\n",
       "#sk-container-id-1 div.sk-parallel-item {\n",
       "  display: flex;\n",
       "  flex-direction: column;\n",
       "}\n",
       "\n",
       "#sk-container-id-1 div.sk-parallel-item:first-child::after {\n",
       "  align-self: flex-end;\n",
       "  width: 50%;\n",
       "}\n",
       "\n",
       "#sk-container-id-1 div.sk-parallel-item:last-child::after {\n",
       "  align-self: flex-start;\n",
       "  width: 50%;\n",
       "}\n",
       "\n",
       "#sk-container-id-1 div.sk-parallel-item:only-child::after {\n",
       "  width: 0;\n",
       "}\n",
       "\n",
       "/* Serial-specific style estimator block */\n",
       "\n",
       "#sk-container-id-1 div.sk-serial {\n",
       "  display: flex;\n",
       "  flex-direction: column;\n",
       "  align-items: center;\n",
       "  background-color: var(--sklearn-color-background);\n",
       "  padding-right: 1em;\n",
       "  padding-left: 1em;\n",
       "}\n",
       "\n",
       "\n",
       "/* Toggleable style: style used for estimator/Pipeline/ColumnTransformer box that is\n",
       "clickable and can be expanded/collapsed.\n",
       "- Pipeline and ColumnTransformer use this feature and define the default style\n",
       "- Estimators will overwrite some part of the style using the `sk-estimator` class\n",
       "*/\n",
       "\n",
       "/* Pipeline and ColumnTransformer style (default) */\n",
       "\n",
       "#sk-container-id-1 div.sk-toggleable {\n",
       "  /* Default theme specific background. It is overwritten whether we have a\n",
       "  specific estimator or a Pipeline/ColumnTransformer */\n",
       "  background-color: var(--sklearn-color-background);\n",
       "}\n",
       "\n",
       "/* Toggleable label */\n",
       "#sk-container-id-1 label.sk-toggleable__label {\n",
       "  cursor: pointer;\n",
       "  display: block;\n",
       "  width: 100%;\n",
       "  margin-bottom: 0;\n",
       "  padding: 0.5em;\n",
       "  box-sizing: border-box;\n",
       "  text-align: center;\n",
       "}\n",
       "\n",
       "#sk-container-id-1 label.sk-toggleable__label-arrow:before {\n",
       "  /* Arrow on the left of the label */\n",
       "  content: \"▸\";\n",
       "  float: left;\n",
       "  margin-right: 0.25em;\n",
       "  color: var(--sklearn-color-icon);\n",
       "}\n",
       "\n",
       "#sk-container-id-1 label.sk-toggleable__label-arrow:hover:before {\n",
       "  color: var(--sklearn-color-text);\n",
       "}\n",
       "\n",
       "/* Toggleable content - dropdown */\n",
       "\n",
       "#sk-container-id-1 div.sk-toggleable__content {\n",
       "  max-height: 0;\n",
       "  max-width: 0;\n",
       "  overflow: hidden;\n",
       "  text-align: left;\n",
       "  /* unfitted */\n",
       "  background-color: var(--sklearn-color-unfitted-level-0);\n",
       "}\n",
       "\n",
       "#sk-container-id-1 div.sk-toggleable__content.fitted {\n",
       "  /* fitted */\n",
       "  background-color: var(--sklearn-color-fitted-level-0);\n",
       "}\n",
       "\n",
       "#sk-container-id-1 div.sk-toggleable__content pre {\n",
       "  margin: 0.2em;\n",
       "  border-radius: 0.25em;\n",
       "  color: var(--sklearn-color-text);\n",
       "  /* unfitted */\n",
       "  background-color: var(--sklearn-color-unfitted-level-0);\n",
       "}\n",
       "\n",
       "#sk-container-id-1 div.sk-toggleable__content.fitted pre {\n",
       "  /* unfitted */\n",
       "  background-color: var(--sklearn-color-fitted-level-0);\n",
       "}\n",
       "\n",
       "#sk-container-id-1 input.sk-toggleable__control:checked~div.sk-toggleable__content {\n",
       "  /* Expand drop-down */\n",
       "  max-height: 200px;\n",
       "  max-width: 100%;\n",
       "  overflow: auto;\n",
       "}\n",
       "\n",
       "#sk-container-id-1 input.sk-toggleable__control:checked~label.sk-toggleable__label-arrow:before {\n",
       "  content: \"▾\";\n",
       "}\n",
       "\n",
       "/* Pipeline/ColumnTransformer-specific style */\n",
       "\n",
       "#sk-container-id-1 div.sk-label input.sk-toggleable__control:checked~label.sk-toggleable__label {\n",
       "  color: var(--sklearn-color-text);\n",
       "  background-color: var(--sklearn-color-unfitted-level-2);\n",
       "}\n",
       "\n",
       "#sk-container-id-1 div.sk-label.fitted input.sk-toggleable__control:checked~label.sk-toggleable__label {\n",
       "  background-color: var(--sklearn-color-fitted-level-2);\n",
       "}\n",
       "\n",
       "/* Estimator-specific style */\n",
       "\n",
       "/* Colorize estimator box */\n",
       "#sk-container-id-1 div.sk-estimator input.sk-toggleable__control:checked~label.sk-toggleable__label {\n",
       "  /* unfitted */\n",
       "  background-color: var(--sklearn-color-unfitted-level-2);\n",
       "}\n",
       "\n",
       "#sk-container-id-1 div.sk-estimator.fitted input.sk-toggleable__control:checked~label.sk-toggleable__label {\n",
       "  /* fitted */\n",
       "  background-color: var(--sklearn-color-fitted-level-2);\n",
       "}\n",
       "\n",
       "#sk-container-id-1 div.sk-label label.sk-toggleable__label,\n",
       "#sk-container-id-1 div.sk-label label {\n",
       "  /* The background is the default theme color */\n",
       "  color: var(--sklearn-color-text-on-default-background);\n",
       "}\n",
       "\n",
       "/* On hover, darken the color of the background */\n",
       "#sk-container-id-1 div.sk-label:hover label.sk-toggleable__label {\n",
       "  color: var(--sklearn-color-text);\n",
       "  background-color: var(--sklearn-color-unfitted-level-2);\n",
       "}\n",
       "\n",
       "/* Label box, darken color on hover, fitted */\n",
       "#sk-container-id-1 div.sk-label.fitted:hover label.sk-toggleable__label.fitted {\n",
       "  color: var(--sklearn-color-text);\n",
       "  background-color: var(--sklearn-color-fitted-level-2);\n",
       "}\n",
       "\n",
       "/* Estimator label */\n",
       "\n",
       "#sk-container-id-1 div.sk-label label {\n",
       "  font-family: monospace;\n",
       "  font-weight: bold;\n",
       "  display: inline-block;\n",
       "  line-height: 1.2em;\n",
       "}\n",
       "\n",
       "#sk-container-id-1 div.sk-label-container {\n",
       "  text-align: center;\n",
       "}\n",
       "\n",
       "/* Estimator-specific */\n",
       "#sk-container-id-1 div.sk-estimator {\n",
       "  font-family: monospace;\n",
       "  border: 1px dotted var(--sklearn-color-border-box);\n",
       "  border-radius: 0.25em;\n",
       "  box-sizing: border-box;\n",
       "  margin-bottom: 0.5em;\n",
       "  /* unfitted */\n",
       "  background-color: var(--sklearn-color-unfitted-level-0);\n",
       "}\n",
       "\n",
       "#sk-container-id-1 div.sk-estimator.fitted {\n",
       "  /* fitted */\n",
       "  background-color: var(--sklearn-color-fitted-level-0);\n",
       "}\n",
       "\n",
       "/* on hover */\n",
       "#sk-container-id-1 div.sk-estimator:hover {\n",
       "  /* unfitted */\n",
       "  background-color: var(--sklearn-color-unfitted-level-2);\n",
       "}\n",
       "\n",
       "#sk-container-id-1 div.sk-estimator.fitted:hover {\n",
       "  /* fitted */\n",
       "  background-color: var(--sklearn-color-fitted-level-2);\n",
       "}\n",
       "\n",
       "/* Specification for estimator info (e.g. \"i\" and \"?\") */\n",
       "\n",
       "/* Common style for \"i\" and \"?\" */\n",
       "\n",
       ".sk-estimator-doc-link,\n",
       "a:link.sk-estimator-doc-link,\n",
       "a:visited.sk-estimator-doc-link {\n",
       "  float: right;\n",
       "  font-size: smaller;\n",
       "  line-height: 1em;\n",
       "  font-family: monospace;\n",
       "  background-color: var(--sklearn-color-background);\n",
       "  border-radius: 1em;\n",
       "  height: 1em;\n",
       "  width: 1em;\n",
       "  text-decoration: none !important;\n",
       "  margin-left: 1ex;\n",
       "  /* unfitted */\n",
       "  border: var(--sklearn-color-unfitted-level-1) 1pt solid;\n",
       "  color: var(--sklearn-color-unfitted-level-1);\n",
       "}\n",
       "\n",
       ".sk-estimator-doc-link.fitted,\n",
       "a:link.sk-estimator-doc-link.fitted,\n",
       "a:visited.sk-estimator-doc-link.fitted {\n",
       "  /* fitted */\n",
       "  border: var(--sklearn-color-fitted-level-1) 1pt solid;\n",
       "  color: var(--sklearn-color-fitted-level-1);\n",
       "}\n",
       "\n",
       "/* On hover */\n",
       "div.sk-estimator:hover .sk-estimator-doc-link:hover,\n",
       ".sk-estimator-doc-link:hover,\n",
       "div.sk-label-container:hover .sk-estimator-doc-link:hover,\n",
       ".sk-estimator-doc-link:hover {\n",
       "  /* unfitted */\n",
       "  background-color: var(--sklearn-color-unfitted-level-3);\n",
       "  color: var(--sklearn-color-background);\n",
       "  text-decoration: none;\n",
       "}\n",
       "\n",
       "div.sk-estimator.fitted:hover .sk-estimator-doc-link.fitted:hover,\n",
       ".sk-estimator-doc-link.fitted:hover,\n",
       "div.sk-label-container:hover .sk-estimator-doc-link.fitted:hover,\n",
       ".sk-estimator-doc-link.fitted:hover {\n",
       "  /* fitted */\n",
       "  background-color: var(--sklearn-color-fitted-level-3);\n",
       "  color: var(--sklearn-color-background);\n",
       "  text-decoration: none;\n",
       "}\n",
       "\n",
       "/* Span, style for the box shown on hovering the info icon */\n",
       ".sk-estimator-doc-link span {\n",
       "  display: none;\n",
       "  z-index: 9999;\n",
       "  position: relative;\n",
       "  font-weight: normal;\n",
       "  right: .2ex;\n",
       "  padding: .5ex;\n",
       "  margin: .5ex;\n",
       "  width: min-content;\n",
       "  min-width: 20ex;\n",
       "  max-width: 50ex;\n",
       "  color: var(--sklearn-color-text);\n",
       "  box-shadow: 2pt 2pt 4pt #999;\n",
       "  /* unfitted */\n",
       "  background: var(--sklearn-color-unfitted-level-0);\n",
       "  border: .5pt solid var(--sklearn-color-unfitted-level-3);\n",
       "}\n",
       "\n",
       ".sk-estimator-doc-link.fitted span {\n",
       "  /* fitted */\n",
       "  background: var(--sklearn-color-fitted-level-0);\n",
       "  border: var(--sklearn-color-fitted-level-3);\n",
       "}\n",
       "\n",
       ".sk-estimator-doc-link:hover span {\n",
       "  display: block;\n",
       "}\n",
       "\n",
       "/* \"?\"-specific style due to the `<a>` HTML tag */\n",
       "\n",
       "#sk-container-id-1 a.estimator_doc_link {\n",
       "  float: right;\n",
       "  font-size: 1rem;\n",
       "  line-height: 1em;\n",
       "  font-family: monospace;\n",
       "  background-color: var(--sklearn-color-background);\n",
       "  border-radius: 1rem;\n",
       "  height: 1rem;\n",
       "  width: 1rem;\n",
       "  text-decoration: none;\n",
       "  /* unfitted */\n",
       "  color: var(--sklearn-color-unfitted-level-1);\n",
       "  border: var(--sklearn-color-unfitted-level-1) 1pt solid;\n",
       "}\n",
       "\n",
       "#sk-container-id-1 a.estimator_doc_link.fitted {\n",
       "  /* fitted */\n",
       "  border: var(--sklearn-color-fitted-level-1) 1pt solid;\n",
       "  color: var(--sklearn-color-fitted-level-1);\n",
       "}\n",
       "\n",
       "/* On hover */\n",
       "#sk-container-id-1 a.estimator_doc_link:hover {\n",
       "  /* unfitted */\n",
       "  background-color: var(--sklearn-color-unfitted-level-3);\n",
       "  color: var(--sklearn-color-background);\n",
       "  text-decoration: none;\n",
       "}\n",
       "\n",
       "#sk-container-id-1 a.estimator_doc_link.fitted:hover {\n",
       "  /* fitted */\n",
       "  background-color: var(--sklearn-color-fitted-level-3);\n",
       "}\n",
       "</style><div id=\"sk-container-id-1\" class=\"sk-top-container\"><div class=\"sk-text-repr-fallback\"><pre>Pipeline(steps=[(&#x27;polynomialfeatures&#x27;, PolynomialFeatures(degree=1)),\n",
       "                (&#x27;linearregression&#x27;, LinearRegression())])</pre><b>In a Jupyter environment, please rerun this cell to show the HTML representation or trust the notebook. <br />On GitHub, the HTML representation is unable to render, please try loading this page with nbviewer.org.</b></div><div class=\"sk-container\" hidden><div class=\"sk-item sk-dashed-wrapped\"><div class=\"sk-label-container\"><div class=\"sk-label fitted sk-toggleable\"><input class=\"sk-toggleable__control sk-hidden--visually\" id=\"sk-estimator-id-1\" type=\"checkbox\" ><label for=\"sk-estimator-id-1\" class=\"sk-toggleable__label fitted sk-toggleable__label-arrow fitted\">&nbsp;&nbsp;Pipeline<a class=\"sk-estimator-doc-link fitted\" rel=\"noreferrer\" target=\"_blank\" href=\"https://scikit-learn.org/1.5/modules/generated/sklearn.pipeline.Pipeline.html\">?<span>Documentation for Pipeline</span></a><span class=\"sk-estimator-doc-link fitted\">i<span>Fitted</span></span></label><div class=\"sk-toggleable__content fitted\"><pre>Pipeline(steps=[(&#x27;polynomialfeatures&#x27;, PolynomialFeatures(degree=1)),\n",
       "                (&#x27;linearregression&#x27;, LinearRegression())])</pre></div> </div></div><div class=\"sk-serial\"><div class=\"sk-item\"><div class=\"sk-estimator fitted sk-toggleable\"><input class=\"sk-toggleable__control sk-hidden--visually\" id=\"sk-estimator-id-2\" type=\"checkbox\" ><label for=\"sk-estimator-id-2\" class=\"sk-toggleable__label fitted sk-toggleable__label-arrow fitted\">&nbsp;PolynomialFeatures<a class=\"sk-estimator-doc-link fitted\" rel=\"noreferrer\" target=\"_blank\" href=\"https://scikit-learn.org/1.5/modules/generated/sklearn.preprocessing.PolynomialFeatures.html\">?<span>Documentation for PolynomialFeatures</span></a></label><div class=\"sk-toggleable__content fitted\"><pre>PolynomialFeatures(degree=1)</pre></div> </div></div><div class=\"sk-item\"><div class=\"sk-estimator fitted sk-toggleable\"><input class=\"sk-toggleable__control sk-hidden--visually\" id=\"sk-estimator-id-3\" type=\"checkbox\" ><label for=\"sk-estimator-id-3\" class=\"sk-toggleable__label fitted sk-toggleable__label-arrow fitted\">&nbsp;LinearRegression<a class=\"sk-estimator-doc-link fitted\" rel=\"noreferrer\" target=\"_blank\" href=\"https://scikit-learn.org/1.5/modules/generated/sklearn.linear_model.LinearRegression.html\">?<span>Documentation for LinearRegression</span></a></label><div class=\"sk-toggleable__content fitted\"><pre>LinearRegression()</pre></div> </div></div></div></div></div></div>"
      ],
      "text/plain": [
       "Pipeline(steps=[('polynomialfeatures', PolynomialFeatures(degree=1)),\n",
       "                ('linearregression', LinearRegression())])"
      ]
     },
     "execution_count": 10,
     "metadata": {},
     "output_type": "execute_result"
    }
   ],
   "source": [
    "poly_model.fit(Data_X,Data_y) # now we were able to train (fit) our linear model to the data!"
   ]
  },
  {
   "cell_type": "markdown",
   "metadata": {
    "slideshow": {
     "slide_type": "fragment"
    }
   },
   "source": [
    "That's it! Here's your first ML model: fitting a straight line 😆"
   ]
  },
  {
   "cell_type": "markdown",
   "metadata": {
    "slideshow": {
     "slide_type": "slide"
    }
   },
   "source": [
    "Now that we have a model, we can predict the output $y^*$ for any new input point $x^*$.\n",
    "\n",
    "In particular, we can predict the output for each of the input points $x$ that we used for training the model (i.e. at Data_X)."
   ]
  },
  {
   "cell_type": "code",
   "execution_count": 11,
   "metadata": {
    "slideshow": {
     "slide_type": "fragment"
    }
   },
   "outputs": [],
   "source": [
    "y_pred = poly_model.predict(Data_X) # In scikit-learn, predicting from a model is a one-liner"
   ]
  },
  {
   "cell_type": "markdown",
   "metadata": {
    "slideshow": {
     "slide_type": "fragment"
    }
   },
   "source": [
    "Done! These are the predictions for all your training points."
   ]
  },
  {
   "cell_type": "markdown",
   "metadata": {
    "slideshow": {
     "slide_type": "slide"
    }
   },
   "source": [
    "But we can also predict the output $y^*$ for other points.\n",
    "\n",
    "This enables us to visualize the model by predicting the output for a uniformly spaced set of points."
   ]
  },
  {
   "cell_type": "code",
   "execution_count": 12,
   "metadata": {
    "slideshow": {
     "slide_type": "fragment"
    }
   },
   "outputs": [],
   "source": [
    "# Now create linearly spaced points for plotting our linear model\n",
    "x_plot = np.linspace(0, 90, 200) # 200 points uniformly spaced\n",
    "y_plot = poly_model.predict(np.reshape(x_plot, (-1, 1))) # prediction of those points (note the reshape again)"
   ]
  },
  {
   "cell_type": "markdown",
   "metadata": {
    "slideshow": {
     "slide_type": "slide"
    }
   },
   "source": [
    "Finally, we can just plot the data, the predictions for each input training point, and the linear model."
   ]
  },
  {
   "cell_type": "code",
   "execution_count": 13,
   "metadata": {
    "slideshow": {
     "slide_type": "slide"
    }
   },
   "outputs": [],
   "source": [
    "# The usual plotting style for this model and the data.\n",
    "fig_poly, ax_poly = plt.subplots() # create a plot\n",
    "ax_poly.plot(Data_x, Data_y, 'b.', markersize=12,label=\"Data\") # Markers locating data points\n",
    "ax_poly.plot(Data_x, y_pred, 'm*', markersize=12,label=\"Predictions\") # Markers locating prediction points)\n",
    "legend_str = \"Linear regression with Polynomial of degree \" + str(degree)\n",
    "ax_poly.plot(x_plot, y_plot, 'm-', linewidth=2,label=legend_str) # polynomial interpolation plotted\n",
    "ax_poly.set_xlabel(\"x (m/s)\", fontsize=20) # create x-axis label with font size 20\n",
    "ax_poly.set_ylabel(\"y (m)\", fontsize=20) # create y-axis label with font size 20\n",
    "ax_poly.set_title(\"Car stopping distance problem\", fontsize=20) # create title with font size 20\n",
    "ax_poly.legend(loc='upper left', fontsize=15) # replot legend\n",
    "fig_poly.set_size_inches(7.5, 6) # scale figure to be taller\n",
    "plt.close(fig_poly) # do not plot the figure now. We will show it in a later cell"
   ]
  },
  {
   "cell_type": "code",
   "execution_count": 14,
   "metadata": {
    "slideshow": {
     "slide_type": "slide"
    }
   },
   "outputs": [
    {
     "data": {
      "image/png": "[encoded data removed]",
      "text/plain": [
       "<Figure size 750x600 with 1 Axes>"
      ]
     },
     "execution_count": 14,
     "metadata": {
      "image/png": {
       "height": 567,
       "width": 669
      }
     },
     "output_type": "execute_result"
    }
   ],
   "source": [
    "fig_poly # just call the figure that we created in the previous cell."
   ]
  },
  {
   "cell_type": "markdown",
   "metadata": {
    "slideshow": {
     "slide_type": "fragment"
    }
   },
   "source": [
    "Now we can see all the things that we have done in a single plot!"
   ]
  },
  {
   "cell_type": "markdown",
   "metadata": {
    "slideshow": {
     "slide_type": "slide"
    }
   },
   "source": [
    "## In-class Exercise\n",
    "\n",
    "1. Put it all together and create a linear model using a polynomial of degree 2 for the same data.\n",
    "\n",
    "\n",
    "2. Compare your plot with the one obtained for the straight line (polynomial of degree 1).\n",
    "\n",
    "\n",
    "3. Play a bit with your code by changing the degree of the polynomial. What happens?"
   ]
  },
  {
   "cell_type": "code",
   "execution_count": 15,
   "metadata": {
    "slideshow": {
     "slide_type": "slide"
    }
   },
   "outputs": [],
   "source": [
    "# Write your code for In-class Exercise:\n",
    "\n",
    "# until here."
   ]
  },
  {
   "cell_type": "markdown",
   "metadata": {
    "slideshow": {
     "slide_type": "slide"
    }
   },
   "source": [
    "Go back to the previous cell and try to keep increasing the polynomial degree."
   ]
  },
  {
   "cell_type": "markdown",
   "metadata": {
    "slideshow": {
     "slide_type": "fragment"
    }
   },
   "source": [
    "* You see the prediction getting worse!\n",
    "\n",
    "This is called **overfitting**."
   ]
  },
  {
   "cell_type": "markdown",
   "metadata": {
    "slideshow": {
     "slide_type": "fragment"
    }
   },
   "source": [
    "- Overfitting is a natural consequence of having a model that is more complex than it should be!"
   ]
  },
  {
   "cell_type": "markdown",
   "metadata": {
    "slideshow": {
     "slide_type": "fragment"
    }
   },
   "source": [
    "- As we know, the mean of the data that originates from the car stopping distance problem is generated with a quadratic model: $y = z_1 x + z_2 x^2$\n",
    "    * Therefore, we don't need additional complexity to describe the *mean* of the data!"
   ]
  },
  {
   "cell_type": "markdown",
   "metadata": {
    "slideshow": {
     "slide_type": "slide"
    }
   },
   "source": [
    "Also, the fit is better **within the domain** that we used for training ($x\\in [3, 83]$) than away from it.\n",
    "\n",
    "In other words, we **interpolate** better than we **extrapolate**."
   ]
  },
  {
   "cell_type": "markdown",
   "metadata": {
    "slideshow": {
     "slide_type": "fragment"
    }
   },
   "source": [
    "* Nevertheless, overfitting is also an issue when we are interpolating...\n",
    "    - See this by making the degree very high, e.g. 30, and plot for $x\\in [5, 80]$."
   ]
  },
  {
   "cell_type": "markdown",
   "metadata": {
    "slideshow": {
     "slide_type": "fragment"
    }
   },
   "source": [
    "It might be surprising, but this is an important issue in ML.\n",
    "\n",
    "It is very common to use models that are complicated (have many parameters) and that perform poorly even when interpolating, but especially when extrapolating!"
   ]
  },
  {
   "cell_type": "markdown",
   "metadata": {
    "slideshow": {
     "slide_type": "slide"
    }
   },
   "source": [
    "### See you next class\n",
    "\n",
    "Have fun!"
   ]
  },
  {
   "cell_type": "markdown",
   "metadata": {
    "slideshow": {
     "slide_type": "notes"
    }
   },
   "source": [
    "## Solution for In-class Exercise\n",
    "\n",
    "```python\n",
    "degree = 2\n",
    "poly_model = make_pipeline(PolynomialFeatures(degree),LinearRegression()) # model\n",
    "poly_model.fit(np.reshape(Data_x, (-1, 1)),Data_y) # training (fitting)\n",
    "y_pred = poly_model.predict(Data_X) # predict y for Data_x\n",
    "x_plot = np.linspace(0, 90, 200) # 200 points uniformly spaced\n",
    "y_plot = poly_model.predict(np.reshape(x_plot, (-1, 1))) # prediction for those points\n",
    "fig_poly, ax_poly = plt.subplots() # create a plot\n",
    "ax_poly.plot(Data_x, Data_y, 'b.', markersize=12,label=\"Data\") # Markers locating data points)\n",
    "ax_poly.plot(Data_x, y_pred, 'm*', markersize=12,label=\"Predictions\") # Markers locating prediction points)\n",
    "legend_str = \"Linear regression with Polynomial of degree \" + str(degree)\n",
    "ax_poly.plot(x_plot, y_plot, 'm-', linewidth=2,label=legend_str) # polynomial interpolation plotted\n",
    "ax_poly.set_xlabel(\"x (m/s)\", fontsize=20) # create x-axis label with font size 20\n",
    "ax_poly.set_ylabel(\"y (m)\", fontsize=20) # create y-axis label with font size 20\n",
    "ax_poly.set_title(\"Car stopping distance problem\", fontsize=20) # create title with font size 20\n",
    "ax_poly.legend(loc='upper left') # replot legend\n",
    "```"
   ]
  }
 ],
 "metadata": {
  "celltoolbar": "Slideshow",
  "hide_code_all_hidden": false,
  "kernelspec": {
   "display_name": "Python [conda env:3dasm]",
   "language": "python",
   "name": "conda-env-3dasm-py"
  },
  "language_info": {
   "codemirror_mode": {
    "name": "ipython",
    "version": 3
   },
   "file_extension": ".py",
   "mimetype": "text/x-python",
   "name": "python",
   "nbconvert_exporter": "python",
   "pygments_lexer": "ipython3",
   "version": "3.10.0"
  }
 },
 "nbformat": 4,
 "nbformat_minor": 4
}

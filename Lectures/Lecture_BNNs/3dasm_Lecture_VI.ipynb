{
 "cells": [
  {
   "cell_type": "markdown",
   "metadata": {
    "hideCode": false,
    "hidePrompt": false,
    "slideshow": {
     "slide_type": "slide"
    }
   },
   "source": [
    "<img src=../figures/Brown_logo.svg width=50%>\n",
    "\n",
    "## Data-Driven Design & Analyses of Structures & Materials (3dasm)\n",
    "\n",
    "## Lecture Variational Inference\n",
    "\n",
    "### Miguel A. Bessa | <a href = \"mailto: miguel_bessa@brown.edu\">miguel_bessa@brown.edu</a>  | Associate Professor"
   ]
  },
  {
   "cell_type": "markdown",
   "metadata": {
    "hideCode": false,
    "hidePrompt": false,
    "slideshow": {
     "slide_type": "slide"
    }
   },
   "source": [
    "## Outline for today\n",
    "\n",
    "* What is variational inference?\n",
    "* How to apply variational inference to train BNN?\n",
    "\n",
    "**Reading material**: This notebook + (Murphy's advanced book, chapter Part II Inference)"
   ]
  },
  {
   "cell_type": "markdown",
   "metadata": {
    "slideshow": {
     "slide_type": "slide"
    }
   },
   "source": [
    "## The goal of inference \n",
    "\n",
    "- The goal of inference is to approximate a target distribution\n",
    " <img align=center src=\"./figures/INFERENCE.png\" width=40%>\n",
    "\n",
    "- As troduced previously, MCMC-based sampling approaches try to explore the target distribution.\n",
    "- **Variational inference try to use a parametric distribution to approach the target distribution**"
   ]
  },
  {
   "cell_type": "markdown",
   "metadata": {
    "slideshow": {
     "slide_type": "slide"
    }
   },
   "source": [
    "## Variational objective\n",
    "- **Objective of variational inference**\n",
    "\n",
    "    Use another distribution $q(\\theta)$ to approximate the posterior $p(\\theta|\\mathcal{D})$\n",
    "\n",
    " <img align=center src=\"./figures/variational_inference_schematic.png\" width=30%>\n",
    "\n",
    "- **Optimization objective** \n",
    "\n",
    "$$q = \\arg \\min_{q \\in \\Omega} \\mathrm{D}_\\mathbb{KL} \\left(q(\\theta||p(\\theta|\\mathcal{D}) \\right)  $$\n",
    "\n",
    "---\n",
    "[1] Murphy, K. P. (2023). Probabilistic machine learning: Advanced topics. MIT press."
   ]
  },
  {
   "cell_type": "markdown",
   "metadata": {
    "slideshow": {
     "slide_type": "slide"
    }
   },
   "source": [
    "### Transformation of variational objective \n",
    "\n",
    "In practical, $\\psi$ is used as the **variational parameter** from a parametric family $\\Omega$, and obtained by \n",
    "\n",
    "$$\n",
    "\\begin{align}\n",
    "\t\\label{eq:vi_inference_equation}\n",
    "    \\psi^* & = \\arg \\min_{\\psi} \\mathrm{D}_\\mathbb{KL} \\left(q_{\\psi}(\\boldsymbol{\\theta})||p_\\theta(\\boldsymbol{\\theta}|\\mathcal{D}) \\right)                                                                               \\\\\n",
    "           & =  \\arg \\min_{\\psi} \\mathbb{E}_{q_\\psi(\\boldsymbol{\\theta})} \\left[\\log q_\\psi(\\boldsymbol{\\theta}) - \\log p_\\theta (\\boldsymbol{\\theta}|\\mathcal{D}) \\right]                                                          \\\\\n",
    "           & =  \\arg \\min_{\\psi} \\mathbb{E}_{q_\\psi(\\boldsymbol{\\theta})} \\left[\\log q_\\psi(\\boldsymbol{\\theta}) - \\log\n",
    "    \\left(\\frac{p_\\theta(\\mathcal{D}|\\boldsymbol{\\theta})p_\\theta(\\boldsymbol{\\theta})}{p_\\theta(\\mathcal{D})} \\right) \\right]                                                                                              \\\\\n",
    "           & =  \\arg \\min_{\\psi} \\mathbb{E}_{q_\\psi(\\boldsymbol{\\theta})} \\left[\\log q_\\psi(\\boldsymbol{\\theta}) - \\log p_\\theta(\\mathcal{D}|\\boldsymbol{\\theta}) - \\log p_\\theta(\\boldsymbol{\\theta}) +\\log p_\\theta(\\mathcal{D}) \\right]  \\\\\n",
    "           & =  \\arg \\min_{\\psi} \\mathbb{E}_{q_\\psi(\\boldsymbol{\\theta})} \\left[\\log q_\\psi(\\boldsymbol{\\theta}) - \\log p_\\theta(\\mathcal{D}|\\boldsymbol{\\theta}) - \\log p_\\theta(\\boldsymbol{\\theta})  \\right] +\\log p_\\theta(\\mathcal{D})\n",
    "\\end{align}\n",
    "$$\n",
    "\n"
   ]
  },
  {
   "cell_type": "markdown",
   "metadata": {
    "slideshow": {
     "slide_type": "fragment"
    }
   },
   "source": [
    "The final term is not relate to $\\psi$; therefore, we only need to optimize the first term: \n",
    "$$ \\begin{align}\n",
    "    \\psi^* & = \\arg \\min_{\\psi} \\mathbb{E}_{q_\\psi(\\boldsymbol{\\theta})} \\left[\\log q_\\psi(\\boldsymbol{\\theta}) - \\log p_\\theta(\\mathcal{D}|\\boldsymbol{\\theta}) - \\log p_\\theta(\\boldsymbol{\\theta})  \\right]                      \\\\\n",
    "           & = \\arg \\min_{\\psi} \\mathbb{E}_{q_\\psi(\\boldsymbol{\\theta})} \\left[ - \\log p_\\theta(\\mathcal{D}|\\boldsymbol{\\theta})\\right] + \\mathrm{D}_{\\mathbb{KL}}(q_{\\psi}(\\boldsymbol{\\theta})|| p_\\theta(\\boldsymbol{\\theta})) \\\n",
    "\\end{align} $$\n",
    "\n",
    "- The objective is called **negative evidence lower bound (ELBO)**"
   ]
  },
  {
   "cell_type": "markdown",
   "metadata": {
    "slideshow": {
     "slide_type": "slide"
    }
   },
   "source": [
    "### Let's dive into the objective of ELBO\n",
    "$$\\psi^*   = \\arg \\min_{\\psi} \\mathbb{E}_{q_\\psi(\\boldsymbol{\\theta})} \\left[ - \\log p_\\theta(\\mathcal{D}|\\boldsymbol{\\theta})\\right] + \\mathrm{D}_{\\mathbb{KL}}(q_{\\psi}(\\boldsymbol{\\theta})|| p_\\theta(\\boldsymbol{\\theta}))  $$\n",
    "\n",
    "- The first term is the negeative likelihood dominated by **Data**\n",
    "- The second term is KL divergence between the **estimated distribution** and the **prior distribution**\n",
    "- It means that by mimizing ELBO, it tends to find an estimated distribution not only fits the data, but also as close to the prior distribution as it can be. "
   ]
  },
  {
   "cell_type": "markdown",
   "metadata": {
    "slideshow": {
     "slide_type": "slide"
    }
   },
   "source": [
    "###  One dimension numerical Gaussian mixture distribution \n"
   ]
  },
  {
   "cell_type": "code",
   "execution_count": 1,
   "metadata": {
    "slideshow": {
     "slide_type": "skip"
    }
   },
   "outputs": [],
   "source": [
    "# import libraries\n",
    "import torch\n",
    "import math\n",
    "import copy\n",
    "import matplotlib.pyplot as plt \n",
    "import numpy as np\n",
    "import torch.nn as nn\n",
    "import torch.nn.functional as F\n",
    "class TargetDistribution:\n",
    "\n",
    "    def __init__(self,  w1=0.3,w2=0.7,  mu1=-2,  sigma1=1, mu2=2, sigma2=1) -> None:\n",
    "        self.w1 = w1\n",
    "        self.w2 = w2\n",
    "        self.mu1 = mu1\n",
    "        self.sigma1 = sigma1\n",
    "        self.mu2 = mu2\n",
    "        self.sigma2 = sigma2\n",
    "\n",
    "\n",
    "    def pdf(self, x) -> float:\n",
    "        return self.w1 * self.gaussian(x, self.mu1, self.sigma1) + \\\n",
    "            self.w2 * self.gaussian(x, self.mu2, self.sigma2)\n",
    "\n",
    "    # sample from the distribution\n",
    "    def sample(self, num_samples=1000):\n",
    "        samples = []\n",
    "        for _ in range(num_samples):\n",
    "            if np.random.rand() < self.w1:\n",
    "                samples.append(np.random.normal(self.mu1, self.sigma1))\n",
    "            else:\n",
    "                samples.append(np.random.normal(self.mu2, self.sigma2))\n",
    "        return np.array(samples)\n",
    "    \n",
    "    def plot_pdf(self):\n",
    "        fig, ax = plt.subplots(figsize=(5, 4))\n",
    "        x = np.linspace(-10, 10, 1000)\n",
    "        y = self.pdf(x)\n",
    "        ax.plot(x, y)\n",
    "        ax.set_xlabel('x')\n",
    "        ax.set_ylabel('pdf')\n",
    "        plt.show()\n",
    "\n",
    "    @ staticmethod\n",
    "    def gaussian(x, mu, sigma) -> float:\n",
    "        return 1.0/(np.sqrt(2 * np.pi)) * np.exp(- ( x- mu)**2 / 2*sigma**2)\n"
   ]
  },
  {
   "cell_type": "code",
   "execution_count": 2,
   "metadata": {
    "slideshow": {
     "slide_type": "fragment"
    }
   },
   "outputs": [
    {
     "data": {
      "image/png": "[encoded data removed]",
      "text/plain": [
       "<Figure size 500x400 with 1 Axes>"
      ]
     },
     "metadata": {},
     "output_type": "display_data"
    }
   ],
   "source": [
    "dis = TargetDistribution()\n",
    "dis.plot_pdf()\n"
   ]
  },
  {
   "cell_type": "code",
   "execution_count": 3,
   "metadata": {
    "slideshow": {
     "slide_type": "skip"
    }
   },
   "outputs": [],
   "source": [
    "class VariationalInference:\n",
    "\n",
    "    def __init__(self,\n",
    "                  target_distribution,\n",
    "                  prior_mean = torch.tensor([0.0]),\n",
    "                  prior_covariance = torch.tensor([[2.0]]),\n",
    "                  num_samples=1000,\n",
    "                  proposed_mean = torch.tensor([0.0], requires_grad=True),\n",
    "                  proposed_covariance = torch.tensor([1.0], requires_grad=True)\n",
    "                  ) -> None:\n",
    "        self.target_distribution = target_distribution\n",
    "        self.samples = torch.tensor(target_distribution.sample(num_samples),\n",
    "                                    dtype=torch.float32, requires_grad=True)\n",
    "        self.num_samples = num_samples\n",
    "        # prior mean and covariance\n",
    "        self.prior_mean = prior_mean.detach()\n",
    "        self.prior_covariance = prior_covariance.detach()\n",
    "        # proposed params (mean, variance)\n",
    "        self.proposed_mean = proposed_mean\n",
    "        self.proposed_covariance = proposed_covariance\n",
    "\n",
    "        # history containers\n",
    "        self.neg_log_lik_hist = []\n",
    "\n",
    "    def define_optimizer(self, optimizer_name=\"Adam\", learning_rate=0.01):\n",
    "        params = [self.proposed_mean, self.proposed_covariance]\n",
    "        if optimizer_name == \"Adam\":\n",
    "            self.optimizer = torch.optim.Adam(params, lr=learning_rate)\n",
    "        elif optimizer_name == \"SGD\":\n",
    "            self.optimizer = torch.optim.SGD(params, lr=learning_rate)\n",
    "        else:\n",
    "            raise ValueError(\"Optimizer not implemented yet.\")\n",
    "    \n",
    "    def run(self, n_epochs=1000):\n",
    "        self.neg_log_lik_hist = []  # reset history\n",
    "\n",
    "        for step in range(n_epochs):\n",
    "            self.optimizer.zero_grad()\n",
    "\n",
    "            # variance (>=0) \n",
    "            var = self.proposed_covariance\n",
    "            std = torch.sqrt(var + 1e-12)\n",
    "\n",
    "            # Negative log-likelihood (Monte Carlo on fixed data samples)\n",
    "            nll = -torch.distributions.Normal(self.proposed_mean, scale=std)\\\n",
    "                    .log_prob(self.samples).mean()\n",
    "\n",
    "            # KL(q||p) between two 1D Gaussians\n",
    "            kl = 0.5 * (\n",
    "                (var / self.prior_covariance) +\n",
    "                ((self.prior_mean - self.proposed_mean)**2 / self.prior_covariance) -\n",
    "                1 + torch.log(self.prior_covariance / (var + 1e-12))\n",
    "            )\n",
    "            kl = kl.mean()\n",
    "\n",
    "            # ELBO objective to minimize: nll + KL\n",
    "            elbo = nll + kl\n",
    "\n",
    "            elbo.backward()\n",
    "            self.optimizer.step()\n",
    "\n",
    "            # record\n",
    "            self.neg_log_lik_hist.append(float(nll.detach()))\n",
    "\n",
    "            if step % 10 == 0:\n",
    "                print(\"=====================================\")\n",
    "                print(f\"Step {step}: Neg Log Likelihood = {nll.item():.4f}\")\n",
    "                print(f\"Step {step}: ELBO = {elbo.item():.4f}\")\n",
    "                print(f\"Mean = {self.proposed_mean.detach().cpu().numpy()}\")\n",
    "                print(f\"Variance = {var.detach().cpu().numpy()}\")\n",
    "\n",
    "        return self.proposed_mean.detach().cpu().numpy(), var.detach().cpu().numpy()\n",
    "    \n",
    "    def plot_results(self):\n",
    "        # estimated params\n",
    "        estimated_mean = float(self.proposed_mean.detach())\n",
    "        estimated_var  = float(self.proposed_covariance.detach())\n",
    "        estimated_std  = float(np.sqrt(max(estimated_var, 1e-12)))\n",
    "\n",
    "        # PDFs\n",
    "        x = torch.linspace(-10, 10, 1000)\n",
    "        true_pdf = self.target_distribution.pdf(x).detach().cpu().numpy()\n",
    "        x_np = x.detach().cpu().numpy()\n",
    "        est_pdf = (1.0 / (np.sqrt(2*np.pi) * estimated_std)) * \\\n",
    "                  np.exp(-0.5 * ((x_np - estimated_mean) / estimated_std) ** 2)\n",
    "        fig, axes = plt.subplots(1, 2, figsize=(10, 4))\n",
    "\n",
    "        # Left: PDFs\n",
    "        axes[0].plot(x_np, true_pdf, 'r--', label=\"True PDF\")\n",
    "        axes[0].plot(x_np, est_pdf,  'k-',  label=\"Estimated PDF\")\n",
    "        axes[0].set_xlim(-10, 10)\n",
    "        axes[0].set_xlabel(\"x\"); axes[0].set_ylabel(\"Density\")\n",
    "        axes[0].set_title(\"Variational Inference (1D)\")\n",
    "        axes[0].legend()\n",
    "\n",
    "        # Right: NLL history\n",
    "        if hasattr(self, \"neg_log_lik_hist\") and len(self.neg_log_lik_hist) > 0:\n",
    "            axes[1].plot(np.arange(len(self.neg_log_lik_hist)), self.neg_log_lik_hist)\n",
    "            axes[1].set_xlabel(\"Epoch\")\n",
    "            axes[1].set_ylabel(\"Negative Log-Likelihood\")\n",
    "            axes[1].set_title(\"NLL over Epochs\")\n",
    "        else:\n",
    "            axes[1].text(0.5, 0.5, \"Run VI first to collect NLL\", ha='center', va='center')\n",
    "            axes[1].set_axis_off()\n",
    "\n",
    "        plt.tight_layout()\n",
    "        plt.show()\n"
   ]
  },
  {
   "cell_type": "markdown",
   "metadata": {
    "slideshow": {
     "slide_type": "slide"
    }
   },
   "source": [
    "### Use VI to obtain a parametric distribution for the target distbution"
   ]
  },
  {
   "cell_type": "code",
   "execution_count": 4,
   "metadata": {
    "slideshow": {
     "slide_type": "fragment"
    }
   },
   "outputs": [
    {
     "name": "stdout",
     "output_type": "stream",
     "text": [
      "=====================================\n",
      "Step 0: Neg Log Likelihood = 3.4243\n",
      "Step 0: ELBO = 3.4243\n",
      "Mean = [0.07941902]\n",
      "Variance = [1.2005392]\n",
      "=====================================\n",
      "Step 10: Neg Log Likelihood = 2.5382\n",
      "Step 10: ELBO = 2.6651\n",
      "Mean = [0.2700303]\n",
      "Variance = [1.7602158]\n",
      "=====================================\n",
      "Step 20: Neg Log Likelihood = 2.4532\n",
      "Step 20: ELBO = 2.6267\n",
      "Mean = [0.27510405]\n",
      "Variance = [1.9395361]\n",
      "=====================================\n",
      "Step 30: Neg Log Likelihood = 2.4221\n",
      "Step 30: ELBO = 2.6173\n",
      "Mean = [0.2670206]\n",
      "Variance = [2.030392]\n",
      "=====================================\n",
      "Step 40: Neg Log Likelihood = 2.4069\n",
      "Step 40: ELBO = 2.6143\n",
      "Mean = [0.26087674]\n",
      "Variance = [2.081899]\n",
      "=====================================\n",
      "Step 50: Neg Log Likelihood = 2.3985\n",
      "Step 50: ELBO = 2.6133\n",
      "Mean = [0.25708377]\n",
      "Variance = [2.112542]\n",
      "=====================================\n",
      "Step 60: Neg Log Likelihood = 2.3935\n",
      "Step 60: ELBO = 2.6129\n",
      "Mean = [0.25480115]\n",
      "Variance = [2.1312273]\n",
      "=====================================\n",
      "Step 70: Neg Log Likelihood = 2.3905\n",
      "Step 70: ELBO = 2.6127\n",
      "Mean = [0.25341657]\n",
      "Variance = [2.1427798]\n",
      "=====================================\n",
      "Step 80: Neg Log Likelihood = 2.3887\n",
      "Step 80: ELBO = 2.6127\n",
      "Mean = [0.25256655]\n",
      "Variance = [2.1499815]\n",
      "=====================================\n",
      "Step 90: Neg Log Likelihood = 2.3875\n",
      "Step 90: ELBO = 2.6127\n",
      "Mean = [0.25203967]\n",
      "Variance = [2.1544926]\n",
      "=====================================\n",
      "Step 100: Neg Log Likelihood = 2.3868\n",
      "Step 100: ELBO = 2.6126\n",
      "Mean = [0.25171086]\n",
      "Variance = [2.157327]\n",
      "=====================================\n",
      "Step 110: Neg Log Likelihood = 2.3863\n",
      "Step 110: ELBO = 2.6126\n",
      "Mean = [0.2515048]\n",
      "Variance = [2.1591113]\n",
      "=====================================\n",
      "Step 120: Neg Log Likelihood = 2.3861\n",
      "Step 120: ELBO = 2.6126\n",
      "Mean = [0.25137523]\n",
      "Variance = [2.160236]\n",
      "=====================================\n",
      "Step 130: Neg Log Likelihood = 2.3859\n",
      "Step 130: ELBO = 2.6126\n",
      "Mean = [0.2512937]\n",
      "Variance = [2.1609454]\n",
      "=====================================\n",
      "Step 140: Neg Log Likelihood = 2.3858\n",
      "Step 140: ELBO = 2.6126\n",
      "Mean = [0.25124228]\n",
      "Variance = [2.161393]\n",
      "=====================================\n",
      "Step 150: Neg Log Likelihood = 2.3857\n",
      "Step 150: ELBO = 2.6126\n",
      "Mean = [0.25120983]\n",
      "Variance = [2.1616757]\n",
      "=====================================\n",
      "Step 160: Neg Log Likelihood = 2.3856\n",
      "Step 160: ELBO = 2.6126\n",
      "Mean = [0.2511894]\n",
      "Variance = [2.1618536]\n",
      "=====================================\n",
      "Step 170: Neg Log Likelihood = 2.3856\n",
      "Step 170: ELBO = 2.6126\n",
      "Mean = [0.2511765]\n",
      "Variance = [2.1619666]\n",
      "=====================================\n",
      "Step 180: Neg Log Likelihood = 2.3856\n",
      "Step 180: ELBO = 2.6126\n",
      "Mean = [0.25116834]\n",
      "Variance = [2.1620376]\n",
      "=====================================\n",
      "Step 190: Neg Log Likelihood = 2.3856\n",
      "Step 190: ELBO = 2.6126\n",
      "Mean = [0.25116318]\n",
      "Variance = [2.1620824]\n",
      "=====================================\n",
      "Step 200: Neg Log Likelihood = 2.3856\n",
      "Step 200: ELBO = 2.6126\n",
      "Mean = [0.2511599]\n",
      "Variance = [2.1621113]\n",
      "=====================================\n",
      "Step 210: Neg Log Likelihood = 2.3856\n",
      "Step 210: ELBO = 2.6126\n",
      "Mean = [0.25115785]\n",
      "Variance = [2.1621292]\n",
      "=====================================\n",
      "Step 220: Neg Log Likelihood = 2.3856\n",
      "Step 220: ELBO = 2.6126\n",
      "Mean = [0.25115657]\n",
      "Variance = [2.1621404]\n",
      "=====================================\n",
      "Step 230: Neg Log Likelihood = 2.3856\n",
      "Step 230: ELBO = 2.6126\n",
      "Mean = [0.25115576]\n",
      "Variance = [2.1621473]\n",
      "=====================================\n",
      "Step 240: Neg Log Likelihood = 2.3856\n",
      "Step 240: ELBO = 2.6126\n",
      "Mean = [0.25115523]\n",
      "Variance = [2.1621518]\n",
      "=====================================\n",
      "Step 250: Neg Log Likelihood = 2.3856\n",
      "Step 250: ELBO = 2.6126\n",
      "Mean = [0.25115493]\n",
      "Variance = [2.1621542]\n",
      "=====================================\n",
      "Step 260: Neg Log Likelihood = 2.3856\n",
      "Step 260: ELBO = 2.6126\n",
      "Mean = [0.25115472]\n",
      "Variance = [2.1621566]\n",
      "=====================================\n",
      "Step 270: Neg Log Likelihood = 2.3856\n",
      "Step 270: ELBO = 2.6126\n",
      "Mean = [0.2511546]\n",
      "Variance = [2.162157]\n",
      "=====================================\n",
      "Step 280: Neg Log Likelihood = 2.3856\n",
      "Step 280: ELBO = 2.6126\n",
      "Mean = [0.2511546]\n",
      "Variance = [2.162157]\n",
      "=====================================\n",
      "Step 290: Neg Log Likelihood = 2.3856\n",
      "Step 290: ELBO = 2.6126\n",
      "Mean = [0.2511546]\n",
      "Variance = [2.162157]\n"
     ]
    }
   ],
   "source": [
    "# play with the paramters\n",
    "vi = VariationalInference(target_distribution=dis,\n",
    "                           prior_mean=torch.tensor([0.0]),\n",
    "                            prior_covariance=torch.tensor([1.0]),\n",
    "                            num_samples=100000)\n",
    "vi.define_optimizer(optimizer_name=\"SGD\", learning_rate=0.1)\n",
    "estimated_mean, estimated_covariance = vi.run(n_epochs=300)\n"
   ]
  },
  {
   "cell_type": "code",
   "execution_count": 5,
   "metadata": {
    "slideshow": {
     "slide_type": "slide"
    }
   },
   "outputs": [
    {
     "name": "stderr",
     "output_type": "stream",
     "text": [
      "/tmp/ipykernel_46964/399156165.py:45: DeprecationWarning: __array_wrap__ must accept context and return_scalar arguments (positionally) in the future. (Deprecated NumPy 2.0)\n",
      "  return 1.0/(np.sqrt(2 * np.pi)) * np.exp(- ( x- mu)**2 / 2*sigma**2)\n"
     ]
    },
    {
     "data": {
      "image/png": "[encoded data removed]",
      "text/plain": [
       "<Figure size 1000x400 with 2 Axes>"
      ]
     },
     "metadata": {},
     "output_type": "display_data"
    }
   ],
   "source": [
    "vi.plot_results()"
   ]
  },
  {
   "cell_type": "markdown",
   "metadata": {
    "slideshow": {
     "slide_type": "slide"
    }
   },
   "source": [
    "### When VI meets neural networks\n",
    "**Recall the one-dimensional regression problem**\n",
    "\n"
   ]
  },
  {
   "cell_type": "code",
   "execution_count": 6,
   "metadata": {
    "slideshow": {
     "slide_type": "fragment"
    }
   },
   "outputs": [],
   "source": [
    "## Define a one-dimensional problem \n",
    "torch.manual_seed(0)  # fix the seed\n",
    "def cubic_sin(x: torch.Tensor,\n",
    "              noise_std: float = 0.1) -> torch.Tensor:\n",
    "    \"\"\"dis continuous function with noise\"\"\"\n",
    "\n",
    "    obj = torch.sin(6*x)**3 + torch.randn_like(x) * noise_std\n",
    "\n",
    "    return obj.reshape((-1, 1))\n",
    "# get the training samples\n",
    "sample_x1 = torch.linspace(-0.8, -0.2, 16).reshape((-1, 1))\n",
    "sample_x2 = torch.linspace(0.2, 0.8, 16).reshape((-1, 1))\n",
    "sample_x = torch.cat([sample_x1, sample_x2], dim=0)\n",
    "# scale the data\n",
    "x_mean = sample_x.mean(); x_std = sample_x.std()\n",
    "sample_x_scaled = (sample_x - x_mean) / x_std\n",
    "# get the responses\n",
    "sample_y = cubic_sin(sample_x, noise_std=0.1)\n",
    "# scale the y\n",
    "y_mean = sample_y.mean(); y_std = sample_y.std()\n",
    "sample_y_scaled = (sample_y - y_mean) / y_std"
   ]
  },
  {
   "cell_type": "markdown",
   "metadata": {
    "slideshow": {
     "slide_type": "slide"
    }
   },
   "source": [
    "### Define a variational layer for neural network"
   ]
  },
  {
   "cell_type": "code",
   "execution_count": 7,
   "metadata": {
    "slideshow": {
     "slide_type": "fragment"
    }
   },
   "outputs": [],
   "source": [
    "\n",
    "class VariationalLinear(nn.Module):\n",
    "    \"\"\"Define one VI layer\"\"\"\n",
    "    def __init__(self, in_features, out_features, prior_mu, prior_sigma):\n",
    "        super().__init__()\n",
    "        self.weight_mu  = nn.Parameter(torch.empty(out_features, in_features))\n",
    "        self.weight_rho = nn.Parameter(torch.empty(out_features, in_features))\n",
    "        self.bias_mu    = nn.Parameter(torch.empty(out_features))\n",
    "        self.bias_rho   = nn.Parameter(torch.empty(out_features))\n",
    "        self.reset_parameters()\n",
    "        self.prior_mu = prior_mu\n",
    "        self.prior_sigma = prior_sigma\n",
    "    def _sigma(self, rho):\n",
    "        return F.softplus(rho) # make sure variance is larger than zero \n",
    "\n",
    "    def forward(self, x):\n",
    "        eps_w = torch.randn_like(self.weight_mu)\n",
    "        eps_b = torch.randn_like(self.bias_mu)\n",
    "        weight = self.weight_mu + self._sigma(self.weight_rho) * eps_w\n",
    "        bias   = self.bias_mu   + self._sigma(self.bias_rho)   * eps_b\n",
    "        return F.linear(x, weight, bias)\n",
    "\n",
    "    def kl_divergence(self):\n",
    "        # posterior parameters\n",
    "        sigma_w_q = self._sigma(self.weight_rho)\n",
    "        sigma_b_q = self._sigma(self.bias_rho)\n",
    "        mu_w_q = self.weight_mu\n",
    "        mu_b_q = self.bias_mu\n",
    "        # prior parameters (broadcast)\n",
    "        mu_p = self.prior_mu; sigma_p = self.prior_sigma\n",
    "        kl_w = torch.log(sigma_p / sigma_w_q) \\\n",
    "               + (sigma_w_q.pow(2) + (mu_w_q - mu_p).pow(2)) / (2 * sigma_p**2) \\\n",
    "               - 0.5\n",
    "        kl_b = torch.log(sigma_p / sigma_b_q) \\\n",
    "               + (sigma_b_q.pow(2) + (mu_b_q - mu_p).pow(2)) / (2 * sigma_p**2) \\\n",
    "               - 0.5\n",
    "        return kl_w.sum() + kl_b.sum()\n",
    "    \n",
    "    def reset_parameters(self) -> None:\n",
    "        layer_width = math.sqrt(self.weight_mu.size(1))\n",
    "        self.weight_mu.data.uniform_(-layer_width, layer_width)\n",
    "        self.weight_rho.data.uniform_(-layer_width, layer_width)\n",
    "        self.bias_mu.data.uniform_(-layer_width, layer_width)\n",
    "        self.bias_rho.data.uniform_(-layer_width, layer_width)"
   ]
  },
  {
   "cell_type": "markdown",
   "metadata": {
    "slideshow": {
     "slide_type": "slide"
    }
   },
   "source": [
    "### Assemble a MLP with multiple layers"
   ]
  },
  {
   "cell_type": "code",
   "execution_count": 26,
   "metadata": {
    "slideshow": {
     "slide_type": "fragment"
    }
   },
   "outputs": [
    {
     "name": "stdout",
     "output_type": "stream",
     "text": [
      "Number of params: 282\n"
     ]
    }
   ],
   "source": [
    "class BNN_VI(nn.Module):\n",
    "    def __init__(self, input_dim, hidden_dim, output_dim, prior_mu, prior_sigma):\n",
    "        super().__init__()\n",
    "        self.fc1 = VariationalLinear(input_dim,  hidden_dim, prior_mu, prior_sigma)\n",
    "        self.fc2 = VariationalLinear(hidden_dim, hidden_dim, prior_mu, prior_sigma)\n",
    "        self.fc3 = VariationalLinear(hidden_dim, output_dim, prior_mu, prior_sigma)\n",
    "\n",
    "    def forward(self, x):\n",
    "        x = torch.tanh(self.fc1(x))\n",
    "        x = torch.tanh(self.fc2(x))\n",
    "        x = self.fc3(x)\n",
    "        return x\n",
    "\n",
    "    def kl_divergence(self):\n",
    "        return self.fc1.kl_divergence() + self.fc2.kl_divergence() + self.fc3.kl_divergence()\n",
    "\n",
    "network = BNN_VI(input_dim=1, hidden_dim=10, output_dim=1, prior_mu=0.0, prior_sigma=1.0)\n",
    "# print number of params\n",
    "print(\"Number of params:\", sum(p.numel() for p in network.parameters()))"
   ]
  },
  {
   "cell_type": "markdown",
   "metadata": {
    "slideshow": {
     "slide_type": "slide"
    }
   },
   "source": [
    "### Training routine of VI for BNN "
   ]
  },
  {
   "cell_type": "code",
   "execution_count": 27,
   "metadata": {
    "slideshow": {
     "slide_type": "skip"
    }
   },
   "outputs": [],
   "source": [
    "# ---------- Gaussian NLL (sum reduction), fixed homoscedastic noise ----------\n",
    "def gaussian_nll_sum(y_pred, y_true, noise_var):\n",
    "    inv_var = 1.0 / noise_var\n",
    "    log_var = torch.log(noise_var)\n",
    "    nll = 0.5 * ((y_true - y_pred) ** 2 * inv_var + log_var)  # no constant term\n",
    "    return nll.sum()\n",
    "\n",
    "class VITrainer:\n",
    "    def __init__(self, net, noise_var):\n",
    "        self.net = net\n",
    "        self.noise_var = noise_var\n",
    "        self.optimizer = None\n",
    "\n",
    "    def configure_optimizer_info(self, optimizer_name=\"Adam\", lr=1e-3):\n",
    "        if optimizer_name == \"Adam\":\n",
    "            self.optimizer = torch.optim.Adam(self.net.parameters(), lr=lr)\n",
    "        elif optimizer_name == \"SGD\":\n",
    "            self.optimizer = torch.optim.SGD(self.net.parameters(), lr=lr)\n",
    "\n",
    "    def train(self, x, y, num_epochs, num_integral=10, verbose=True, print_every=10):\n",
    "        N = x.shape[0]\n",
    "        self.num_epochs = num_epochs\n",
    "        self.nll_loss_train = np.zeros(num_epochs)\n",
    "        self.kl_loss_train  = np.zeros(num_epochs)\n",
    "        self.total_loss     = np.zeros(num_epochs)\n",
    "        self.best_loss_epoch= np.zeros(num_epochs)\n",
    "        self.best_net, self.best_loss = None, float(\"inf\")\n",
    "\n",
    "        for epoch in range(num_epochs):\n",
    "            self.optimizer.zero_grad()\n",
    "            nll_integral = 0.0\n",
    "            for _ in range(num_integral):\n",
    "                self.net.train()         \n",
    "                yhat = self.net(x)\n",
    "                nll  = gaussian_nll_sum(yhat, y, self.noise_var)\n",
    "                nll_integral += nll\n",
    "            nll_integral = nll_integral / num_integral\n",
    "\n",
    "            # KL term\n",
    "            kl_loss = self.net.kl_divergence()\n",
    "\n",
    "            # ELBO loss = E_q[NLL] + KL\n",
    "            loss = nll_integral - kl_loss\n",
    "            loss.backward()\n",
    "            self.optimizer.step()\n",
    "\n",
    "            # Record\n",
    "            self.nll_loss_train[epoch] = nll_integral.item()\n",
    "            self.kl_loss_train[epoch]  = kl_loss.item()\n",
    "            self.total_loss[epoch]     = loss.item()\n",
    "\n",
    "            # Keep best by NLL\n",
    "            if self.nll_loss_train[epoch] < self.best_loss:\n",
    "                self.best_loss = self.nll_loss_train[epoch]\n",
    "                self.best_net  = copy.deepcopy(self.net)\n",
    "            self.best_loss_epoch[epoch] = self.best_loss\n",
    "\n",
    "            if verbose and ((epoch + 1) % print_every == 0 or epoch == 0):\n",
    "                self._print(epoch, N)\n",
    "\n",
    "    @torch.no_grad()\n",
    "    def predict(self, x, num_integral=30, save_ppd=False):\n",
    "        self.best_net.eval()\n",
    "        responses = []\n",
    "        for _ in range(num_integral):\n",
    "            self.best_net.train()   # force sampling\n",
    "            y_pred = self.best_net(x)\n",
    "            self.best_net.eval()\n",
    "            responses.append(y_pred)\n",
    "        stack = torch.stack(responses, dim=0) \n",
    "        y_pred = stack.mean(dim=0)\n",
    "        y_epistemic_var = stack.var(dim=0, unbiased=False)\n",
    "\n",
    "        if save_ppd:\n",
    "            self.responses = responses\n",
    "        return y_pred,  y_epistemic_var\n",
    "\n",
    "    def _print(self, iteration, N):\n",
    "        print(\"==================================================\")\n",
    "        print(f\"epoch: {iteration + 1:5d}/{self.num_epochs:5d}\")\n",
    "        print(f\"nll_loss: {self.nll_loss_train[iteration]:.3f}, \"\n",
    "              f\"kl_loss: {self.kl_loss_train[iteration]:.3f}, \"\n",
    "              f\"total: {self.total_loss[iteration]:.3f}\")\n",
    "        print(f\"best_loss: {self.best_loss:.4f}\")\n",
    "        print(f\"noise_var: {self.noise_var}\")"
   ]
  },
  {
   "cell_type": "code",
   "execution_count": 38,
   "metadata": {
    "slideshow": {
     "slide_type": "slide"
    }
   },
   "outputs": [
    {
     "name": "stdout",
     "output_type": "stream",
     "text": [
      "==================================================\n",
      "epoch:     1/ 5000\n",
      "nll_loss: 897.756, kl_loss: 404.367, total: 493.390\n",
      "best_loss: 897.7562\n",
      "noise_var: 0.026290807873010635\n",
      "==================================================\n",
      "epoch:   100/ 5000\n",
      "nll_loss: 739.430, kl_loss: 418.666, total: 320.763\n",
      "best_loss: 584.4443\n",
      "noise_var: 0.026290807873010635\n",
      "==================================================\n",
      "epoch:   200/ 5000\n",
      "nll_loss: 643.748, kl_loss: 433.259, total: 210.489\n",
      "best_loss: 553.0947\n",
      "noise_var: 0.026290807873010635\n",
      "==================================================\n",
      "epoch:   300/ 5000\n",
      "nll_loss: 772.280, kl_loss: 448.892, total: 323.388\n",
      "best_loss: 553.0947\n",
      "noise_var: 0.026290807873010635\n",
      "==================================================\n",
      "epoch:   400/ 5000\n",
      "nll_loss: 602.612, kl_loss: 465.357, total: 137.255\n",
      "best_loss: 508.8472\n",
      "noise_var: 0.026290807873010635\n",
      "==================================================\n",
      "epoch:   500/ 5000\n",
      "nll_loss: 651.729, kl_loss: 482.873, total: 168.856\n",
      "best_loss: 508.8472\n",
      "noise_var: 0.026290807873010635\n",
      "==================================================\n",
      "epoch:   600/ 5000\n",
      "nll_loss: 685.092, kl_loss: 501.284, total: 183.809\n",
      "best_loss: 508.8472\n",
      "noise_var: 0.026290807873010635\n",
      "==================================================\n",
      "epoch:   700/ 5000\n",
      "nll_loss: 637.786, kl_loss: 520.857, total: 116.929\n",
      "best_loss: 482.2481\n",
      "noise_var: 0.026290807873010635\n",
      "==================================================\n",
      "epoch:   800/ 5000\n",
      "nll_loss: 694.444, kl_loss: 541.405, total: 153.039\n",
      "best_loss: 482.2481\n",
      "noise_var: 0.026290807873010635\n",
      "==================================================\n",
      "epoch:   900/ 5000\n",
      "nll_loss: 540.526, kl_loss: 563.140, total: -22.614\n",
      "best_loss: 482.2481\n",
      "noise_var: 0.026290807873010635\n",
      "==================================================\n",
      "epoch:  1000/ 5000\n",
      "nll_loss: 489.888, kl_loss: 586.231, total: -96.343\n",
      "best_loss: 473.4123\n",
      "noise_var: 0.026290807873010635\n",
      "==================================================\n",
      "epoch:  1100/ 5000\n",
      "nll_loss: 527.081, kl_loss: 610.512, total: -83.431\n",
      "best_loss: 473.0376\n",
      "noise_var: 0.026290807873010635\n",
      "==================================================\n",
      "epoch:  1200/ 5000\n",
      "nll_loss: 598.895, kl_loss: 636.161, total: -37.266\n",
      "best_loss: 452.9901\n",
      "noise_var: 0.026290807873010635\n",
      "==================================================\n",
      "epoch:  1300/ 5000\n",
      "nll_loss: 547.299, kl_loss: 663.208, total: -115.909\n",
      "best_loss: 452.9901\n",
      "noise_var: 0.026290807873010635\n",
      "==================================================\n",
      "epoch:  1400/ 5000\n",
      "nll_loss: 549.097, kl_loss: 691.865, total: -142.768\n",
      "best_loss: 443.5131\n",
      "noise_var: 0.026290807873010635\n",
      "==================================================\n",
      "epoch:  1500/ 5000\n",
      "nll_loss: 580.325, kl_loss: 722.042, total: -141.716\n",
      "best_loss: 413.4606\n",
      "noise_var: 0.026290807873010635\n",
      "==================================================\n",
      "epoch:  1600/ 5000\n",
      "nll_loss: 532.406, kl_loss: 753.668, total: -221.262\n",
      "best_loss: 413.4606\n",
      "noise_var: 0.026290807873010635\n",
      "==================================================\n",
      "epoch:  1700/ 5000\n",
      "nll_loss: 412.954, kl_loss: 786.932, total: -373.978\n",
      "best_loss: 412.9537\n",
      "noise_var: 0.026290807873010635\n",
      "==================================================\n",
      "epoch:  1800/ 5000\n",
      "nll_loss: 474.242, kl_loss: 821.905, total: -347.663\n",
      "best_loss: 397.2276\n",
      "noise_var: 0.026290807873010635\n",
      "==================================================\n",
      "epoch:  1900/ 5000\n",
      "nll_loss: 474.677, kl_loss: 858.685, total: -384.008\n",
      "best_loss: 389.2292\n",
      "noise_var: 0.026290807873010635\n",
      "==================================================\n",
      "epoch:  2000/ 5000\n",
      "nll_loss: 469.206, kl_loss: 897.224, total: -428.018\n",
      "best_loss: 385.5903\n",
      "noise_var: 0.026290807873010635\n",
      "==================================================\n",
      "epoch:  2100/ 5000\n",
      "nll_loss: 452.002, kl_loss: 937.641, total: -485.639\n",
      "best_loss: 385.5903\n",
      "noise_var: 0.026290807873010635\n",
      "==================================================\n",
      "epoch:  2200/ 5000\n",
      "nll_loss: 414.859, kl_loss: 980.000, total: -565.141\n",
      "best_loss: 377.8463\n",
      "noise_var: 0.026290807873010635\n",
      "==================================================\n",
      "epoch:  2300/ 5000\n",
      "nll_loss: 408.721, kl_loss: 1024.240, total: -615.519\n",
      "best_loss: 365.5563\n",
      "noise_var: 0.026290807873010635\n",
      "==================================================\n",
      "epoch:  2400/ 5000\n",
      "nll_loss: 422.621, kl_loss: 1070.424, total: -647.803\n",
      "best_loss: 363.3670\n",
      "noise_var: 0.026290807873010635\n",
      "==================================================\n",
      "epoch:  2500/ 5000\n",
      "nll_loss: 399.410, kl_loss: 1118.482, total: -719.072\n",
      "best_loss: 353.6473\n",
      "noise_var: 0.026290807873010635\n",
      "==================================================\n",
      "epoch:  2600/ 5000\n",
      "nll_loss: 394.145, kl_loss: 1168.370, total: -774.224\n",
      "best_loss: 341.1900\n",
      "noise_var: 0.026290807873010635\n",
      "==================================================\n",
      "epoch:  2700/ 5000\n",
      "nll_loss: 366.371, kl_loss: 1220.179, total: -853.808\n",
      "best_loss: 291.0689\n",
      "noise_var: 0.026290807873010635\n",
      "==================================================\n",
      "epoch:  2800/ 5000\n",
      "nll_loss: 356.473, kl_loss: 1273.657, total: -917.183\n",
      "best_loss: 290.9866\n",
      "noise_var: 0.026290807873010635\n",
      "==================================================\n",
      "epoch:  2900/ 5000\n",
      "nll_loss: 345.807, kl_loss: 1328.957, total: -983.150\n",
      "best_loss: 250.4589\n",
      "noise_var: 0.026290807873010635\n",
      "==================================================\n",
      "epoch:  3000/ 5000\n",
      "nll_loss: 302.308, kl_loss: 1385.721, total: -1083.413\n",
      "best_loss: 223.9137\n",
      "noise_var: 0.026290807873010635\n",
      "==================================================\n",
      "epoch:  3100/ 5000\n",
      "nll_loss: 326.671, kl_loss: 1444.110, total: -1117.439\n",
      "best_loss: 207.4908\n",
      "noise_var: 0.026290807873010635\n",
      "==================================================\n",
      "epoch:  3200/ 5000\n",
      "nll_loss: 251.390, kl_loss: 1504.078, total: -1252.688\n",
      "best_loss: 166.0753\n",
      "noise_var: 0.026290807873010635\n",
      "==================================================\n",
      "epoch:  3300/ 5000\n",
      "nll_loss: 221.846, kl_loss: 1565.757, total: -1343.911\n",
      "best_loss: 147.8741\n",
      "noise_var: 0.026290807873010635\n",
      "==================================================\n",
      "epoch:  3400/ 5000\n",
      "nll_loss: 203.150, kl_loss: 1629.113, total: -1425.962\n",
      "best_loss: 122.1488\n",
      "noise_var: 0.026290807873010635\n",
      "==================================================\n",
      "epoch:  3500/ 5000\n",
      "nll_loss: 129.993, kl_loss: 1694.280, total: -1564.287\n",
      "best_loss: 122.1488\n",
      "noise_var: 0.026290807873010635\n",
      "==================================================\n",
      "epoch:  3600/ 5000\n",
      "nll_loss: 137.198, kl_loss: 1761.325, total: -1624.128\n",
      "best_loss: 101.1120\n",
      "noise_var: 0.026290807873010635\n",
      "==================================================\n",
      "epoch:  3700/ 5000\n",
      "nll_loss: 133.594, kl_loss: 1830.038, total: -1696.444\n",
      "best_loss: 101.1120\n",
      "noise_var: 0.026290807873010635\n",
      "==================================================\n",
      "epoch:  3800/ 5000\n",
      "nll_loss: 97.177, kl_loss: 1900.820, total: -1803.643\n",
      "best_loss: 97.1772\n",
      "noise_var: 0.026290807873010635\n",
      "==================================================\n",
      "epoch:  3900/ 5000\n",
      "nll_loss: 91.931, kl_loss: 1973.445, total: -1881.513\n",
      "best_loss: 88.2916\n",
      "noise_var: 0.026290807873010635\n",
      "==================================================\n",
      "epoch:  4000/ 5000\n",
      "nll_loss: 117.953, kl_loss: 2048.090, total: -1930.137\n",
      "best_loss: 87.5176\n",
      "noise_var: 0.026290807873010635\n",
      "==================================================\n",
      "epoch:  4100/ 5000\n",
      "nll_loss: 86.480, kl_loss: 2124.759, total: -2038.279\n",
      "best_loss: 80.6313\n",
      "noise_var: 0.026290807873010635\n",
      "==================================================\n",
      "epoch:  4200/ 5000\n",
      "nll_loss: 94.201, kl_loss: 2203.366, total: -2109.165\n",
      "best_loss: 80.6313\n",
      "noise_var: 0.026290807873010635\n",
      "==================================================\n",
      "epoch:  4300/ 5000\n",
      "nll_loss: 109.512, kl_loss: 2284.007, total: -2174.495\n",
      "best_loss: 77.5392\n",
      "noise_var: 0.026290807873010635\n",
      "==================================================\n",
      "epoch:  4400/ 5000\n",
      "nll_loss: 92.323, kl_loss: 2366.606, total: -2274.282\n",
      "best_loss: 65.5385\n",
      "noise_var: 0.026290807873010635\n",
      "==================================================\n",
      "epoch:  4500/ 5000\n",
      "nll_loss: 82.551, kl_loss: 2451.181, total: -2368.630\n",
      "best_loss: 65.5385\n",
      "noise_var: 0.026290807873010635\n",
      "==================================================\n",
      "epoch:  4600/ 5000\n",
      "nll_loss: 69.729, kl_loss: 2537.611, total: -2467.882\n",
      "best_loss: 65.5385\n",
      "noise_var: 0.026290807873010635\n"
     ]
    },
    {
     "name": "stdout",
     "output_type": "stream",
     "text": [
      "==================================================\n",
      "epoch:  4700/ 5000\n",
      "nll_loss: 83.380, kl_loss: 2625.912, total: -2542.532\n",
      "best_loss: 61.7271\n",
      "noise_var: 0.026290807873010635\n",
      "==================================================\n",
      "epoch:  4800/ 5000\n",
      "nll_loss: 80.818, kl_loss: 2716.263, total: -2635.446\n",
      "best_loss: 61.7271\n",
      "noise_var: 0.026290807873010635\n",
      "==================================================\n",
      "epoch:  4900/ 5000\n",
      "nll_loss: 82.544, kl_loss: 2808.387, total: -2725.844\n",
      "best_loss: 59.1331\n",
      "noise_var: 0.026290807873010635\n",
      "==================================================\n",
      "epoch:  5000/ 5000\n",
      "nll_loss: 82.495, kl_loss: 2902.448, total: -2819.953\n",
      "best_loss: 56.7415\n",
      "noise_var: 0.026290807873010635\n"
     ]
    }
   ],
   "source": [
    "trainer = VITrainer(net=network, noise_var=torch.tensor(0.01)/y_std**2)\n",
    "trainer.configure_optimizer_info(\"Adam\", lr=1e-3)\n",
    "trainer.train(\n",
    "    x=sample_x_scaled,\n",
    "    y=sample_y_scaled,\n",
    "    num_epochs=5000,\n",
    "    num_integral=10,\n",
    "    verbose=True,\n",
    "    print_every=100,\n",
    ")\n"
   ]
  },
  {
   "cell_type": "code",
   "execution_count": 39,
   "metadata": {
    "slideshow": {
     "slide_type": "skip"
    }
   },
   "outputs": [],
   "source": [
    "\n",
    "def plot_prediction():\n",
    "    test_x = torch.linspace(-1, 1, 100).reshape((-1, 1))\n",
    "    # scale \n",
    "    test_x_scaled = (test_x-x_mean)/x_std.numpy()\n",
    "    test_y = cubic_sin(test_x, noise_std=0)  # ground truth\n",
    "\n",
    "    # code here to visualize your result\n",
    "    pred_mean, epistemic = trainer.predict(test_x_scaled,num_integral=1000)\n",
    "    # scale it back \n",
    "    pred_mean = pred_mean*y_std.numpy() + y_mean.numpy()\n",
    "    epistemic = epistemic**0.5*y_std.numpy()\n",
    "    # plot the result\n",
    "    fig, ax = plt.subplots(1,2, figsize=(10,4))\n",
    "    ax[0].plot(test_x.numpy(), test_y.numpy(),'--', linewidth=2, color='gray',label='True Function')\n",
    "    ax[0].plot(test_x.numpy(), pred_mean, color='b', label='Prediction')\n",
    "    ax[0].fill_between(test_x.numpy().reshape(-1), pred_mean.reshape(-1) - 1.96*epistemic.reshape(-1),\n",
    "                     pred_mean.reshape(-1) + 1.96*epistemic.reshape(-1), alpha=0.2, label='Epistemic')\n",
    "    ax[0].scatter(sample_x.numpy(), sample_y.numpy(), marker='o', s=40, label='Training Data')\n",
    "    ax[0].set_xlabel('x')\n",
    "    ax[0].set_ylabel('y')\n",
    "    \n",
    "    ax[0].legend()\n",
    "    ax[1].plot(trainer.best_loss_epoch, 'o')\n",
    "    ax[1].set_xlabel('Epoch')\n",
    "    ax[1].set_ylabel('NLL')"
   ]
  },
  {
   "cell_type": "code",
   "execution_count": 40,
   "metadata": {
    "slideshow": {
     "slide_type": "slide"
    }
   },
   "outputs": [
    {
     "name": "stderr",
     "output_type": "stream",
     "text": [
      "/tmp/ipykernel_46964/2402854864.py:4: DeprecationWarning: __array_wrap__ must accept context and return_scalar arguments (positionally) in the future. (Deprecated NumPy 2.0)\n",
      "  test_x_scaled = (test_x-x_mean)/x_std.numpy()\n",
      "/tmp/ipykernel_46964/2402854864.py:10: DeprecationWarning: __array_wrap__ must accept context and return_scalar arguments (positionally) in the future. (Deprecated NumPy 2.0)\n",
      "  pred_mean = pred_mean*y_std.numpy() + y_mean.numpy()\n",
      "/tmp/ipykernel_46964/2402854864.py:11: DeprecationWarning: __array_wrap__ must accept context and return_scalar arguments (positionally) in the future. (Deprecated NumPy 2.0)\n",
      "  epistemic = epistemic**0.5*y_std.numpy()\n"
     ]
    },
    {
     "data": {
      "image/png": "[encoded data removed]",
      "text/plain": [
       "<Figure size 1000x400 with 2 Axes>"
      ]
     },
     "metadata": {},
     "output_type": "display_data"
    }
   ],
   "source": [
    "plot_prediction()"
   ]
  },
  {
   "cell_type": "markdown",
   "metadata": {
    "slideshow": {
     "slide_type": "slide"
    }
   },
   "source": [
    "### See you next class\n",
    "\n",
    "Have fun!"
   ]
  },
  {
   "cell_type": "code",
   "execution_count": null,
   "metadata": {},
   "outputs": [],
   "source": []
  }
 ],
 "metadata": {
  "celltoolbar": "Slideshow",
  "hide_code_all_hidden": false,
  "kernelspec": {
   "display_name": "Python (3dasm)",
   "language": "python",
   "name": "3dasm"
  },
  "language_info": {
   "codemirror_mode": {
    "name": "ipython",
    "version": 3
   },
   "file_extension": ".py",
   "mimetype": "text/x-python",
   "name": "python",
   "nbconvert_exporter": "python",
   "pygments_lexer": "ipython3",
   "version": "3.10.18"
  }
 },
 "nbformat": 4,
 "nbformat_minor": 4
}

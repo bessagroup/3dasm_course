{
 "cells": [
  {
   "cell_type": "markdown",
   "metadata": {
    "hideCode": false,
    "hidePrompt": false,
    "slideshow": {
     "slide_type": "slide"
    }
   },
   "source": [
    "<img src=../figures/Brown_logo.svg width=50%>\n",
    "\n",
    "## Data-Driven Design & Analyses of Structures & Materials (3dasm)\n",
    "\n",
    "## Lecture Variational Inference\n",
    "\n",
    "### Miguel A. Bessa | <a href = \"mailto: miguel_bessa@brown.edu\">miguel_bessa@brown.edu</a>  | Associate Professor"
   ]
  },
  {
   "cell_type": "markdown",
   "metadata": {
    "hideCode": false,
    "hidePrompt": false,
    "slideshow": {
     "slide_type": "slide"
    }
   },
   "source": [
    "## Outline for today\n",
    "\n",
    "* What is variational inference?\n",
    "* How to apply variational inference to train BNN?\n",
    "\n",
    "**Reading material**: This notebook + (Murphy's advanced book, chapter Part II Inference)"
   ]
  },
  {
   "cell_type": "markdown",
   "metadata": {
    "slideshow": {
     "slide_type": "slide"
    }
   },
   "source": [
    "## The goal of inference \n",
    "\n",
    "- The goal of inference is to approximate a target distribution\n",
    " <img align=center src=\"./figures/INFERENCE.png\" width=40%>\n",
    "\n",
    "- As introduced previously, MCMC-based sampling approaches try to explore the target distribution.\n",
    "- **Variational inference tries to use a parametric distribution to approach the target distribution**"
   ]
  },
  {
   "cell_type": "markdown",
   "metadata": {
    "slideshow": {
     "slide_type": "slide"
    }
   },
   "source": [
    "## Variational objective\n",
    "- **Objective of variational inference**\n",
    "\n",
    "    Use another distribution $q(\\theta)$ to approximate the posterior $p(\\theta|\\mathcal{D})$\n",
    "\n",
    " <img align=center src=\"./figures/variational_inference_schematic.png\" width=30%>\n",
    "\n",
    "- **Optimization objective** \n",
    "\n",
    "$$q = \\arg \\min_{q \\in \\Omega} \\mathrm{D}_\\mathbb{KL} \\left(q(\\theta||p(\\theta|\\mathcal{D}) \\right)  $$\n",
    "\n",
    "---\n",
    "[1] Murphy, K. P. (2023). Probabilistic machine learning: Advanced topics. MIT press."
   ]
  },
  {
   "cell_type": "markdown",
   "metadata": {
    "slideshow": {
     "slide_type": "slide"
    }
   },
   "source": [
    "### Transformation of variational objective \n",
    "\n",
    "In practice, $\\psi$ is used as the **variational parameter** from a parametric family $\\Omega$, and obtained by \n",
    "\n",
    "$$\n",
    "\\begin{align}\n",
    "\t\\label{eq:vi_inference_equation}\n",
    "    \\psi^* & = \\arg \\min_{\\psi} \\mathrm{D}_\\mathbb{KL} \\left(q_{\\psi}(\\boldsymbol{\\theta})||p_\\theta(\\boldsymbol{\\theta}|\\mathcal{D}) \\right)                                                                               \\\\\n",
    "           & =  \\arg \\min_{\\psi} \\mathbb{E}_{q_\\psi(\\boldsymbol{\\theta})} \\left[\\log q_\\psi(\\boldsymbol{\\theta}) - \\log p_\\theta (\\boldsymbol{\\theta}|\\mathcal{D}) \\right]                                                          \\\\\n",
    "           & =  \\arg \\min_{\\psi} \\mathbb{E}_{q_\\psi(\\boldsymbol{\\theta})} \\left[\\log q_\\psi(\\boldsymbol{\\theta}) - \\log\n",
    "    \\left(\\frac{p_\\theta(\\mathcal{D}|\\boldsymbol{\\theta})p_\\theta(\\boldsymbol{\\theta})}{p_\\theta(\\mathcal{D})} \\right) \\right]                                                                                              \\\\\n",
    "           & =  \\arg \\min_{\\psi} \\mathbb{E}_{q_\\psi(\\boldsymbol{\\theta})} \\left[\\log q_\\psi(\\boldsymbol{\\theta}) - \\log p_\\theta(\\mathcal{D}|\\boldsymbol{\\theta}) - \\log p_\\theta(\\boldsymbol{\\theta}) +\\log p_\\theta(\\mathcal{D}) \\right]  \\\\\n",
    "           & =  \\arg \\min_{\\psi} \\mathbb{E}_{q_\\psi(\\boldsymbol{\\theta})} \\left[\\log q_\\psi(\\boldsymbol{\\theta}) - \\log p_\\theta(\\mathcal{D}|\\boldsymbol{\\theta}) - \\log p_\\theta(\\boldsymbol{\\theta})  \\right] +\\log p_\\theta(\\mathcal{D})\n",
    "\\end{align}\n",
    "$$\n",
    "\n"
   ]
  },
  {
   "cell_type": "markdown",
   "metadata": {
    "slideshow": {
     "slide_type": "fragment"
    }
   },
   "source": [
    "The final term is not related to $\\psi$; therefore, we only need to optimize the first term: \n",
    "$$ \\begin{align}\n",
    "    \\psi^* & = \\arg \\min_{\\psi} \\mathbb{E}_{q_\\psi(\\boldsymbol{\\theta})} \\left[\\log q_\\psi(\\boldsymbol{\\theta}) - \\log p_\\theta(\\mathcal{D}|\\boldsymbol{\\theta}) - \\log p_\\theta(\\boldsymbol{\\theta})  \\right]                      \\\\\n",
    "           & = \\arg \\min_{\\psi} \\mathbb{E}_{q_\\psi(\\boldsymbol{\\theta})} \\left[ - \\log p_\\theta(\\mathcal{D}|\\boldsymbol{\\theta})\\right] + \\mathrm{D}_{\\mathbb{KL}}(q_{\\psi}(\\boldsymbol{\\theta})|| p_\\theta(\\boldsymbol{\\theta})) \\\n",
    "\\end{align} $$\n",
    "\n",
    "- The objective is called **negative evidence lower bound (ELBO)**"
   ]
  },
  {
   "cell_type": "markdown",
   "metadata": {
    "slideshow": {
     "slide_type": "slide"
    }
   },
   "source": [
    "### Let's dive into the objective of ELBO\n",
    "$$\\psi^*   = \\arg \\min_{\\psi} \\mathbb{E}_{q_\\psi(\\boldsymbol{\\theta})} \\left[ - \\log p_\\theta(\\mathcal{D}|\\boldsymbol{\\theta})\\right] + \\mathrm{D}_{\\mathbb{KL}}(q_{\\psi}(\\boldsymbol{\\theta})|| p_\\theta(\\boldsymbol{\\theta}))  $$\n",
    "\n",
    "- The first term is the negative likelihood dominated by **Data**\n",
    "- The second term is KL divergence between the **estimated distribution** and the **prior distribution**\n",
    "- It means that by mimizing ELBO, it tends to find an estimated distribution not only fits the data, but also as close to the prior distribution as it can be. "
   ]
  },
  {
   "cell_type": "markdown",
   "metadata": {
    "slideshow": {
     "slide_type": "slide"
    }
   },
   "source": [
    "###  One dimension numerical Gaussian mixture distribution \n"
   ]
  },
  {
   "cell_type": "code",
   "execution_count": 1,
   "metadata": {
    "slideshow": {
     "slide_type": "skip"
    }
   },
   "outputs": [],
   "source": [
    "# import libraries\n",
    "import torch\n",
    "import math\n",
    "import copy\n",
    "import matplotlib.pyplot as plt \n",
    "import numpy as np\n",
    "import torch.nn as nn\n",
    "import torch.nn.functional as F\n",
    "class TargetDistribution:\n",
    "\n",
    "    def __init__(self,  w1=0.3,w2=0.7,  mu1=-2,  sigma1=1, mu2=2, sigma2=1) -> None:\n",
    "        self.w1 = w1\n",
    "        self.w2 = w2\n",
    "        self.mu1 = mu1\n",
    "        self.sigma1 = sigma1\n",
    "        self.mu2 = mu2\n",
    "        self.sigma2 = sigma2\n",
    "\n",
    "\n",
    "    def pdf(self, x) -> float:\n",
    "        return self.w1 * self.gaussian(x, self.mu1, self.sigma1) + \\\n",
    "            self.w2 * self.gaussian(x, self.mu2, self.sigma2)\n",
    "\n",
    "    # sample from the distribution\n",
    "    def sample(self, num_samples=1000):\n",
    "        samples = []\n",
    "        for _ in range(num_samples):\n",
    "            if np.random.rand() < self.w1:\n",
    "                samples.append(np.random.normal(self.mu1, self.sigma1))\n",
    "            else:\n",
    "                samples.append(np.random.normal(self.mu2, self.sigma2))\n",
    "        return np.array(samples)\n",
    "    \n",
    "    def plot_pdf(self):\n",
    "        fig, ax = plt.subplots(figsize=(5, 4))\n",
    "        x = np.linspace(-10, 10, 1000)\n",
    "        y = self.pdf(x)\n",
    "        ax.plot(x, y)\n",
    "        ax.set_xlabel('x')\n",
    "        ax.set_ylabel('pdf')\n",
    "        plt.show()\n",
    "\n",
    "    @ staticmethod\n",
    "    def gaussian(x, mu, sigma) -> float:\n",
    "        return 1.0/(np.sqrt(2 * np.pi)) * np.exp(- ( x- mu)**2 / 2*sigma**2)\n"
   ]
  },
  {
   "cell_type": "code",
   "execution_count": 2,
   "metadata": {
    "slideshow": {
     "slide_type": "fragment"
    }
   },
   "outputs": [
    {
     "data": {
      "image/png": "[encoded data removed]",
      "text/plain": [
       "<Figure size 500x400 with 1 Axes>"
      ]
     },
     "metadata": {},
     "output_type": "display_data"
    }
   ],
   "source": [
    "dis = TargetDistribution()\n",
    "dis.plot_pdf()\n"
   ]
  },
  {
   "cell_type": "code",
   "execution_count": 3,
   "metadata": {
    "slideshow": {
     "slide_type": "skip"
    }
   },
   "outputs": [],
   "source": [
    "class VariationalInference:\n",
    "\n",
    "    def __init__(self,\n",
    "                  target_distribution,\n",
    "                  prior_mean = torch.tensor([0.0]),\n",
    "                  prior_covariance = torch.tensor([[2.0]]),\n",
    "                  num_samples=1000,\n",
    "                  proposed_mean = torch.tensor([0.0], requires_grad=True),\n",
    "                  proposed_covariance = torch.tensor([1.0], requires_grad=True)\n",
    "                  ) -> None:\n",
    "        self.target_distribution = target_distribution\n",
    "        self.samples = torch.tensor(target_distribution.sample(num_samples),\n",
    "                                    dtype=torch.float32, requires_grad=True)\n",
    "        self.num_samples = num_samples\n",
    "        # prior mean and covariance\n",
    "        self.prior_mean = prior_mean.detach()\n",
    "        self.prior_covariance = prior_covariance.detach()\n",
    "        # proposed params (mean, variance)\n",
    "        self.proposed_mean = proposed_mean\n",
    "        self.proposed_covariance = proposed_covariance\n",
    "\n",
    "        # history containers\n",
    "        self.neg_log_lik_hist = []\n",
    "\n",
    "    def define_optimizer(self, optimizer_name=\"Adam\", learning_rate=0.01):\n",
    "        params = [self.proposed_mean, self.proposed_covariance]\n",
    "        if optimizer_name == \"Adam\":\n",
    "            self.optimizer = torch.optim.Adam(params, lr=learning_rate)\n",
    "        elif optimizer_name == \"SGD\":\n",
    "            self.optimizer = torch.optim.SGD(params, lr=learning_rate)\n",
    "        else:\n",
    "            raise ValueError(\"Optimizer not implemented yet.\")\n",
    "    \n",
    "    def run(self, n_epochs=1000):\n",
    "        self.neg_log_lik_hist = []  # reset history\n",
    "\n",
    "        for step in range(n_epochs):\n",
    "            self.optimizer.zero_grad()\n",
    "\n",
    "            # variance (>=0) \n",
    "            var = self.proposed_covariance\n",
    "            std = torch.sqrt(var + 1e-12)\n",
    "\n",
    "            # Negative log-likelihood (Monte Carlo on fixed data samples)\n",
    "            nll = -torch.distributions.Normal(self.proposed_mean, scale=std)\\\n",
    "                    .log_prob(self.samples).mean()\n",
    "\n",
    "            # KL(q||p) between two 1D Gaussians\n",
    "            kl = 0.5 * (\n",
    "                (var / self.prior_covariance) +\n",
    "                ((self.prior_mean - self.proposed_mean)**2 / self.prior_covariance) -\n",
    "                1 + torch.log(self.prior_covariance / (var + 1e-12))\n",
    "            )\n",
    "            kl = kl.mean()\n",
    "\n",
    "            # ELBO objective to minimize: nll + KL\n",
    "            elbo = nll + kl\n",
    "\n",
    "            elbo.backward()\n",
    "            self.optimizer.step()\n",
    "\n",
    "            # record\n",
    "            self.neg_log_lik_hist.append(float(nll.detach()))\n",
    "\n",
    "            if step % 10 == 0:\n",
    "                print(\"=====================================\")\n",
    "                print(f\"Step {step}: Neg Log Likelihood = {nll.item():.4f}\")\n",
    "                print(f\"Step {step}: ELBO = {elbo.item():.4f}\")\n",
    "                print(f\"Mean = {self.proposed_mean.detach().cpu().numpy()}\")\n",
    "                print(f\"Variance = {var.detach().cpu().numpy()}\")\n",
    "\n",
    "        return self.proposed_mean.detach().cpu().numpy(), var.detach().cpu().numpy()\n",
    "    \n",
    "    def plot_results(self):\n",
    "        # estimated params\n",
    "        estimated_mean = float(self.proposed_mean.detach())\n",
    "        estimated_var  = float(self.proposed_covariance.detach())\n",
    "        estimated_std  = float(np.sqrt(max(estimated_var, 1e-12)))\n",
    "\n",
    "        # PDFs\n",
    "        x = torch.linspace(-10, 10, 1000)\n",
    "        true_pdf = self.target_distribution.pdf(x).detach().cpu().numpy()\n",
    "        x_np = x.detach().cpu().numpy()\n",
    "        est_pdf = (1.0 / (np.sqrt(2*np.pi) * estimated_std)) * \\\n",
    "                  np.exp(-0.5 * ((x_np - estimated_mean) / estimated_std) ** 2)\n",
    "        fig, axes = plt.subplots(1, 2, figsize=(10, 4))\n",
    "\n",
    "        # Left: PDFs\n",
    "        axes[0].plot(x_np, true_pdf, 'r--', label=\"True PDF\")\n",
    "        axes[0].plot(x_np, est_pdf,  'k-',  label=\"Estimated PDF\")\n",
    "        axes[0].set_xlim(-10, 10)\n",
    "        axes[0].set_xlabel(\"x\"); axes[0].set_ylabel(\"Density\")\n",
    "        axes[0].set_title(\"Variational Inference (1D)\")\n",
    "        axes[0].legend()\n",
    "\n",
    "        # Right: NLL history\n",
    "        if hasattr(self, \"neg_log_lik_hist\") and len(self.neg_log_lik_hist) > 0:\n",
    "            axes[1].plot(np.arange(len(self.neg_log_lik_hist)), self.neg_log_lik_hist)\n",
    "            axes[1].set_xlabel(\"Epoch\")\n",
    "            axes[1].set_ylabel(\"Negative Log-Likelihood\")\n",
    "            axes[1].set_title(\"NLL over Epochs\")\n",
    "        else:\n",
    "            axes[1].text(0.5, 0.5, \"Run VI first to collect NLL\", ha='center', va='center')\n",
    "            axes[1].set_axis_off()\n",
    "\n",
    "        plt.tight_layout()\n",
    "        plt.show()\n"
   ]
  },
  {
   "cell_type": "markdown",
   "metadata": {
    "slideshow": {
     "slide_type": "slide"
    }
   },
   "source": [
    "### Use VI to obtain a parametric distribution for the target distribution"
   ]
  },
  {
   "cell_type": "code",
   "execution_count": 4,
   "metadata": {
    "slideshow": {
     "slide_type": "fragment"
    }
   },
   "outputs": [
    {
     "name": "stdout",
     "output_type": "stream",
     "text": [
      "=====================================\n",
      "Step 0: Neg Log Likelihood = 3.4176\n",
      "Step 0: ELBO = 3.4176\n",
      "Mean = [0.08081859]\n",
      "Variance = [1.1998653]\n",
      "=====================================\n",
      "Step 10: Neg Log Likelihood = 2.5321\n",
      "Step 10: ELBO = 2.6597\n",
      "Mean = [0.27505454]\n",
      "Variance = [1.75697]\n",
      "=====================================\n",
      "Step 20: Neg Log Likelihood = 2.4478\n",
      "Step 20: ELBO = 2.6217\n",
      "Mean = [0.28031617]\n",
      "Variance = [1.9351692]\n",
      "=====================================\n",
      "Step 30: Neg Log Likelihood = 2.4171\n",
      "Step 30: ELBO = 2.6125\n",
      "Mean = [0.27213797]\n",
      "Variance = [2.025417]\n",
      "=====================================\n",
      "Step 40: Neg Log Likelihood = 2.4021\n",
      "Step 40: ELBO = 2.6095\n",
      "Mean = [0.26591277]\n",
      "Variance = [2.0765617]\n",
      "=====================================\n",
      "Step 50: Neg Log Likelihood = 2.3938\n",
      "Step 50: ELBO = 2.6085\n",
      "Mean = [0.26206928]\n",
      "Variance = [2.1069765]\n",
      "=====================================\n",
      "Step 60: Neg Log Likelihood = 2.3890\n",
      "Step 60: ELBO = 2.6081\n",
      "Mean = [0.2597567]\n",
      "Variance = [2.1255136]\n",
      "=====================================\n",
      "Step 70: Neg Log Likelihood = 2.3860\n",
      "Step 70: ELBO = 2.6080\n",
      "Mean = [0.2583545]\n",
      "Variance = [2.1369681]\n",
      "=====================================\n",
      "Step 80: Neg Log Likelihood = 2.3842\n",
      "Step 80: ELBO = 2.6079\n",
      "Mean = [0.25749415]\n",
      "Variance = [2.144104]\n",
      "=====================================\n",
      "Step 90: Neg Log Likelihood = 2.3831\n",
      "Step 90: ELBO = 2.6079\n",
      "Mean = [0.2569611]\n",
      "Variance = [2.1485708]\n",
      "=====================================\n",
      "Step 100: Neg Log Likelihood = 2.3824\n",
      "Step 100: ELBO = 2.6079\n",
      "Mean = [0.2566287]\n",
      "Variance = [2.1513755]\n",
      "=====================================\n",
      "Step 110: Neg Log Likelihood = 2.3819\n",
      "Step 110: ELBO = 2.6079\n",
      "Mean = [0.2564205]\n",
      "Variance = [2.1531403]\n",
      "=====================================\n",
      "Step 120: Neg Log Likelihood = 2.3816\n",
      "Step 120: ELBO = 2.6079\n",
      "Mean = [0.2562897]\n",
      "Variance = [2.1542516]\n",
      "=====================================\n",
      "Step 130: Neg Log Likelihood = 2.3815\n",
      "Step 130: ELBO = 2.6079\n",
      "Mean = [0.25620744]\n",
      "Variance = [2.1549523]\n",
      "=====================================\n",
      "Step 140: Neg Log Likelihood = 2.3814\n",
      "Step 140: ELBO = 2.6079\n",
      "Mean = [0.25615555]\n",
      "Variance = [2.1553938]\n",
      "=====================================\n",
      "Step 150: Neg Log Likelihood = 2.3813\n",
      "Step 150: ELBO = 2.6079\n",
      "Mean = [0.25612292]\n",
      "Variance = [2.1556726]\n",
      "=====================================\n",
      "Step 160: Neg Log Likelihood = 2.3812\n",
      "Step 160: ELBO = 2.6079\n",
      "Mean = [0.2561023]\n",
      "Variance = [2.155848]\n",
      "=====================================\n",
      "Step 170: Neg Log Likelihood = 2.3812\n",
      "Step 170: ELBO = 2.6079\n",
      "Mean = [0.25608933]\n",
      "Variance = [2.155959]\n",
      "=====================================\n",
      "Step 180: Neg Log Likelihood = 2.3812\n",
      "Step 180: ELBO = 2.6079\n",
      "Mean = [0.25608113]\n",
      "Variance = [2.156029]\n",
      "=====================================\n",
      "Step 190: Neg Log Likelihood = 2.3812\n",
      "Step 190: ELBO = 2.6079\n",
      "Mean = [0.25607592]\n",
      "Variance = [2.1560736]\n",
      "=====================================\n",
      "Step 200: Neg Log Likelihood = 2.3812\n",
      "Step 200: ELBO = 2.6079\n",
      "Mean = [0.25607264]\n",
      "Variance = [2.1561012]\n",
      "=====================================\n",
      "Step 210: Neg Log Likelihood = 2.3812\n",
      "Step 210: ELBO = 2.6079\n",
      "Mean = [0.25607058]\n",
      "Variance = [2.1561189]\n",
      "=====================================\n",
      "Step 220: Neg Log Likelihood = 2.3812\n",
      "Step 220: ELBO = 2.6079\n",
      "Mean = [0.25606927]\n",
      "Variance = [2.1561298]\n",
      "=====================================\n",
      "Step 230: Neg Log Likelihood = 2.3812\n",
      "Step 230: ELBO = 2.6079\n",
      "Mean = [0.2560685]\n",
      "Variance = [2.1561368]\n",
      "=====================================\n",
      "Step 240: Neg Log Likelihood = 2.3812\n",
      "Step 240: ELBO = 2.6079\n",
      "Mean = [0.25606796]\n",
      "Variance = [2.1561413]\n",
      "=====================================\n",
      "Step 250: Neg Log Likelihood = 2.3812\n",
      "Step 250: ELBO = 2.6079\n",
      "Mean = [0.25606766]\n",
      "Variance = [2.1561437]\n",
      "=====================================\n",
      "Step 260: Neg Log Likelihood = 2.3812\n",
      "Step 260: ELBO = 2.6079\n",
      "Mean = [0.2560674]\n",
      "Variance = [2.156146]\n",
      "=====================================\n",
      "Step 270: Neg Log Likelihood = 2.3812\n",
      "Step 270: ELBO = 2.6079\n",
      "Mean = [0.2560674]\n",
      "Variance = [2.1561463]\n",
      "=====================================\n",
      "Step 280: Neg Log Likelihood = 2.3812\n",
      "Step 280: ELBO = 2.6079\n",
      "Mean = [0.2560674]\n",
      "Variance = [2.1561463]\n",
      "=====================================\n",
      "Step 290: Neg Log Likelihood = 2.3812\n",
      "Step 290: ELBO = 2.6079\n",
      "Mean = [0.2560674]\n",
      "Variance = [2.1561463]\n"
     ]
    }
   ],
   "source": [
    "# play with the paramters\n",
    "vi = VariationalInference(target_distribution=dis,\n",
    "                           prior_mean=torch.tensor([0.0]),\n",
    "                            prior_covariance=torch.tensor([1.0]),\n",
    "                            num_samples=100000)\n",
    "vi.define_optimizer(optimizer_name=\"SGD\", learning_rate=0.1)\n",
    "estimated_mean, estimated_covariance = vi.run(n_epochs=300)\n"
   ]
  },
  {
   "cell_type": "code",
   "execution_count": 5,
   "metadata": {
    "slideshow": {
     "slide_type": "slide"
    }
   },
   "outputs": [
    {
     "name": "stderr",
     "output_type": "stream",
     "text": [
      "/tmp/ipykernel_35044/399156165.py:45: DeprecationWarning: __array_wrap__ must accept context and return_scalar arguments (positionally) in the future. (Deprecated NumPy 2.0)\n",
      "  return 1.0/(np.sqrt(2 * np.pi)) * np.exp(- ( x- mu)**2 / 2*sigma**2)\n"
     ]
    },
    {
     "data": {
      "image/png": "[encoded data removed]",
      "text/plain": [
       "<Figure size 1000x400 with 2 Axes>"
      ]
     },
     "metadata": {},
     "output_type": "display_data"
    }
   ],
   "source": [
    "vi.plot_results()"
   ]
  },
  {
   "cell_type": "markdown",
   "metadata": {
    "slideshow": {
     "slide_type": "slide"
    }
   },
   "source": [
    "### When VI meets neural networks\n",
    "**Recall the one-dimensional regression problem**\n",
    "\n"
   ]
  },
  {
   "cell_type": "code",
   "execution_count": 6,
   "metadata": {
    "slideshow": {
     "slide_type": "fragment"
    }
   },
   "outputs": [],
   "source": [
    "## Define a one-dimensional problem \n",
    "torch.manual_seed(0)  # fix the seed\n",
    "def cubic_sin(x: torch.Tensor,\n",
    "              noise_std: float = 0.1) -> torch.Tensor:\n",
    "    \"\"\"dis continuous function with noise\"\"\"\n",
    "\n",
    "    obj = torch.sin(6*x)**3 + torch.randn_like(x) * noise_std\n",
    "\n",
    "    return obj.reshape((-1, 1))\n",
    "# get the training samples\n",
    "sample_x1 = torch.linspace(-0.8, -0.2, 16).reshape((-1, 1))\n",
    "sample_x2 = torch.linspace(0.2, 0.8, 16).reshape((-1, 1))\n",
    "sample_x = torch.cat([sample_x1, sample_x2], dim=0)\n",
    "# scale the data\n",
    "x_mean = sample_x.mean(); x_std = sample_x.std()\n",
    "sample_x_scaled = (sample_x - x_mean) / x_std\n",
    "# get the responses\n",
    "sample_y = cubic_sin(sample_x, noise_std=0.1)\n",
    "# scale the y\n",
    "y_mean = sample_y.mean(); y_std = sample_y.std()\n",
    "sample_y_scaled = (sample_y - y_mean) / y_std"
   ]
  },
  {
   "cell_type": "markdown",
   "metadata": {
    "slideshow": {
     "slide_type": "slide"
    }
   },
   "source": [
    "### Define a variational layer for neural network"
   ]
  },
  {
   "cell_type": "code",
   "execution_count": 7,
   "metadata": {
    "slideshow": {
     "slide_type": "fragment"
    }
   },
   "outputs": [],
   "source": [
    "\n",
    "class VariationalLinear(nn.Module):\n",
    "    \"\"\"Define one VI layer\"\"\"\n",
    "    def __init__(self, in_features, out_features, prior_mu, prior_sigma):\n",
    "        super().__init__()\n",
    "        self.weight_mu  = nn.Parameter(torch.empty(out_features, in_features))\n",
    "        self.weight_rho = nn.Parameter(torch.empty(out_features, in_features))\n",
    "        self.bias_mu    = nn.Parameter(torch.empty(out_features))\n",
    "        self.bias_rho   = nn.Parameter(torch.empty(out_features))\n",
    "        self.reset_parameters()\n",
    "        self.prior_mu = prior_mu\n",
    "        self.prior_sigma = prior_sigma\n",
    "    def _sigma(self, rho):\n",
    "        return F.softplus(rho) # make sure variance is larger than zero \n",
    "\n",
    "    def forward(self, x):\n",
    "        eps_w = torch.randn_like(self.weight_mu)\n",
    "        eps_b = torch.randn_like(self.bias_mu)\n",
    "        weight = self.weight_mu + self._sigma(self.weight_rho) * eps_w\n",
    "        bias   = self.bias_mu   + self._sigma(self.bias_rho)   * eps_b\n",
    "        return F.linear(x, weight, bias)\n",
    "\n",
    "    def kl_divergence(self):\n",
    "        # posterior parameters\n",
    "        sigma_w_q = self._sigma(self.weight_rho)\n",
    "        sigma_b_q = self._sigma(self.bias_rho)\n",
    "        mu_w_q = self.weight_mu\n",
    "        mu_b_q = self.bias_mu\n",
    "        # prior parameters (broadcast)\n",
    "        mu_p = self.prior_mu; sigma_p = self.prior_sigma\n",
    "        kl_w = torch.log(sigma_p / sigma_w_q) \\\n",
    "               + (sigma_w_q.pow(2) + (mu_w_q - mu_p).pow(2)) / (2 * sigma_p**2) \\\n",
    "               - 0.5\n",
    "        kl_b = torch.log(sigma_p / sigma_b_q) \\\n",
    "               + (sigma_b_q.pow(2) + (mu_b_q - mu_p).pow(2)) / (2 * sigma_p**2) \\\n",
    "               - 0.5\n",
    "        return kl_w.sum() + kl_b.sum()\n",
    "    \n",
    "    def reset_parameters(self) -> None:\n",
    "        layer_width = math.sqrt(self.weight_mu.size(1))\n",
    "        self.weight_mu.data.uniform_(-layer_width, layer_width)\n",
    "        self.weight_rho.data.uniform_(-layer_width, layer_width)\n",
    "        self.bias_mu.data.uniform_(-layer_width, layer_width)\n",
    "        self.bias_rho.data.uniform_(-layer_width, layer_width)"
   ]
  },
  {
   "cell_type": "markdown",
   "metadata": {
    "slideshow": {
     "slide_type": "slide"
    }
   },
   "source": [
    "### Assemble a MLP with multiple layers"
   ]
  },
  {
   "cell_type": "code",
   "execution_count": 8,
   "metadata": {
    "slideshow": {
     "slide_type": "fragment"
    }
   },
   "outputs": [
    {
     "name": "stdout",
     "output_type": "stream",
     "text": [
      "Number of params: 282\n"
     ]
    }
   ],
   "source": [
    "class BNN_VI(nn.Module):\n",
    "    def __init__(self, input_dim, hidden_dim, output_dim, prior_mu, prior_sigma):\n",
    "        super().__init__()\n",
    "        self.fc1 = VariationalLinear(input_dim,  hidden_dim, prior_mu, prior_sigma)\n",
    "        self.fc2 = VariationalLinear(hidden_dim, hidden_dim, prior_mu, prior_sigma)\n",
    "        self.fc3 = VariationalLinear(hidden_dim, output_dim, prior_mu, prior_sigma)\n",
    "\n",
    "    def forward(self, x):\n",
    "        x = torch.tanh(self.fc1(x))\n",
    "        x = torch.tanh(self.fc2(x))\n",
    "        x = self.fc3(x)\n",
    "        return x\n",
    "\n",
    "    def kl_divergence(self):\n",
    "        return self.fc1.kl_divergence() + self.fc2.kl_divergence() + self.fc3.kl_divergence()\n",
    "\n",
    "network = BNN_VI(input_dim=1, hidden_dim=10, output_dim=1, prior_mu=0.0, prior_sigma=1.0)\n",
    "# print number of params\n",
    "print(\"Number of params:\", sum(p.numel() for p in network.parameters()))"
   ]
  },
  {
   "cell_type": "markdown",
   "metadata": {
    "slideshow": {
     "slide_type": "slide"
    }
   },
   "source": [
    "### Training routine of VI for BNN "
   ]
  },
  {
   "cell_type": "code",
   "execution_count": 9,
   "metadata": {
    "slideshow": {
     "slide_type": "skip"
    }
   },
   "outputs": [],
   "source": [
    "# ---------- Gaussian NLL (sum reduction), fixed homoscedastic noise ----------\n",
    "def gaussian_nll_sum(y_pred, y_true, noise_var):\n",
    "    inv_var = 1.0 / noise_var\n",
    "    log_var = torch.log(noise_var)\n",
    "    nll = 0.5 * ((y_true - y_pred) ** 2 * inv_var + log_var)  # no constant term\n",
    "    return nll.sum()\n",
    "\n",
    "class VITrainer:\n",
    "    def __init__(self, net, noise_var):\n",
    "        self.net = net\n",
    "        self.noise_var = noise_var\n",
    "        self.optimizer = None\n",
    "\n",
    "    def configure_optimizer_info(self, optimizer_name=\"Adam\", lr=1e-3):\n",
    "        if optimizer_name == \"Adam\":\n",
    "            self.optimizer = torch.optim.Adam(self.net.parameters(), lr=lr)\n",
    "        elif optimizer_name == \"SGD\":\n",
    "            self.optimizer = torch.optim.SGD(self.net.parameters(), lr=lr)\n",
    "\n",
    "    def train(self, x, y, num_epochs, num_integral=10, verbose=True, print_every=10):\n",
    "        N = x.shape[0]\n",
    "        self.num_epochs = num_epochs\n",
    "        self.nll_loss_train = np.zeros(num_epochs)\n",
    "        self.kl_loss_train  = np.zeros(num_epochs)\n",
    "        self.total_loss     = np.zeros(num_epochs)\n",
    "        self.best_loss_epoch= np.zeros(num_epochs)\n",
    "        self.best_net, self.best_loss = None, float(\"inf\")\n",
    "\n",
    "        for epoch in range(num_epochs):\n",
    "            self.optimizer.zero_grad()\n",
    "            nll_integral = 0.0\n",
    "            for _ in range(num_integral):\n",
    "                self.net.train()         \n",
    "                yhat = self.net(x)\n",
    "                nll  = gaussian_nll_sum(yhat, y, self.noise_var)\n",
    "                nll_integral += nll\n",
    "            nll_integral = nll_integral / num_integral\n",
    "\n",
    "            # KL term\n",
    "            kl_loss = self.net.kl_divergence()\n",
    "\n",
    "            # ELBO loss = E_q[NLL] + KL\n",
    "            loss = nll_integral - kl_loss\n",
    "            loss.backward()\n",
    "            self.optimizer.step()\n",
    "\n",
    "            # Record\n",
    "            self.nll_loss_train[epoch] = nll_integral.item()\n",
    "            self.kl_loss_train[epoch]  = kl_loss.item()\n",
    "            self.total_loss[epoch]     = loss.item()\n",
    "\n",
    "            # Keep best by NLL\n",
    "            if self.nll_loss_train[epoch] < self.best_loss:\n",
    "                self.best_loss = self.nll_loss_train[epoch]\n",
    "                self.best_net  = copy.deepcopy(self.net)\n",
    "            self.best_loss_epoch[epoch] = self.best_loss\n",
    "\n",
    "            if verbose and ((epoch + 1) % print_every == 0 or epoch == 0):\n",
    "                self._print(epoch, N)\n",
    "\n",
    "    @torch.no_grad()\n",
    "    def predict(self, x, num_integral=30, save_ppd=False):\n",
    "        self.best_net.eval()\n",
    "        responses = []\n",
    "        for _ in range(num_integral):\n",
    "            self.best_net.train()   # force sampling\n",
    "            y_pred = self.best_net(x)\n",
    "            self.best_net.eval()\n",
    "            responses.append(y_pred)\n",
    "        stack = torch.stack(responses, dim=0) \n",
    "        y_pred = stack.mean(dim=0)\n",
    "        y_epistemic_var = stack.var(dim=0, unbiased=False)\n",
    "\n",
    "        if save_ppd:\n",
    "            self.responses = responses\n",
    "        return y_pred,  y_epistemic_var\n",
    "\n",
    "    def _print(self, iteration, N):\n",
    "        print(\"==================================================\")\n",
    "        print(f\"epoch: {iteration + 1:5d}/{self.num_epochs:5d}\")\n",
    "        print(f\"nll_loss: {self.nll_loss_train[iteration]:.3f}, \"\n",
    "              f\"kl_loss: {self.kl_loss_train[iteration]:.3f}, \"\n",
    "              f\"total: {self.total_loss[iteration]:.3f}\")\n",
    "        print(f\"best_loss: {self.best_loss:.4f}\")\n",
    "        print(f\"noise_var: {self.noise_var}\")"
   ]
  },
  {
   "cell_type": "code",
   "execution_count": 25,
   "metadata": {
    "scrolled": true,
    "slideshow": {
     "slide_type": "slide"
    }
   },
   "outputs": [
    {
     "name": "stdout",
     "output_type": "stream",
     "text": [
      "==================================================\n",
      "epoch:     1/ 2000\n",
      "nll_loss: 103.013, kl_loss: 9576.181, total: -9473.168\n",
      "best_loss: 103.0126\n",
      "noise_var: 0.026290807873010635\n",
      "==================================================\n",
      "epoch:   100/ 2000\n",
      "nll_loss: 94.704, kl_loss: 9742.526, total: -9647.822\n",
      "best_loss: 67.2778\n",
      "noise_var: 0.026290807873010635\n",
      "==================================================\n",
      "epoch:   200/ 2000\n",
      "nll_loss: 95.012, kl_loss: 9912.540, total: -9817.527\n",
      "best_loss: 66.8363\n",
      "noise_var: 0.026290807873010635\n",
      "==================================================\n",
      "epoch:   300/ 2000\n",
      "nll_loss: 82.077, kl_loss: 10084.763, total: -10002.686\n",
      "best_loss: 65.6516\n",
      "noise_var: 0.026290807873010635\n",
      "==================================================\n",
      "epoch:   400/ 2000\n",
      "nll_loss: 78.714, kl_loss: 10259.251, total: -10180.537\n",
      "best_loss: 65.6516\n",
      "noise_var: 0.026290807873010635\n",
      "==================================================\n",
      "epoch:   500/ 2000\n",
      "nll_loss: 79.190, kl_loss: 10435.873, total: -10356.683\n",
      "best_loss: 65.6516\n",
      "noise_var: 0.026290807873010635\n",
      "==================================================\n",
      "epoch:   600/ 2000\n",
      "nll_loss: 84.309, kl_loss: 10614.832, total: -10530.523\n",
      "best_loss: 65.2734\n",
      "noise_var: 0.026290807873010635\n",
      "==================================================\n",
      "epoch:   700/ 2000\n",
      "nll_loss: 79.688, kl_loss: 10796.042, total: -10716.354\n",
      "best_loss: 65.2734\n",
      "noise_var: 0.026290807873010635\n",
      "==================================================\n",
      "epoch:   800/ 2000\n",
      "nll_loss: 77.185, kl_loss: 10979.519, total: -10902.333\n",
      "best_loss: 60.5127\n",
      "noise_var: 0.026290807873010635\n",
      "==================================================\n",
      "epoch:   900/ 2000\n",
      "nll_loss: 93.515, kl_loss: 11165.135, total: -11071.619\n",
      "best_loss: 54.6291\n",
      "noise_var: 0.026290807873010635\n",
      "==================================================\n",
      "epoch:  1000/ 2000\n",
      "nll_loss: 77.460, kl_loss: 11352.706, total: -11275.246\n",
      "best_loss: 54.6291\n",
      "noise_var: 0.026290807873010635\n",
      "==================================================\n",
      "epoch:  1100/ 2000\n",
      "nll_loss: 88.532, kl_loss: 11542.436, total: -11453.904\n",
      "best_loss: 54.6291\n",
      "noise_var: 0.026290807873010635\n",
      "==================================================\n",
      "epoch:  1200/ 2000\n",
      "nll_loss: 91.473, kl_loss: 11734.308, total: -11642.835\n",
      "best_loss: 54.6291\n",
      "noise_var: 0.026290807873010635\n",
      "==================================================\n",
      "epoch:  1300/ 2000\n",
      "nll_loss: 63.789, kl_loss: 11928.146, total: -11864.357\n",
      "best_loss: 54.6291\n",
      "noise_var: 0.026290807873010635\n",
      "==================================================\n",
      "epoch:  1400/ 2000\n",
      "nll_loss: 61.456, kl_loss: 12123.502, total: -12062.046\n",
      "best_loss: 47.0849\n",
      "noise_var: 0.026290807873010635\n",
      "==================================================\n",
      "epoch:  1500/ 2000\n",
      "nll_loss: 51.311, kl_loss: 12319.729, total: -12268.417\n",
      "best_loss: 45.3673\n",
      "noise_var: 0.026290807873010635\n",
      "==================================================\n",
      "epoch:  1600/ 2000\n",
      "nll_loss: 53.056, kl_loss: 12517.174, total: -12464.117\n",
      "best_loss: 42.7371\n",
      "noise_var: 0.026290807873010635\n",
      "==================================================\n",
      "epoch:  1700/ 2000\n",
      "nll_loss: 41.743, kl_loss: 12716.015, total: -12674.272\n",
      "best_loss: 40.0622\n",
      "noise_var: 0.026290807873010635\n",
      "==================================================\n",
      "epoch:  1800/ 2000\n",
      "nll_loss: 50.690, kl_loss: 12916.181, total: -12865.490\n",
      "best_loss: 35.4328\n",
      "noise_var: 0.026290807873010635\n",
      "==================================================\n",
      "epoch:  1900/ 2000\n",
      "nll_loss: 33.951, kl_loss: 13117.549, total: -13083.598\n",
      "best_loss: 29.3731\n",
      "noise_var: 0.026290807873010635\n",
      "==================================================\n",
      "epoch:  2000/ 2000\n",
      "nll_loss: 31.042, kl_loss: 13320.339, total: -13289.297\n",
      "best_loss: 20.3786\n",
      "noise_var: 0.026290807873010635\n"
     ]
    }
   ],
   "source": [
    "trainer = VITrainer(net=network, noise_var=torch.tensor(0.01)/y_std**2)\n",
    "trainer.configure_optimizer_info(\"Adam\", lr=1e-3)\n",
    "trainer.train(\n",
    "    x=sample_x_scaled,\n",
    "    y=sample_y_scaled,\n",
    "    num_epochs=2000,\n",
    "    num_integral=10,\n",
    "    verbose=True,\n",
    "    print_every=100,\n",
    ")\n"
   ]
  },
  {
   "cell_type": "code",
   "execution_count": 26,
   "metadata": {
    "slideshow": {
     "slide_type": "skip"
    }
   },
   "outputs": [],
   "source": [
    "\n",
    "def plot_prediction():\n",
    "    test_x = torch.linspace(-1, 1, 100).reshape((-1, 1))\n",
    "    # scale \n",
    "    test_x_scaled = (test_x-x_mean)/x_std.numpy()\n",
    "    test_y = cubic_sin(test_x, noise_std=0)  # ground truth\n",
    "\n",
    "    # code here to visualize your result\n",
    "    pred_mean, epistemic = trainer.predict(test_x_scaled,num_integral=1000)\n",
    "    # scale it back \n",
    "    pred_mean = pred_mean*y_std.numpy() + y_mean.numpy()\n",
    "    epistemic = epistemic**0.5*y_std.numpy()\n",
    "    # plot the result\n",
    "    fig, ax = plt.subplots(1,2, figsize=(10,4))\n",
    "    ax[0].plot(test_x.numpy(), test_y.numpy(),'--', linewidth=2, color='gray',label='True Function')\n",
    "    ax[0].plot(test_x.numpy(), pred_mean, color='b', label='Prediction')\n",
    "    ax[0].fill_between(test_x.numpy().reshape(-1), pred_mean.reshape(-1) - 1.96*epistemic.reshape(-1),\n",
    "                     pred_mean.reshape(-1) + 1.96*epistemic.reshape(-1), alpha=0.2, label='Epistemic')\n",
    "    ax[0].scatter(sample_x.numpy(), sample_y.numpy(), marker='o', s=40, label='Training Data')\n",
    "    ax[0].set_xlabel('x')\n",
    "    ax[0].set_ylabel('y')\n",
    "    \n",
    "    ax[0].legend()\n",
    "    ax[1].plot(trainer.best_loss_epoch, 'o')\n",
    "    ax[1].set_xlabel('Epoch')\n",
    "    ax[1].set_ylabel('NLL')"
   ]
  },
  {
   "cell_type": "code",
   "execution_count": 27,
   "metadata": {
    "slideshow": {
     "slide_type": "slide"
    }
   },
   "outputs": [
    {
     "name": "stderr",
     "output_type": "stream",
     "text": [
      "/tmp/ipykernel_35044/2402854864.py:4: DeprecationWarning: __array_wrap__ must accept context and return_scalar arguments (positionally) in the future. (Deprecated NumPy 2.0)\n",
      "  test_x_scaled = (test_x-x_mean)/x_std.numpy()\n",
      "/tmp/ipykernel_35044/2402854864.py:10: DeprecationWarning: __array_wrap__ must accept context and return_scalar arguments (positionally) in the future. (Deprecated NumPy 2.0)\n",
      "  pred_mean = pred_mean*y_std.numpy() + y_mean.numpy()\n",
      "/tmp/ipykernel_35044/2402854864.py:11: DeprecationWarning: __array_wrap__ must accept context and return_scalar arguments (positionally) in the future. (Deprecated NumPy 2.0)\n",
      "  epistemic = epistemic**0.5*y_std.numpy()\n"
     ]
    },
    {
     "data": {
      "image/png": "[encoded data removed]",
      "text/plain": [
       "<Figure size 1000x400 with 2 Axes>"
      ]
     },
     "metadata": {},
     "output_type": "display_data"
    }
   ],
   "source": [
    "plot_prediction()"
   ]
  },
  {
   "cell_type": "code",
   "execution_count": null,
   "metadata": {},
   "outputs": [],
   "source": []
  },
  {
   "cell_type": "code",
   "execution_count": null,
   "metadata": {},
   "outputs": [],
   "source": []
  },
  {
   "cell_type": "markdown",
   "metadata": {
    "slideshow": {
     "slide_type": "slide"
    }
   },
   "source": [
    "### See you next class\n",
    "\n",
    "Have fun!"
   ]
  }
 ],
 "metadata": {
  "celltoolbar": "Slideshow",
  "hide_code_all_hidden": false,
  "kernelspec": {
   "display_name": "Python [conda env:3dasm] *",
   "language": "python",
   "name": "conda-env-3dasm-py"
  },
  "language_info": {
   "codemirror_mode": {
    "name": "ipython",
    "version": 3
   },
   "file_extension": ".py",
   "mimetype": "text/x-python",
   "name": "python",
   "nbconvert_exporter": "python",
   "pygments_lexer": "ipython3",
   "version": "3.11.0"
  }
 },
 "nbformat": 4,
 "nbformat_minor": 4
}

{
 "cells": [
  {
   "cell_type": "markdown",
   "metadata": {
    "hideCode": false,
    "hidePrompt": false,
    "slideshow": {
     "slide_type": "slide"
    }
   },
   "source": [
    "<img src=../figures/Brown_logo.svg width=50%>\n",
    "\n",
    "## Data-Driven Design & Analyses of Structures & Materials (3dasm)\n",
    "\n",
    "## Lecture BNNs (MCMC)\n",
    "\n",
    "### Miguel A. Bessa | <a href = \"mailto: miguel_bessa@brown.edu\">miguel_bessa@brown.edu</a>  | Associate Professor"
   ]
  },
  {
   "cell_type": "markdown",
   "metadata": {
    "hideCode": false,
    "hidePrompt": false,
    "slideshow": {
     "slide_type": "slide"
    }
   },
   "source": [
    "## Outline for today\n",
    "\n",
    "* How to interpret Bayesian neural network compared to deterministic NN?\n",
    "* How to integrate the posterior through Markov Chain Monte Carlo?\n",
    "\n",
    "**Reading material**: This notebook + (Bayesian perspective of ANNs in Chapter 29)"
   ]
  },
  {
   "cell_type": "markdown",
   "metadata": {
    "slideshow": {
     "slide_type": "slide"
    }
   },
   "source": [
    "## Recap: ANN for regression with Gaussian prior\n",
    "<img align=right src=\"./figures/recap.png\" width=40%>\n",
    "\n",
    "\n",
    "Assume a Gaussian prior  $\\require{color} \\color{red}p(z)$ on $\\mathbf{w}$ and the MAP point estimate for an DNN\n",
    "\n",
    "$$\\require{color}\n",
    "\\hat{\\mathbf{z}}_{\\text{map}} = \\underset{z}{\\mathrm{argmin}}\\left[-\\log{p(\\mathbf{y}=\\mathbf{y}_n|\\mathbf{x}=\\mathbf{x}_n, \\mathbf{z})} - \\log{{\\color{red}p(z)}}\\right]$$\n",
    "\n",
    "\n",
    "Performing the calculation, the point estimate when assuming a Gaussian prior becomes:\n",
    "\n",
    "$$\n",
    "\\begin{align}\n",
    "\\hat{\\mathbf{z}}_{\\text{map}} = \\underset{z}{\\mathrm{argmin}}\\left[\\frac{1}{2} ||\\mathbf{Y}-\\mathbf{f}(\\mathbf{X},\\mathbf{z}) ||_2^2 + \\alpha ||\\mathbf{w}||_2^2\\right]\n",
    "\\end{align}\n",
    "$$\n",
    "\n",
    "**Then, we can use sophisticated optimizers, as introduced in notebooks 25,26,27, for exploring the loss landscape (the right figure) to get a point estimation.**"
   ]
  },
  {
   "cell_type": "markdown",
   "metadata": {
    "slideshow": {
     "slide_type": "slide"
    }
   },
   "source": [
    "## What if we want to get the posterior distributon of weights?\n",
    "\n",
    "- Conceptually, from point estmation (DNN) to posterior distribution (BNN), we can inprepret we change the likelihood and prior from delta distribution to another distributions, like Gaussian distribution. \n",
    "\n",
    " <img align=center src=\"./figures/dnnbnn.png\" width=60%>\n"
   ]
  },
  {
   "cell_type": "markdown",
   "metadata": {
    "slideshow": {
     "slide_type": "slide"
    }
   },
   "source": [
    "## What if we want to get the posterior distributon of weights?\n",
    "\n",
    "- From an optimization view, instead of obtaining an optimum (shown in the lefr figure), it requires to integrate the whole loss (posterior distribution) landscape, as indicated in the second figure. \n",
    "\n",
    " <img align=center src=\"./figures/OPTIMIZATION_VS_INFERENCE.png\" width=60%>"
   ]
  },
  {
   "cell_type": "markdown",
   "metadata": {
    "slideshow": {
     "slide_type": "slide"
    }
   },
   "source": [
    "## We then can formulate posterior with Bayes' rule?\n",
    "\n",
    "\\begin{align}\n",
    "p\\left( \\mathbf{z} \\mid \\mathcal{D} \\right) = \\frac{p\\left( \\mathcal{D} \\mid \\mathbf{z} \\right) p\\left( \\mathbf{z} \\right)}{p\\left( \\mathcal{D} \\right)} \\propto p\\left( \\mathcal{D} \\mid \\mathbf{z} \\right) \\, p\\left( \\mathbf{z} \\right)\n",
    "\\end{align}\n",
    "\n",
    "- Likelihood: $\n",
    "p\\left( \\mathcal{D} \\mid \\mathbf{z} \\right)\n",
    "= \\mathcal{N}\\!\\left( \\mathbf{Y} \\,\\middle|\\, \\mathbf{f}(\\mathbf{X}, \\mathbf{z}), \\, \\sigma^2 \\mathbf{I} \\right)\n",
    "$, where $\\sigma^2$ is the data noise.\n",
    "- Prior:$\n",
    "p\\left( \\mathbf{z} \\right)\n",
    "= \\mathcal{N}\\!\\left( \\mathbf{z} \\,\\middle|\\, \\mathbf{0}, \\, \\tau^2 \\mathbf{I} \\right)\n",
    "$, where $\\tau^2$ the variance of prior distribution.\n",
    "- Log posterior can be derivated by:\n",
    "\n",
    "\\begin{align}\n",
    "\\log p\\left( \\mathbf{z} \\mid \\mathcal{D} \\right) &= \\log p\\left( \\mathcal{D} \\mid \\mathbf{z} \\right) + \\log p\\left( \\mathbf{z} \\right)\\\\\n",
    "&= \\log \\left[ \\frac{\\exp\\left( -\\frac{1}{2\\sigma^2} \n",
    "    \\left\\| \\mathbf{Y} - \\mathbf{f}(\\mathbf{X}, \\mathbf{z}) \\right\\|_2^2 \\right) }{(2\\pi\\sigma^2)^{n/2}} \n",
    "    \\right]  + \\log \\left[ \\frac{ \\exp\\left( -\\frac{1}{2\\tau^2} \n",
    "    \\left\\| \\mathbf{w} \\right\\|_2^2 \\right) }{(2\\pi\\tau^2)^{m/2}} \\right] \\\\\n",
    "&= -\\frac{n}{2} \\log(2\\pi\\sigma^2) \n",
    "   -\\frac{1}{2\\sigma^2} \\left\\| \\mathbf{Y} - \\mathbf{f}(\\mathbf{X}, \\mathbf{z}) \\right\\|_2^2  -\\frac{m}{2} \\log(2\\pi\\tau^2) \n",
    "   -\\frac{1}{2\\tau^2} \\left\\| \\mathbf{w} \\right\\|_2^2\n",
    "\\end{align}\n",
    "\n",
    "where $\\frac{1}{2\\tau^2}$ corresponds to the weight decay $\\alpha$ in a deterministic setting"
   ]
  },
  {
   "cell_type": "markdown",
   "metadata": {
    "slideshow": {
     "slide_type": "slide"
    }
   },
   "source": [
    "## How to integrate the posterior distribution? \n",
    "\n",
    "- The process of computing the posterior distribution over these variables based on observed data, following Bayes’ rule, is referred to as *inference*. \n",
    "\n",
    "\n",
    "- Once the likelihood, prior, and training data are fixed, the posterior distribution is also determined.\n",
    "\n",
    "\n",
    "- On the other hand, changing any hyperparameter—such as replacing a Gaussian likelihood with another distribution or altering the data noise $\\sigma^2$—will modify the posterior distribution. It is a higher-level Bayesian model training see Lecture 16.\n",
    "\n",
    "\n",
    "\n"
   ]
  },
  {
   "cell_type": "markdown",
   "metadata": {
    "slideshow": {
     "slide_type": "slide"
    }
   },
   "source": [
    "### Markov Chain Monte Carlo (MCMC)\n",
    "\n",
    "\n",
    "- A stochastic sampling method that constructs a Markov chain whose stationary distribution matches the target distribution $ p(\\boldsymbol{\\theta}) $. In the case of BNN, it is $p(\\mathbf{z}|\\mathcal{D})$.  \n",
    "- It starts from an initial position $\\boldsymbol{\\theta}_0$ and generates candidate samples using a proposal distribution $ q(\\boldsymbol{\\theta}' \\mid \\boldsymbol{\\theta}) $.  \n",
    "- Each candidate is either accepted or rejected based on an acceptance rule (e.g., Metropolis–Hastings criterion), ensuring the chain explores the state space.  \n",
    "- **Theoretical guarantee:** Under mild conditions (irreducibility, aperiodicity, detailed balance), the Markov chain converges to the target distribution as the number of iterations goes to infinity.  \n",
    "\n",
    " <img align=center src=\"./figures/ilustration_of_mcmc.png\" width=30%> \n",
    "\n"
   ]
  },
  {
   "cell_type": "code",
   "execution_count": 1,
   "metadata": {
    "slideshow": {
     "slide_type": "slide"
    }
   },
   "outputs": [],
   "source": [
    "import autograd.numpy as np\n",
    "import matplotlib.pyplot as plt\n",
    "\n",
    "# define a dimensional PDF with two modes\n",
    "class TargetDistribution:\n",
    "    def __init__(self, \n",
    "                 w1=0.3,\n",
    "                 w2=0.7, \n",
    "                 mu1=-2, \n",
    "                 sigma1=1,\n",
    "                 mu2=2,\n",
    "                 sigma2=1) -> None:\n",
    "        self.w1 = w1\n",
    "        self.w2 = w2\n",
    "        self.mu1 = mu1\n",
    "        self.sigma1 = sigma1\n",
    "        self.mu2 = mu2\n",
    "        self.sigma2 = sigma2\n",
    "\n",
    "    def pdf(self, x) -> float:\n",
    "        return self.w1 * self.gaussian(x, self.mu1, self.sigma1) + \\\n",
    "            self.w2 * self.gaussian(x, self.mu2, self.sigma2)\n",
    "\n",
    "    def plot_pdf(self):\n",
    "        fig, ax = plt.subplots(figsize=(5, 4))\n",
    "        x = np.linspace(-10, 10, 1000)\n",
    "        y = self.pdf(x)\n",
    "        ax.plot(x, y)\n",
    "        ax.set_xlabel('x')\n",
    "        ax.set_ylabel('pdf')\n",
    "        plt.show()\n",
    "\n",
    "    @ staticmethod\n",
    "    def gaussian(x, mu, sigma) -> float:\n",
    "        return 1.0/(np.sqrt(2 * np.pi)) * np.exp(- ( x- mu)**2 / 2*sigma**2)\n",
    "    "
   ]
  },
  {
   "cell_type": "code",
   "execution_count": 2,
   "metadata": {
    "slideshow": {
     "slide_type": "slide"
    }
   },
   "outputs": [
    {
     "data": {
      "image/png": "[encoded data removed]",
      "text/plain": [
       "<Figure size 500x400 with 1 Axes>"
      ]
     },
     "metadata": {},
     "output_type": "display_data"
    }
   ],
   "source": [
    "target  = TargetDistribution()\n",
    "\n",
    "target.plot_pdf()"
   ]
  },
  {
   "cell_type": "code",
   "execution_count": 3,
   "metadata": {
    "slideshow": {
     "slide_type": "skip"
    }
   },
   "outputs": [],
   "source": [
    "class MetropolisHastings:\n",
    "    def __init__(self,  target_distribution, num_samples=2000,  burn_in=10,  step_size=5.0) -> None:\n",
    "        self.num_samples = num_samples\n",
    "        self.burn_in = burn_in\n",
    "        self.step_size = step_size\n",
    "        self.target_distribution = target_distribution\n",
    "    def run(self, num_trials=1):\n",
    "        self.trial_samples = []\n",
    "        self.acceptance_rate = []\n",
    "        for trial in range(num_trials):\n",
    "            x = np.random.normal(loc=0, scale=1) \n",
    "            samples = []\n",
    "            accept = 0\n",
    "            for i in range(self.num_samples + self.burn_in):\n",
    "                proposed_x = x + np.random.normal(loc=0, scale=1)  * self.step_size # Propose a new sample using random walk Metropolis-Hastings\n",
    "                prop_x = self.target_distribution.pdf(proposed_x) # Compute the acceptance probability\n",
    "                prop_curr = self.target_distribution.pdf(x)\n",
    "                log_alpha = np.log(prop_x) - np.log(prop_curr) # calculate acceptation rate (to improve numerical stability)\n",
    "                p_accept = min(1.0, np.exp(log_alpha))\n",
    "                if np.random.rand(1).item() < p_accept:# Accept or reject the proposal\n",
    "                    x = proposed_x\n",
    "                    accept += 1\n",
    "                if i >= self.burn_in:\n",
    "                    samples.append(x)\n",
    "            print(f'Acceptance rate of trial {trial}: {accept/self.num_samples}')\n",
    "            self.acceptance_rate.append(accept/self.num_samples)\n",
    "            self.trial_samples.append(samples)\n",
    "        return self.trial_samples\n",
    "    def plot_trials(self):\n",
    "        fig, ax = plt.subplots(figsize=(5, 4))\n",
    "        for i, samples in enumerate(self.trial_samples):\n",
    "            ax.hist(samples, bins=30, density=True, alpha=0.7, label=f'Trial {i+1}')\n",
    "        x = np.linspace(-10, 10, 1000)\n",
    "        ax.plot(x, self.target_distribution.pdf(x), 'r--', label='True PDF')\n",
    "        ax.legend(loc='upper left')\n",
    "        ax.set_xlabel('Iteration')\n",
    "        ax.set_ylabel('Sample')\n",
    "        plt.show()"
   ]
  },
  {
   "cell_type": "code",
   "execution_count": 4,
   "metadata": {
    "slideshow": {
     "slide_type": "slide"
    }
   },
   "outputs": [
    {
     "name": "stdout",
     "output_type": "stream",
     "text": [
      "Acceptance rate of trial 0: 0.3665\n",
      "Acceptance rate of trial 1: 0.3735\n",
      "Acceptance rate of trial 2: 0.373\n",
      "Acceptance rate of trial 3: 0.358\n",
      "Acceptance rate of trial 4: 0.3725\n"
     ]
    },
    {
     "data": {
      "image/png": "[encoded data removed]",
      "text/plain": [
       "<Figure size 500x400 with 1 Axes>"
      ]
     },
     "metadata": {},
     "output_type": "display_data"
    }
   ],
   "source": [
    "# play with burn_in, step_size, number_samples of RWMH method, which are the tunable parameters of RWMH\n",
    "MH = MetropolisHastings(target_distribution=target,\n",
    "                        num_samples=2000, \n",
    "                        burn_in=10, \n",
    "                        step_size=5.0)\n",
    "results = MH.run(num_trials=5)\n",
    "\n",
    "MH.plot_trials()\n"
   ]
  },
  {
   "cell_type": "markdown",
   "metadata": {
    "slideshow": {
     "slide_type": "slide"
    }
   },
   "source": [
    "## Hamiltonian Monte Carlo (HMC)\n",
    "- One fatal drawback of RWMH algorithm is that the random walk procedure prevents the scalability.\n",
    "\n",
    "- Hamiltonian Monte Carlo (Neal 2012) improves the convergence, with embedding the concept of Hamitonian mechanics. \n"
   ]
  },
  {
   "cell_type": "markdown",
   "metadata": {
    "slideshow": {
     "slide_type": "fragment"
    }
   },
   "source": [
    "\n",
    "<img src=\"figures/hmc.png\" title=\"Hamiltonian mechanics\" width=\"30%\" align=\"right\">\n",
    "<!-- <img align=center src=\"./figures/hmc.png\" width=20%>  -->\n",
    "A Hamiltonian mechanical system can be imagined as a ball rolling in a frictionless bowl:\n",
    "$$\n",
    "\\mathcal{H}\\left(\\boldsymbol{\\theta}, \\mathrm{v} \\right) =\n",
    "   \\mathcal{\\varepsilon(\\boldsymbol{\\theta})} + \\mathcal{K}(\\mathrm{v})\n",
    "$$\n",
    "\n",
    "- potential energy: $\\mathcal{\\varepsilon(\\boldsymbol{\\theta})} = - \\log \\, p(\\boldsymbol{\\theta})$\n",
    "\n",
    "- kinetic energy: $\\mathcal{K}(\\mathrm{v}) = \\frac{1}{2}\\mathrm{v}^{T} {\\Sigma}^{-1} \\mathrm{v}$\n",
    "\n",
    "where ${\\Sigma}$ is the mass matrix.\n",
    "\n",
    "**Key Idea**\n",
    "- Uses Hamiltonian dynamics to propose new states by simulating trajectories shown in the figure\n",
    "- This **efficiently explores** the target distribution and **increases acceptance rates** by following energy-preserving paths.\n",
    "\n"
   ]
  },
  {
   "cell_type": "markdown",
   "metadata": {
    "slideshow": {
     "slide_type": "slide"
    }
   },
   "source": [
    "### How to update position and velocity within Hamiltonian system: \n",
    "\n",
    "- **Euler's method**\n",
    "\n",
    "$$\\mathrm{v}_{t+1} = \\mathrm{v}_{t} + \\eta \\frac{d\\mathrm{v}(\\mathrm{\\theta}_t, \\mathrm{v}_t)}{dt}= \\mathrm{v}_{t}-\\eta \\frac{\\partial \\mathcal{\\varepsilon}(\\mathrm{\\theta}_t)}{\\partial \\mathrm{\\theta}} $$\n",
    "\n",
    "$$\\mathrm{\\theta}_{t+1} = \\mathrm{\\theta}_{t} + \\eta \\frac{d\\mathrm{\\theta}(\\mathrm{\\theta}_t, \\mathrm{v}_t)}{dt}= \\mathrm{\\theta}_{t}-\\eta \\frac{\\partial \\mathcal{K}(\\mathrm{v}_t)}{\\partial \\mathrm{v}}$$\n",
    "\n",
    "- **Modified Euler's method: _Improve accuracy_**\n",
    "\n",
    "$$\\mathrm{v}_{t+1} = \\mathrm{v}_{t} + \\eta \\frac{d\\mathrm{v}(\\mathrm{\\theta}_t, \\mathrm{v}_t)}{dt}= \\mathrm{v}_{t}-\\eta \\frac{\\partial \\mathcal{\\varepsilon}(\\mathrm{\\theta}_t)}{\\partial \\mathrm{\\theta}} $$\n",
    "\n",
    "$$\\mathrm{\\theta}_{t+1} = \\mathrm{\\theta}_{t} + \\eta \\frac{d\\mathrm{\\theta}(\\mathrm{\\theta}_t, \\mathrm{v}_{t+1})}{dt}= \\mathrm{\\theta}_{t}-\\eta \\frac{\\partial \\mathcal{K}(\\mathrm{v}_{t+1})}{\\partial \\mathrm{v}}$$\n"
   ]
  },
  {
   "cell_type": "markdown",
   "metadata": {
    "slideshow": {
     "slide_type": "slide"
    }
   },
   "source": [
    "### How to update position and velocity within Hamiltonian system: \n",
    "\n",
    "- **Leapfrog method:** *further improve the accuracy, with multiple leapfrog steps update*\n",
    "\n",
    "$$\\mathrm{v}_{t+\\frac{1}{2}} =\\mathrm{v}_{t}-\\frac{\\eta }{2}\\frac{\\partial \\mathcal{\\varepsilon}(\\mathrm{\\theta}_t)}{\\partial \\mathrm{\\theta}} $$\n",
    "\n",
    "$$\\mathrm{\\theta}_{t+1} =  \\mathrm{\\theta}_{t}+\\eta \\frac{\\partial \\mathcal{K}(\\mathrm{v}_{t+\\frac{1}{2}})}{\\partial \\mathrm{v}}$$\n",
    "\n",
    "$$\\mathrm{v}_{t+1} =\\mathrm{v}_{t+\\frac{1}{2}}-\\frac{\\eta }{2}\\frac{\\partial \\mathcal{\\varepsilon}(\\mathrm{\\theta}_{t+1})}{\\partial \\mathrm{\\theta}} $$"
   ]
  },
  {
   "cell_type": "code",
   "execution_count": 10,
   "metadata": {
    "slideshow": {
     "slide_type": "skip"
    }
   },
   "outputs": [],
   "source": [
    "class HamiltonianMonteCarlo:\n",
    "    \"\"\" Hamiltonian Monte Carlo algorithm via pytorch\n",
    "    \"\"\"\n",
    "    \n",
    "    def __init__(self, \n",
    "                target_distribution,\n",
    "                proposed_mu=0,\n",
    "                proposed_var=1,\n",
    "                num_samples=2000, \n",
    "                burn_in=10, \n",
    "                step_size=0.1, \n",
    "                leapfrog_steps=10,\n",
    "                num_steps=10) -> None:\n",
    "        \"\"\" Initialize the Hamiltonian Monte Carlo algorithm\n",
    "\n",
    "        Parameters\n",
    "        ----------\n",
    "        target_distribution : class\n",
    "            target distribution\n",
    "        num_samples : int, optional\n",
    "            number of samples to generate, by default 2000\n",
    "        burn_in : int, optional\n",
    "            burn-in period, by default 10\n",
    "        step_size : float, optional\n",
    "            step size of the random walk, by default 0.1\n",
    "        leapfrog_steps : int, optional\n",
    "            number of leapfrog steps, by default 10\n",
    "\n",
    "        \"\"\"\n",
    "        self.num_samples = num_samples\n",
    "        self.burn_in = burn_in\n",
    "        self.step_size = step_size\n",
    "        self.leapfrog_steps = leapfrog_steps\n",
    "\n",
    "        # information about the target distribution\n",
    "        self.target_distribution = target_distribution\n",
    "\n",
    "        # information about the proposal distribution\n",
    "        self.proposed_mu = proposed_mu\n",
    "        self.proposed_var = proposed_var\n",
    "        \n",
    "\n",
    "    def hmc_step(self, x) :\n",
    "        \"\"\" Hamiltonian Monte Carlo step \"\"\"\n",
    "        x_0 = np.copy(x)\n",
    "        p_proposal = np.random.normal(self.proposed_mu,\n",
    "                                      self.proposed_var)\n",
    "        p_0 = p_proposal\n",
    "        # Make a half step for momentum at the beginning\n",
    "        p_proposal = p_proposal - self.step_size * self.target_distribution.grad_neg_log_pdf(x) / 2\n",
    "        # Alternate full steps for position and momentum\n",
    "        for i in range(self.leapfrog_steps):\n",
    "            # Make a full step for the position\n",
    "            x = x + self.step_size * p_proposal\n",
    "            # Make a full step for the momentum, except at end of trajectory\n",
    "            if i != self.leapfrog_steps - 1:\n",
    "                p_proposal = p_proposal - self.step_size * self.target_distribution.grad_neg_log_pdf(x)\n",
    "        # Make a half step for momentum at the end\n",
    "        p_proposal = p_proposal - self.step_size * self.target_distribution.grad_neg_log_pdf(x) / 2\n",
    "        # Negate momentum at end of trajectory to make the proposal symmetric\n",
    "        p_proposal = -p_proposal\n",
    "        # Evaluate potential and kinetic energies at start and end of trajectory\n",
    "        current_U = self.target_distribution.neg_log_pdf(x_0)\n",
    "        current_K = p_0 ** 2 / 2\n",
    "        proposed_U = self.target_distribution.neg_log_pdf(x)\n",
    "        proposed_K = p_proposal ** 2 / 2\n",
    "        # Accept or reject the state at the end of the trajectory\n",
    "        if np.random.uniform() < np.exp(current_U - proposed_U + current_K - proposed_K):\n",
    "            return x , 1 # accept\n",
    "        else:\n",
    "            return x_0, 0 # reject\n",
    "    \n",
    "    def _hmc_single_run(self):\n",
    "        samples = []\n",
    "        accept = 0\n",
    "        x = np.random.normal(loc=0, scale=1)\n",
    "        for i in range(self.num_samples + self.burn_in):\n",
    "            x, acc = self.hmc_step(x)\n",
    "            if i >= self.burn_in:\n",
    "                accept += acc\n",
    "                samples.append(x)\n",
    "        return samples, accept/self.num_samples\n",
    "    \n",
    "    def run(self, num_trials=1):\n",
    "        self.trial_samples = []\n",
    "        self.acceptance_rate = []\n",
    "        for trial in range(num_trials):\n",
    "            samples, acc_rate = self._hmc_single_run()\n",
    "            print(f'Acceptance rate of trial {trial}: {acc_rate}')\n",
    "            self.trial_samples.append(samples)\n",
    "            self.acceptance_rate.append(acc_rate)\n",
    "        return self.trial_samples\n",
    "\n",
    "    def plot_trials(self):\n",
    "        fig, ax = plt.subplots(figsize=(5, 4))\n",
    "        for i, samples in enumerate(self.trial_samples):\n",
    "            ax.hist(samples, bins=30, density=True,\n",
    "                     alpha=0.7, label=f'Trial {i+1}')\n",
    "        # plot the pdf of the target distribution\n",
    "        x = np.linspace(-10, 10, 1000)\n",
    "        ax.plot(x, self.target_distribution.pdf(x), 'r--', label='True PDF')\n",
    "        ax.legend(loc='upper left')\n",
    "        ax.grid('--')\n",
    "        ax.set_xlabel('Iteration')\n",
    "        ax.set_ylabel('PDF')\n",
    "        plt.show()"
   ]
  },
  {
   "cell_type": "code",
   "execution_count": 11,
   "metadata": {
    "slideshow": {
     "slide_type": "slide"
    }
   },
   "outputs": [],
   "source": [
    "\n",
    "# use autograd to get the autodiff\n",
    "from autograd import grad\n",
    "\n",
    "\n",
    "class TargetDistribution4HMC(TargetDistribution):\n",
    "    \n",
    "    def __init__(self, *args, **kwargs):\n",
    "        super().__init__(*args, **kwargs)\n",
    "\n",
    "    \n",
    "    def neg_log_pdf(self, x):\n",
    "        return -np.log(self.pdf(x))\n",
    "    \n",
    "    def grad_neg_log_pdf(self, x):\n",
    "        return grad(self.neg_log_pdf)(x)\n",
    "\n",
    "target = TargetDistribution4HMC()\n",
    "    \n"
   ]
  },
  {
   "cell_type": "code",
   "execution_count": 12,
   "metadata": {
    "slideshow": {
     "slide_type": "slide"
    }
   },
   "outputs": [
    {
     "name": "stdout",
     "output_type": "stream",
     "text": [
      "Acceptance rate of trial 0: 0.9985\n",
      "Acceptance rate of trial 1: 0.9985\n",
      "Acceptance rate of trial 2: 0.9975\n",
      "Acceptance rate of trial 3: 0.997\n",
      "Acceptance rate of trial 4: 0.998\n"
     ]
    },
    {
     "data": {
      "image/png": "[encoded data removed]",
      "text/plain": [
       "<Figure size 500x400 with 1 Axes>"
      ]
     },
     "metadata": {},
     "output_type": "display_data"
    }
   ],
   "source": [
    "# run the HMC algorithm, play with parameters \n",
    "HMC = HamiltonianMonteCarlo(target_distribution=target,\n",
    "                            proposed_mu=0,\n",
    "                            proposed_var=1,\n",
    "                            num_samples=2000, \n",
    "                            burn_in=10, \n",
    "                            step_size=0.2, \n",
    "                            leapfrog_steps=20)\n",
    "results = HMC.run(num_trials=5)\n",
    "HMC.plot_trials()"
   ]
  },
  {
   "cell_type": "markdown",
   "metadata": {
    "slideshow": {
     "slide_type": "slide"
    }
   },
   "source": [
    "### See you next class\n",
    "\n",
    "Have fun!"
   ]
  }
 ],
 "metadata": {
  "celltoolbar": "Slideshow",
  "hide_code_all_hidden": false,
  "kernelspec": {
   "display_name": "Python (3dasm)",
   "language": "python",
   "name": "3dasm"
  },
  "language_info": {
   "codemirror_mode": {
    "name": "ipython",
    "version": 3
   },
   "file_extension": ".py",
   "mimetype": "text/x-python",
   "name": "python",
   "nbconvert_exporter": "python",
   "pygments_lexer": "ipython3",
   "version": "3.10.18"
  }
 },
 "nbformat": 4,
 "nbformat_minor": 4
}

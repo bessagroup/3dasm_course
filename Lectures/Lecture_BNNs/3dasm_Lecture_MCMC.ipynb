{
 "cells": [
  {
   "cell_type": "markdown",
   "metadata": {
    "hideCode": false,
    "hidePrompt": false,
    "slideshow": {
     "slide_type": "slide"
    }
   },
   "source": [
    "<img src=../figures/Brown_logo.svg width=50%>\n",
    "\n",
    "## Data-Driven Design & Analyses of Structures & Materials (3dasm)\n",
    "\n",
    "## Lecture Markov Chain Monte Carlo\n",
    "\n",
    "### Miguel A. Bessa | <a href = \"mailto: miguel_bessa@brown.edu\">miguel_bessa@brown.edu</a>  | Associate Professor"
   ]
  },
  {
   "cell_type": "markdown",
   "metadata": {
    "hideCode": false,
    "hidePrompt": false,
    "slideshow": {
     "slide_type": "slide"
    }
   },
   "source": [
    "## Outline for today\n",
    "\n",
    "* How to interpret Bayesian neural network compared to deterministic NN?\n",
    "* How to integrate the posterior through Markov Chain Monte Carlo (MCMC)?\n",
    "\n",
    "\n",
    "**Reading material**: This notebook + (Murphy's advanced book, chapter Part II Inference)"
   ]
  },
  {
   "cell_type": "markdown",
   "metadata": {
    "slideshow": {
     "slide_type": "slide"
    }
   },
   "source": [
    "## Recap: ANN for regression with Gaussian prior\n",
    "<img align=right src=\"./figures/recap.png\" width=40%>\n",
    "\n",
    "\n",
    "Assume a Gaussian prior  $\\require{color} \\color{red}p(z)$ on $\\mathbf{w}$ and the MAP point estimate for an DNN\n",
    "\n",
    "$$\\require{color}\n",
    "\\hat{\\mathbf{z}}_{\\text{map}} = \\underset{z}{\\mathrm{argmin}}\\left[-\\log{p(\\mathbf{y}=\\mathbf{y}_n|\\mathbf{x}=\\mathbf{x}_n, \\mathbf{z})} - \\log{{\\color{red}p(z)}}\\right]$$\n",
    "\n",
    "\n",
    "Performing the calculation, the point estimate when assuming a Gaussian prior becomes:\n",
    "\n",
    "$$\n",
    "\\begin{align}\n",
    "\\hat{\\mathbf{z}}_{\\text{map}} = \\underset{z}{\\mathrm{argmin}}\\left[\\frac{1}{2} ||\\mathbf{Y}-\\mathbf{f}(\\mathbf{X},\\mathbf{z}) ||_2^2 + \\alpha ||\\mathbf{w}||_2^2\\right]\n",
    "\\end{align}\n",
    "$$\n",
    "\n",
    "**Then, we can use sophisticated optimizers, as introduced in notebooks 25,26,27, for exploring the loss landscape (the right figure) to get a point estimation.**"
   ]
  },
  {
   "cell_type": "markdown",
   "metadata": {
    "slideshow": {
     "slide_type": "slide"
    }
   },
   "source": [
    "## What if we want to get the posterior distributon of weights?\n",
    "\n",
    "- Conceptually, from point estmation (DNN) to posterior distribution (BNN), we can inprepret we change the likelihood and prior from delta distribution to another distributions, like Gaussian distribution. \n",
    "\n",
    " <img align=center src=\"./figures/dnnbnn.png\" width=60%>\n"
   ]
  },
  {
   "cell_type": "markdown",
   "metadata": {
    "slideshow": {
     "slide_type": "slide"
    }
   },
   "source": [
    "## What if we want to get the posterior distributon of weights?\n",
    "\n",
    "- From an optimization view, instead of obtaining an optimum (shown in the left figure), it requires to integrate the whole loss (posterior distribution) landscape, as indicated in the second figure. \n",
    "\n",
    " <img align=center src=\"./figures/OPTIMIZATION_VS_INFERENCE.png\" width=60%>"
   ]
  },
  {
   "cell_type": "markdown",
   "metadata": {
    "slideshow": {
     "slide_type": "slide"
    }
   },
   "source": [
    "## We then can formulate posterior with Bayes' rule?\n",
    "\n",
    "\\begin{align}\n",
    "p\\left( \\mathbf{z} \\mid \\mathcal{D} \\right) = \\frac{p\\left( \\mathcal{D} \\mid \\mathbf{z} \\right) p\\left( \\mathbf{z} \\right)}{p\\left( \\mathcal{D} \\right)} \\propto p\\left( \\mathcal{D} \\mid \\mathbf{z} \\right) \\, p\\left( \\mathbf{z} \\right)\n",
    "\\end{align}\n",
    "\n",
    "- Likelihood: $\n",
    "p\\left( \\mathcal{D} \\mid \\mathbf{z} \\right)\n",
    "= \\mathcal{N}\\!\\left( \\mathbf{Y} \\,\\middle|\\, \\mathbf{f}(\\mathbf{X}, \\mathbf{z}), \\, \\sigma^2 \\mathbf{I} \\right)\n",
    "$, where $\\sigma^2$ is the data noise.\n",
    "- Prior:$\n",
    "p\\left( \\mathbf{z} \\right)\n",
    "= \\mathcal{N}\\!\\left( \\mathbf{z} \\,\\middle|\\, \\mathbf{0}, \\, \\tau^2 \\mathbf{I} \\right)\n",
    "$, where $\\tau^2$ the variance of prior distribution.\n",
    "- Log posterior can be derivated by:\n",
    "\n",
    "\\begin{align}\n",
    "\\log p\\left( \\mathbf{z} \\mid \\mathcal{D} \\right) &= \\log p\\left( \\mathcal{D} \\mid \\mathbf{z} \\right) + \\log p\\left( \\mathbf{z} \\right)\\\\\n",
    "&= \\log \\left[ \\frac{\\exp\\left( -\\frac{1}{2\\sigma^2} \n",
    "    \\left\\| \\mathbf{Y} - \\mathbf{f}(\\mathbf{X}, \\mathbf{z}) \\right\\|_2^2 \\right) }{(2\\pi\\sigma^2)^{n/2}} \n",
    "    \\right]  + \\log \\left[ \\frac{ \\exp\\left( -\\frac{1}{2\\tau^2} \n",
    "    \\left\\| \\mathbf{w} \\right\\|_2^2 \\right) }{(2\\pi\\tau^2)^{m/2}} \\right] \\\\\n",
    "&= -\\frac{n}{2} \\log(2\\pi\\sigma^2) \n",
    "   -\\frac{1}{2\\sigma^2} \\left\\| \\mathbf{Y} - \\mathbf{f}(\\mathbf{X}, \\mathbf{z}) \\right\\|_2^2  -\\frac{m}{2} \\log(2\\pi\\tau^2) \n",
    "   -\\frac{1}{2\\tau^2} \\left\\| \\mathbf{w} \\right\\|_2^2\n",
    "\\end{align}\n",
    "\n",
    "where $\\frac{1}{2\\tau^2}$ corresponds to the weight decay $\\alpha$ in a deterministic setting"
   ]
  },
  {
   "cell_type": "markdown",
   "metadata": {
    "slideshow": {
     "slide_type": "slide"
    }
   },
   "source": [
    "## How to integrate the posterior distribution? \n",
    "\n",
    "- The process of computing the posterior distribution over these variables based on observed data, following Bayes’ rule, is referred to as *inference*. \n",
    "\n",
    "\n",
    "- Once the likelihood, prior, and training data are fixed, the posterior distribution is also determined.\n",
    "\n",
    "\n",
    "- On the other hand, changing any hyperparameter—such as replacing a Gaussian likelihood with another distribution or altering the data noise $\\sigma^2$—will modify the posterior distribution. It is a higher-level Bayesian model training see Lecture 16.\n",
    "\n",
    "\n",
    "\n"
   ]
  },
  {
   "cell_type": "markdown",
   "metadata": {
    "slideshow": {
     "slide_type": "slide"
    }
   },
   "source": [
    "### Markov Chain Monte Carlo (MCMC)\n",
    "\n",
    "\n",
    "- A stochastic sampling method that constructs a Markov chain whose stationary distribution matches the target distribution $ p(\\boldsymbol{\\theta}) $. In the case of BNN, it is $p(\\mathbf{z}|\\mathcal{D})$.  \n",
    "- It starts from an initial position $\\boldsymbol{\\theta}_0$ and generates candidate samples using a proposal distribution $ q(\\boldsymbol{\\theta}' \\mid \\boldsymbol{\\theta}) $.  \n",
    "- Each candidate is either accepted or rejected based on an acceptance rule (e.g., Metropolis–Hastings criterion), ensuring the chain explores the state space.  \n",
    "- **Theoretical guarantee:** Under mild conditions (irreducibility, aperiodicity, detailed balance), the Markov chain converges to the target distribution as the number of iterations goes to infinity.  \n",
    "\n",
    " <img align=center src=\"./figures/ilustration_of_mcmc.png\" width=30%> \n",
    "\n"
   ]
  },
  {
   "cell_type": "code",
   "execution_count": 1,
   "metadata": {
    "slideshow": {
     "slide_type": "slide"
    }
   },
   "outputs": [],
   "source": [
    "import torch\n",
    "import torch.nn as nn\n",
    "import numpy as np\n",
    "from matplotlib import pyplot as plt\n",
    "from torch.autograd import grad\n",
    "class TargetDistribution:\n",
    "    def __init__(self,  w1=0.3, w2=0.7, mu1=-2.0, sigma1=1.0, mu2=2.0, sigma2=1.0,):\n",
    "        self.w1 = w1\n",
    "        self.w2 = w2\n",
    "        # Parameters as tensors (for autograd + device support)\n",
    "        self.mu1 = torch.tensor(mu1, dtype=torch.float32)\n",
    "        self.sigma1 = torch.tensor(sigma1, dtype=torch.float32)\n",
    "        self.mu2 = torch.tensor(mu2, dtype=torch.float32)\n",
    "        self.sigma2 = torch.tensor(sigma2, dtype=torch.float32)\n",
    "        self.pi = torch.tensor(torch.pi, dtype=torch.float32)\n",
    "\n",
    "    def gaussian(self, x, mu, sigma):\n",
    "        coef = 1.0 / (sigma * torch.sqrt(2 * self.pi))\n",
    "        exponent = -0.5 * ((x - mu) / sigma) ** 2\n",
    "        return coef * torch.exp(exponent)\n",
    "\n",
    "    def pdf(self, x):\n",
    "        return self.w1 * self.gaussian(x, self.mu1, self.sigma1) + \\\n",
    "               self.w2 * self.gaussian(x, self.mu2, self.sigma2)\n",
    "\n",
    "    def plot_pdf(self, range_x=(-8, 8), num_points=1000):\n",
    "        x = torch.linspace(range_x[0], range_x[1], num_points)\n",
    "        y = self.pdf(x)\n",
    "        plt.figure(figsize=(5, 4))\n",
    "        plt.plot(x, y, label='Target PDF')\n",
    "        plt.xlabel('x'); plt.ylabel('pdf')\n",
    "        plt.legend()\n",
    "        plt.tight_layout()\n",
    "        plt.show()\n",
    "\n",
    "    "
   ]
  },
  {
   "cell_type": "code",
   "execution_count": 2,
   "metadata": {
    "slideshow": {
     "slide_type": "slide"
    }
   },
   "outputs": [
    {
     "data": {
      "image/png": "[encoded data removed]",
      "text/plain": [
       "<Figure size 500x400 with 1 Axes>"
      ]
     },
     "metadata": {},
     "output_type": "display_data"
    }
   ],
   "source": [
    "target  = TargetDistribution(w1=0.3, w2=0.7, mu1=-6.0, sigma1=1.0, mu2=2.0, sigma2=1.0)\n",
    "\n",
    "target.plot_pdf()"
   ]
  },
  {
   "cell_type": "code",
   "execution_count": 3,
   "metadata": {
    "slideshow": {
     "slide_type": "skip"
    }
   },
   "outputs": [],
   "source": [
    "class MetropolisHastings:\n",
    "    def __init__(self, target_distribution, num_samples=2000, burn_in=200, step_size=1.0):\n",
    "        self.target_distribution = target_distribution #target pdf\n",
    "        self.num_samples = num_samples # how many samples to be sampled\n",
    "        self.burn_in = burn_in # burn in step\n",
    "        self.step_size = step_size # step size of sampling\n",
    "\n",
    "    def run(self, num_trials=1, x0=None):\n",
    "        self.trial_samples, self.acceptance_rate = [], []\n",
    "        for trial in range(num_trials):\n",
    "            x = torch.randn(()) if x0 is None else torch.as_tensor(x0).reshape(())\n",
    "            samples, accepts, accepts_post = [], 0, 0 # initiate the samples and acceptance ratios\n",
    "            for i in range(self.num_samples + self.burn_in):\n",
    "                proposed_x = x + torch.randn(()) * self.step_size\n",
    "                p_prop = self.target_distribution.pdf(proposed_x)\n",
    "                p_curr = self.target_distribution.pdf(x)\n",
    "                log_alpha = torch.log(p_prop + 1e-12) - torch.log(p_curr + 1e-12)\n",
    "                if torch.log(torch.rand(())) < torch.minimum(torch.tensor(0.), log_alpha):\n",
    "                    x = proposed_x\n",
    "                    accepts += 1 # this counts accepted samples in burn-in and post burn-in phase\n",
    "                    if i >= self.burn_in: # this counts accepted samples only post burn-in phase\n",
    "                        accepts_post += 1\n",
    "                if i >= self.burn_in:\n",
    "                    samples.append(x.item())\n",
    "            rate = accepts / (self.num_samples  + self.burn_in) # include burn-in and post burn-in stages\n",
    "            rate_post = accepts_post / (self.num_samples) # include burn-in and post burn-in stages\n",
    "            print(f'Acceptance rate of trial {trial}: {rate:.4f}')\n",
    "            print(f'Acceptance rate of trial {trial} only after burn-in stage: {rate_post:.4f}\\n')\n",
    "            self.acceptance_rate.append(rate)\n",
    "            self.trial_samples.append(torch.tensor(samples))\n",
    "        return self.trial_samples\n",
    "\n",
    "    def plot_trials(self, bins=30, x_range=(-10, 10), num_points=1000):\n",
    "        fig, ax = plt.subplots(figsize=(5, 4))\n",
    "        for i, samples in enumerate(self.trial_samples):\n",
    "            ax.hist(samples.numpy(), bins=bins, density=True, alpha=0.6, label=f'Trial {i+1}')\n",
    "        x = torch.linspace(*x_range, num_points)\n",
    "        ax.plot(x.numpy(), self.target_distribution.pdf(x).numpy(), 'r--', label='Target PDF')\n",
    "        ax.legend()\n",
    "        ax.set_xlabel('x'); ax.set_ylabel('Density')\n",
    "        plt.tight_layout(); plt.show()"
   ]
  },
  {
   "cell_type": "code",
   "execution_count": 4,
   "metadata": {
    "slideshow": {
     "slide_type": "slide"
    }
   },
   "outputs": [
    {
     "name": "stdout",
     "output_type": "stream",
     "text": [
      "Acceptance rate of trial 0: 0.2881\n",
      "Acceptance rate of trial 0 only after burn-in stage: 0.2880\n",
      "\n",
      "Acceptance rate of trial 1: 0.3299\n",
      "Acceptance rate of trial 1 only after burn-in stage: 0.3275\n",
      "\n",
      "Acceptance rate of trial 2: 0.2786\n",
      "Acceptance rate of trial 2 only after burn-in stage: 0.2780\n",
      "\n",
      "Acceptance rate of trial 3: 0.3015\n",
      "Acceptance rate of trial 3 only after burn-in stage: 0.3005\n",
      "\n",
      "Acceptance rate of trial 4: 0.2995\n",
      "Acceptance rate of trial 4 only after burn-in stage: 0.2990\n",
      "\n"
     ]
    },
    {
     "data": {
      "image/png": "[encoded data removed]",
      "text/plain": [
       "<Figure size 500x400 with 1 Axes>"
      ]
     },
     "metadata": {},
     "output_type": "display_data"
    }
   ],
   "source": [
    "# play with burn_in, step_size, number_samples of RWMH method, which are the tunable parameters of RWMH\n",
    "MH = MetropolisHastings(target_distribution=target,\n",
    "                        num_samples=2000, \n",
    "                        burn_in=10, \n",
    "                        step_size=5.0)\n",
    "# run 5 times the samples\n",
    "results = MH.run(num_trials=5)\n",
    "# plot the sampled pdf with the true one\n",
    "MH.plot_trials()\n"
   ]
  },
  {
   "cell_type": "markdown",
   "metadata": {
    "slideshow": {
     "slide_type": "slide"
    }
   },
   "source": [
    "## Hamiltonian Monte Carlo (HMC)\n",
    "- One fatal drawback of RWMH algorithm is that the random walk procedure prevents the scalability.\n",
    "\n",
    "- Hamiltonian Monte Carlo (Neal 2012) improves the convergence, with embedding the concept of Hamitonian mechanics. \n"
   ]
  },
  {
   "cell_type": "markdown",
   "metadata": {
    "slideshow": {
     "slide_type": "fragment"
    }
   },
   "source": [
    "\n",
    "<img src=\"figures/hmc.png\" title=\"Hamiltonian mechanics\" width=\"30%\" align=\"right\">\n",
    "<!-- <img align=center src=\"./figures/hmc.png\" width=20%>  -->\n",
    "A Hamiltonian mechanical system can be imagined as a ball rolling in a frictionless bowl:\n",
    "$$\n",
    "\\mathcal{H}\\left(\\boldsymbol{\\theta}, \\mathrm{v} \\right) =\n",
    "   \\mathcal{\\varepsilon(\\boldsymbol{\\theta})} + \\mathcal{K}(\\mathrm{v})\n",
    "$$\n",
    "\n",
    "- potential energy: $\\mathcal{\\varepsilon(\\boldsymbol{\\theta})} = - \\log \\, p(\\boldsymbol{\\theta})$\n",
    "\n",
    "- kinetic energy: $\\mathcal{K}(\\mathrm{v}) = \\frac{1}{2}\\mathrm{v}^{T} {\\Sigma}^{-1} \\mathrm{v}$\n",
    "\n",
    "where ${\\Sigma}$ is the mass matrix.\n",
    "\n",
    "**Key Idea**\n",
    "- Uses Hamiltonian dynamics to propose new states by simulating trajectories shown in the figure\n",
    "- **Efficiently explores** the target distribution by following energy-preserving paths.\n",
    "\n"
   ]
  },
  {
   "cell_type": "markdown",
   "metadata": {
    "slideshow": {
     "slide_type": "slide"
    }
   },
   "source": [
    "### How to update position and velocity within Hamiltonian system: \n",
    "\n",
    "- **Euler's method**\n",
    "\n",
    "$$\\mathrm{v}_{t+1} = \\mathrm{v}_{t} + \\eta \\frac{d\\mathrm{v}(\\mathrm{\\theta}_t, \\mathrm{v}_t)}{dt}= \\mathrm{v}_{t}-\\eta \\frac{\\partial \\mathcal{\\varepsilon}(\\mathrm{\\theta}_t)}{\\partial \\mathrm{\\theta}} $$\n",
    "\n",
    "$$\\mathrm{\\theta}_{t+1} = \\mathrm{\\theta}_{t} + \\eta \\frac{d\\mathrm{\\theta}(\\mathrm{\\theta}_t, \\mathrm{v}_t)}{dt}= \\mathrm{\\theta}_{t}-\\eta \\frac{\\partial \\mathcal{K}(\\mathrm{v}_t)}{\\partial \\mathrm{v}}$$\n",
    "\n",
    "- **Modified Euler's method: _Improve accuracy_**\n",
    "\n",
    "$$\\mathrm{v}_{t+1} = \\mathrm{v}_{t} + \\eta \\frac{d\\mathrm{v}(\\mathrm{\\theta}_t, \\mathrm{v}_t)}{dt}= \\mathrm{v}_{t}-\\eta \\frac{\\partial \\mathcal{\\varepsilon}(\\mathrm{\\theta}_t)}{\\partial \\mathrm{\\theta}} $$\n",
    "\n",
    "$$\\mathrm{\\theta}_{t+1} = \\mathrm{\\theta}_{t} + \\eta \\frac{d\\mathrm{\\theta}(\\mathrm{\\theta}_t, \\mathrm{v}_{t+1})}{dt}= \\mathrm{\\theta}_{t}-\\eta \\frac{\\partial \\mathcal{K}(\\mathrm{v}_{t+1})}{\\partial \\mathrm{v}}$$\n"
   ]
  },
  {
   "cell_type": "markdown",
   "metadata": {
    "slideshow": {
     "slide_type": "slide"
    }
   },
   "source": [
    "### How to update position and velocity within Hamiltonian system: \n",
    "\n",
    "- **Leapfrog method:** *further improve the accuracy, with multiple leapfrog steps update*\n",
    "\n",
    "$$\\mathrm{v}_{t+\\frac{1}{2}} =\\mathrm{v}_{t}-\\frac{\\eta }{2}\\frac{\\partial \\mathcal{\\varepsilon}(\\mathrm{\\theta}_t)}{\\partial \\mathrm{\\theta}} $$\n",
    "\n",
    "$$\\mathrm{\\theta}_{t+1} =  \\mathrm{\\theta}_{t}+\\eta \\frac{\\partial \\mathcal{K}(\\mathrm{v}_{t+\\frac{1}{2}})}{\\partial \\mathrm{v}}$$\n",
    "\n",
    "$$\\mathrm{v}_{t+1} =\\mathrm{v}_{t+\\frac{1}{2}}-\\frac{\\eta }{2}\\frac{\\partial \\mathcal{\\varepsilon}(\\mathrm{\\theta}_{t+1})}{\\partial \\mathrm{\\theta}} $$"
   ]
  },
  {
   "cell_type": "code",
   "execution_count": 5,
   "metadata": {
    "slideshow": {
     "slide_type": "skip"
    }
   },
   "outputs": [],
   "source": [
    "class HMC:\n",
    "    def __init__(self,\n",
    "                 neg_log_prob,\n",
    "                 num_dim,\n",
    "                 step_size=0.1,\n",
    "                 leapfrog_steps=10,\n",
    "                 num_samples=100,\n",
    "                 burn_in=10,\n",
    "                 device='cpu'):\n",
    "    \n",
    "        self.neg_log_prob = neg_log_prob\n",
    "        self.step_size = step_size\n",
    "        self.leapfrog_steps = leapfrog_steps\n",
    "        self.num_samples = num_samples\n",
    "        self.burn_in = burn_in\n",
    "        self.device = device\n",
    "        self.num_dim = num_dim\n",
    "\n",
    "    def potential_energy(self, x):\n",
    "        \"\"\" calculate the potential energy, i.e., negative log likelihood\n",
    "        \"\"\"\n",
    "        return self.neg_log_prob(x)\n",
    "\n",
    "    def kinetic_energy(self, p):\n",
    "        \"\"\"calculate the kinetic energy of the system, assuming unit mass.\n",
    "        \"\"\"\n",
    "        return 0.5 * torch.sum(p ** 2)\n",
    "\n",
    "    def grad_potential_energy(self, x):\n",
    "        \"\"\"calculate the gradient of the potential energy using autograd.\n",
    "        \"\"\"\n",
    "        x = x.clone().detach().requires_grad_(True)\n",
    "        U = self.potential_energy(x)\n",
    "        grad_U = grad(U, x, create_graph=False)[0]\n",
    "        return grad_U\n",
    "\n",
    "    def leapfrog(self, x, p):\n",
    "        # get the initial position and momentum\n",
    "        x = x.clone()\n",
    "        p = p.clone()\n",
    "        # update half step for momentum\n",
    "        p -= 0.5 * self.step_size * self.grad_potential_energy(x)\n",
    "        # perform leapfrog steps\n",
    "        for i in range(self.leapfrog_steps):\n",
    "            # a full step for position\n",
    "            x += self.step_size * p\n",
    "            if i != self.leapfrog_steps - 1:\n",
    "                # a full step for momentum\n",
    "                p -= self.step_size * self.grad_potential_energy(x)\n",
    "        # update the momentum for the last step\n",
    "        p -= 0.5 * self.step_size * self.grad_potential_energy(x)\n",
    "        return x, -p\n",
    "\n",
    "    def sample(self, init_position: torch.Tensor = None):\n",
    "        \"\"\"Sample from the posterior distribution using Hamiltonian Monte Carlo.\n",
    "        \"\"\"\n",
    "        self.chain_nll= []\n",
    "        self.chain_samples = []\n",
    "        samples = []\n",
    "        accept_count = 0\n",
    "        # get initial position\n",
    "        if init_position is None:\n",
    "            x = torch.randn(self.num_dim, device=self.device)\n",
    "        else:\n",
    "            x = init_position.to(self.device)\n",
    "\n",
    "        for i in range(self.num_samples + self.burn_in):\n",
    "\n",
    "            x = x.detach()\n",
    "            p = torch.randn(self.num_dim, device=self.device)\n",
    "            cur_U = self.potential_energy(x)\n",
    "            cur_K = self.kinetic_energy(p)\n",
    "            x_prop, p_prop = self.leapfrog(x, p)\n",
    "            prop_U = self.potential_energy(x_prop)\n",
    "            prop_K = self.kinetic_energy(p_prop)\n",
    "            # Metropolis acceptance criterion\n",
    "            accept_prob = torch.exp(cur_U - prop_U + cur_K - prop_K)\n",
    "            if torch.rand(1, device=self.device) < accept_prob:\n",
    "                x = x_prop\n",
    "                accepted = True\n",
    "            else:\n",
    "                accepted = False\n",
    "            if i >= self.burn_in:\n",
    "                samples.append(x.cpu().numpy())\n",
    "                if accepted:\n",
    "                    accept_count += 1\n",
    "            self.chain_nll.append(self.potential_energy(x).item())\n",
    "            self.chain_samples.append(x.cpu().numpy())\n",
    "        self.acceptance_rate = accept_count / self.num_samples\n",
    "        return torch.tensor(samples), self.acceptance_rate\n",
    "    \n",
    "    def get_chain_samples(self):\n",
    "        \"\"\"Get the chain samples of the whole chain.\n",
    "        \"\"\"\n",
    "        return self.chain_samples"
   ]
  },
  {
   "cell_type": "code",
   "execution_count": 6,
   "metadata": {
    "slideshow": {
     "slide_type": "slide"
    }
   },
   "outputs": [],
   "source": [
    "# modidy the target distribution so that it works for HMC\n",
    "\n",
    "class TargetDistribution4HMC(TargetDistribution):\n",
    "    \n",
    "    def __init__(self, *args, **kwargs):\n",
    "        super().__init__(*args, **kwargs)\n",
    "\n",
    "    def log_pdf(self, x):\n",
    "        return torch.log(self.pdf(x))\n",
    "\n",
    "    def neg_log_pdf(self, x):\n",
    "        return -self.log_pdf(x)\n",
    "\n",
    "    def grad_neg_log_pdf(self, x):\n",
    "        x = x.clone().detach().requires_grad_(True)\n",
    "        y = self.neg_log_pdf(x)\n",
    "        grad_val = torch.autograd.grad(y, x, create_graph=False)[0]\n",
    "        return grad_val\n",
    "\n",
    "target = TargetDistribution4HMC()\n",
    "    \n"
   ]
  },
  {
   "cell_type": "code",
   "execution_count": 7,
   "metadata": {
    "slideshow": {
     "slide_type": "slide"
    }
   },
   "outputs": [
    {
     "name": "stderr",
     "output_type": "stream",
     "text": [
      "/tmp/ipykernel_104450/3913377758.py:90: UserWarning: Creating a tensor from a list of numpy.ndarrays is extremely slow. Please consider converting the list to a single numpy.ndarray with numpy.array() before converting to a tensor. (Triggered internally at /pytorch/torch/csrc/utils/tensor_new.cpp:253.)\n",
      "  return torch.tensor(samples), self.acceptance_rate\n"
     ]
    },
    {
     "name": "stdout",
     "output_type": "stream",
     "text": [
      "Run 1 - Acceptance Rate: 1.0000\n",
      "Run 2 - Acceptance Rate: 1.0000\n",
      "Run 3 - Acceptance Rate: 1.0000\n",
      "Run 4 - Acceptance Rate: 0.9960\n",
      "Run 5 - Acceptance Rate: 1.0000\n"
     ]
    },
    {
     "data": {
      "image/png": "[encoded data removed]",
      "text/plain": [
       "<Figure size 500x400 with 1 Axes>"
      ]
     },
     "metadata": {},
     "output_type": "display_data"
    }
   ],
   "source": [
    "# run \n",
    "all_samples = []\n",
    "all_acc_rates = []\n",
    "\n",
    "for run in range(5):\n",
    "    hmc = HMC(\n",
    "        neg_log_prob=target.neg_log_pdf,\n",
    "        num_dim=1,\n",
    "        step_size=0.1,\n",
    "        leapfrog_steps=20,\n",
    "        num_samples=500,\n",
    "        burn_in=50\n",
    "    )\n",
    "    samples, acc_rate = hmc.sample(init_position=None)\n",
    "    samples = samples.view(-1).numpy()\n",
    "    print(f\"Run {run+1} - Acceptance Rate: {acc_rate:.4f}\")\n",
    "    all_samples.append(samples)\n",
    "    all_acc_rates.append(acc_rate)\n",
    "# plot the \n",
    "x_range = (-8, 8)\n",
    "fig, ax = plt.subplots(figsize=(5, 4))\n",
    "\n",
    "# Histogram of each run\n",
    "for i, samples in enumerate(all_samples):\n",
    "    ax.hist(samples, bins=30, density=True, alpha=0.6, label=f'trial {i+1}')\n",
    "x_plot = torch.linspace(*x_range, 1000)\n",
    "ax.plot(x_plot.numpy(), target.pdf(x_plot).numpy(), 'r--', lw=2, label='Target PDF')\n",
    "ax.set_xlabel('x')\n",
    "ax.set_ylabel('Density')\n",
    "ax.legend()\n",
    "plt.tight_layout()\n",
    "plt.show()\n"
   ]
  },
  {
   "cell_type": "markdown",
   "metadata": {
    "slideshow": {
     "slide_type": "slide"
    }
   },
   "source": [
    "## What happens when HMC meets Neural network?"
   ]
  },
  {
   "cell_type": "code",
   "execution_count": 8,
   "metadata": {
    "slideshow": {
     "slide_type": "fragment"
    }
   },
   "outputs": [],
   "source": [
    "## Define  a one-dimensional problem \n",
    "torch.manual_seed(0)  # fix the seed\n",
    "def cubic_sin(x: torch.Tensor,\n",
    "              noise_std: float = 0.1) -> torch.Tensor:\n",
    "    \"\"\"dis continuous function with noise\"\"\"\n",
    "\n",
    "    obj = torch.sin(6*x)**3 + torch.randn_like(x) * noise_std\n",
    "\n",
    "    return obj.reshape((-1, 1))\n",
    "# get the training samples\n",
    "sample_x1 = torch.linspace(-0.8, -0.2, 16).reshape((-1, 1))\n",
    "sample_x2 = torch.linspace(0.2, 0.8, 16).reshape((-1, 1))\n",
    "sample_x = torch.cat([sample_x1, sample_x2], dim=0)\n",
    "# scale the data\n",
    "x_mean = sample_x.mean(); x_std = sample_x.std()\n",
    "sample_x_scaled = (sample_x - x_mean) / x_std\n",
    "# get the responses\n",
    "sample_y = cubic_sin(sample_x, noise_std=0.1)\n",
    "# scale the y\n",
    "y_mean = sample_y.mean(); y_std = sample_y.std()\n",
    "sample_y_scaled = (sample_y - y_mean) / y_std\n"
   ]
  },
  {
   "cell_type": "code",
   "execution_count": 9,
   "metadata": {
    "slideshow": {
     "slide_type": "slide"
    }
   },
   "outputs": [],
   "source": [
    "# Define the BNN model\n",
    "class BNN(nn.Module):\n",
    "    def __init__(self,input_dim, hidden_dim, output_dim):\n",
    "        super(BNN, self).__init__()\n",
    "        self.fc1 = nn.Linear(input_dim, hidden_dim)\n",
    "        self.fc2 = nn.Linear(hidden_dim, hidden_dim)\n",
    "        self.fc3 = nn.Linear(hidden_dim, output_dim)\n",
    "    def forward(self, x):\n",
    "        x = torch.tanh(self.fc1(x))\n",
    "        x = torch.tanh(self.fc2(x))\n",
    "        return self.fc3(x)\n",
    "\n",
    "def flatten_params(model):\n",
    "    # flatten the params of neural network for sampling\n",
    "    return torch.cat([p.view(-1) for p in model.parameters()])\n",
    "\n",
    "def assign_params(model, flat_params):\n",
    "    # assign parameter (sampled params) to nerual network\n",
    "    idx = 0\n",
    "    for p in model.parameters():\n",
    "        numel = p.numel()\n",
    "        p.data.copy_(flat_params[idx:idx+numel].view_as(p))\n",
    "        idx += numel"
   ]
  },
  {
   "cell_type": "code",
   "execution_count": 10,
   "metadata": {
    "slideshow": {
     "slide_type": "slide"
    }
   },
   "outputs": [],
   "source": [
    "class BNN_Posterior(nn.Module):\n",
    "    def __init__(self, model, X, y, noise_std=1, prior_std=1.0):\n",
    "        super(BNN_Posterior, self).__init__()\n",
    "        self.model = model\n",
    "        self.X = X\n",
    "        self.y = y\n",
    "        self.noise_std = noise_std\n",
    "        self.prior_std = prior_std\n",
    "\n",
    "    def forward(self, flat_params):\n",
    "        assign_params(self.model, flat_params)\n",
    "        y_pred = self.model(self.X)\n",
    "        log_likelihood = -0.5 * torch.sum((self.y - y_pred)**2) / self.noise_std**2\n",
    "        log_prior = -0.5 * torch.sum(flat_params**2) / self.prior_std**2\n",
    "        return -log_likelihood -log_prior"
   ]
  },
  {
   "cell_type": "code",
   "execution_count": null,
   "metadata": {
    "slideshow": {
     "slide_type": "slide"
    }
   },
   "outputs": [],
   "source": [
    "\n",
    "# Define model and target\n",
    "input_dim = 1\n",
    "hidden_dim = 256\n",
    "output_dim = 1\n",
    "model = BNN(input_dim, hidden_dim, output_dim)\n",
    "neg_log_posterior = BNN_Posterior(model,\n",
    "                    sample_x_scaled,\n",
    "                    sample_y_scaled, noise_std=0.1/y_std.item(), prior_std=1.0)\n",
    "param_dim = sum(p.numel() for p in model.parameters())\n",
    "init_params = flatten_params(model).detach()\n"
   ]
  },
  {
   "cell_type": "code",
   "execution_count": null,
   "metadata": {
    "slideshow": {
     "slide_type": "fragment"
    }
   },
   "outputs": [],
   "source": [
    "# count the number of parameters\n",
    "print(f'Number of parameters in the model: {param_dim}')"
   ]
  },
  {
   "cell_type": "code",
   "execution_count": null,
   "metadata": {
    "slideshow": {
     "slide_type": "slide"
    }
   },
   "outputs": [],
   "source": [
    "# Run HMC sampling, play with those parameters\n",
    "hmc = HMC(neg_log_posterior,\n",
    "          num_dim=param_dim,\n",
    "          step_size=0.001,\n",
    "          leapfrog_steps=20,\n",
    "          num_samples=1000, \n",
    "          burn_in=500)\n",
    "samples, acc_rate = hmc.sample(init_position=init_params)"
   ]
  },
  {
   "cell_type": "code",
   "execution_count": null,
   "metadata": {
    "slideshow": {
     "slide_type": "fragment"
    }
   },
   "outputs": [],
   "source": [
    "\n",
    "# plot the nll of whole samples \n",
    "plt.figure(figsize=(5,4))\n",
    "plt.plot(np.arange(500), hmc.chain_nll[:500], label='Samples before burn-in')\n",
    "plt.plot(np.arange(500, 1500), hmc.chain_nll[500:], label='Posterior samples')\n",
    "plt.xlabel('Iteration', fontsize=14)\n",
    "plt.ylabel('NLL', fontsize=14)\n",
    "plt.legend(fontsize=14)\n",
    "plt.show()"
   ]
  },
  {
   "cell_type": "code",
   "execution_count": null,
   "metadata": {
    "slideshow": {
     "slide_type": "slide"
    }
   },
   "outputs": [],
   "source": [
    "X_test = torch.linspace(-1, 1, 100).reshape((-1, 1))\n",
    "y_test = cubic_sin(X_test, noise_std=0)  # ground truth\n",
    "# scale the test data\n",
    "X_test_scaled = (X_test - x_mean) / x_std\n",
    "preds = []\n",
    "for theta in samples: \n",
    "    assign_params(model, torch.tensor(theta, dtype=torch.float32))\n",
    "    with torch.no_grad():\n",
    "        pred = model(X_test_scaled)\n",
    "        # scale the prediction back\n",
    "        pred = pred * y_std + y_mean\n",
    "        preds.append(pred.numpy())\n",
    "preds = np.stack(preds) \n",
    "mean_pred = preds.mean(axis=0)\n",
    "std_pred = preds.std(axis=0)"
   ]
  },
  {
   "cell_type": "code",
   "execution_count": null,
   "metadata": {
    "slideshow": {
     "slide_type": "skip"
    }
   },
   "outputs": [],
   "source": [
    "def plot_prediction():\n",
    "    # plot the predictions\n",
    "    fig, ax = plt.subplots(figsize=(5, 4))\n",
    "\n",
    "    ax.plot(X_test.numpy(), y_test.numpy(), '--', linewidth=2, color='gray',label='True Function')\n",
    "    ax.plot(X_test.numpy(), pred,  linewidth=2, color=\"blue\", label='Predicted Mean')\n",
    "    ax.fill_between(X_test.numpy().flatten(),\n",
    "                    pred.flatten() - 2 * np.sqrt(std_pred.flatten()),\n",
    "                    pred.flatten() + 2 * np.sqrt(std_pred.flatten()),\n",
    "                    color=\"blue\",\n",
    "                     edgecolor=None,\n",
    "                      alpha=0.2,  linewidth=2, label='Epistemic Uncertainty')\n",
    "    # scale the training data\n",
    "    ax.scatter(sample_x, \n",
    "            sample_y, \n",
    "            color=\"red\", marker='o', s=40, label='Training Data')\n",
    "    # set the ticks and labels\n",
    "    ax.set_xticks(np.arange(-1, 1.1, 0.5))\n",
    "    ax.set_yticks(np.arange(-3, 2.1, 1.0))\n",
    "    # set the font size\n",
    "    ax.tick_params(axis='both', which='major', labelsize=14)\n",
    "    ax.tick_params(axis='both', which='minor', labelsize=14)\n",
    "    # set the labels\n",
    "    ax.set_xlabel('x', fontsize=14)\n",
    "    ax.set_ylabel('y', fontsize=14)\n",
    "    plt.legend(fontsize=12, loc='lower left')\n",
    "    # save the figure\n",
    "    # set pad\n",
    "    plt.tight_layout(pad=0.1)\n",
    "\n",
    "    plt.show()"
   ]
  },
  {
   "cell_type": "code",
   "execution_count": null,
   "metadata": {
    "slideshow": {
     "slide_type": "fragment"
    }
   },
   "outputs": [],
   "source": [
    "plot_prediction()"
   ]
  },
  {
   "cell_type": "markdown",
   "metadata": {
    "slideshow": {
     "slide_type": "slide"
    }
   },
   "source": [
    "### See you next class\n",
    "\n",
    "Have fun!"
   ]
  }
 ],
 "metadata": {
  "celltoolbar": "Slideshow",
  "hide_code_all_hidden": false,
  "kernelspec": {
   "display_name": "Python [conda env:3dasm] *",
   "language": "python",
   "name": "conda-env-3dasm-py"
  },
  "language_info": {
   "codemirror_mode": {
    "name": "ipython",
    "version": 3
   },
   "file_extension": ".py",
   "mimetype": "text/x-python",
   "name": "python",
   "nbconvert_exporter": "python",
   "pygments_lexer": "ipython3",
   "version": "3.11.0"
  }
 },
 "nbformat": 4,
 "nbformat_minor": 4
}

{
 "cells": [
  {
   "cell_type": "markdown",
   "metadata": {
    "hideCode": false,
    "hidePrompt": false,
    "slideshow": {
     "slide_type": "slide"
    }
   },
   "source": [
    "<img src=../figures/Brown_logo.svg width=50%>\n",
    "\n",
    "## Data-Driven Design & Analyses of Structures & Materials (3dasm)\n",
    "\n",
    "## Lecture Stochastic Gradient Langevin Dynamics\n",
    "\n",
    "### Miguel A. Bessa | <a href = \"mailto: miguel_bessa@brown.edu\">miguel_bessa@brown.edu</a>  | Associate Professor"
   ]
  },
  {
   "cell_type": "markdown",
   "metadata": {
    "hideCode": false,
    "hidePrompt": false,
    "slideshow": {
     "slide_type": "slide"
    }
   },
   "source": [
    "## Outline for today\n",
    "\n",
    "* How SGD can be modified as a sampler for neural networks? \n",
    "\n",
    "**Reading material**: This notebook + (Murphy's advanced book, chapter Part II Inference)"
   ]
  },
  {
   "cell_type": "markdown",
   "metadata": {
    "slideshow": {
     "slide_type": "slide"
    }
   },
   "source": [
    "## Recap: Hamiltonian Monte Carlo (HMC)\n",
    "\n",
    "- A Hamiltonian mechanical system can be imagined as a ball rolling in a frictionless bowl\n",
    "\n",
    "- By updating the new states by simulating trajectories shown in the figure\n",
    "\n",
    "- This **efficiently explores** the target distribution and **increases acceptance rates** by following energy-preserving paths.\n",
    "<img src=\"figures/hmc.png\" title=\"Hamiltonian mechanics\" width=\"30%\" align=\"center\">\n",
    "<!-- <img align=center src=\"./figures/hmc.png\" width=20%>  -->\n",
    "\n"
   ]
  },
  {
   "cell_type": "code",
   "execution_count": 1,
   "metadata": {
    "slideshow": {
     "slide_type": "skip"
    }
   },
   "outputs": [],
   "source": [
    "import torch\n",
    "import copy\n",
    "import torch.nn as nn\n",
    "from torch.autograd import Variable\n",
    "from torch.optim import Optimizer\n",
    "\n",
    "class SGLD(Optimizer):\n",
    "    \"\"\"Langevin Stochastic Gradient Descent optimizer. It is used for\n",
    "    bayesian neural networks. It is a variant of SGD optimizer.\n",
    "\n",
    "    References\n",
    "    ----------\n",
    "    Welling, M., & Teh, Y. W. (2011). \"Bayesian learning via stochastic\n",
    "    gradient Langevin dynamics\". In Proceedings of the 28th International\n",
    "    Conference on Machine Learning (pp. 681-688).\n",
    "    \"\"\"\n",
    "\n",
    "    def __init__(self,\n",
    "                 params: dict,\n",
    "                 lr: float,\n",
    "                 nesterov: bool = False) -> None:\n",
    "        \"\"\"Initialization of Langevin SGD\n",
    "\n",
    "        Parameters\n",
    "        ----------\n",
    "        params : dict\n",
    "            A dictionary containing the parameters to optimize.\n",
    "        lr : float\n",
    "            Learning rate. Must be positive.\n",
    "        nesterov : bool, optional\n",
    "            Whether to use Nesterov momentum, by default False.\n",
    "\n",
    "        Raises\n",
    "        ------\n",
    "        ValueError\n",
    "            If the learning rate is non-positive.\n",
    "        \"\"\"\n",
    "\n",
    "        if lr < 0.0:\n",
    "            raise ValueError(\"Invalid learning rate: {}\".format(lr))\n",
    "\n",
    "        defaults = dict(lr=lr)\n",
    "        self.netstrov = nesterov\n",
    "        super(SGLD, self).__init__(params, defaults)\n",
    "\n",
    "    def __setstate__(self, state) -> None:\n",
    "        super(SGLD, self).__setstate__(state)\n",
    "        \"\"\"Set the state of the optimizer.\n",
    "\n",
    "        Parameters\n",
    "        ----------\n",
    "        state : dict\n",
    "            The state dictionary containing optimizer state information.\n",
    "        \"\"\"\n",
    "        # change default state values for param groups\n",
    "        for group in self.param_groups:\n",
    "            group.setdefault('nesterov', False)\n",
    "\n",
    "    def step(self, closure=None) -> float:\n",
    "        \"\"\"Perform a single optimization step.\n",
    "\n",
    "        Parameters\n",
    "        ----------\n",
    "        closure : callable, optional\n",
    "            A closure that re-evaluates the model and returns the loss,\n",
    "            by default None.\n",
    "\n",
    "        Returns\n",
    "        -------\n",
    "        float or None\n",
    "            The loss value if a closure is provided, otherwise None.\n",
    "        \"\"\"\n",
    "        loss = None\n",
    "        # first case\n",
    "        if closure is not None:\n",
    "            loss = closure()\n",
    "        # loop over the parameters\n",
    "        for group in self.param_groups:\n",
    "\n",
    "            for p in group['params']:\n",
    "                if p.grad is None:\n",
    "                    continue\n",
    "                d_p = p.grad.data\n",
    "\n",
    "                # add unit noise to the weights and bias\n",
    "                unit_noise = Variable(p.data.new(p.size()).normal_())\n",
    "                # Langevin dynamics update\n",
    "                p.data.add_(0.5*d_p, alpha=-group['lr'])\n",
    "                p.data.add_(unit_noise, alpha=group['lr']**0.5)\n",
    "\n",
    "        return loss"
   ]
  },
  {
   "cell_type": "code",
   "execution_count": 2,
   "metadata": {
    "slideshow": {
     "slide_type": "skip"
    }
   },
   "outputs": [],
   "source": [
    "class pSGLD(Optimizer):\n",
    "    \"\"\"Preconditioned Stochastic Gradient Langevin Dynamics optimizer.\n",
    "\n",
    "    This optimizer/sampler is commonly used for Bayesian neural networks. It is\n",
    "    a variant of Stochastic Gradient Descent (SGD) and Stochastic Gradient\n",
    "    Langevin Dynamics (SGLD).\n",
    "\n",
    "    References\n",
    "    ----------\n",
    "    Li, C., Chen, C., Carlson, D., & Carin, L. (2016, February). \"\n",
    "    Preconditioned stochastic gradient Langevin dynamics for deep neural\n",
    "    networks\". In Proceedings of the AAAI conference on artificial intelligence\n",
    "    (Vol. 30, No. 1).\n",
    "    \"\"\"\n",
    "\n",
    "    def __init__(self,\n",
    "                 params: dict,\n",
    "                 lr: float,\n",
    "                 alpha: float = 0.99,\n",
    "                 eps: float = 1e-5,\n",
    "                 nesterov: bool = False) -> None:\n",
    "        \"\"\"Initialize the pSGLD optimizer.\n",
    "\n",
    "        Parameters\n",
    "        ----------\n",
    "        params : dict\n",
    "            A dictionary containing the parameters to optimize.\n",
    "        lr : float\n",
    "            Learning rate. Must be positive.\n",
    "        alpha : float, optional\n",
    "            Coefficient for computing running averages of gradient squares,\n",
    "            by default 0.99.\n",
    "        eps : float, optional\n",
    "            A small constant added for numerical stability, by default 1e-5.\n",
    "        nesterov : bool, optional\n",
    "            Whether to use Nesterov momentum, by default False.\n",
    "\n",
    "        Raises\n",
    "        ------\n",
    "        ValueError\n",
    "            If the learning rate is non-positive.\n",
    "        \"\"\"\n",
    "        if lr < 0.0:\n",
    "            raise ValueError(\"Invalid learning rate: {}\".format(lr))\n",
    "\n",
    "        defaults = dict(lr=lr, alpha=alpha, eps=eps)\n",
    "        self.netstrov = nesterov\n",
    "        super(pSGLD, self).__init__(params, defaults)\n",
    "\n",
    "    def __setstate__(self, state) -> None:\n",
    "        super(pSGLD, self).__setstate__(state)\n",
    "        \"\"\"Set the state of the optimizer.\n",
    "\n",
    "        Parameters\n",
    "        ----------\n",
    "        state : dict\n",
    "            The state dictionary containing optimizer state information.\n",
    "        \"\"\"\n",
    "        # change default state values for param groups\n",
    "        for group in self.param_groups:\n",
    "            group.setdefault('nesterov', False)\n",
    "\n",
    "    def step(self, closure=None) -> float:\n",
    "        \"\"\"Perform a single optimization step.\n",
    "\n",
    "        Parameters\n",
    "        ----------\n",
    "        closure : callable, optional\n",
    "            A closure that re-evaluates the model and returns the loss,\n",
    "            by default None.\n",
    "\n",
    "        Returns\n",
    "        -------\n",
    "        float\n",
    "            The loss value if a closure is provided, otherwise None.\n",
    "        \"\"\"\n",
    "\n",
    "        loss = None\n",
    "        if closure is not None:\n",
    "            loss = closure()\n",
    "        # loop over the parameters\n",
    "        for group in self.param_groups:\n",
    "\n",
    "            for p in group['params']:\n",
    "                if p.grad is None:\n",
    "                    continue\n",
    "                d_p = p.grad.data\n",
    "\n",
    "                # get the state\n",
    "                state = self.state[p]\n",
    "\n",
    "                # initialize the state\n",
    "                if len(state) == 0:\n",
    "                    state['step'] = 0\n",
    "                    state['V'] = torch.zeros_like(p.data)\n",
    "\n",
    "                # get the state parameters\n",
    "                V = state['V']\n",
    "                # get the parameters\n",
    "                alpha = group['alpha']\n",
    "                eps = group['eps']\n",
    "                lr = group['lr']\n",
    "\n",
    "                # update the state\n",
    "                state['step'] += 1\n",
    "\n",
    "                # update parameters\n",
    "                # update V\n",
    "                V.mul_(alpha).addcmul_(1 - alpha, d_p, d_p)\n",
    "\n",
    "                # get 1/G use the inplace operation (need division when use it)\n",
    "                G = V.add(eps).sqrt_()\n",
    "\n",
    "                # update parameters with 0.5*lr (main update of pSGLD)\n",
    "                p.data.addcdiv_(d_p, G, value=-lr/2)\n",
    "\n",
    "                # inject noise to the parameters\n",
    "                noise_std = torch.sqrt(lr/G)\n",
    "                noise = Variable(p.data.new(p.size()).normal_())\n",
    "                p.data.add_(noise_std*noise)\n",
    "\n",
    "        return loss\n"
   ]
  },
  {
   "cell_type": "code",
   "execution_count": 3,
   "metadata": {
    "slideshow": {
     "slide_type": "skip"
    }
   },
   "outputs": [],
   "source": [
    "\n",
    "class BNN_Sampler:\n",
    "    def __init__(self, model,  sigma=0.1) -> None:\n",
    "        self.sigma = sigma\n",
    "        self.nets = []\n",
    "        self.log_likelihood = []\n",
    "        self.model = model\n",
    "    def define_sampler(self, name = 'sgld', lr=0.01):\n",
    "        if name == 'sgld':\n",
    "            self.sampler = SGLD(self.model.parameters(), lr=lr)\n",
    "        elif name == 'psgld':\n",
    "            self.sampler = pSGLD(self.model.parameters(), lr=lr)\n",
    "\n",
    "    def train(self, x, y, burn_in=1000, sample_freq=100, sample_num=10):\n",
    "        for i in range(burn_in + sample_freq * sample_num):\n",
    "            self.sampler.zero_grad()\n",
    "            pred_y = self.model(x)\n",
    "            loss = self.nll_loss(pred_y, y, self.sigma) + self.model.neg_log_prior()\n",
    "            loss.backward()\n",
    "            self.sampler.step()\n",
    "\n",
    "            if i > burn_in and (i - burn_in) % sample_freq == 0:\n",
    "                self.nets.append(copy.deepcopy(self.model))\n",
    "                self.log_likelihood.append(loss.item() - self.model.neg_log_prior().item())\n",
    "\n",
    "            if i % 100 == 0:\n",
    "                neg_log_prior = self.model.neg_log_prior().item()\n",
    "                nll = loss.item() - neg_log_prior\n",
    "                print(\n",
    "                    f\"Epoch: {i:<5d} | \"\n",
    "                    f\"Negative Log Posterior: {loss.item():.4f} | \"\n",
    "                    f\"NLL: {nll:.4f} | \"\n",
    "                    f\"Negative Log Prior: {neg_log_prior:.4f}\"\n",
    "                )\n",
    "                \n",
    "    def predict(self, x):\n",
    "\n",
    "        responses = []\n",
    "        for net in self.nets:\n",
    "            pred = net(x).data.numpy()\n",
    "            responses.append(pred)\n",
    "        # get the mean and variance of the responses\n",
    "        pred_mean = (np.array(responses).mean(axis=0)).reshape(-1, 1)\n",
    "        # epistemic uncertainty\n",
    "        epistemic = np.array(responses).std(axis=0).reshape(-1, 1)\n",
    "\n",
    "        return pred_mean, epistemic\n",
    "\n",
    "    @ staticmethod\n",
    "    def nll_loss(pred_y, real_y, sigma):\n",
    "        \"\"\"negative log likelihood loss function\"\"\"\n",
    "        sigma = torch.Tensor([sigma])\n",
    "        loss = 0.5 * torch.log(sigma**2) + \\\n",
    "            0.5 * (pred_y - real_y)**2 / sigma**2 + 0.5 * \\\n",
    "            torch.log(torch.Tensor([2 * torch.pi]))\n",
    "        loss = loss.sum()\n",
    "\n",
    "        return loss"
   ]
  },
  {
   "cell_type": "markdown",
   "metadata": {
    "slideshow": {
     "slide_type": "slide"
    }
   },
   "source": [
    "## How to improve the efficency of HMC?\n",
    "\n",
    "**Recall the leap frog update step of HMC**\n",
    "$$\\mathrm{v}_{t+\\frac{1}{2}} =\\mathrm{v}_{t}-\\frac{\\eta }{2}\\frac{\\partial \\mathcal{\\varepsilon}(\\mathrm{\\theta}_t)}{\\partial \\mathrm{\\theta}} $$\n",
    "\n",
    "$$\\mathrm{\\theta}_{t+1} =  \\mathrm{\\theta}_{t}+\\eta \\frac{\\partial \\mathcal{K}(\\mathrm{v}_{t+\\frac{1}{2}})}{\\partial \\mathrm{v}}$$\n",
    "\n",
    "$$\\mathrm{v}_{t+1} =\\mathrm{v}_{t+\\frac{1}{2}}-\\frac{\\eta }{2}\\frac{\\partial \\mathcal{\\varepsilon}(\\mathrm{\\theta}_{t+1})}{\\partial \\mathrm{\\theta}} $$\n",
    "\n",
    "- Only first order information is used!!!\n",
    "- Accept/Reject makes HMC difficult to work at scale!\n",
    "- *leapfrog* requires more computational cost!\n"
   ]
  },
  {
   "cell_type": "markdown",
   "metadata": {
    "slideshow": {
     "slide_type": "slide"
    }
   },
   "source": [
    "### From Hamiltonian Dynamics to Langevin dynamics\n",
    "The update rule of Langevin dynamics modified when considering *leapfrog =1* is given by:\n",
    "\n",
    "\\begin{align}\n",
    "\\label{eq:langevin_update_step}\n",
    "    \\boldsymbol{\\theta}_{t+1} \n",
    "    &= \\boldsymbol{\\theta}_{t} \n",
    "    - \\frac{\\eta^2}{2} \\boldsymbol{\\Sigma}^{-1} \\nabla \\mathcal{E}(\\boldsymbol{\\theta}_{t}) \n",
    "    + \\eta\\, \\boldsymbol{\\Sigma}^{-1} \\boldsymbol{v}_{t} \\\\\n",
    "    &= \\boldsymbol{\\theta}_{t} \n",
    "    - \\frac{\\eta^2}{2} \\boldsymbol{\\Sigma}^{-1} \\nabla \\mathcal{E}(\\boldsymbol{\\theta}_{t}) \n",
    "    + \\eta\\, \\sqrt{\\boldsymbol{\\Sigma}^{-1}}\\, \\boldsymbol{\\epsilon}_{t}\n",
    "\\end{align}\n",
    "\n",
    "where $\\boldsymbol{v}_{t} \\sim \\mathcal{N}(\\boldsymbol{0}, \\boldsymbol{\\Sigma})$ and $\\boldsymbol{\\epsilon}_{t} \\sim \\mathcal{N}(\\boldsymbol{0}, \\boldsymbol{I})$. \n",
    "\n",
    "- When $\\boldsymbol{\\Sigma} = \\boldsymbol{I}$ and $\\eta = \\sqrt{2}$, the update process reduces to a discretized Langevin diffusion, given by:\n",
    "\n",
    "\\begin{equation}\n",
    "    \\mathrm{d}\\boldsymbol{\\theta}_{t} = - \\nabla \\mathcal{E}(\\boldsymbol{\\theta}_{t})\\, \\mathrm{d}{t} + \\sqrt{2}\\, \\mathrm{d}\\boldsymbol{B}_{t}\n",
    "\\end{equation}\n",
    "\n",
    "where $\\boldsymbol{B}_{t}$ denotes a $d$-dimensional Brownian motion."
   ]
  },
  {
   "cell_type": "markdown",
   "metadata": {
    "slideshow": {
     "slide_type": "slide"
    }
   },
   "source": [
    "### Connection between Langevin dynamic with Stochastic Gradient Decent\n",
    "\n",
    "**Stochastic Gradient Descent (SGD)**\n",
    "Recall that for a loss function such as MSE, the **full-batch gradient** is:\n",
    "\n",
    "$$\n",
    "\\nabla_{\\boldsymbol{\\theta}} \\mathcal{L}(\\boldsymbol{\\theta}) = \\frac{1}{N} \\sum_{n=1}^{N} \\nabla \\mathcal{L}_n(\\boldsymbol{\\theta})\n",
    "$$\n",
    "\n"
   ]
  },
  {
   "cell_type": "markdown",
   "metadata": {
    "slideshow": {
     "slide_type": "fragment"
    }
   },
   "source": [
    "**Mini-Batch Gradient**\n",
    "\n",
    "In practice, we often use the **mini-batch** technique:\n",
    "\n",
    "$$\n",
    "\\nabla^B_{\\boldsymbol{\\theta}} \\mathcal{L}(\\boldsymbol{\\theta}) = \\frac{1}{B} \\sum_{n=1}^{B} \\nabla_{\\boldsymbol{\\theta}} \\mathcal{L}_n(\\boldsymbol{\\theta})\n",
    "$$\n",
    "\n",
    "where:\n",
    "- $B$ = mini-batch size\n",
    "- Provides an **unbiased estimate** of the full gradient"
   ]
  },
  {
   "cell_type": "markdown",
   "metadata": {
    "slideshow": {
     "slide_type": "slide"
    }
   },
   "source": [
    "### Connection between Langevin dynamic with Stochastic Gradient Decent\n",
    "\n",
    "\n",
    "**Unbiased:** The mini-batch is randomly sampled from the full dataset:\n",
    "\n",
    "$$\n",
    "\\mathbb{E}_{\\mathcal{B}} \\left[ \\nabla_{\\boldsymbol{\\theta}}^{B} \\mathcal{L}(\\boldsymbol{\\theta}) - \\nabla_{\\boldsymbol{\\theta}} \\mathcal{L}(\\boldsymbol{\\theta}) \\right] = 0\n",
    "$$\n",
    "\n"
   ]
  },
  {
   "cell_type": "markdown",
   "metadata": {
    "slideshow": {
     "slide_type": "fragment"
    }
   },
   "source": [
    "\n",
    "**Diffusion Term (Variance)**: The variance (covariance matrix) of the gradient difference is:\n",
    "\n",
    "$$\n",
    "\\mathrm{Cov}_{\\mathcal{B}} \\left[ \\nabla_{\\boldsymbol{\\theta}}^{B} \\mathcal{L}(\\boldsymbol{\\theta}) - \\nabla_{\\boldsymbol{\\theta}} \\mathcal{L}(\\boldsymbol{\\theta})\\right] =\n",
    "\\mathbb{E}_{\\mathcal{B}} \\left[ \\left( \\nabla_{\\boldsymbol{\\theta}}^B \\mathcal{L}(\\boldsymbol{\\theta}) - \\nabla_{\\boldsymbol{\\theta}} \\mathcal{L}(\\boldsymbol{\\theta}) \\right) \\left( \\nabla_{\\boldsymbol{\\theta}}^B \\mathcal{L}(\\boldsymbol{\\theta}) - \\nabla_{\\boldsymbol{\\theta}} \\mathcal{L}(\\boldsymbol{\\theta}) \\right)^\\top \\right]\n",
    "$$\n"
   ]
  },
  {
   "cell_type": "markdown",
   "metadata": {
    "slideshow": {
     "slide_type": "fragment"
    }
   },
   "source": [
    "\n",
    "For time step $t$, We define\n",
    "\n",
    "$$\n",
    "\\boldsymbol{v}_t = \\sqrt{\\lambda} \\left( \\nabla\\mathcal{L}(\\boldsymbol{\\theta}_t) - \\nabla_B\\mathcal{L}(\\boldsymbol{\\theta}_t) \\right)\n",
    "$$\n",
    "\n",
    "The **SGD update** becomes\n",
    "\n",
    "$$\n",
    "\\boldsymbol{\\theta}_{t+1} = \\boldsymbol{\\theta}_t - \\lambda \\nabla^B \\mathcal{L}(\\boldsymbol{\\theta}_t) \n",
    "= \\boldsymbol{\\theta}_t - \\lambda \\nabla \\mathcal{L}(\\boldsymbol{\\theta}_t) + \\sqrt{\\lambda} \\boldsymbol{v}_t\n",
    "$$\n",
    "where $\\lambda$ is the learning rate"
   ]
  },
  {
   "cell_type": "markdown",
   "metadata": {
    "slideshow": {
     "slide_type": "slide"
    }
   },
   "source": [
    "### Connection between Langevin dynamic with Stochastic Gradient Decent\n",
    "\n",
    "**SGD update step**\n",
    "$$\\boldsymbol{\\theta}_{t+1} =  \\boldsymbol{\\theta}_t - \\lambda \\nabla \\mathcal{L}(\\boldsymbol{\\theta}_t) + \\sqrt{\\lambda} \\boldsymbol{v}_t$$\n",
    "\n",
    "where $\\lambda$ is the learning rate, and $\\boldsymbol{v}$ is a diffusion term between mini-batch and full batch.\n",
    "\n",
    "\n"
   ]
  },
  {
   "cell_type": "markdown",
   "metadata": {
    "slideshow": {
     "slide_type": "fragment"
    }
   },
   "source": [
    "**Langevin update**\n",
    "\n",
    "$$\n",
    "\\boldsymbol{\\theta}_{t+1} = \\boldsymbol{\\theta}_t - \\frac{\\eta^2}{2} \\nabla \\mathcal{E}(\\boldsymbol{\\theta}_t) + \\eta \\, \\epsilon_t\n",
    "$$\n",
    "\n",
    "where $\\eta$ is the step size, and $\\epsilon_t$ is the diffusion term following a distribution, usually Gaussian.\n",
    "\n"
   ]
  },
  {
   "cell_type": "markdown",
   "metadata": {
    "slideshow": {
     "slide_type": "fragment"
    }
   },
   "source": [
    "**Note: Langevin update can be regarded as injecting noise to SGD, such that SGD can be a sampler**"
   ]
  },
  {
   "cell_type": "markdown",
   "metadata": {
    "slideshow": {
     "slide_type": "slide"
    }
   },
   "source": [
    "### Stochastic Gradient Langevin Dynamics (SGLD)\n",
    "\n",
    "Welling et al. (2011) proposed **SGLD**, a special case of Langevin Monte Carlo (LMC) for posterior inference in BNNs.\n",
    "\n",
    "- Remind the BNN Posterior:$\n",
    "p(\\boldsymbol{\\theta} \\mid \\mathcal{D}) \\propto p(\\boldsymbol{\\theta}) \\prod_{n=1}^{N} p(y_n \\mid \\boldsymbol{\\theta})$\n",
    "- and: $\\mathcal{E}(\\boldsymbol{\\theta}) = - \\mathrm{log} p(\\boldsymbol{\\theta} \\mid \\mathcal{D})$\n"
   ]
  },
  {
   "cell_type": "markdown",
   "metadata": {
    "slideshow": {
     "slide_type": "fragment"
    }
   },
   "source": [
    "- SGLD update rule\n",
    "\n",
    "$$\n",
    "\\Delta \\boldsymbol{\\theta}_t = \\frac{\\epsilon_t}{2} \\nabla\\left( \\log p(\\boldsymbol{\\theta}_t ) + \\frac{N}{B} \\log p(y_i \\mid \\boldsymbol{\\theta}_t)\\right) + \\eta_t \\mathbf{I}\n",
    "$$\n",
    "\n",
    "where:\n",
    "\n",
    "$$\n",
    "\\eta_t \\sim \\mathcal{N}(\\boldsymbol{0}, \\epsilon_t)\n",
    "$$\n",
    "\n",
    "**It anables to sample posteriors of BNN effiently and at scale**"
   ]
  },
  {
   "cell_type": "markdown",
   "metadata": {
    "slideshow": {
     "slide_type": "slide"
    }
   },
   "source": [
    "## Summary of SGLD\n",
    "\n",
    "- Randomly initialize parameters $\\boldsymbol{\\theta}_0$\n",
    "- At each iteration $t$:\n",
    "  1. Sample a **mini-batch** $\\mathcal{B}_t$ from the dataset\n",
    "  2. Compute stochastic gradient of log-posterior and update with noise:\n",
    "     $$\n",
    "     \\boldsymbol{\\theta}_{t+1} =\n",
    "     \\boldsymbol{\\theta}_t +\n",
    "     \\frac{\\epsilon_t}{2} \\left[\n",
    "     \\nabla \\log p(\\boldsymbol{\\theta}_t) +\n",
    "     \\frac{N}{n} \\sum_{i \\in \\mathcal{B}_t}\n",
    "     \\nabla_{\\boldsymbol{\\theta}} \\log p(y_i \\mid \\boldsymbol{\\theta}_t)\n",
    "     \\right]\n",
    "     +\n",
    "     \\boldsymbol{\\eta}_t\n",
    "     $$\n",
    "     where $\\boldsymbol{\\eta}_t \\sim \\mathcal{N}(\\boldsymbol{0}, \\epsilon_t \\mathbf{I})$\n",
    "- After **burn-in**, collect samples $\\{\\boldsymbol{\\theta}_t\\}$ as posterior samples. Note that, it works fine with collecting every sample after **burn-in**, but set sample frequency that mimics *leapfrog* of HMC could stablize the sampling. \n",
    "- Step size $\\epsilon_t$ can be constant (for sampling) or decreasing (for convergence)\n"
   ]
  },
  {
   "cell_type": "markdown",
   "metadata": {
    "slideshow": {
     "slide_type": "slide"
    }
   },
   "source": [
    "### Can we further improve SGLD? \n",
    "\n",
    "SGLD works well for large-scale problems like training BNNs. However, it **assumes all parameters** $\\boldsymbol{\\theta}$ have the same step size.\n",
    "- Slow convergence\n",
    "- Even divergence when components of $\\boldsymbol{\\theta}$ have different curvatures\n"
   ]
  },
  {
   "cell_type": "markdown",
   "metadata": {
    "slideshow": {
     "slide_type": "fragment"
    }
   },
   "source": [
    "\n",
    "###  Preconditioned SGLD (pSGLD)\n",
    "\n",
    "Li et al. (2015) proposed **pSGLD** to address this issue with the following refinements.\n",
    "- Use a **preconditioning matrix** $G(\\boldsymbol{\\theta}_t)$ (from RMSprop)  \n"
   ]
  },
  {
   "cell_type": "markdown",
   "metadata": {
    "slideshow": {
     "slide_type": "slide"
    }
   },
   "source": [
    "\n",
    "### pSGLD update rule\n",
    "\n",
    "$$\n",
    "\\Delta \\boldsymbol{\\theta}_t =\n",
    "\\frac{\\epsilon_t}{2} \\left[\n",
    "G(\\boldsymbol{\\theta}_t)\n",
    "\\left(\\nabla \\log p(\\boldsymbol{\\theta}_t) + \\frac{N}{n} \\log p(y_i \\mid \\boldsymbol{\\theta}_t) \\right)\n",
    "+ \\boldsymbol{\\Gamma}(\\boldsymbol{\\theta}_t)\n",
    "\\right]\n",
    "+ \\eta_t G(\\boldsymbol{\\theta}_t)\n",
    "$$\n",
    "\n",
    "where:\n",
    "\n",
    "$$\n",
    "\\Gamma_i(\\boldsymbol{\\theta}) = \\sum_j \\frac{\\partial G_{i,j}(\\boldsymbol{\\theta})}{\\partial \\theta_j}\n",
    "$$\n",
    "\n",
    "- Preconditioner Definition\n",
    "\n",
    "$$\n",
    "G(\\boldsymbol{\\theta}_{t+1}) =\n",
    "\\mathrm{diag} \\left(\n",
    "\\boldsymbol{1} \\oslash\n",
    "\\left( \\lambda \\boldsymbol{1} + \\sqrt{V(\\boldsymbol{\\theta}_{t+1})} \\right)\n",
    "\\right)\n",
    "$$\n",
    "\n",
    "$$\n",
    "V(\\boldsymbol{\\theta}_{t+1}) =\n",
    "\\alpha V(\\boldsymbol{\\theta}_t) +\n",
    "(1 - \\alpha)\\,\n",
    "\\bar{g}(\\boldsymbol{\\theta}_t; \\mathcal{B}_t)\n",
    "\\odot\n",
    "\\bar{g}(\\boldsymbol{\\theta}_t; \\mathcal{B}_t)\n",
    "$$\n",
    "\n",
    "$$\n",
    "\\bar{g}(\\boldsymbol{\\theta}_t; \\mathcal{B}_t) =\n",
    "\\frac{1}{n} \\sum_{i=1}^{n}\n",
    "\\nabla_{\\boldsymbol{\\theta}} \\log p(y_i \\mid \\boldsymbol{\\theta}_t)\n",
    "$$\n",
    "\n"
   ]
  },
  {
   "cell_type": "markdown",
   "metadata": {
    "slideshow": {
     "slide_type": "slide"
    }
   },
   "source": [
    "### BNN training with SGLD/pSGLD\n",
    "- Define the toy problem"
   ]
  },
  {
   "cell_type": "code",
   "execution_count": 4,
   "metadata": {
    "slideshow": {
     "slide_type": "fragment"
    }
   },
   "outputs": [],
   "source": [
    "# Define a one-dimensional problem \n",
    "torch.manual_seed(0)\n",
    "def cubic_sin(x: torch.Tensor, noise_std: float = 0.1) -> torch.Tensor:\n",
    "    \n",
    "    obj = torch.sin(6*x)**3 + torch.randn_like(x) * noise_std\n",
    "    return obj.reshape((-1, 1))\n",
    "\n",
    "# get the training samples\n",
    "sample_x1 = torch.linspace(-0.8, -0.2, 16).reshape((-1, 1))\n",
    "sample_x2 = torch.linspace(0.2, 0.8, 16).reshape((-1, 1))\n",
    "sample_x = torch.cat([sample_x1, sample_x2], dim=0)\n",
    "# scale the data\n",
    "x_mean = sample_x.mean(); x_std = sample_x.std()\n",
    "sample_x_scaled = (sample_x - x_mean) / x_std\n",
    "# get the responses\n",
    "sample_y = cubic_sin(sample_x, noise_std=0.1)\n",
    "# scale the y\n",
    "y_mean = sample_y.mean(); y_std = sample_y.std()\n",
    "sample_y_scaled = (sample_y - y_mean) / y_std"
   ]
  },
  {
   "cell_type": "markdown",
   "metadata": {
    "slideshow": {
     "slide_type": "slide"
    }
   },
   "source": [
    "### Define the BNN architecture"
   ]
  },
  {
   "cell_type": "code",
   "execution_count": 12,
   "metadata": {
    "slideshow": {
     "slide_type": "fragment"
    }
   },
   "outputs": [],
   "source": [
    "\n",
    "class BNN(nn.Module):\n",
    "    \"\"\"A two layer MLP\"\"\"\n",
    "    def __init__(self,input_dim, hidden_dim, output_dim, prior_mu, prior_sigma):\n",
    "        super(BNN, self).__init__()\n",
    "        self.fc1 = nn.Linear(input_dim, hidden_dim)\n",
    "        self.fc2 = nn.Linear(hidden_dim, hidden_dim)\n",
    "        self.fc3 = nn.Linear(hidden_dim, output_dim)\n",
    "        self.prior_mu = prior_mu\n",
    "        self.prior_sigma = prior_sigma\n",
    "        \n",
    "    def forward(self, x):\n",
    "        \"\"\"A forward pass to get a prediction of a particular step\"\"\"\n",
    "        x = torch.tanh(self.fc1(x))\n",
    "        x = torch.tanh(self.fc2(x))\n",
    "        x = self.fc3(x)\n",
    "        return x\n",
    "    \n",
    "    def neg_log_prior(self):\n",
    "        prior_loss = 0\n",
    "        for m in self.modules():\n",
    "            if isinstance(m, nn.Linear):\n",
    "                # prior distribution\n",
    "                dist = torch.distributions.Normal(self.prior_mu, self.prior_sigma)\n",
    "                # prior loss\n",
    "                prior_loss = prior_loss +  dist.log_prob(m.weight).sum() + dist.log_prob(m.bias).sum()\n",
    "        return -prior_loss"
   ]
  },
  {
   "cell_type": "markdown",
   "metadata": {
    "slideshow": {
     "slide_type": "slide"
    }
   },
   "source": [
    "### Train BNN"
   ]
  },
  {
   "cell_type": "code",
   "execution_count": 19,
   "metadata": {
    "scrolled": true,
    "slideshow": {
     "slide_type": "fragment"
    }
   },
   "outputs": [
    {
     "name": "stdout",
     "output_type": "stream",
     "text": [
      "Epoch: 0     | Negative Log Posterior: 61340.2070 | NLL: -7010.9336 | Negative Log Prior: 68351.1406\n",
      "Epoch: 100   | Negative Log Posterior: 79116.4141 | NLL: -3.3438 | Negative Log Prior: 79119.7578\n",
      "Epoch: 200   | Negative Log Posterior: 83228.7812 | NLL: 13.5703 | Negative Log Prior: 83215.2109\n",
      "Epoch: 300   | Negative Log Posterior: 86484.7969 | NLL: 23.8750 | Negative Log Prior: 86460.9219\n",
      "Epoch: 400   | Negative Log Posterior: 89171.2891 | NLL: 26.9453 | Negative Log Prior: 89144.3438\n",
      "Epoch: 500   | Negative Log Posterior: 91513.5469 | NLL: 22.0547 | Negative Log Prior: 91491.4922\n",
      "Epoch: 600   | Negative Log Posterior: 93457.1875 | NLL: 35.6406 | Negative Log Prior: 93421.5469\n",
      "Epoch: 700   | Negative Log Posterior: 95266.4922 | NLL: 34.8438 | Negative Log Prior: 95231.6484\n",
      "Epoch: 800   | Negative Log Posterior: 96801.7266 | NLL: 49.0000 | Negative Log Prior: 96752.7266\n",
      "Epoch: 900   | Negative Log Posterior: 98292.1328 | NLL: 44.1875 | Negative Log Prior: 98247.9453\n",
      "Epoch: 1000  | Negative Log Posterior: 99549.9375 | NLL: 42.4141 | Negative Log Prior: 99507.5234\n",
      "Epoch: 1100  | Negative Log Posterior: 100857.5469 | NLL: 40.2734 | Negative Log Prior: 100817.2734\n",
      "Epoch: 1200  | Negative Log Posterior: 101987.5703 | NLL: 41.8438 | Negative Log Prior: 101945.7266\n",
      "Epoch: 1300  | Negative Log Posterior: 103072.3125 | NLL: 47.5938 | Negative Log Prior: 103024.7188\n",
      "Epoch: 1400  | Negative Log Posterior: 104063.4453 | NLL: 32.3984 | Negative Log Prior: 104031.0469\n",
      "Epoch: 1500  | Negative Log Posterior: 104966.2734 | NLL: 45.1172 | Negative Log Prior: 104921.1562\n",
      "Epoch: 1600  | Negative Log Posterior: 105781.1562 | NLL: 42.5156 | Negative Log Prior: 105738.6406\n",
      "Epoch: 1700  | Negative Log Posterior: 106574.3672 | NLL: 35.3984 | Negative Log Prior: 106538.9688\n",
      "Epoch: 1800  | Negative Log Posterior: 107248.6094 | NLL: 34.2656 | Negative Log Prior: 107214.3438\n",
      "Epoch: 1900  | Negative Log Posterior: 107916.6328 | NLL: 48.0078 | Negative Log Prior: 107868.6250\n",
      "Epoch: 2000  | Negative Log Posterior: 108479.3594 | NLL: 53.1641 | Negative Log Prior: 108426.1953\n",
      "Epoch: 2100  | Negative Log Posterior: 109183.0156 | NLL: 48.7031 | Negative Log Prior: 109134.3125\n",
      "Epoch: 2200  | Negative Log Posterior: 109762.2734 | NLL: 42.2969 | Negative Log Prior: 109719.9766\n",
      "Epoch: 2300  | Negative Log Posterior: 110387.1328 | NLL: 56.2734 | Negative Log Prior: 110330.8594\n",
      "Epoch: 2400  | Negative Log Posterior: 110870.3984 | NLL: 57.9375 | Negative Log Prior: 110812.4609\n",
      "Epoch: 2500  | Negative Log Posterior: 111359.0391 | NLL: 49.8047 | Negative Log Prior: 111309.2344\n",
      "Epoch: 2600  | Negative Log Posterior: 111742.8906 | NLL: 48.7812 | Negative Log Prior: 111694.1094\n",
      "Epoch: 2700  | Negative Log Posterior: 112107.2031 | NLL: 53.9141 | Negative Log Prior: 112053.2891\n",
      "Epoch: 2800  | Negative Log Posterior: 112552.8984 | NLL: 49.3906 | Negative Log Prior: 112503.5078\n",
      "Epoch: 2900  | Negative Log Posterior: 112844.1406 | NLL: 39.3516 | Negative Log Prior: 112804.7891\n",
      "Epoch: 3000  | Negative Log Posterior: 113168.0547 | NLL: 61.2344 | Negative Log Prior: 113106.8203\n",
      "Epoch: 3100  | Negative Log Posterior: 113490.8203 | NLL: 68.4375 | Negative Log Prior: 113422.3828\n",
      "Epoch: 3200  | Negative Log Posterior: 113837.1094 | NLL: 51.7969 | Negative Log Prior: 113785.3125\n",
      "Epoch: 3300  | Negative Log Posterior: 114246.3516 | NLL: 60.0156 | Negative Log Prior: 114186.3359\n",
      "Epoch: 3400  | Negative Log Posterior: 114459.6875 | NLL: 45.0703 | Negative Log Prior: 114414.6172\n",
      "Epoch: 3500  | Negative Log Posterior: 114859.7891 | NLL: 43.8359 | Negative Log Prior: 114815.9531\n",
      "Epoch: 3600  | Negative Log Posterior: 115025.7969 | NLL: 52.1797 | Negative Log Prior: 114973.6172\n",
      "Epoch: 3700  | Negative Log Posterior: 115145.8828 | NLL: 34.6094 | Negative Log Prior: 115111.2734\n",
      "Epoch: 3800  | Negative Log Posterior: 115233.5156 | NLL: 47.3281 | Negative Log Prior: 115186.1875\n",
      "Epoch: 3900  | Negative Log Posterior: 115443.5234 | NLL: 57.2656 | Negative Log Prior: 115386.2578\n",
      "Epoch: 4000  | Negative Log Posterior: 115513.3906 | NLL: 63.8438 | Negative Log Prior: 115449.5469\n",
      "Epoch: 4100  | Negative Log Posterior: 115601.8438 | NLL: 55.5312 | Negative Log Prior: 115546.3125\n",
      "Epoch: 4200  | Negative Log Posterior: 115813.8125 | NLL: 48.2422 | Negative Log Prior: 115765.5703\n",
      "Epoch: 4300  | Negative Log Posterior: 115965.1562 | NLL: 44.5859 | Negative Log Prior: 115920.5703\n",
      "Epoch: 4400  | Negative Log Posterior: 115997.0547 | NLL: 60.0547 | Negative Log Prior: 115937.0000\n",
      "Epoch: 4500  | Negative Log Posterior: 116120.5703 | NLL: 51.0000 | Negative Log Prior: 116069.5703\n",
      "Epoch: 4600  | Negative Log Posterior: 116277.7969 | NLL: 58.2891 | Negative Log Prior: 116219.5078\n",
      "Epoch: 4700  | Negative Log Posterior: 116463.6328 | NLL: 57.7891 | Negative Log Prior: 116405.8438\n",
      "Epoch: 4800  | Negative Log Posterior: 116458.4141 | NLL: 47.7500 | Negative Log Prior: 116410.6641\n",
      "Epoch: 4900  | Negative Log Posterior: 116497.1953 | NLL: 58.9141 | Negative Log Prior: 116438.2812\n",
      "Epoch: 5000  | Negative Log Posterior: 116543.0703 | NLL: 50.6641 | Negative Log Prior: 116492.4062\n",
      "Epoch: 5100  | Negative Log Posterior: 116856.1250 | NLL: 39.2266 | Negative Log Prior: 116816.8984\n",
      "Epoch: 5200  | Negative Log Posterior: 116910.5000 | NLL: 53.0234 | Negative Log Prior: 116857.4766\n",
      "Epoch: 5300  | Negative Log Posterior: 116859.6641 | NLL: 55.7422 | Negative Log Prior: 116803.9219\n",
      "Epoch: 5400  | Negative Log Posterior: 116946.5625 | NLL: 41.1016 | Negative Log Prior: 116905.4609\n",
      "Epoch: 5500  | Negative Log Posterior: 117151.6719 | NLL: 55.8516 | Negative Log Prior: 117095.8203\n",
      "Epoch: 5600  | Negative Log Posterior: 117117.9219 | NLL: 59.2891 | Negative Log Prior: 117058.6328\n",
      "Epoch: 5700  | Negative Log Posterior: 117210.6484 | NLL: 61.1641 | Negative Log Prior: 117149.4844\n",
      "Epoch: 5800  | Negative Log Posterior: 117189.6016 | NLL: 41.3516 | Negative Log Prior: 117148.2500\n",
      "Epoch: 5900  | Negative Log Posterior: 117236.0938 | NLL: 50.2422 | Negative Log Prior: 117185.8516\n",
      "Epoch: 6000  | Negative Log Posterior: 117426.3672 | NLL: 63.6094 | Negative Log Prior: 117362.7578\n",
      "Epoch: 6100  | Negative Log Posterior: 117348.6875 | NLL: 40.1172 | Negative Log Prior: 117308.5703\n",
      "Epoch: 6200  | Negative Log Posterior: 117462.3281 | NLL: 35.5859 | Negative Log Prior: 117426.7422\n",
      "Epoch: 6300  | Negative Log Posterior: 117506.8984 | NLL: 59.7422 | Negative Log Prior: 117447.1562\n",
      "Epoch: 6400  | Negative Log Posterior: 117578.5156 | NLL: 58.2031 | Negative Log Prior: 117520.3125\n",
      "Epoch: 6500  | Negative Log Posterior: 117671.2031 | NLL: 52.0234 | Negative Log Prior: 117619.1797\n",
      "Epoch: 6600  | Negative Log Posterior: 117913.3828 | NLL: 60.9766 | Negative Log Prior: 117852.4062\n",
      "Epoch: 6700  | Negative Log Posterior: 117925.9609 | NLL: 56.7656 | Negative Log Prior: 117869.1953\n",
      "Epoch: 6800  | Negative Log Posterior: 118056.6172 | NLL: 53.8828 | Negative Log Prior: 118002.7344\n",
      "Epoch: 6900  | Negative Log Posterior: 118075.6172 | NLL: 43.9688 | Negative Log Prior: 118031.6484\n",
      "Epoch: 7000  | Negative Log Posterior: 118078.6875 | NLL: 50.4297 | Negative Log Prior: 118028.2578\n",
      "Epoch: 7100  | Negative Log Posterior: 118022.6172 | NLL: 45.1016 | Negative Log Prior: 117977.5156\n",
      "Epoch: 7200  | Negative Log Posterior: 118137.2500 | NLL: 62.7969 | Negative Log Prior: 118074.4531\n",
      "Epoch: 7300  | Negative Log Posterior: 118235.9453 | NLL: 51.7031 | Negative Log Prior: 118184.2422\n",
      "Epoch: 7400  | Negative Log Posterior: 118200.6562 | NLL: 54.1484 | Negative Log Prior: 118146.5078\n",
      "Epoch: 7500  | Negative Log Posterior: 118278.0234 | NLL: 59.9141 | Negative Log Prior: 118218.1094\n",
      "Epoch: 7600  | Negative Log Posterior: 118209.2656 | NLL: 49.3594 | Negative Log Prior: 118159.9062\n",
      "Epoch: 7700  | Negative Log Posterior: 118256.0938 | NLL: 51.5781 | Negative Log Prior: 118204.5156\n",
      "Epoch: 7800  | Negative Log Posterior: 118295.0547 | NLL: 65.6562 | Negative Log Prior: 118229.3984\n",
      "Epoch: 7900  | Negative Log Posterior: 118103.4297 | NLL: 63.1797 | Negative Log Prior: 118040.2500\n",
      "Epoch: 8000  | Negative Log Posterior: 118019.3438 | NLL: 61.6094 | Negative Log Prior: 117957.7344\n",
      "Epoch: 8100  | Negative Log Posterior: 118046.5781 | NLL: 54.5625 | Negative Log Prior: 117992.0156\n",
      "Epoch: 8200  | Negative Log Posterior: 118076.1562 | NLL: 56.4453 | Negative Log Prior: 118019.7109\n"
     ]
    },
    {
     "name": "stdout",
     "output_type": "stream",
     "text": [
      "Epoch: 8300  | Negative Log Posterior: 117981.0234 | NLL: 37.2344 | Negative Log Prior: 117943.7891\n",
      "Epoch: 8400  | Negative Log Posterior: 117936.1406 | NLL: 61.8750 | Negative Log Prior: 117874.2656\n",
      "Epoch: 8500  | Negative Log Posterior: 118043.1172 | NLL: 52.0312 | Negative Log Prior: 117991.0859\n",
      "Epoch: 8600  | Negative Log Posterior: 118095.4844 | NLL: 62.8984 | Negative Log Prior: 118032.5859\n",
      "Epoch: 8700  | Negative Log Posterior: 118180.1719 | NLL: 59.3203 | Negative Log Prior: 118120.8516\n",
      "Epoch: 8800  | Negative Log Posterior: 118075.6328 | NLL: 61.4141 | Negative Log Prior: 118014.2188\n",
      "Epoch: 8900  | Negative Log Posterior: 118035.6953 | NLL: 59.7734 | Negative Log Prior: 117975.9219\n",
      "Epoch: 9000  | Negative Log Posterior: 117934.8906 | NLL: 47.6719 | Negative Log Prior: 117887.2188\n",
      "Epoch: 9100  | Negative Log Posterior: 117882.1562 | NLL: 37.6562 | Negative Log Prior: 117844.5000\n",
      "Epoch: 9200  | Negative Log Posterior: 117943.5312 | NLL: 54.2422 | Negative Log Prior: 117889.2891\n",
      "Epoch: 9300  | Negative Log Posterior: 117964.8516 | NLL: 58.2266 | Negative Log Prior: 117906.6250\n",
      "Epoch: 9400  | Negative Log Posterior: 118075.6641 | NLL: 57.0469 | Negative Log Prior: 118018.6172\n",
      "Epoch: 9500  | Negative Log Posterior: 117986.5625 | NLL: 53.8594 | Negative Log Prior: 117932.7031\n",
      "Epoch: 9600  | Negative Log Posterior: 117904.2656 | NLL: 44.8281 | Negative Log Prior: 117859.4375\n",
      "Epoch: 9700  | Negative Log Posterior: 118013.5312 | NLL: 63.0391 | Negative Log Prior: 117950.4922\n",
      "Epoch: 9800  | Negative Log Posterior: 118034.7891 | NLL: 54.3203 | Negative Log Prior: 117980.4688\n",
      "Epoch: 9900  | Negative Log Posterior: 118127.5547 | NLL: 53.3906 | Negative Log Prior: 118074.1641\n",
      "Epoch: 10000 | Negative Log Posterior: 118116.5781 | NLL: 59.7266 | Negative Log Prior: 118056.8516\n",
      "Epoch: 10100 | Negative Log Posterior: 118131.8984 | NLL: 39.6719 | Negative Log Prior: 118092.2266\n",
      "Epoch: 10200 | Negative Log Posterior: 118370.9062 | NLL: 65.9062 | Negative Log Prior: 118305.0000\n",
      "Epoch: 10300 | Negative Log Posterior: 118460.4688 | NLL: 64.2188 | Negative Log Prior: 118396.2500\n",
      "Epoch: 10400 | Negative Log Posterior: 118607.2188 | NLL: 54.8125 | Negative Log Prior: 118552.4062\n",
      "Epoch: 10500 | Negative Log Posterior: 118661.6562 | NLL: 50.8125 | Negative Log Prior: 118610.8438\n",
      "Epoch: 10600 | Negative Log Posterior: 118599.6172 | NLL: 57.5000 | Negative Log Prior: 118542.1172\n",
      "Epoch: 10700 | Negative Log Posterior: 118565.0234 | NLL: 63.3906 | Negative Log Prior: 118501.6328\n",
      "Epoch: 10800 | Negative Log Posterior: 118519.0625 | NLL: 67.2344 | Negative Log Prior: 118451.8281\n",
      "Epoch: 10900 | Negative Log Posterior: 118497.6719 | NLL: 36.7891 | Negative Log Prior: 118460.8828\n",
      "Epoch: 11000 | Negative Log Posterior: 118455.5234 | NLL: 65.3828 | Negative Log Prior: 118390.1406\n",
      "Epoch: 11100 | Negative Log Posterior: 118400.2109 | NLL: 62.7344 | Negative Log Prior: 118337.4766\n",
      "Epoch: 11200 | Negative Log Posterior: 118429.7500 | NLL: 53.5703 | Negative Log Prior: 118376.1797\n",
      "Epoch: 11300 | Negative Log Posterior: 118415.4531 | NLL: 49.7188 | Negative Log Prior: 118365.7344\n",
      "Epoch: 11400 | Negative Log Posterior: 118480.5000 | NLL: 60.4297 | Negative Log Prior: 118420.0703\n",
      "Epoch: 11500 | Negative Log Posterior: 118533.8984 | NLL: 56.4922 | Negative Log Prior: 118477.4062\n",
      "Epoch: 11600 | Negative Log Posterior: 118489.1797 | NLL: 56.8281 | Negative Log Prior: 118432.3516\n",
      "Epoch: 11700 | Negative Log Posterior: 118453.5312 | NLL: 39.0234 | Negative Log Prior: 118414.5078\n",
      "Epoch: 11800 | Negative Log Posterior: 118369.6641 | NLL: 63.1562 | Negative Log Prior: 118306.5078\n",
      "Epoch: 11900 | Negative Log Posterior: 118393.7500 | NLL: 56.6875 | Negative Log Prior: 118337.0625\n",
      "Epoch: 12000 | Negative Log Posterior: 118555.3203 | NLL: 62.9062 | Negative Log Prior: 118492.4141\n",
      "Epoch: 12100 | Negative Log Posterior: 118551.1172 | NLL: 44.8828 | Negative Log Prior: 118506.2344\n",
      "Epoch: 12200 | Negative Log Posterior: 118549.6797 | NLL: 54.2734 | Negative Log Prior: 118495.4062\n",
      "Epoch: 12300 | Negative Log Posterior: 118476.0781 | NLL: 49.9375 | Negative Log Prior: 118426.1406\n",
      "Epoch: 12400 | Negative Log Posterior: 118498.2656 | NLL: 36.7500 | Negative Log Prior: 118461.5156\n",
      "Epoch: 12500 | Negative Log Posterior: 118624.5703 | NLL: 46.3828 | Negative Log Prior: 118578.1875\n",
      "Epoch: 12600 | Negative Log Posterior: 118715.5625 | NLL: 68.8594 | Negative Log Prior: 118646.7031\n",
      "Epoch: 12700 | Negative Log Posterior: 118733.7734 | NLL: 50.0625 | Negative Log Prior: 118683.7109\n",
      "Epoch: 12800 | Negative Log Posterior: 118768.9844 | NLL: 50.4062 | Negative Log Prior: 118718.5781\n",
      "Epoch: 12900 | Negative Log Posterior: 118779.1016 | NLL: 62.2812 | Negative Log Prior: 118716.8203\n",
      "Epoch: 13000 | Negative Log Posterior: 118691.0859 | NLL: 61.5547 | Negative Log Prior: 118629.5312\n",
      "Epoch: 13100 | Negative Log Posterior: 118780.9141 | NLL: 56.9766 | Negative Log Prior: 118723.9375\n",
      "Epoch: 13200 | Negative Log Posterior: 118724.2734 | NLL: 67.4609 | Negative Log Prior: 118656.8125\n",
      "Epoch: 13300 | Negative Log Posterior: 118596.7266 | NLL: 61.1641 | Negative Log Prior: 118535.5625\n",
      "Epoch: 13400 | Negative Log Posterior: 118529.9844 | NLL: 58.5547 | Negative Log Prior: 118471.4297\n",
      "Epoch: 13500 | Negative Log Posterior: 118605.1406 | NLL: 56.3203 | Negative Log Prior: 118548.8203\n",
      "Epoch: 13600 | Negative Log Posterior: 118513.8516 | NLL: 63.9453 | Negative Log Prior: 118449.9062\n",
      "Epoch: 13700 | Negative Log Posterior: 118452.7812 | NLL: 66.9375 | Negative Log Prior: 118385.8438\n",
      "Epoch: 13800 | Negative Log Posterior: 118385.1641 | NLL: 53.3984 | Negative Log Prior: 118331.7656\n",
      "Epoch: 13900 | Negative Log Posterior: 118383.5547 | NLL: 64.6641 | Negative Log Prior: 118318.8906\n",
      "Epoch: 14000 | Negative Log Posterior: 118289.1875 | NLL: 58.5625 | Negative Log Prior: 118230.6250\n",
      "Epoch: 14100 | Negative Log Posterior: 118394.6641 | NLL: 53.8281 | Negative Log Prior: 118340.8359\n",
      "Epoch: 14200 | Negative Log Posterior: 118466.3750 | NLL: 59.4062 | Negative Log Prior: 118406.9688\n",
      "Epoch: 14300 | Negative Log Posterior: 118580.7500 | NLL: 33.5547 | Negative Log Prior: 118547.1953\n",
      "Epoch: 14400 | Negative Log Posterior: 118635.1953 | NLL: 67.4453 | Negative Log Prior: 118567.7500\n",
      "Epoch: 14500 | Negative Log Posterior: 118502.7188 | NLL: 48.9219 | Negative Log Prior: 118453.7969\n",
      "Epoch: 14600 | Negative Log Posterior: 118474.2734 | NLL: 49.9609 | Negative Log Prior: 118424.3125\n",
      "Epoch: 14700 | Negative Log Posterior: 118488.9297 | NLL: 66.9766 | Negative Log Prior: 118421.9531\n",
      "Epoch: 14800 | Negative Log Posterior: 118501.8359 | NLL: 45.3516 | Negative Log Prior: 118456.4844\n",
      "Epoch: 14900 | Negative Log Posterior: 118494.6562 | NLL: 64.2031 | Negative Log Prior: 118430.4531\n",
      "Epoch: 15000 | Negative Log Posterior: 118373.2734 | NLL: 55.0625 | Negative Log Prior: 118318.2109\n",
      "Epoch: 15100 | Negative Log Posterior: 118385.1719 | NLL: 75.1016 | Negative Log Prior: 118310.0703\n",
      "Epoch: 15200 | Negative Log Posterior: 118408.2188 | NLL: 67.5938 | Negative Log Prior: 118340.6250\n",
      "Epoch: 15300 | Negative Log Posterior: 118531.2188 | NLL: 64.4141 | Negative Log Prior: 118466.8047\n",
      "Epoch: 15400 | Negative Log Posterior: 118505.6562 | NLL: 48.8281 | Negative Log Prior: 118456.8281\n",
      "Epoch: 15500 | Negative Log Posterior: 118402.1719 | NLL: 51.8203 | Negative Log Prior: 118350.3516\n",
      "Epoch: 15600 | Negative Log Posterior: 118414.3047 | NLL: 60.1016 | Negative Log Prior: 118354.2031\n",
      "Epoch: 15700 | Negative Log Posterior: 118449.1562 | NLL: 51.6797 | Negative Log Prior: 118397.4766\n",
      "Epoch: 15800 | Negative Log Posterior: 118475.5781 | NLL: 71.0000 | Negative Log Prior: 118404.5781\n",
      "Epoch: 15900 | Negative Log Posterior: 118537.6094 | NLL: 49.1406 | Negative Log Prior: 118488.4688\n",
      "Epoch: 16000 | Negative Log Posterior: 118681.7422 | NLL: 56.4453 | Negative Log Prior: 118625.2969\n",
      "Epoch: 16100 | Negative Log Posterior: 118591.6641 | NLL: 57.0234 | Negative Log Prior: 118534.6406\n",
      "Epoch: 16200 | Negative Log Posterior: 118402.9844 | NLL: 73.5938 | Negative Log Prior: 118329.3906\n",
      "Epoch: 16300 | Negative Log Posterior: 118347.5312 | NLL: 42.7891 | Negative Log Prior: 118304.7422\n",
      "Epoch: 16400 | Negative Log Posterior: 118319.7031 | NLL: 59.3125 | Negative Log Prior: 118260.3906\n",
      "Epoch: 16500 | Negative Log Posterior: 118340.4531 | NLL: 56.7734 | Negative Log Prior: 118283.6797\n"
     ]
    },
    {
     "name": "stdout",
     "output_type": "stream",
     "text": [
      "Epoch: 16600 | Negative Log Posterior: 118248.7812 | NLL: 57.7344 | Negative Log Prior: 118191.0469\n",
      "Epoch: 16700 | Negative Log Posterior: 118314.4609 | NLL: 43.2109 | Negative Log Prior: 118271.2500\n",
      "Epoch: 16800 | Negative Log Posterior: 118291.2188 | NLL: 63.5625 | Negative Log Prior: 118227.6562\n",
      "Epoch: 16900 | Negative Log Posterior: 118285.8203 | NLL: 56.2188 | Negative Log Prior: 118229.6016\n",
      "Epoch: 17000 | Negative Log Posterior: 118275.0938 | NLL: 62.2188 | Negative Log Prior: 118212.8750\n",
      "Epoch: 17100 | Negative Log Posterior: 118307.0156 | NLL: 53.6250 | Negative Log Prior: 118253.3906\n",
      "Epoch: 17200 | Negative Log Posterior: 118266.2734 | NLL: 49.0547 | Negative Log Prior: 118217.2188\n",
      "Epoch: 17300 | Negative Log Posterior: 118280.8984 | NLL: 41.3047 | Negative Log Prior: 118239.5938\n",
      "Epoch: 17400 | Negative Log Posterior: 118306.6250 | NLL: 52.0000 | Negative Log Prior: 118254.6250\n",
      "Epoch: 17500 | Negative Log Posterior: 118166.6016 | NLL: 71.9609 | Negative Log Prior: 118094.6406\n",
      "Epoch: 17600 | Negative Log Posterior: 118141.8281 | NLL: 62.7344 | Negative Log Prior: 118079.0938\n",
      "Epoch: 17700 | Negative Log Posterior: 118032.8672 | NLL: 48.9766 | Negative Log Prior: 117983.8906\n",
      "Epoch: 17800 | Negative Log Posterior: 118200.9844 | NLL: 74.1172 | Negative Log Prior: 118126.8672\n",
      "Epoch: 17900 | Negative Log Posterior: 118191.7578 | NLL: 62.4453 | Negative Log Prior: 118129.3125\n",
      "Epoch: 18000 | Negative Log Posterior: 118275.5078 | NLL: 64.7500 | Negative Log Prior: 118210.7578\n",
      "Epoch: 18100 | Negative Log Posterior: 118306.6875 | NLL: 54.7109 | Negative Log Prior: 118251.9766\n",
      "Epoch: 18200 | Negative Log Posterior: 118330.0859 | NLL: 71.0156 | Negative Log Prior: 118259.0703\n",
      "Epoch: 18300 | Negative Log Posterior: 118146.8906 | NLL: 65.1406 | Negative Log Prior: 118081.7500\n",
      "Epoch: 18400 | Negative Log Posterior: 118166.1562 | NLL: 53.4141 | Negative Log Prior: 118112.7422\n",
      "Epoch: 18500 | Negative Log Posterior: 118171.9609 | NLL: 48.5312 | Negative Log Prior: 118123.4297\n",
      "Epoch: 18600 | Negative Log Posterior: 118164.0781 | NLL: 53.1953 | Negative Log Prior: 118110.8828\n",
      "Epoch: 18700 | Negative Log Posterior: 118243.7656 | NLL: 54.5312 | Negative Log Prior: 118189.2344\n",
      "Epoch: 18800 | Negative Log Posterior: 118225.3438 | NLL: 72.9219 | Negative Log Prior: 118152.4219\n",
      "Epoch: 18900 | Negative Log Posterior: 118312.0625 | NLL: 54.2344 | Negative Log Prior: 118257.8281\n",
      "Epoch: 19000 | Negative Log Posterior: 118335.3828 | NLL: 69.9609 | Negative Log Prior: 118265.4219\n",
      "Epoch: 19100 | Negative Log Posterior: 118352.1484 | NLL: 81.4844 | Negative Log Prior: 118270.6641\n",
      "Epoch: 19200 | Negative Log Posterior: 118347.6719 | NLL: 59.7344 | Negative Log Prior: 118287.9375\n",
      "Epoch: 19300 | Negative Log Posterior: 118431.3125 | NLL: 59.9688 | Negative Log Prior: 118371.3438\n",
      "Epoch: 19400 | Negative Log Posterior: 118360.2812 | NLL: 53.2969 | Negative Log Prior: 118306.9844\n",
      "Epoch: 19500 | Negative Log Posterior: 118348.1953 | NLL: 58.8047 | Negative Log Prior: 118289.3906\n",
      "Epoch: 19600 | Negative Log Posterior: 118294.3125 | NLL: 63.6797 | Negative Log Prior: 118230.6328\n",
      "Epoch: 19700 | Negative Log Posterior: 118336.3594 | NLL: 55.8594 | Negative Log Prior: 118280.5000\n",
      "Epoch: 19800 | Negative Log Posterior: 118418.3125 | NLL: 76.7422 | Negative Log Prior: 118341.5703\n",
      "Epoch: 19900 | Negative Log Posterior: 118468.4531 | NLL: 58.1953 | Negative Log Prior: 118410.2578\n",
      "Epoch: 20000 | Negative Log Posterior: 118396.9609 | NLL: 48.7500 | Negative Log Prior: 118348.2109\n",
      "Epoch: 20100 | Negative Log Posterior: 118346.6953 | NLL: 54.9297 | Negative Log Prior: 118291.7656\n",
      "Epoch: 20200 | Negative Log Posterior: 118322.3594 | NLL: 63.4219 | Negative Log Prior: 118258.9375\n",
      "Epoch: 20300 | Negative Log Posterior: 118354.4141 | NLL: 51.2891 | Negative Log Prior: 118303.1250\n",
      "Epoch: 20400 | Negative Log Posterior: 118337.1641 | NLL: 55.5469 | Negative Log Prior: 118281.6172\n"
     ]
    }
   ],
   "source": [
    "# define the nueral architecture, the prior distribution of weights is N(0,1^2)\n",
    "network = BNN(input_dim=1, hidden_dim=256, output_dim=1, prior_mu=0.0, prior_sigma=1.0)\n",
    "model = BNN_Sampler(model=network, sigma=0.1/y_std) # the sigma is the standard deviation of data uncertainty (known)\n",
    "# define your sampler\n",
    "model.define_sampler(name='psgld', lr=0.001)\n",
    "# train your model\n",
    "model.train(sample_x_scaled, sample_y_scaled, burn_in=500, sample_freq=20, sample_num=1000)"
   ]
  },
  {
   "cell_type": "code",
   "execution_count": 20,
   "metadata": {
    "scrolled": true,
    "slideshow": {
     "slide_type": "skip"
    }
   },
   "outputs": [],
   "source": [
    "import numpy as np\n",
    "import matplotlib.pyplot as plt\n",
    "\n",
    "def plot_prediction():\n",
    "    test_x = torch.linspace(-1, 1, 100).reshape((-1, 1))\n",
    "    # scale \n",
    "    test_x_scaled = (test_x-x_mean)/x_std.numpy()\n",
    "    test_y = cubic_sin(test_x, noise_std=0)  # ground truth\n",
    "\n",
    "    # code here to visualize your result\n",
    "    pred_mean, epistemic = model.predict(test_x_scaled)\n",
    "    # scale it back \n",
    "    pred_mean = pred_mean*y_std.numpy() + y_mean.numpy()\n",
    "    epistemic = epistemic*y_std.numpy()\n",
    "    # plot the result\n",
    "    fig, ax = plt.subplots(1,2, figsize=(10,4))\n",
    "    ax[0].plot(test_x.numpy(), test_y.numpy(),'--', linewidth=2, color='gray',label='True Function')\n",
    "    ax[0].plot(test_x.numpy(), pred_mean, color='b', label='Prediction')\n",
    "    ax[0].fill_between(test_x.numpy().reshape(-1), pred_mean.reshape(-1) - 1.96*epistemic.reshape(-1),\n",
    "                     pred_mean.reshape(-1) + 1.96*epistemic.reshape(-1), alpha=0.2, label='Epistemic')\n",
    "    ax[0].scatter(sample_x.numpy(), sample_y.numpy(), marker='o', s=40, label='Training Data')\n",
    "    ax[0].set_xlabel('x')\n",
    "    ax[0].set_ylabel('y')\n",
    "    \n",
    "    ax[0].legend()\n",
    "    ax[1].plot(model.log_likelihood, 'o')\n",
    "    ax[1].set_xlabel('Order of Posterior samples')\n",
    "    ax[1].set_ylabel('NLL')"
   ]
  },
  {
   "cell_type": "code",
   "execution_count": 18,
   "metadata": {
    "slideshow": {
     "slide_type": "slide"
    }
   },
   "outputs": [
    {
     "name": "stderr",
     "output_type": "stream",
     "text": [
      "/tmp/ipykernel_24108/818723766.py:7: DeprecationWarning: __array_wrap__ must accept context and return_scalar arguments (positionally) in the future. (Deprecated NumPy 2.0)\n",
      "  test_x_scaled = (test_x-x_mean)/x_std.numpy()\n"
     ]
    },
    {
     "data": {
      "image/png": "[encoded data removed]",
      "text/plain": [
       "<Figure size 1000x400 with 2 Axes>"
      ]
     },
     "metadata": {},
     "output_type": "display_data"
    }
   ],
   "source": [
    "plot_prediction()"
   ]
  },
  {
   "cell_type": "markdown",
   "metadata": {
    "slideshow": {
     "slide_type": "slide"
    }
   },
   "source": [
    "### See you next class\n",
    "\n",
    "Have fun!"
   ]
  }
 ],
 "metadata": {
  "celltoolbar": "Slideshow",
  "hide_code_all_hidden": false,
  "kernelspec": {
   "display_name": "Python [conda env:3dasm] *",
   "language": "python",
   "name": "conda-env-3dasm-py"
  },
  "language_info": {
   "codemirror_mode": {
    "name": "ipython",
    "version": 3
   },
   "file_extension": ".py",
   "mimetype": "text/x-python",
   "name": "python",
   "nbconvert_exporter": "python",
   "pygments_lexer": "ipython3",
   "version": "3.11.0"
  }
 },
 "nbformat": 4,
 "nbformat_minor": 4
}

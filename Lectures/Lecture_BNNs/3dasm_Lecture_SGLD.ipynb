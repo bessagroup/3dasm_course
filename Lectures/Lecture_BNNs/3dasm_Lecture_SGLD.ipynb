{
 "cells": [
  {
   "cell_type": "markdown",
   "metadata": {
    "hideCode": false,
    "hidePrompt": false,
    "slideshow": {
     "slide_type": "slide"
    }
   },
   "source": [
    "<img src=../figures/Brown_logo.svg width=50%>\n",
    "\n",
    "## Data-Driven Design & Analyses of Structures & Materials (3dasm)\n",
    "\n",
    "## Lecture Stochastic Gradient Langevin Dynamics\n",
    "\n",
    "### Miguel A. Bessa | <a href = \"mailto: miguel_bessa@brown.edu\">miguel_bessa@brown.edu</a>  | Associate Professor"
   ]
  },
  {
   "cell_type": "markdown",
   "metadata": {
    "hideCode": false,
    "hidePrompt": false,
    "slideshow": {
     "slide_type": "slide"
    }
   },
   "source": [
    "## Outline for today\n",
    "\n",
    "* How SGD can be modified as a sampler for neural networks? \n",
    "\n",
    "**Reading material**: This notebook + (Murphy's advanced book, chapter Part II Inference)"
   ]
  },
  {
   "cell_type": "markdown",
   "metadata": {
    "slideshow": {
     "slide_type": "slide"
    }
   },
   "source": [
    "## Recap: Hamiltonian Monte Carlo (HMC)\n",
    "\n",
    "- A Hamiltonian mechanical system can be imagined as a ball rolling in a frictionless bowl\n",
    "\n",
    "- By updating the new states by simulating trajectories shown in the figure\n",
    "\n",
    "- This **efficiently explores** the target distribution and **increases acceptance rates** by following energy-preserving paths.\n",
    "<img src=\"figures/hmc.png\" title=\"Hamiltonian mechanics\" width=\"30%\" align=\"center\">\n",
    "<!-- <img align=center src=\"./figures/hmc.png\" width=20%>  -->\n",
    "\n"
   ]
  },
  {
   "cell_type": "code",
   "execution_count": 1,
   "metadata": {
    "slideshow": {
     "slide_type": "skip"
    }
   },
   "outputs": [],
   "source": [
    "import torch\n",
    "import copy\n",
    "import torch.nn as nn\n",
    "from torch.autograd import Variable\n",
    "from torch.optim import Optimizer\n",
    "\n",
    "class SGLD(Optimizer):\n",
    "    \"\"\"Langevin Stochastic Gradient Descent optimizer. It is used for\n",
    "    bayesian neural networks. It is a variant of SGD optimizer.\n",
    "\n",
    "    References\n",
    "    ----------\n",
    "    Welling, M., & Teh, Y. W. (2011). \"Bayesian learning via stochastic\n",
    "    gradient Langevin dynamics\". In Proceedings of the 28th International\n",
    "    Conference on International Conference on Machine Learning (pp. 681-688).\n",
    "    \"\"\"\n",
    "\n",
    "    def __init__(self,\n",
    "                 params: dict,\n",
    "                 lr: float,\n",
    "                 nesterov: bool = False) -> None:\n",
    "        \"\"\"Initialization of Langevin SGD\n",
    "\n",
    "        Parameters\n",
    "        ----------\n",
    "        params : dict\n",
    "            A dictionary containing the parameters to optimize.\n",
    "        lr : float\n",
    "            Learning rate. Must be positive.\n",
    "        nesterov : bool, optional\n",
    "            Whether to use Nesterov momentum, by default False.\n",
    "\n",
    "        Raises\n",
    "        ------\n",
    "        ValueError\n",
    "            If the learning rate is non-positive.\n",
    "        \"\"\"\n",
    "\n",
    "        if lr < 0.0:\n",
    "            raise ValueError(\"Invalid learning rate: {}\".format(lr))\n",
    "\n",
    "        defaults = dict(lr=lr)\n",
    "        self.netstrov = nesterov\n",
    "        super(SGLD, self).__init__(params, defaults)\n",
    "\n",
    "    def __setstate__(self, state) -> None:\n",
    "        super(SGLD, self).__setstate__(state)\n",
    "        \"\"\"Set the state of the optimizer.\n",
    "\n",
    "        Parameters\n",
    "        ----------\n",
    "        state : dict\n",
    "            The state dictionary containing optimizer state information.\n",
    "        \"\"\"\n",
    "        # change default state values for param groups\n",
    "        for group in self.param_groups:\n",
    "            group.setdefault('nesterov', False)\n",
    "\n",
    "    def step(self, closure=None) -> float:\n",
    "        \"\"\"Perform a single optimization step.\n",
    "\n",
    "        Parameters\n",
    "        ----------\n",
    "        closure : callable, optional\n",
    "            A closure that re-evaluates the model and returns the loss,\n",
    "            by default None.\n",
    "\n",
    "        Returns\n",
    "        -------\n",
    "        float or None\n",
    "            The loss value if a closure is provided, otherwise None.\n",
    "        \"\"\"\n",
    "        loss = None\n",
    "        # first case\n",
    "        if closure is not None:\n",
    "            loss = closure()\n",
    "        # loop over the parameters\n",
    "        for group in self.param_groups:\n",
    "\n",
    "            for p in group['params']:\n",
    "                if p.grad is None:\n",
    "                    continue\n",
    "                d_p = p.grad.data\n",
    "\n",
    "                # add unit noise to the weights and bias\n",
    "                unit_noise = Variable(p.data.new(p.size()).normal_())\n",
    "                # Langevin dynamics update\n",
    "                p.data.add_(0.5*d_p, alpha=-group['lr'])\n",
    "                p.data.add_(unit_noise, alpha=group['lr']**0.5)\n",
    "\n",
    "        return loss"
   ]
  },
  {
   "cell_type": "code",
   "execution_count": 2,
   "metadata": {
    "slideshow": {
     "slide_type": "skip"
    }
   },
   "outputs": [],
   "source": [
    "class pSGLD(Optimizer):\n",
    "    \"\"\"Preconditioned Stochastic Gradient Langevin Dynamics optimizer.\n",
    "\n",
    "    This optimizer/sampler is commonly used for Bayesian neural networks. It is\n",
    "    a variant of Stochastic Gradient Descent (SGD) and Stochastic Gradient\n",
    "    Langevin Dynamics (SGLD).\n",
    "\n",
    "    References\n",
    "    ----------\n",
    "    Li, C., Chen, C., Carlson, D., & Carin, L. (2016, February). \"\n",
    "    Preconditioned stochastic gradient Langevin dynamics for deep neural\n",
    "    networks\". In Proceedings of the AAAI conference on artificial intelligence\n",
    "    (Vol. 30, No. 1).\n",
    "    \"\"\"\n",
    "\n",
    "    def __init__(self,\n",
    "                 params: dict,\n",
    "                 lr: float,\n",
    "                 alpha: float = 0.99,\n",
    "                 eps: float = 1e-5,\n",
    "                 nesterov: bool = False) -> None:\n",
    "        \"\"\"Initialize the pSGLD optimizer.\n",
    "\n",
    "        Parameters\n",
    "        ----------\n",
    "        params : dict\n",
    "            A dictionary containing the parameters to optimize.\n",
    "        lr : float\n",
    "            Learning rate. Must be positive.\n",
    "        alpha : float, optional\n",
    "            Coefficient for computing running averages of gradient squares,\n",
    "            by default 0.99.\n",
    "        eps : float, optional\n",
    "            A small constant added for numerical stability, by default 1e-5.\n",
    "        nesterov : bool, optional\n",
    "            Whether to use Nesterov momentum, by default False.\n",
    "\n",
    "        Raises\n",
    "        ------\n",
    "        ValueError\n",
    "            If the learning rate is non-positive.\n",
    "        \"\"\"\n",
    "        if lr < 0.0:\n",
    "            raise ValueError(\"Invalid learning rate: {}\".format(lr))\n",
    "\n",
    "        defaults = dict(lr=lr, alpha=alpha, eps=eps)\n",
    "        self.netstrov = nesterov\n",
    "        super(pSGLD, self).__init__(params, defaults)\n",
    "\n",
    "    def __setstate__(self, state) -> None:\n",
    "        super(pSGLD, self).__setstate__(state)\n",
    "        \"\"\"Set the state of the optimizer.\n",
    "\n",
    "        Parameters\n",
    "        ----------\n",
    "        state : dict\n",
    "            The state dictionary containing optimizer state information.\n",
    "        \"\"\"\n",
    "        # change default state values for param groups\n",
    "        for group in self.param_groups:\n",
    "            group.setdefault('nesterov', False)\n",
    "\n",
    "    def step(self, closure=None) -> float:\n",
    "        \"\"\"Perform a single optimization step.\n",
    "\n",
    "        Parameters\n",
    "        ----------\n",
    "        closure : callable, optional\n",
    "            A closure that re-evaluates the model and returns the loss,\n",
    "            by default None.\n",
    "\n",
    "        Returns\n",
    "        -------\n",
    "        float\n",
    "            The loss value if a closure is provided, otherwise None.\n",
    "        \"\"\"\n",
    "\n",
    "        loss = None\n",
    "        if closure is not None:\n",
    "            loss = closure()\n",
    "        # loop over the parameters\n",
    "        for group in self.param_groups:\n",
    "\n",
    "            for p in group['params']:\n",
    "                if p.grad is None:\n",
    "                    continue\n",
    "                d_p = p.grad.data\n",
    "\n",
    "                # get the state\n",
    "                state = self.state[p]\n",
    "\n",
    "                # initialize the state\n",
    "                if len(state) == 0:\n",
    "                    state['step'] = 0\n",
    "                    state['V'] = torch.zeros_like(p.data)\n",
    "\n",
    "                # get the state parameters\n",
    "                V = state['V']\n",
    "                # get the parameters\n",
    "                alpha = group['alpha']\n",
    "                eps = group['eps']\n",
    "                lr = group['lr']\n",
    "\n",
    "                # update the state\n",
    "                state['step'] += 1\n",
    "\n",
    "                # update parameters\n",
    "                # update V\n",
    "                V.mul_(alpha).addcmul_(1 - alpha, d_p, d_p)\n",
    "\n",
    "                # get 1/G use the inplace operation (need division when use it)\n",
    "                G = V.add(eps).sqrt_()\n",
    "\n",
    "                # update parameters with 0.5*lr (main update of pSGLD)\n",
    "                p.data.addcdiv_(d_p, G, value=-lr/2)\n",
    "\n",
    "                # inject noise to the parameters\n",
    "                noise_std = torch.sqrt(lr/G)\n",
    "                noise = Variable(p.data.new(p.size()).normal_())\n",
    "                p.data.add_(noise_std*noise)\n",
    "\n",
    "        return loss\n"
   ]
  },
  {
   "cell_type": "code",
   "execution_count": 3,
   "metadata": {
    "slideshow": {
     "slide_type": "skip"
    }
   },
   "outputs": [],
   "source": [
    "\n",
    "class BNN_Sampler:\n",
    "    def __init__(self, model,  sigma=0.1) -> None:\n",
    "        self.sigma = sigma\n",
    "        self.nets = []\n",
    "        self.log_likelihood = []\n",
    "        self.model = model\n",
    "    def define_sampler(self, name = 'sgld', lr=0.01):\n",
    "        if name == 'sgld':\n",
    "            self.sampler = SGLD(self.model.parameters(), lr=lr)\n",
    "        elif name == 'psgld':\n",
    "            self.sampler = pSGLD(self.model.parameters(), lr=lr)\n",
    "\n",
    "    def train(self, x, y, burn_in=1000, sample_freq=100, sample_num=10):\n",
    "        for i in range(burn_in + sample_freq * sample_num):\n",
    "            self.sampler.zero_grad()\n",
    "            pred_y = self.model(x)\n",
    "            loss = self.nll_loss(pred_y, y, self.sigma) + self.model.neg_log_prior()\n",
    "            loss.backward()\n",
    "            self.sampler.step()\n",
    "\n",
    "            if i > burn_in and (i - burn_in) % sample_freq == 0:\n",
    "                self.nets.append(copy.deepcopy(self.model))\n",
    "                self.log_likelihood.append(loss.item() - self.model.neg_log_prior().item())\n",
    "\n",
    "            if i % 100 == 0:\n",
    "                neg_log_prior = self.model.neg_log_prior().item()\n",
    "                nll = loss.item() - neg_log_prior\n",
    "                print(\n",
    "                    f\"Epoch: {i:<5d} | \"\n",
    "                    f\"Negative Log Posterior: {loss.item():.4f} | \"\n",
    "                    f\"NLL: {nll:.4f} | \"\n",
    "                    f\"Negative Log Prior: {neg_log_prior:.4f}\"\n",
    "                )\n",
    "                \n",
    "    def predict(self, x):\n",
    "\n",
    "        responses = []\n",
    "        for net in self.nets:\n",
    "            pred = net(x).data.numpy()\n",
    "            responses.append(pred)\n",
    "        # get the mean and variance of the responses\n",
    "        pred_mean = (np.array(responses).mean(axis=0)).reshape(-1, 1)\n",
    "        # epistemic uncertainty\n",
    "        epistemic = np.array(responses).std(axis=0).reshape(-1, 1)\n",
    "\n",
    "        return pred_mean, epistemic\n",
    "\n",
    "    @ staticmethod\n",
    "    def nll_loss(pred_y, real_y, sigma):\n",
    "        \"\"\"negative log likelihood loss function\"\"\"\n",
    "        sigma = torch.Tensor([sigma])\n",
    "        loss = 0.5 * torch.log(sigma**2) + \\\n",
    "            0.5 * (pred_y - real_y)**2 / sigma**2 + 0.5 * \\\n",
    "            torch.log(torch.Tensor([2 * torch.pi]))\n",
    "        loss = loss.sum()\n",
    "\n",
    "        return loss"
   ]
  },
  {
   "cell_type": "markdown",
   "metadata": {
    "slideshow": {
     "slide_type": "slide"
    }
   },
   "source": [
    "## How to improve the efficency of HMC?\n",
    "\n",
    "**Recall the leap frog update step of HMC**\n",
    "$$\\mathrm{v}_{t+\\frac{1}{2}} =\\mathrm{v}_{t}-\\frac{\\eta }{2}\\frac{\\partial \\mathcal{\\varepsilon}(\\mathrm{\\theta}_t)}{\\partial \\mathrm{\\theta}} $$\n",
    "\n",
    "$$\\mathrm{\\theta}_{t+1} =  \\mathrm{\\theta}_{t}+\\eta \\frac{\\partial \\mathcal{K}(\\mathrm{v}_{t+\\frac{1}{2}})}{\\partial \\mathrm{v}}$$\n",
    "\n",
    "$$\\mathrm{v}_{t+1} =\\mathrm{v}_{t+\\frac{1}{2}}-\\frac{\\eta }{2}\\frac{\\partial \\mathcal{\\varepsilon}(\\mathrm{\\theta}_{t+1})}{\\partial \\mathrm{\\theta}} $$\n",
    "\n",
    "- Only first order information been used!!!\n",
    "- Accept/Reject makes HMC difficult to work at scale!\n",
    "- *leapfrog* requires more computational cost!\n"
   ]
  },
  {
   "cell_type": "markdown",
   "metadata": {
    "slideshow": {
     "slide_type": "slide"
    }
   },
   "source": [
    "### From Hamiltonian Dynamics to Langevin dynamics\n",
    "The update rule of Langegevin dynamic modified from *leapfrog =1* is given by:\n",
    "\n",
    "\\begin{align}\n",
    "\\label{eq:langevin_update_step}\n",
    "    \\boldsymbol{\\theta}_{t+1} \n",
    "    &= \\boldsymbol{\\theta}_{t} \n",
    "    - \\frac{\\eta^2}{2} \\boldsymbol{\\Sigma}^{-1} \\nabla \\mathcal{E}(\\boldsymbol{\\theta}_{t}) \n",
    "    + \\eta\\, \\boldsymbol{\\Sigma}^{-1} \\boldsymbol{v}_{t} \\\\\n",
    "    &= \\boldsymbol{\\theta}_{t} \n",
    "    - \\frac{\\eta^2}{2} \\boldsymbol{\\Sigma}^{-1} \\nabla \\mathcal{E}(\\boldsymbol{\\theta}_{t}) \n",
    "    + \\eta\\, \\sqrt{\\boldsymbol{\\Sigma}^{-1}}\\, \\boldsymbol{\\epsilon}_{t}\n",
    "\\end{align}\n",
    "\n",
    "where $\\boldsymbol{v}_{t} \\sim \\mathcal{N}(\\boldsymbol{0}, \\boldsymbol{\\Sigma})$ and $\\boldsymbol{\\epsilon}_{t} \\sim \\mathcal{N}(\\boldsymbol{0}, \\boldsymbol{I})$. \n",
    "\n",
    "- When $\\boldsymbol{\\Sigma} = \\boldsymbol{I}$ and $\\eta = \\sqrt{2}$, the update process reduces to a discretized Langevin diffusion, given by:\n",
    "\n",
    "\\begin{equation}\n",
    "    \\mathrm{d}\\boldsymbol{\\theta}_{t} = - \\nabla \\mathcal{E}(\\boldsymbol{\\theta}_{t})\\, \\mathrm{d}{t} + \\sqrt{2}\\, \\mathrm{d}\\boldsymbol{B}_{t}\n",
    "\\end{equation}\n",
    "\n",
    "where $\\boldsymbol{B}_{t}$ denotes a $d$-dimensional Brownian motion."
   ]
  },
  {
   "cell_type": "markdown",
   "metadata": {
    "slideshow": {
     "slide_type": "slide"
    }
   },
   "source": [
    "### Connection between Langevin dynamic with Stochastic Gradient Decent\n",
    "\n",
    "**Stochastic Gradient Descent (SGD)**\n",
    "Recall that for a loss function such as MSE, the **full-batch gradient** is:\n",
    "\n",
    "$$\n",
    "\\nabla_{\\boldsymbol{\\theta}} \\mathcal{L}(\\boldsymbol{\\theta}) = \\frac{1}{N} \\sum_{n=1}^{N} \\nabla \\mathcal{L}_n(\\boldsymbol{\\theta})\n",
    "$$\n",
    "\n"
   ]
  },
  {
   "cell_type": "markdown",
   "metadata": {
    "slideshow": {
     "slide_type": "fragment"
    }
   },
   "source": [
    "**Mini-Batch Gradient**\n",
    "\n",
    "In practice, we often use the **mini-batch** technique:\n",
    "\n",
    "$$\n",
    "\\nabla^B_{\\boldsymbol{\\theta}} \\mathcal{L}(\\boldsymbol{\\theta}) = \\frac{1}{B} \\sum_{n=1}^{B} \\nabla_{\\boldsymbol{\\theta}} \\mathcal{L}_n(\\boldsymbol{\\theta})\n",
    "$$\n",
    "\n",
    "where:\n",
    "- $B$ = mini-batch size\n",
    "- Provides an **unbiased estimate** of the full gradient"
   ]
  },
  {
   "cell_type": "markdown",
   "metadata": {
    "slideshow": {
     "slide_type": "slide"
    }
   },
   "source": [
    "### Connection between Langevin dynamic with Stochastic Gradient Decent\n",
    "\n",
    "\n",
    "**Unbiased:** The mini-batch is randomly sampled from the full dataset:\n",
    "\n",
    "$$\n",
    "\\mathbb{E}_{\\mathcal{B}} \\left[ \\nabla_{\\boldsymbol{\\theta}}^{B} \\mathcal{L}(\\boldsymbol{\\theta}) - \\nabla_{\\boldsymbol{\\theta}} \\mathcal{L}(\\boldsymbol{\\theta}) \\right] = 0\n",
    "$$\n",
    "\n"
   ]
  },
  {
   "cell_type": "markdown",
   "metadata": {
    "slideshow": {
     "slide_type": "fragment"
    }
   },
   "source": [
    "\n",
    "**Diffusion Term (Variance)**: The variance (covariance matrix) of the gradient difference is:\n",
    "\n",
    "$$\n",
    "\\mathrm{Cov}_{\\mathcal{B}} \\left[ \\nabla_{\\boldsymbol{\\theta}}^{B} \\mathcal{L}(\\boldsymbol{\\theta}) - \\nabla_{\\boldsymbol{\\theta}} \\mathcal{L}(\\boldsymbol{\\theta})\\right] =\n",
    "\\mathbb{E}_{\\mathcal{B}} \\left[ \\left( \\nabla_{\\boldsymbol{\\theta}}^B \\mathcal{L}(\\boldsymbol{\\theta}) - \\nabla_{\\boldsymbol{\\theta}} \\mathcal{L}(\\boldsymbol{\\theta}) \\right) \\left( \\nabla_{\\boldsymbol{\\theta}}^B \\mathcal{L}(\\boldsymbol{\\theta}) - \\nabla_{\\boldsymbol{\\theta}} \\mathcal{L}(\\boldsymbol{\\theta}) \\right)^\\top \\right]\n",
    "$$\n"
   ]
  },
  {
   "cell_type": "markdown",
   "metadata": {
    "slideshow": {
     "slide_type": "fragment"
    }
   },
   "source": [
    "\n",
    "For time step $t$, We define\n",
    "\n",
    "$$\n",
    "\\boldsymbol{v}_t = \\sqrt{\\lambda} \\left( \\nabla\\mathcal{L}(\\boldsymbol{\\theta}_t) - \\nabla_B\\mathcal{L}(\\boldsymbol{\\theta}_t) \\right)\n",
    "$$\n",
    "\n",
    "The **SGD update** becomes\n",
    "\n",
    "$$\n",
    "\\boldsymbol{\\theta}_{t+1} = \\boldsymbol{\\theta}_t - \\lambda \\nabla^B \\mathcal{L}(\\boldsymbol{\\theta}_t) \n",
    "= \\boldsymbol{\\theta}_t - \\lambda \\nabla \\mathcal{L}(\\boldsymbol{\\theta}_t) + \\sqrt{\\lambda} \\boldsymbol{v}_t\n",
    "$$\n",
    "where $\\lambda$ is the learning rate"
   ]
  },
  {
   "cell_type": "markdown",
   "metadata": {
    "slideshow": {
     "slide_type": "slide"
    }
   },
   "source": [
    "### Connection between Langevin dynamic with Stochastic Gradient Decent\n",
    "\n",
    "**SGD update step**\n",
    "$$\\boldsymbol{\\theta}_{t+1} =  \\boldsymbol{\\theta}_t - \\lambda \\nabla \\mathcal{L}(\\boldsymbol{\\theta}_t) + \\sqrt{\\lambda} \\boldsymbol{v}_t$$\n",
    "\n",
    "where $\\lambda$ is the learning rate, and $\\boldsymbol{v}$ is a diffusion term between mini-batch and full batch.\n",
    "\n",
    "\n"
   ]
  },
  {
   "cell_type": "markdown",
   "metadata": {
    "slideshow": {
     "slide_type": "fragment"
    }
   },
   "source": [
    "**Langevin update**\n",
    "\n",
    "$$\n",
    "\\boldsymbol{\\theta}_{t+1} = \\boldsymbol{\\theta}_t - \\frac{\\eta^2}{2} \\nabla \\mathcal{E}(\\boldsymbol{\\theta}_t) + \\eta \\, \\epsilon_t\n",
    "$$\n",
    "\n",
    "where $\\eta$ is the step size, and $\\epsilon_t$ is the diffusion term following a distribution, usually Gaussian.\n",
    "\n"
   ]
  },
  {
   "cell_type": "markdown",
   "metadata": {
    "slideshow": {
     "slide_type": "fragment"
    }
   },
   "source": [
    "**Note: Langevin update can be regarded as injecting noise to SGD, such that SGD can be a sampler**"
   ]
  },
  {
   "cell_type": "markdown",
   "metadata": {
    "slideshow": {
     "slide_type": "slide"
    }
   },
   "source": [
    "### Stochastic Gradient Langevin Dynamics (SGLD)\n",
    "\n",
    "Welling et al. (2011) proposed **SGLD**, a special case of Langevin Monte Carlo (LMC) for posterior inference in BNNs.\n",
    "\n",
    "- Remind the BNN Posterior:$\n",
    "p(\\boldsymbol{\\theta} \\mid \\mathcal{D}) \\propto p(\\boldsymbol{\\theta}) \\prod_{n=1}^{N} p(y_n \\mid \\boldsymbol{\\theta})$\n",
    "- and: $\\mathcal{E}(\\boldsymbol{\\theta}) = - \\mathrm{log} p(\\boldsymbol{\\theta} \\mid \\mathcal{D})$\n"
   ]
  },
  {
   "cell_type": "markdown",
   "metadata": {
    "slideshow": {
     "slide_type": "fragment"
    }
   },
   "source": [
    "- SGLD update rule\n",
    "\n",
    "$$\n",
    "\\Delta \\boldsymbol{\\theta}_t = \\frac{\\epsilon_t}{2} \\nabla\\left( \\log p(\\boldsymbol{\\theta}_t ) + \\frac{N}{B} \\log p(y_i \\mid \\boldsymbol{\\theta}_t)\\right) + \\eta_t \\mathbf{I}\n",
    "$$\n",
    "\n",
    "where:\n",
    "\n",
    "$$\n",
    "\\eta_t \\sim \\mathcal{N}(\\boldsymbol{0}, \\epsilon_t)\n",
    "$$\n",
    "\n",
    "**It anables to sample posteriors of BNN effiently and at scale**"
   ]
  },
  {
   "cell_type": "markdown",
   "metadata": {
    "slideshow": {
     "slide_type": "slide"
    }
   },
   "source": [
    "## Summary of SGLD\n",
    "\n",
    "- Randomly initialize parameters $\\boldsymbol{\\theta}_0$\n",
    "- At each iteration $t$:\n",
    "  1. Sample a **mini-batch** $\\mathcal{B}_t$ from the dataset\n",
    "  2. Compute stochastic gradient of log-posterior and update with noise:\n",
    "     $$\n",
    "     \\boldsymbol{\\theta}_{t+1} =\n",
    "     \\boldsymbol{\\theta}_t +\n",
    "     \\frac{\\epsilon_t}{2} \\left[\n",
    "     \\nabla \\log p(\\boldsymbol{\\theta}_t) +\n",
    "     \\frac{N}{n} \\sum_{i \\in \\mathcal{B}_t}\n",
    "     \\nabla_{\\boldsymbol{\\theta}} \\log p(y_i \\mid \\boldsymbol{\\theta}_t)\n",
    "     \\right]\n",
    "     +\n",
    "     \\boldsymbol{\\eta}_t\n",
    "     $$\n",
    "     where $\\boldsymbol{\\eta}_t \\sim \\mathcal{N}(\\boldsymbol{0}, \\epsilon_t \\mathbf{I})$\n",
    "- After **burn-in**, collect samples $\\{\\boldsymbol{\\theta}_t\\}$ as posterior samples. Note that, it works fine with collecting every sample after **burn-in**, but set sample frequency that mimics *leapfrog* of HMC could stablize the sampling. \n",
    "- Step size $\\epsilon_t$ can be constant (for sampling) or decreasing (for convergence)\n"
   ]
  },
  {
   "cell_type": "markdown",
   "metadata": {
    "slideshow": {
     "slide_type": "slide"
    }
   },
   "source": [
    "### Can we further improve SGLD? \n",
    "\n",
    "SGLD works well for large-scale problems like training BNNs. However, it **assumes all parameters** $\\boldsymbol{\\theta}$ have the same step size.\n",
    "- Slow convergence\n",
    "- Even divergence when components of $\\boldsymbol{\\theta}$ have different curvatures\n"
   ]
  },
  {
   "cell_type": "markdown",
   "metadata": {
    "slideshow": {
     "slide_type": "fragment"
    }
   },
   "source": [
    "\n",
    "###  Preconditioned SGLD (pSGLD)\n",
    "\n",
    "Li et al. (2015) proposed **pSGLD** to address this issue with the following refinements.\n",
    "- Use a **preconditioning matrix** $G(\\boldsymbol{\\theta}_t)$ (from RMSprop)  \n"
   ]
  },
  {
   "cell_type": "markdown",
   "metadata": {
    "slideshow": {
     "slide_type": "slide"
    }
   },
   "source": [
    "\n",
    "### pSGLD update rule\n",
    "\n",
    "$$\n",
    "\\Delta \\boldsymbol{\\theta}_t =\n",
    "\\frac{\\epsilon_t}{2} \\left[\n",
    "G(\\boldsymbol{\\theta}_t)\n",
    "\\left(\\nabla \\log p(\\boldsymbol{\\theta}_t) + \\frac{N}{n} \\log p(y_i \\mid \\boldsymbol{\\theta}_t) \\right)\n",
    "+ \\boldsymbol{\\Gamma}(\\boldsymbol{\\theta}_t)\n",
    "\\right]\n",
    "+ \\eta_t G(\\boldsymbol{\\theta}_t)\n",
    "$$\n",
    "\n",
    "where:\n",
    "\n",
    "$$\n",
    "\\Gamma_i(\\boldsymbol{\\theta}) = \\sum_j \\frac{\\partial G_{i,j}(\\boldsymbol{\\theta})}{\\partial \\theta_j}\n",
    "$$\n",
    "\n",
    "- Preconditioner Definition\n",
    "\n",
    "$$\n",
    "G(\\boldsymbol{\\theta}_{t+1}) =\n",
    "\\mathrm{diag} \\left(\n",
    "\\boldsymbol{1} \\oslash\n",
    "\\left( \\lambda \\boldsymbol{1} + \\sqrt{V(\\boldsymbol{\\theta}_{t+1})} \\right)\n",
    "\\right)\n",
    "$$\n",
    "\n",
    "$$\n",
    "V(\\boldsymbol{\\theta}_{t+1}) =\n",
    "\\alpha V(\\boldsymbol{\\theta}_t) +\n",
    "(1 - \\alpha)\\,\n",
    "\\bar{g}(\\boldsymbol{\\theta}_t; \\mathcal{B}_t)\n",
    "\\odot\n",
    "\\bar{g}(\\boldsymbol{\\theta}_t; \\mathcal{B}_t)\n",
    "$$\n",
    "\n",
    "$$\n",
    "\\bar{g}(\\boldsymbol{\\theta}_t; \\mathcal{B}_t) =\n",
    "\\frac{1}{n} \\sum_{i=1}^{n}\n",
    "\\nabla_{\\boldsymbol{\\theta}} \\log p(y_i \\mid \\boldsymbol{\\theta}_t)\n",
    "$$\n",
    "\n"
   ]
  },
  {
   "cell_type": "markdown",
   "metadata": {
    "slideshow": {
     "slide_type": "slide"
    }
   },
   "source": [
    "### BNN training with SGLD/pSGLD\n",
    "- Define the toy problem"
   ]
  },
  {
   "cell_type": "code",
   "execution_count": 4,
   "metadata": {
    "slideshow": {
     "slide_type": "fragment"
    }
   },
   "outputs": [],
   "source": [
    "# Define a one-dimensional problem \n",
    "torch.manual_seed(0)\n",
    "def cubic_sin(x: torch.Tensor, noise_std: float = 0.1) -> torch.Tensor:\n",
    "    \n",
    "    obj = torch.sin(6*x)**3 + torch.randn_like(x) * noise_std\n",
    "    return obj.reshape((-1, 1))\n",
    "\n",
    "# get the training samples\n",
    "sample_x1 = torch.linspace(-0.8, -0.2, 16).reshape((-1, 1))\n",
    "sample_x2 = torch.linspace(0.2, 0.8, 16).reshape((-1, 1))\n",
    "sample_x = torch.cat([sample_x1, sample_x2], dim=0)\n",
    "# scale the data\n",
    "x_mean = sample_x.mean(); x_std = sample_x.std()\n",
    "sample_x_scaled = (sample_x - x_mean) / x_std\n",
    "# get the responses\n",
    "sample_y = cubic_sin(sample_x, noise_std=0.1)\n",
    "# scale the y\n",
    "y_mean = sample_y.mean(); y_std = sample_y.std()\n",
    "sample_y_scaled = (sample_y - y_mean) / y_std"
   ]
  },
  {
   "cell_type": "markdown",
   "metadata": {
    "slideshow": {
     "slide_type": "slide"
    }
   },
   "source": [
    "### Define the BNN architecture"
   ]
  },
  {
   "cell_type": "code",
   "execution_count": 5,
   "metadata": {
    "slideshow": {
     "slide_type": "fragment"
    }
   },
   "outputs": [],
   "source": [
    "\n",
    "class BNN(nn.Module):\n",
    "    \"\"\"A two layer MLP\"\"\"\n",
    "    def __init__(self,input_dim, hidden_dim, output_dim, prior_mu, prior_sigma):\n",
    "        super(BNN, self).__init__()\n",
    "        self.fc1 = nn.Linear(input_dim, hidden_dim)\n",
    "        self.fc2 = nn.Linear(hidden_dim, hidden_dim)\n",
    "        self.fc3 = nn.Linear(hidden_dim, output_dim)\n",
    "        self.prior_mu = prior_mu\n",
    "        self.prior_sigma = prior_sigma\n",
    "        \n",
    "    def forward(self, x):\n",
    "        \"\"\"A forward pass to get a prediction of a particular step\"\"\"\n",
    "        x = torch.tanh(self.fc1(x))\n",
    "        x = torch.tanh(self.fc2(x))\n",
    "        x = self.fc3(x)\n",
    "        return x\n",
    "    \n",
    "    def neg_log_prior(self):\n",
    "        prior_loss = 0\n",
    "        for m in self.modules():\n",
    "            if isinstance(m, nn.Linear):\n",
    "                # prior distribution\n",
    "                dist = torch.distributions.Normal(self.prior_mu, self.prior_sigma)\n",
    "                # prior loss\n",
    "                prior_loss = prior_loss +  dist.log_prob(m.weight).sum() + dist.log_prob(m.bias).sum()\n",
    "        return -prior_loss"
   ]
  },
  {
   "cell_type": "markdown",
   "metadata": {
    "slideshow": {
     "slide_type": "slide"
    }
   },
   "source": [
    "### Train BNN"
   ]
  },
  {
   "cell_type": "code",
   "execution_count": 6,
   "metadata": {
    "slideshow": {
     "slide_type": "fragment"
    }
   },
   "outputs": [
    {
     "name": "stderr",
     "output_type": "stream",
     "text": [
      "/tmp/ipykernel_58984/2766845948.py:109: UserWarning: This overload of addcmul_ is deprecated:\n",
      "\taddcmul_(Number value, Tensor tensor1, Tensor tensor2)\n",
      "Consider using one of the following signatures instead:\n",
      "\taddcmul_(Tensor tensor1, Tensor tensor2, *, Number value = 1) (Triggered internally at /pytorch/torch/csrc/utils/python_arg_parser.cpp:1691.)\n",
      "  V.mul_(alpha).addcmul_(1 - alpha, d_p, d_p)\n"
     ]
    },
    {
     "name": "stdout",
     "output_type": "stream",
     "text": [
      "Epoch: 0     | Negative Log Posterior: 61872.7656 | NLL: 19.1211 | Negative Log Prior: 61853.6445\n",
      "Epoch: 100   | Negative Log Posterior: 64909.3359 | NLL: -4.9258 | Negative Log Prior: 64914.2617\n",
      "Epoch: 200   | Negative Log Posterior: 67317.3516 | NLL: -17.4375 | Negative Log Prior: 67334.7891\n",
      "Epoch: 300   | Negative Log Posterior: 69554.8516 | NLL: -21.4609 | Negative Log Prior: 69576.3125\n",
      "Epoch: 400   | Negative Log Posterior: 71733.2969 | NLL: -5.5938 | Negative Log Prior: 71738.8906\n",
      "Epoch: 500   | Negative Log Posterior: 73874.6719 | NLL: -20.9531 | Negative Log Prior: 73895.6250\n",
      "Epoch: 600   | Negative Log Posterior: 75947.8906 | NLL: -28.5625 | Negative Log Prior: 75976.4531\n",
      "Epoch: 700   | Negative Log Posterior: 78020.9219 | NLL: -22.0000 | Negative Log Prior: 78042.9219\n",
      "Epoch: 800   | Negative Log Posterior: 79914.2969 | NLL: -16.5391 | Negative Log Prior: 79930.8359\n",
      "Epoch: 900   | Negative Log Posterior: 81644.2656 | NLL: -27.8984 | Negative Log Prior: 81672.1641\n",
      "Epoch: 1000  | Negative Log Posterior: 83191.3672 | NLL: -22.4688 | Negative Log Prior: 83213.8359\n",
      "Epoch: 1100  | Negative Log Posterior: 84741.9219 | NLL: -15.7969 | Negative Log Prior: 84757.7188\n",
      "Epoch: 1200  | Negative Log Posterior: 86158.6953 | NLL: 1.1016 | Negative Log Prior: 86157.5938\n",
      "Epoch: 1300  | Negative Log Posterior: 87425.8359 | NLL: 27.7188 | Negative Log Prior: 87398.1172\n",
      "Epoch: 1400  | Negative Log Posterior: 88664.2969 | NLL: -13.3828 | Negative Log Prior: 88677.6797\n",
      "Epoch: 1500  | Negative Log Posterior: 89748.7188 | NLL: -2.4609 | Negative Log Prior: 89751.1797\n",
      "Epoch: 1600  | Negative Log Posterior: 90704.4688 | NLL: -10.9219 | Negative Log Prior: 90715.3906\n",
      "Epoch: 1700  | Negative Log Posterior: 91842.4766 | NLL: 91.7969 | Negative Log Prior: 91750.6797\n",
      "Epoch: 1800  | Negative Log Posterior: 92711.0625 | NLL: -9.2109 | Negative Log Prior: 92720.2734\n",
      "Epoch: 1900  | Negative Log Posterior: 93633.6484 | NLL: -17.0391 | Negative Log Prior: 93650.6875\n",
      "Epoch: 2000  | Negative Log Posterior: 94357.0859 | NLL: -15.9062 | Negative Log Prior: 94372.9922\n",
      "Epoch: 2100  | Negative Log Posterior: 95250.3281 | NLL: 34.6172 | Negative Log Prior: 95215.7109\n",
      "Epoch: 2200  | Negative Log Posterior: 95862.8438 | NLL: -12.7266 | Negative Log Prior: 95875.5703\n",
      "Epoch: 2300  | Negative Log Posterior: 96574.5078 | NLL: 16.4062 | Negative Log Prior: 96558.1016\n",
      "Epoch: 2400  | Negative Log Posterior: 97283.7422 | NLL: 58.3203 | Negative Log Prior: 97225.4219\n",
      "Epoch: 2500  | Negative Log Posterior: 97869.3828 | NLL: 66.6875 | Negative Log Prior: 97802.6953\n",
      "Epoch: 2600  | Negative Log Posterior: 98271.1719 | NLL: -14.1406 | Negative Log Prior: 98285.3125\n",
      "Epoch: 2700  | Negative Log Posterior: 98876.4297 | NLL: -14.2969 | Negative Log Prior: 98890.7266\n",
      "Epoch: 2800  | Negative Log Posterior: 99484.0312 | NLL: -6.8828 | Negative Log Prior: 99490.9141\n",
      "Epoch: 2900  | Negative Log Posterior: 100087.6094 | NLL: 1.0859 | Negative Log Prior: 100086.5234\n",
      "Epoch: 3000  | Negative Log Posterior: 100526.0938 | NLL: -38.7266 | Negative Log Prior: 100564.8203\n",
      "Epoch: 3100  | Negative Log Posterior: 101036.4922 | NLL: 5.8125 | Negative Log Prior: 101030.6797\n",
      "Epoch: 3200  | Negative Log Posterior: 101503.9375 | NLL: -13.1094 | Negative Log Prior: 101517.0469\n",
      "Epoch: 3300  | Negative Log Posterior: 101934.6406 | NLL: 12.9219 | Negative Log Prior: 101921.7188\n",
      "Epoch: 3400  | Negative Log Posterior: 102293.0156 | NLL: -21.6953 | Negative Log Prior: 102314.7109\n",
      "Epoch: 3500  | Negative Log Posterior: 102641.2266 | NLL: -21.9453 | Negative Log Prior: 102663.1719\n",
      "Epoch: 3600  | Negative Log Posterior: 103007.8594 | NLL: -18.4766 | Negative Log Prior: 103026.3359\n",
      "Epoch: 3700  | Negative Log Posterior: 103393.8750 | NLL: 58.7500 | Negative Log Prior: 103335.1250\n",
      "Epoch: 3800  | Negative Log Posterior: 103604.8047 | NLL: -12.6641 | Negative Log Prior: 103617.4688\n",
      "Epoch: 3900  | Negative Log Posterior: 104034.6406 | NLL: 13.9766 | Negative Log Prior: 104020.6641\n",
      "Epoch: 4000  | Negative Log Posterior: 104278.0625 | NLL: -1.1250 | Negative Log Prior: 104279.1875\n",
      "Epoch: 4100  | Negative Log Posterior: 104509.1719 | NLL: -2.9609 | Negative Log Prior: 104512.1328\n",
      "Epoch: 4200  | Negative Log Posterior: 104691.4844 | NLL: -22.6797 | Negative Log Prior: 104714.1641\n",
      "Epoch: 4300  | Negative Log Posterior: 104940.8203 | NLL: 36.1016 | Negative Log Prior: 104904.7188\n",
      "Epoch: 4400  | Negative Log Posterior: 105238.7578 | NLL: 12.9453 | Negative Log Prior: 105225.8125\n",
      "Epoch: 4500  | Negative Log Posterior: 105469.3125 | NLL: -10.8828 | Negative Log Prior: 105480.1953\n",
      "Epoch: 4600  | Negative Log Posterior: 105746.5859 | NLL: 0.8906 | Negative Log Prior: 105745.6953\n",
      "Epoch: 4700  | Negative Log Posterior: 105944.0703 | NLL: -11.0156 | Negative Log Prior: 105955.0859\n",
      "Epoch: 4800  | Negative Log Posterior: 106104.9922 | NLL: 3.8203 | Negative Log Prior: 106101.1719\n",
      "Epoch: 4900  | Negative Log Posterior: 106442.0781 | NLL: 95.7109 | Negative Log Prior: 106346.3672\n",
      "Epoch: 5000  | Negative Log Posterior: 106433.7266 | NLL: -24.5078 | Negative Log Prior: 106458.2344\n",
      "Epoch: 5100  | Negative Log Posterior: 106684.3047 | NLL: -2.5234 | Negative Log Prior: 106686.8281\n",
      "Epoch: 5200  | Negative Log Posterior: 106858.0234 | NLL: -0.7031 | Negative Log Prior: 106858.7266\n",
      "Epoch: 5300  | Negative Log Posterior: 107037.2188 | NLL: 13.7891 | Negative Log Prior: 107023.4297\n",
      "Epoch: 5400  | Negative Log Posterior: 107210.8203 | NLL: 72.5234 | Negative Log Prior: 107138.2969\n",
      "Epoch: 5500  | Negative Log Posterior: 107260.5156 | NLL: -9.4531 | Negative Log Prior: 107269.9688\n",
      "Epoch: 5600  | Negative Log Posterior: 107413.8359 | NLL: 4.7969 | Negative Log Prior: 107409.0391\n",
      "Epoch: 5700  | Negative Log Posterior: 107419.2188 | NLL: -2.2188 | Negative Log Prior: 107421.4375\n",
      "Epoch: 5800  | Negative Log Posterior: 107486.6562 | NLL: -0.4609 | Negative Log Prior: 107487.1172\n",
      "Epoch: 5900  | Negative Log Posterior: 107688.7812 | NLL: 4.1641 | Negative Log Prior: 107684.6172\n",
      "Epoch: 6000  | Negative Log Posterior: 107826.0000 | NLL: -9.0781 | Negative Log Prior: 107835.0781\n",
      "Epoch: 6100  | Negative Log Posterior: 108086.7734 | NLL: 125.4375 | Negative Log Prior: 107961.3359\n",
      "Epoch: 6200  | Negative Log Posterior: 108035.8828 | NLL: 23.8984 | Negative Log Prior: 108011.9844\n",
      "Epoch: 6300  | Negative Log Posterior: 108216.3438 | NLL: 70.8438 | Negative Log Prior: 108145.5000\n",
      "Epoch: 6400  | Negative Log Posterior: 108287.8047 | NLL: -10.0156 | Negative Log Prior: 108297.8203\n",
      "Epoch: 6500  | Negative Log Posterior: 108482.9375 | NLL: 59.4375 | Negative Log Prior: 108423.5000\n",
      "Epoch: 6600  | Negative Log Posterior: 108584.5078 | NLL: 9.0078 | Negative Log Prior: 108575.5000\n",
      "Epoch: 6700  | Negative Log Posterior: 108669.6406 | NLL: 1.1953 | Negative Log Prior: 108668.4453\n",
      "Epoch: 6800  | Negative Log Posterior: 108764.0547 | NLL: -8.3594 | Negative Log Prior: 108772.4141\n",
      "Epoch: 6900  | Negative Log Posterior: 108808.8594 | NLL: -2.4922 | Negative Log Prior: 108811.3516\n",
      "Epoch: 7000  | Negative Log Posterior: 108781.1250 | NLL: 1.3828 | Negative Log Prior: 108779.7422\n",
      "Epoch: 7100  | Negative Log Posterior: 108924.5859 | NLL: 9.6406 | Negative Log Prior: 108914.9453\n",
      "Epoch: 7200  | Negative Log Posterior: 108817.5859 | NLL: -24.0469 | Negative Log Prior: 108841.6328\n",
      "Epoch: 7300  | Negative Log Posterior: 108969.1406 | NLL: 0.2812 | Negative Log Prior: 108968.8594\n",
      "Epoch: 7400  | Negative Log Posterior: 109036.1875 | NLL: -7.1953 | Negative Log Prior: 109043.3828\n",
      "Epoch: 7500  | Negative Log Posterior: 109104.1797 | NLL: 12.3516 | Negative Log Prior: 109091.8281\n",
      "Epoch: 7600  | Negative Log Posterior: 109178.9766 | NLL: -13.7422 | Negative Log Prior: 109192.7188\n",
      "Epoch: 7700  | Negative Log Posterior: 109178.9062 | NLL: -29.4688 | Negative Log Prior: 109208.3750\n",
      "Epoch: 7800  | Negative Log Posterior: 109458.9219 | NLL: 42.0938 | Negative Log Prior: 109416.8281\n",
      "Epoch: 7900  | Negative Log Posterior: 109457.0703 | NLL: -17.0781 | Negative Log Prior: 109474.1484\n",
      "Epoch: 8000  | Negative Log Posterior: 109638.7188 | NLL: -3.7969 | Negative Log Prior: 109642.5156\n",
      "Epoch: 8100  | Negative Log Posterior: 109509.3281 | NLL: -16.5859 | Negative Log Prior: 109525.9141\n",
      "Epoch: 8200  | Negative Log Posterior: 109578.1797 | NLL: 4.1016 | Negative Log Prior: 109574.0781\n",
      "Epoch: 8300  | Negative Log Posterior: 109527.0547 | NLL: 0.1797 | Negative Log Prior: 109526.8750\n"
     ]
    },
    {
     "name": "stdout",
     "output_type": "stream",
     "text": [
      "Epoch: 8400  | Negative Log Posterior: 109332.4219 | NLL: 3.9531 | Negative Log Prior: 109328.4688\n",
      "Epoch: 8500  | Negative Log Posterior: 109272.8438 | NLL: 15.7344 | Negative Log Prior: 109257.1094\n",
      "Epoch: 8600  | Negative Log Posterior: 109311.2734 | NLL: 28.6484 | Negative Log Prior: 109282.6250\n",
      "Epoch: 8700  | Negative Log Posterior: 109282.0156 | NLL: 52.6953 | Negative Log Prior: 109229.3203\n",
      "Epoch: 8800  | Negative Log Posterior: 109192.6016 | NLL: -0.0391 | Negative Log Prior: 109192.6406\n",
      "Epoch: 8900  | Negative Log Posterior: 109230.9766 | NLL: 28.1250 | Negative Log Prior: 109202.8516\n",
      "Epoch: 9000  | Negative Log Posterior: 109227.3438 | NLL: 16.7656 | Negative Log Prior: 109210.5781\n",
      "Epoch: 9100  | Negative Log Posterior: 109210.5078 | NLL: 9.4062 | Negative Log Prior: 109201.1016\n",
      "Epoch: 9200  | Negative Log Posterior: 109204.3359 | NLL: 19.2969 | Negative Log Prior: 109185.0391\n",
      "Epoch: 9300  | Negative Log Posterior: 109123.6250 | NLL: 13.4062 | Negative Log Prior: 109110.2188\n",
      "Epoch: 9400  | Negative Log Posterior: 109137.3516 | NLL: -15.6250 | Negative Log Prior: 109152.9766\n",
      "Epoch: 9500  | Negative Log Posterior: 109099.6641 | NLL: 9.7578 | Negative Log Prior: 109089.9062\n",
      "Epoch: 9600  | Negative Log Posterior: 109105.0625 | NLL: -10.6875 | Negative Log Prior: 109115.7500\n",
      "Epoch: 9700  | Negative Log Posterior: 109165.5234 | NLL: -13.9688 | Negative Log Prior: 109179.4922\n",
      "Epoch: 9800  | Negative Log Posterior: 109293.9297 | NLL: 12.6875 | Negative Log Prior: 109281.2422\n",
      "Epoch: 9900  | Negative Log Posterior: 109437.3438 | NLL: 39.9062 | Negative Log Prior: 109397.4375\n",
      "Epoch: 10000 | Negative Log Posterior: 109407.0625 | NLL: 42.4062 | Negative Log Prior: 109364.6562\n",
      "Epoch: 10100 | Negative Log Posterior: 109383.7656 | NLL: -17.1406 | Negative Log Prior: 109400.9062\n",
      "Epoch: 10200 | Negative Log Posterior: 109378.7734 | NLL: 89.7969 | Negative Log Prior: 109288.9766\n",
      "Epoch: 10300 | Negative Log Posterior: 109269.1641 | NLL: 17.0625 | Negative Log Prior: 109252.1016\n",
      "Epoch: 10400 | Negative Log Posterior: 109149.9922 | NLL: -11.1562 | Negative Log Prior: 109161.1484\n",
      "Epoch: 10500 | Negative Log Posterior: 109142.7266 | NLL: 17.4453 | Negative Log Prior: 109125.2812\n",
      "Epoch: 10600 | Negative Log Posterior: 109116.9766 | NLL: 29.3672 | Negative Log Prior: 109087.6094\n",
      "Epoch: 10700 | Negative Log Posterior: 109039.4219 | NLL: 19.3828 | Negative Log Prior: 109020.0391\n",
      "Epoch: 10800 | Negative Log Posterior: 109013.0469 | NLL: 12.8438 | Negative Log Prior: 109000.2031\n",
      "Epoch: 10900 | Negative Log Posterior: 109050.8047 | NLL: 52.5391 | Negative Log Prior: 108998.2656\n",
      "Epoch: 11000 | Negative Log Posterior: 109049.5391 | NLL: -14.0547 | Negative Log Prior: 109063.5938\n",
      "Epoch: 11100 | Negative Log Posterior: 109030.1719 | NLL: -16.0781 | Negative Log Prior: 109046.2500\n",
      "Epoch: 11200 | Negative Log Posterior: 108999.4531 | NLL: 1.9688 | Negative Log Prior: 108997.4844\n",
      "Epoch: 11300 | Negative Log Posterior: 108998.9688 | NLL: -15.7500 | Negative Log Prior: 109014.7188\n",
      "Epoch: 11400 | Negative Log Posterior: 108948.0938 | NLL: -8.7031 | Negative Log Prior: 108956.7969\n",
      "Epoch: 11500 | Negative Log Posterior: 108880.3984 | NLL: 9.2578 | Negative Log Prior: 108871.1406\n",
      "Epoch: 11600 | Negative Log Posterior: 109030.6016 | NLL: 58.6797 | Negative Log Prior: 108971.9219\n",
      "Epoch: 11700 | Negative Log Posterior: 109022.0234 | NLL: 6.7422 | Negative Log Prior: 109015.2812\n",
      "Epoch: 11800 | Negative Log Posterior: 109013.4375 | NLL: 124.1484 | Negative Log Prior: 108889.2891\n",
      "Epoch: 11900 | Negative Log Posterior: 108749.9922 | NLL: -14.0703 | Negative Log Prior: 108764.0625\n",
      "Epoch: 12000 | Negative Log Posterior: 108854.1172 | NLL: 27.2969 | Negative Log Prior: 108826.8203\n",
      "Epoch: 12100 | Negative Log Posterior: 108861.9375 | NLL: 67.4297 | Negative Log Prior: 108794.5078\n",
      "Epoch: 12200 | Negative Log Posterior: 108974.9141 | NLL: 86.2344 | Negative Log Prior: 108888.6797\n",
      "Epoch: 12300 | Negative Log Posterior: 108842.7734 | NLL: 73.1797 | Negative Log Prior: 108769.5938\n",
      "Epoch: 12400 | Negative Log Posterior: 108803.3125 | NLL: -27.1250 | Negative Log Prior: 108830.4375\n",
      "Epoch: 12500 | Negative Log Posterior: 109016.8672 | NLL: 254.8359 | Negative Log Prior: 108762.0312\n",
      "Epoch: 12600 | Negative Log Posterior: 108768.2344 | NLL: -8.7031 | Negative Log Prior: 108776.9375\n",
      "Epoch: 12700 | Negative Log Posterior: 108708.8047 | NLL: 34.4375 | Negative Log Prior: 108674.3672\n",
      "Epoch: 12800 | Negative Log Posterior: 108713.6797 | NLL: -2.3516 | Negative Log Prior: 108716.0312\n",
      "Epoch: 12900 | Negative Log Posterior: 108757.0000 | NLL: 29.9922 | Negative Log Prior: 108727.0078\n",
      "Epoch: 13000 | Negative Log Posterior: 108757.9688 | NLL: 9.7188 | Negative Log Prior: 108748.2500\n",
      "Epoch: 13100 | Negative Log Posterior: 108815.2031 | NLL: 124.6328 | Negative Log Prior: 108690.5703\n",
      "Epoch: 13200 | Negative Log Posterior: 108724.1016 | NLL: 10.3047 | Negative Log Prior: 108713.7969\n",
      "Epoch: 13300 | Negative Log Posterior: 108863.9531 | NLL: 134.6484 | Negative Log Prior: 108729.3047\n",
      "Epoch: 13400 | Negative Log Posterior: 108706.8672 | NLL: 42.1250 | Negative Log Prior: 108664.7422\n",
      "Epoch: 13500 | Negative Log Posterior: 108795.7266 | NLL: 2.8906 | Negative Log Prior: 108792.8359\n",
      "Epoch: 13600 | Negative Log Posterior: 108784.4609 | NLL: 27.2344 | Negative Log Prior: 108757.2266\n",
      "Epoch: 13700 | Negative Log Posterior: 108658.8047 | NLL: 0.0391 | Negative Log Prior: 108658.7656\n",
      "Epoch: 13800 | Negative Log Posterior: 108555.9062 | NLL: 50.7734 | Negative Log Prior: 108505.1328\n",
      "Epoch: 13900 | Negative Log Posterior: 108518.2109 | NLL: 26.0078 | Negative Log Prior: 108492.2031\n",
      "Epoch: 14000 | Negative Log Posterior: 108437.0547 | NLL: -12.5781 | Negative Log Prior: 108449.6328\n",
      "Epoch: 14100 | Negative Log Posterior: 108525.8438 | NLL: -10.4766 | Negative Log Prior: 108536.3203\n",
      "Epoch: 14200 | Negative Log Posterior: 108660.9922 | NLL: 8.7578 | Negative Log Prior: 108652.2344\n",
      "Epoch: 14300 | Negative Log Posterior: 108711.8672 | NLL: -0.7891 | Negative Log Prior: 108712.6562\n",
      "Epoch: 14400 | Negative Log Posterior: 108889.0859 | NLL: 14.1406 | Negative Log Prior: 108874.9453\n",
      "Epoch: 14500 | Negative Log Posterior: 108943.5781 | NLL: 64.2266 | Negative Log Prior: 108879.3516\n",
      "Epoch: 14600 | Negative Log Posterior: 108879.2578 | NLL: 4.2188 | Negative Log Prior: 108875.0391\n",
      "Epoch: 14700 | Negative Log Posterior: 108919.5859 | NLL: -8.9453 | Negative Log Prior: 108928.5312\n",
      "Epoch: 14800 | Negative Log Posterior: 109261.6641 | NLL: 239.3359 | Negative Log Prior: 109022.3281\n",
      "Epoch: 14900 | Negative Log Posterior: 109007.0234 | NLL: 7.0469 | Negative Log Prior: 108999.9766\n",
      "Epoch: 15000 | Negative Log Posterior: 109090.8906 | NLL: 51.0156 | Negative Log Prior: 109039.8750\n",
      "Epoch: 15100 | Negative Log Posterior: 109034.3281 | NLL: -8.0391 | Negative Log Prior: 109042.3672\n",
      "Epoch: 15200 | Negative Log Posterior: 109186.3359 | NLL: 118.3281 | Negative Log Prior: 109068.0078\n",
      "Epoch: 15300 | Negative Log Posterior: 109132.5938 | NLL: 16.6328 | Negative Log Prior: 109115.9609\n",
      "Epoch: 15400 | Negative Log Posterior: 109189.5078 | NLL: 42.1641 | Negative Log Prior: 109147.3438\n",
      "Epoch: 15500 | Negative Log Posterior: 109110.3828 | NLL: -8.4375 | Negative Log Prior: 109118.8203\n",
      "Epoch: 15600 | Negative Log Posterior: 109131.4375 | NLL: 19.0234 | Negative Log Prior: 109112.4141\n",
      "Epoch: 15700 | Negative Log Posterior: 109001.3359 | NLL: -9.9062 | Negative Log Prior: 109011.2422\n",
      "Epoch: 15800 | Negative Log Posterior: 109016.9453 | NLL: 0.8672 | Negative Log Prior: 109016.0781\n",
      "Epoch: 15900 | Negative Log Posterior: 108967.3359 | NLL: -23.6328 | Negative Log Prior: 108990.9688\n",
      "Epoch: 16000 | Negative Log Posterior: 108968.8125 | NLL: 8.3672 | Negative Log Prior: 108960.4453\n",
      "Epoch: 16100 | Negative Log Posterior: 109006.3438 | NLL: 126.9219 | Negative Log Prior: 108879.4219\n",
      "Epoch: 16200 | Negative Log Posterior: 108962.8984 | NLL: 84.7344 | Negative Log Prior: 108878.1641\n",
      "Epoch: 16300 | Negative Log Posterior: 108848.8750 | NLL: 1.5156 | Negative Log Prior: 108847.3594\n",
      "Epoch: 16400 | Negative Log Posterior: 108851.4062 | NLL: 16.8125 | Negative Log Prior: 108834.5938\n",
      "Epoch: 16500 | Negative Log Posterior: 108854.2109 | NLL: 9.1797 | Negative Log Prior: 108845.0312\n"
     ]
    },
    {
     "name": "stdout",
     "output_type": "stream",
     "text": [
      "Epoch: 16600 | Negative Log Posterior: 108804.7109 | NLL: -4.3359 | Negative Log Prior: 108809.0469\n",
      "Epoch: 16700 | Negative Log Posterior: 108806.0391 | NLL: -4.9219 | Negative Log Prior: 108810.9609\n",
      "Epoch: 16800 | Negative Log Posterior: 108816.9453 | NLL: 23.3984 | Negative Log Prior: 108793.5469\n",
      "Epoch: 16900 | Negative Log Posterior: 108765.9219 | NLL: 16.1172 | Negative Log Prior: 108749.8047\n",
      "Epoch: 17000 | Negative Log Posterior: 108746.5000 | NLL: 13.8828 | Negative Log Prior: 108732.6172\n",
      "Epoch: 17100 | Negative Log Posterior: 108815.7266 | NLL: 61.1406 | Negative Log Prior: 108754.5859\n",
      "Epoch: 17200 | Negative Log Posterior: 108709.9297 | NLL: 33.9531 | Negative Log Prior: 108675.9766\n",
      "Epoch: 17300 | Negative Log Posterior: 108695.3203 | NLL: -5.0312 | Negative Log Prior: 108700.3516\n",
      "Epoch: 17400 | Negative Log Posterior: 108827.0859 | NLL: 15.7734 | Negative Log Prior: 108811.3125\n",
      "Epoch: 17500 | Negative Log Posterior: 108711.1094 | NLL: -2.3047 | Negative Log Prior: 108713.4141\n",
      "Epoch: 17600 | Negative Log Posterior: 108782.7031 | NLL: 67.3594 | Negative Log Prior: 108715.3438\n",
      "Epoch: 17700 | Negative Log Posterior: 108711.2031 | NLL: 12.4375 | Negative Log Prior: 108698.7656\n",
      "Epoch: 17800 | Negative Log Posterior: 108689.5859 | NLL: -15.7500 | Negative Log Prior: 108705.3359\n",
      "Epoch: 17900 | Negative Log Posterior: 108785.3672 | NLL: -6.0312 | Negative Log Prior: 108791.3984\n",
      "Epoch: 18000 | Negative Log Posterior: 108771.3281 | NLL: 8.4844 | Negative Log Prior: 108762.8438\n",
      "Epoch: 18100 | Negative Log Posterior: 108802.7266 | NLL: -13.3281 | Negative Log Prior: 108816.0547\n",
      "Epoch: 18200 | Negative Log Posterior: 108840.9453 | NLL: 0.2812 | Negative Log Prior: 108840.6641\n",
      "Epoch: 18300 | Negative Log Posterior: 108919.6250 | NLL: 69.7500 | Negative Log Prior: 108849.8750\n",
      "Epoch: 18400 | Negative Log Posterior: 108841.1875 | NLL: 37.9297 | Negative Log Prior: 108803.2578\n",
      "Epoch: 18500 | Negative Log Posterior: 108935.9141 | NLL: 41.1250 | Negative Log Prior: 108894.7891\n",
      "Epoch: 18600 | Negative Log Posterior: 108899.1406 | NLL: 3.4297 | Negative Log Prior: 108895.7109\n",
      "Epoch: 18700 | Negative Log Posterior: 108831.9609 | NLL: -25.8906 | Negative Log Prior: 108857.8516\n",
      "Epoch: 18800 | Negative Log Posterior: 108952.9375 | NLL: 42.3125 | Negative Log Prior: 108910.6250\n",
      "Epoch: 18900 | Negative Log Posterior: 108973.0469 | NLL: -11.0469 | Negative Log Prior: 108984.0938\n",
      "Epoch: 19000 | Negative Log Posterior: 108969.0859 | NLL: 6.3984 | Negative Log Prior: 108962.6875\n",
      "Epoch: 19100 | Negative Log Posterior: 109031.9297 | NLL: -7.7344 | Negative Log Prior: 109039.6641\n",
      "Epoch: 19200 | Negative Log Posterior: 109089.1719 | NLL: -1.9375 | Negative Log Prior: 109091.1094\n",
      "Epoch: 19300 | Negative Log Posterior: 109153.1953 | NLL: 26.4844 | Negative Log Prior: 109126.7109\n",
      "Epoch: 19400 | Negative Log Posterior: 109091.9062 | NLL: 36.3594 | Negative Log Prior: 109055.5469\n",
      "Epoch: 19500 | Negative Log Posterior: 109118.0781 | NLL: -11.2109 | Negative Log Prior: 109129.2891\n",
      "Epoch: 19600 | Negative Log Posterior: 109074.4688 | NLL: -8.2266 | Negative Log Prior: 109082.6953\n",
      "Epoch: 19700 | Negative Log Posterior: 108977.5781 | NLL: -5.3438 | Negative Log Prior: 108982.9219\n",
      "Epoch: 19800 | Negative Log Posterior: 109022.3672 | NLL: 12.8203 | Negative Log Prior: 109009.5469\n",
      "Epoch: 19900 | Negative Log Posterior: 108929.0781 | NLL: -5.8984 | Negative Log Prior: 108934.9766\n",
      "Epoch: 20000 | Negative Log Posterior: 108995.4219 | NLL: -21.4297 | Negative Log Prior: 109016.8516\n",
      "Epoch: 20100 | Negative Log Posterior: 109039.6094 | NLL: 3.1562 | Negative Log Prior: 109036.4531\n",
      "Epoch: 20200 | Negative Log Posterior: 108899.8594 | NLL: -0.1094 | Negative Log Prior: 108899.9688\n",
      "Epoch: 20300 | Negative Log Posterior: 108892.5312 | NLL: 7.2891 | Negative Log Prior: 108885.2422\n",
      "Epoch: 20400 | Negative Log Posterior: 108867.8281 | NLL: 5.8203 | Negative Log Prior: 108862.0078\n"
     ]
    }
   ],
   "source": [
    "# define the nueral architecture, the prior distribution of weights is N(0,1^2)\n",
    "network = BNN(input_dim=1, hidden_dim=256, output_dim=1, prior_mu=0.0, prior_sigma=1.0)\n",
    "model = BNN_Sampler(model=network, sigma=0.1/y_std) # the sigma is the standard deviation of data uncertainty (known)\n",
    "# define your sampler\n",
    "model.define_sampler(name='psgld', lr=0.001)\n",
    "# train your model\n",
    "model.train(sample_x_scaled, sample_y_scaled, burn_in=500, sample_freq=20, sample_num=1000)"
   ]
  },
  {
   "cell_type": "code",
   "execution_count": 17,
   "metadata": {
    "scrolled": true,
    "slideshow": {
     "slide_type": "skip"
    }
   },
   "outputs": [],
   "source": [
    "import numpy as np\n",
    "import matplotlib.pyplot as plt\n",
    "\n",
    "def plot_prediction():\n",
    "    test_x = torch.linspace(-1, 1, 100).reshape((-1, 1))\n",
    "    # scale \n",
    "    test_x_scaled = (test_x-x_mean)/x_std.numpy()\n",
    "    test_y = cubic_sin(test_x, noise_std=0)  # ground truth\n",
    "\n",
    "    # code here to visualize your result\n",
    "    pred_mean, epistemic = model.predict(test_x_scaled)\n",
    "    # scale it back \n",
    "    pred_mean = pred_mean*y_std.numpy() + y_mean.numpy()\n",
    "    epistemic = epistemic*y_std.numpy()\n",
    "    # plot the result\n",
    "    fig, ax = plt.subplots(1,2, figsize=(10,4))\n",
    "    ax[0].plot(test_x.numpy(), test_y.numpy(),'--', linewidth=2, color='gray',label='True Function')\n",
    "    ax[0].plot(test_x.numpy(), pred_mean, color='b', label='Prediction')\n",
    "    ax[0].fill_between(test_x.numpy().reshape(-1), pred_mean.reshape(-1) - 1.96*epistemic.reshape(-1),\n",
    "                     pred_mean.reshape(-1) + 1.96*epistemic.reshape(-1), alpha=0.2, label='Epistemic')\n",
    "    ax[0].scatter(sample_x.numpy(), sample_y.numpy(), marker='o', s=40, label='Training Data')\n",
    "    ax[0].set_xlabel('x')\n",
    "    ax[0].set_ylabel('y')\n",
    "    \n",
    "    ax[0].legend()\n",
    "    ax[1].plot(model.log_likelihood, 'o')\n",
    "    ax[1].set_xlabel('Order of Posterior samples')\n",
    "    ax[1].set_ylabel('NLL')"
   ]
  },
  {
   "cell_type": "code",
   "execution_count": 18,
   "metadata": {
    "slideshow": {
     "slide_type": "slide"
    }
   },
   "outputs": [
    {
     "name": "stderr",
     "output_type": "stream",
     "text": [
      "/tmp/ipykernel_58984/818723766.py:7: DeprecationWarning: __array_wrap__ must accept context and return_scalar arguments (positionally) in the future. (Deprecated NumPy 2.0)\n",
      "  test_x_scaled = (test_x-x_mean)/x_std.numpy()\n"
     ]
    },
    {
     "data": {
      "image/png": "[encoded data removed]",
      "text/plain": [
       "<Figure size 1000x400 with 2 Axes>"
      ]
     },
     "metadata": {},
     "output_type": "display_data"
    }
   ],
   "source": [
    "plot_prediction()"
   ]
  },
  {
   "cell_type": "markdown",
   "metadata": {
    "slideshow": {
     "slide_type": "slide"
    }
   },
   "source": [
    "### See you next class\n",
    "\n",
    "Have fun!"
   ]
  }
 ],
 "metadata": {
  "celltoolbar": "Slideshow",
  "hide_code_all_hidden": false,
  "kernelspec": {
   "display_name": "Python (3dasm)",
   "language": "python",
   "name": "3dasm"
  },
  "language_info": {
   "codemirror_mode": {
    "name": "ipython",
    "version": 3
   },
   "file_extension": ".py",
   "mimetype": "text/x-python",
   "name": "python",
   "nbconvert_exporter": "python",
   "pygments_lexer": "ipython3",
   "version": "3.10.18"
  }
 },
 "nbformat": 4,
 "nbformat_minor": 4
}

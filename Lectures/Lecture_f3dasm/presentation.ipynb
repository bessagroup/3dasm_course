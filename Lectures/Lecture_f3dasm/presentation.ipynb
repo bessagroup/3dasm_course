{
 "cells": [
  {
   "cell_type": "markdown",
   "id": "02afc16b",
   "metadata": {
    "slideshow": {
     "slide_type": "slide"
    }
   },
   "source": [
    "<img src=./img/Brown_logo.svg width=30%>\n",
    "\n",
    "# F3DASM: Framework for Data-Driven Design & Analysis of Structures & Materials\n",
    "\n",
    "https://github.com/bessagroup/f3dasm\n",
    "\n",
    "### Martin van der Schelling | <a href = \"mailto: martin_van_der_schelling@brown.edu\">martin_van_der_schelling@brown.edu</a>  | PhD candidate"
   ]
  },
  {
   "cell_type": "markdown",
   "id": "44553c83",
   "metadata": {
    "slideshow": {
     "slide_type": "slide"
    }
   },
   "source": [
    "## Outline of today"
   ]
  },
  {
   "cell_type": "markdown",
   "id": "7ea87d52",
   "metadata": {
    "slideshow": {
     "slide_type": "fragment"
    }
   },
   "source": [
    "### Presentation\n",
    "\n",
    "* Motivation & Challenges\n",
    "* What's in the box?"
   ]
  },
  {
   "cell_type": "markdown",
   "id": "ef058087",
   "metadata": {
    "slideshow": {
     "slide_type": "fragment"
    }
   },
   "source": [
    "### Practical session"
   ]
  },
  {
   "cell_type": "markdown",
   "id": "6fe9ac3a",
   "metadata": {
    "slideshow": {
     "slide_type": "slide"
    }
   },
   "source": [
    "# Motivation\n",
    "\n",
    "* Continuous search for the most efficient design based on specific criteria.\n",
    "* High-dimensional solution space due to the **overwhelming number of potential combinations**\n",
    "* Challenge to **accelerate** the optimization process. \n",
    "* Impractical to conduct experimental investigations of each concept. \n",
    "* Data-driven computational analyses"
   ]
  },
  {
   "cell_type": "code",
   "execution_count": 1,
   "id": "eeab467d",
   "metadata": {
    "slideshow": {
     "slide_type": "notes"
    }
   },
   "outputs": [],
   "source": [
    "from IPython.display import Video"
   ]
  },
  {
   "cell_type": "markdown",
   "id": "7e7804e4",
   "metadata": {
    "slideshow": {
     "slide_type": "subslide"
    }
   },
   "source": [
    "<img src=./img/schematics/supercompressible_icon.png width=5%, align='right'>\n",
    "\n",
    "## Example 1: Designing Supercompressible materials"
   ]
  },
  {
   "cell_type": "code",
   "execution_count": 2,
   "id": "ada7f960",
   "metadata": {
    "slideshow": {
     "slide_type": "-"
    }
   },
   "outputs": [
    {
     "data": {
      "text/html": [
       "<video src=\"./video/fragile_becomes_supercompressible.mp4\" controls  width=\"1024\"  height=\"576\">\n",
       "      Your browser does not support the <code>video</code> element.\n",
       "    </video>"
      ],
      "text/plain": [
       "<IPython.core.display.Video object>"
      ]
     },
     "execution_count": 2,
     "metadata": {},
     "output_type": "execute_result"
    }
   ],
   "source": [
    "Video(\"./video/fragile_becomes_supercompressible.mp4\", width=1024, height=576)"
   ]
  },
  {
   "cell_type": "markdown",
   "id": "cefa5109",
   "metadata": {},
   "source": [
    "*Bessa, M. A., Glowacki, P., & Houlder, M. (2019). Bayesian Machine Learning in Metamaterial Design: Fragile Becomes Supercompressible. Advanced Materials, 31(48), 1–6. https://doi.org/10.1002/adma.201904845*"
   ]
  },
  {
   "cell_type": "markdown",
   "id": "624209aa",
   "metadata": {
    "slideshow": {
     "slide_type": "subslide"
    }
   },
   "source": [
    "<img src=./img/schematics/supercompressible_icon.png width=5%, align='right'>\n",
    "\n",
    "## Example 1: Designing Supercompressible materials\n",
    "\n",
    "<img src=./img/supercompressible/process.png width=60%, align='left'>\n",
    "\n",
    "<img src=./img/supercompressible/schematic.png width=30%, align='right'>\n",
    "\n",
    "<!-- <br><br><br><br><br><br><br><br><br><br><br><br><br><br><br> -->\n",
    "\n",
    "* Parametrizing your structure from a concept\n",
    "* Sampling designs\n",
    "* Run finite element simulation (ABAQUS)\n",
    "* Learn the objective for the full range of designs\n",
    "* Manufacture your found optimum"
   ]
  },
  {
   "cell_type": "markdown",
   "id": "fe55d14b",
   "metadata": {
    "slideshow": {
     "slide_type": "subslide"
    }
   },
   "source": [
    "<img src=./img/schematics/l2o_icon.png width=5%, align='right'>\n",
    "\n",
    "## Example 2: Learning to Choose Optimizers\n",
    "\n",
    "<img src=./img/l2o/Adam.gif width=40%, align='right'>\n",
    "\n",
    "\n",
    "\n",
    "<img src=./img/functions/Sphere.png width=15%, align='left'><img src=./img/functions/Schwefel.png width=15%, align='left'>\n",
    "\n",
    "<img src=./img/l2o/optimization.png width=30%, align='left'>\n",
    "\n",
    "\n",
    "* Optimizers performance is dependent on the loss-landscape characteristics\n",
    "* No 'one optimizer to rule them all'\n",
    "* Learn a model to determine the training dynamics in a data-driven manner"
   ]
  },
  {
   "cell_type": "markdown",
   "id": "9e7727c3",
   "metadata": {
    "slideshow": {
     "slide_type": "subslide"
    }
   },
   "source": [
    "## Data-driven process\n",
    "\n",
    "Closer look at the two examples:\n",
    "\n",
    "<img src=./img/schematics/supercompressible.png width=100%>"
   ]
  },
  {
   "cell_type": "markdown",
   "id": "8e6a2e08",
   "metadata": {
    "slideshow": {
     "slide_type": "fragment"
    }
   },
   "source": [
    "<img src=./img/schematics/l2co.png width=100%>\n",
    "\n",
    "Looks like completely different studies .."
   ]
  },
  {
   "cell_type": "markdown",
   "id": "424ef037",
   "metadata": {
    "slideshow": {
     "slide_type": "subslide"
    }
   },
   "source": [
    "## Data-driven process\n",
    "\n",
    "Common *elements* in the data-driven process:\n",
    "\n",
    "<img src=./img/schematics/blocks.png width=100%>"
   ]
  },
  {
   "cell_type": "markdown",
   "id": "c83ca292",
   "metadata": {
    "slideshow": {
     "slide_type": "fragment"
    }
   },
   "source": [
    "* **Design of experiments**, in which input variables describing the microstructure, structure, properties and external conditions of the system to be evaluated are determined and sampled;"
   ]
  },
  {
   "cell_type": "markdown",
   "id": "e7e0b13f",
   "metadata": {
    "slideshow": {
     "slide_type": "fragment"
    }
   },
   "source": [
    "* **Data generation**, typically through computational analysis, resulting in the creation of a material response database;"
   ]
  },
  {
   "cell_type": "markdown",
   "id": "d86cb4f3",
   "metadata": {
    "slideshow": {
     "slide_type": "fragment"
    }
   },
   "source": [
    "* **Machine learning**, in which a surrogate model is trained to fit experimental findings;"
   ]
  },
  {
   "cell_type": "markdown",
   "id": "d522df59",
   "metadata": {
    "slideshow": {
     "slide_type": "fragment"
    }
   },
   "source": [
    "* **Optimization**, where we try to iteratively improve the model to obtain a superior design."
   ]
  },
  {
   "cell_type": "markdown",
   "id": "9423d341",
   "metadata": {
    "slideshow": {
     "slide_type": "subslide"
    }
   },
   "source": [
    "<img src=./img/schematics/blocks.png width=100%>\n",
    "\n",
    "<br>\n",
    "\n",
    "<img src=./img/schematics/supercompressible_colored.png width=100%>\n",
    "\n",
    "<img src=./img/schematics/l2co_colored.png width=100%>"
   ]
  },
  {
   "cell_type": "markdown",
   "id": "879de459",
   "metadata": {
    "slideshow": {
     "slide_type": "slide"
    }
   },
   "source": [
    "## Challenge\n",
    "\n",
    "* Not all data-driven processes are the same ..\n",
    "* Conservative when it comes to **openly sharing databases and software**. \n",
    "* Numerous machine-learning packages.\n",
    "* ... we are not all software engineers"
   ]
  },
  {
   "cell_type": "markdown",
   "id": "4d12e510",
   "metadata": {
    "slideshow": {
     "slide_type": "fragment"
    }
   },
   "source": [
    "Unified interface for the data-driven process so that researchers do not have to ‘reinvent the wheel’ for common procedures:\n",
    "\n",
    "* Parallelization\n",
    "* Data management\n",
    "* Comparing and benchmarking state-of-the-art methods "
   ]
  },
  {
   "cell_type": "markdown",
   "id": "4e960cc4",
   "metadata": {
    "slideshow": {
     "slide_type": "slide"
    }
   },
   "source": [
    "\n",
    "# ``f3dasm``: Framework for Data-Driven Design & Analysis of Structures & Materials\n",
    "\n",
    "https://github.com/bessagroup/f3dasm"
   ]
  },
  {
   "cell_type": "markdown",
   "id": "6ad4a60b",
   "metadata": {
    "slideshow": {
     "slide_type": "subslide"
    }
   },
   "source": [
    "## What's in the box?\n",
    "\n",
    "* Python open-source package hosted on [PyPI](https://pypi.org/project/f3dasm/):\n",
    "\n",
    "```\n",
    "pip install f3dasm\n",
    "```"
   ]
  },
  {
   "cell_type": "markdown",
   "id": "896bf820",
   "metadata": {
    "slideshow": {
     "slide_type": "fragment"
    }
   },
   "source": [
    "✅ Compatible with the **three major operating systems** and **Python 3.7+**"
   ]
  },
  {
   "cell_type": "markdown",
   "id": "61fd0694",
   "metadata": {
    "slideshow": {
     "slide_type": "fragment"
    }
   },
   "source": [
    "⭐ User-friendly **interfaces** for each of the stages in the data-driven process"
   ]
  },
  {
   "cell_type": "markdown",
   "id": "48867a88",
   "metadata": {
    "slideshow": {
     "slide_type": "fragment"
    }
   },
   "source": [
    "🏃‍♂️ Built-in **defaults** for getting started right away! "
   ]
  },
  {
   "cell_type": "markdown",
   "id": "7f3cacad",
   "metadata": {
    "slideshow": {
     "slide_type": "fragment"
    }
   },
   "source": [
    "📈 Easy parallelization on **high-performance computing systems**"
   ]
  },
  {
   "cell_type": "markdown",
   "id": "e3e1cc8c",
   "metadata": {
    "slideshow": {
     "slide_type": "fragment"
    }
   },
   "source": [
    "💾 Automatic **data-management** of your experiments"
   ]
  },
  {
   "cell_type": "markdown",
   "id": "c70fccb9",
   "metadata": {
    "slideshow": {
     "slide_type": "subslide"
    }
   },
   "source": [
    "### Documentation\n",
    "\n",
    "📖 Extensive [online documentation](https://bessagroup.github.io/f3dasm/)\n",
    "* Installation instructions\n",
    "* Getting started guide\n",
    "* In-depth explanation of each part of the data-driven process\n",
    "* Complete API documentation on every function and class\n",
    "\n",
    "<img src=./img/sphinx.png width=50%>\n"
   ]
  },
  {
   "cell_type": "markdown",
   "id": "357e294d",
   "metadata": {
    "slideshow": {
     "slide_type": "slide"
    }
   },
   "source": [
    "## Practical session\n",
    "\n",
    "\n",
    "<img src=./img/schematics/practical_session.png width=80%, align='center'>"
   ]
  },
  {
   "cell_type": "code",
   "execution_count": 3,
   "id": "4dc859dd",
   "metadata": {
    "slideshow": {
     "slide_type": "notes"
    }
   },
   "outputs": [],
   "source": [
    "import matplotlib.pyplot as plt\n",
    "import seaborn as sns\n",
    "import pandas as pd"
   ]
  },
  {
   "cell_type": "code",
   "execution_count": 4,
   "id": "904ae93c",
   "metadata": {},
   "outputs": [
    {
     "name": "stderr",
     "output_type": "stream",
     "text": [
      "2023-10-09 13:07:41,396 - f3dasm - INFO - Imported f3dasm (version: 1.4.1)\n"
     ]
    }
   ],
   "source": [
    "import f3dasm"
   ]
  },
  {
   "cell_type": "markdown",
   "id": "2fe1ed27",
   "metadata": {
    "slideshow": {
     "slide_type": "slide"
    }
   },
   "source": [
    "<img src=./img/schematics/block_domain.png width=10%, align='right'>\n",
    "\n",
    "## 1. Design-of-Experiments\n",
    "\n",
    "\n",
    "* Parameters are singular features of the input search space. They are used to define the search space of the design.\n",
    "* The ``Domain`` is a set of ``Parameter`` instances that make up the feasible search space.\n",
    "\n",
    "<img src=./img/f3dasm-domain.png width=60%>"
   ]
  },
  {
   "cell_type": "markdown",
   "id": "dd3679a4",
   "metadata": {
    "slideshow": {
     "slide_type": "subslide"
    }
   },
   "source": [
    "<img src=./img/schematics/block_domain.png width=10%, align='right'>\n",
    "\n",
    "We can import the ``Domain`` object from the `f3dasm.design` submodule"
   ]
  },
  {
   "cell_type": "code",
   "execution_count": 5,
   "id": "bc9c4ec8",
   "metadata": {
    "slideshow": {
     "slide_type": "fragment"
    }
   },
   "outputs": [],
   "source": [
    "from f3dasm.design import Domain"
   ]
  },
  {
   "cell_type": "markdown",
   "id": "a9d44786",
   "metadata": {
    "slideshow": {
     "slide_type": "fragment"
    }
   },
   "source": [
    "We create a new `Domain` object:"
   ]
  },
  {
   "cell_type": "code",
   "execution_count": 6,
   "id": "8b0046f9",
   "metadata": {
    "slideshow": {
     "slide_type": "fragment"
    }
   },
   "outputs": [],
   "source": [
    "domain = Domain()"
   ]
  },
  {
   "cell_type": "markdown",
   "id": "9a5b4942",
   "metadata": {
    "slideshow": {
     "slide_type": "fragment"
    }
   },
   "source": [
    "You can add various parameters with the ``add_float``, ``add_int``, ``add_category`` and ``add_constant`` methods:"
   ]
  },
  {
   "cell_type": "code",
   "execution_count": 7,
   "id": "81b195dc",
   "metadata": {
    "slideshow": {
     "slide_type": "fragment"
    }
   },
   "outputs": [
    {
     "data": {
      "text/plain": [
       "Domain(space={'x0': ContinuousParameter(lower_bound=0.0, upper_bound=1.0, log=False), 'x1': ContinuousParameter(lower_bound=-5.0, upper_bound=5.0, log=False), 'x2': ContinuousParameter(lower_bound=2.0, upper_bound=3.0, log=False)})"
      ]
     },
     "execution_count": 7,
     "metadata": {},
     "output_type": "execute_result"
    }
   ],
   "source": [
    "domain.add_float(\"x0\", low=0.0, high=1.0)\n",
    "domain.add_float(\"x1\", low=-5.0, high=5.0)\n",
    "domain.add_float(\"x2\", low=2.0, high=3.0)\n",
    "\n",
    "domain"
   ]
  },
  {
   "cell_type": "markdown",
   "id": "6fdcf56f",
   "metadata": {
    "slideshow": {
     "slide_type": "slide"
    }
   },
   "source": [
    "### The ExperimentData object\n",
    "\n",
    "Now that we have created a ``Domain``, we can construct the central piece of the data-driven process: the ``ExperimentData`` object"
   ]
  },
  {
   "cell_type": "code",
   "execution_count": 8,
   "id": "ba6f8e6b",
   "metadata": {
    "slideshow": {
     "slide_type": "fragment"
    }
   },
   "outputs": [],
   "source": [
    "from f3dasm import ExperimentData"
   ]
  },
  {
   "cell_type": "markdown",
   "id": "dc24e047",
   "metadata": {
    "slideshow": {
     "slide_type": "-"
    }
   },
   "source": [
    "Creating an empty data object is easy:"
   ]
  },
  {
   "cell_type": "code",
   "execution_count": 9,
   "id": "9524f350",
   "metadata": {
    "slideshow": {
     "slide_type": "fragment"
    }
   },
   "outputs": [],
   "source": [
    "experimentdata = ExperimentData(domain)"
   ]
  },
  {
   "cell_type": "markdown",
   "id": "9764fdc1",
   "metadata": {
    "slideshow": {
     "slide_type": "subslide"
    }
   },
   "source": [
    "# 🌊 Ride the `f3dasm` wave! 🌊\n",
    "\n",
    "* Once you create the `ExperimentData` object, you can invoke **data-driven processes** on your data!\n",
    "* However, once you **export** it to another datatype, you loose the connection!\n",
    "* If so, make sure to **recreate** the `ExperimentData` object\n",
    "\n",
    "<img src=./video/surfing_f3dasm.gif width=60%>"
   ]
  },
  {
   "cell_type": "markdown",
   "id": "478f26ed",
   "metadata": {
    "slideshow": {
     "slide_type": "subslide"
    }
   },
   "source": [
    "<img src=./img/schematics/block_sampling.png width=10%, align='right'>\n",
    "\n",
    "There are two ways of populating your object with input data.\n",
    "\n",
    "**Method 1**: One way of creating data is by sampling it with a sampler!"
   ]
  },
  {
   "cell_type": "markdown",
   "id": "fde173e2",
   "metadata": {
    "slideshow": {
     "slide_type": "subslide"
    }
   },
   "source": [
    "<img src=./img/schematics/block_sampling.png width=10%, align='right'>\n",
    "\n",
    "Implementing your sampling technique into ``f3dasm`` is easy; you have to provide a function that accepts:\n",
    "* a ``Domain`` object\n",
    "* the number of samples (``n_samples``)\n",
    "* a random seed (``seed``):"
   ]
  },
  {
   "cell_type": "markdown",
   "id": "38009c44",
   "metadata": {
    "slideshow": {
     "slide_type": "fragment"
    }
   },
   "source": [
    "To show an example; here is an implementation of a **grid-search** sampler with `numpy`:"
   ]
  },
  {
   "cell_type": "code",
   "execution_count": 10,
   "id": "93ecfb47",
   "metadata": {
    "slideshow": {
     "slide_type": "fragment"
    }
   },
   "outputs": [],
   "source": [
    "import pandas as pd\n",
    "import numpy as np\n",
    "\n",
    "def my_sampler(domain: Domain, n_samples: int, seed: int) -> pd.DataFrame:\n",
    "    samples_per_parameter = np.round(n_samples**(1/len(domain)))\n",
    "    \n",
    "    # Create the mesh\n",
    "    mesh = np.meshgrid(*[np.linspace(parameter.lower_bound, parameter.upper_bound, int(samples_per_parameter)) \n",
    "                       for parameter in domain.values()])\n",
    "    return pd.DataFrame(np.array([m.flatten() for m in mesh]).T, columns=domain.names)"
   ]
  },
  {
   "cell_type": "markdown",
   "id": "b2fc5178",
   "metadata": {
    "slideshow": {
     "slide_type": "fragment"
    }
   },
   "source": [
    "We can now pass this to the ``sample`` method of the ``ExperimentData`` object:"
   ]
  },
  {
   "cell_type": "code",
   "execution_count": 11,
   "id": "28bf0d5c",
   "metadata": {
    "slideshow": {
     "slide_type": "fragment"
    }
   },
   "outputs": [],
   "source": [
    "experimentdata.sample(sampler=my_sampler, n_samples=125, seed=2023)"
   ]
  },
  {
   "cell_type": "markdown",
   "id": "e0eb2001",
   "metadata": {
    "slideshow": {
     "slide_type": "subslide"
    }
   },
   "source": [
    "<img src=./img/schematics/block_sampling.png width=10%, align='right'>\n",
    "\n",
    "Printing the ``ExperimentData`` object to a cell will show its content in a tabular matter:"
   ]
  },
  {
   "cell_type": "code",
   "execution_count": 12,
   "id": "5ac68f29",
   "metadata": {
    "slideshow": {
     "slide_type": "fragment"
    }
   },
   "outputs": [
    {
     "data": {
      "text/html": [
       "<div>\n",
       "<style scoped>\n",
       "    .dataframe tbody tr th:only-of-type {\n",
       "        vertical-align: middle;\n",
       "    }\n",
       "\n",
       "    .dataframe tbody tr th {\n",
       "        vertical-align: top;\n",
       "    }\n",
       "\n",
       "    .dataframe thead tr th {\n",
       "        text-align: left;\n",
       "    }\n",
       "</style>\n",
       "<table border=\"1\" class=\"dataframe\">\n",
       "  <thead>\n",
       "    <tr>\n",
       "      <th></th>\n",
       "      <th>jobs</th>\n",
       "      <th colspan=\"3\" halign=\"left\">input</th>\n",
       "    </tr>\n",
       "    <tr>\n",
       "      <th></th>\n",
       "      <th></th>\n",
       "      <th>x0</th>\n",
       "      <th>x1</th>\n",
       "      <th>x2</th>\n",
       "    </tr>\n",
       "  </thead>\n",
       "  <tbody>\n",
       "    <tr>\n",
       "      <th>0</th>\n",
       "      <td>open</td>\n",
       "      <td>0.0</td>\n",
       "      <td>-5.0</td>\n",
       "      <td>2.00</td>\n",
       "    </tr>\n",
       "    <tr>\n",
       "      <th>1</th>\n",
       "      <td>open</td>\n",
       "      <td>0.0</td>\n",
       "      <td>-5.0</td>\n",
       "      <td>2.25</td>\n",
       "    </tr>\n",
       "    <tr>\n",
       "      <th>2</th>\n",
       "      <td>open</td>\n",
       "      <td>0.0</td>\n",
       "      <td>-5.0</td>\n",
       "      <td>2.50</td>\n",
       "    </tr>\n",
       "    <tr>\n",
       "      <th>3</th>\n",
       "      <td>open</td>\n",
       "      <td>0.0</td>\n",
       "      <td>-5.0</td>\n",
       "      <td>2.75</td>\n",
       "    </tr>\n",
       "    <tr>\n",
       "      <th>4</th>\n",
       "      <td>open</td>\n",
       "      <td>0.0</td>\n",
       "      <td>-5.0</td>\n",
       "      <td>3.00</td>\n",
       "    </tr>\n",
       "    <tr>\n",
       "      <th>...</th>\n",
       "      <td>...</td>\n",
       "      <td>...</td>\n",
       "      <td>...</td>\n",
       "      <td>...</td>\n",
       "    </tr>\n",
       "    <tr>\n",
       "      <th>120</th>\n",
       "      <td>open</td>\n",
       "      <td>1.0</td>\n",
       "      <td>5.0</td>\n",
       "      <td>2.00</td>\n",
       "    </tr>\n",
       "    <tr>\n",
       "      <th>121</th>\n",
       "      <td>open</td>\n",
       "      <td>1.0</td>\n",
       "      <td>5.0</td>\n",
       "      <td>2.25</td>\n",
       "    </tr>\n",
       "    <tr>\n",
       "      <th>122</th>\n",
       "      <td>open</td>\n",
       "      <td>1.0</td>\n",
       "      <td>5.0</td>\n",
       "      <td>2.50</td>\n",
       "    </tr>\n",
       "    <tr>\n",
       "      <th>123</th>\n",
       "      <td>open</td>\n",
       "      <td>1.0</td>\n",
       "      <td>5.0</td>\n",
       "      <td>2.75</td>\n",
       "    </tr>\n",
       "    <tr>\n",
       "      <th>124</th>\n",
       "      <td>open</td>\n",
       "      <td>1.0</td>\n",
       "      <td>5.0</td>\n",
       "      <td>3.00</td>\n",
       "    </tr>\n",
       "  </tbody>\n",
       "</table>\n",
       "<p>125 rows × 4 columns</p>\n",
       "</div>"
      ],
      "text/plain": [
       "<f3dasm._src.experimentdata.experimentdata.ExperimentData at 0x7f2bdaeda8b0>"
      ]
     },
     "execution_count": 12,
     "metadata": {},
     "output_type": "execute_result"
    }
   ],
   "source": [
    "experimentdata"
   ]
  },
  {
   "cell_type": "code",
   "execution_count": 13,
   "id": "b0a31e0e",
   "metadata": {
    "slideshow": {
     "slide_type": "subslide"
    }
   },
   "outputs": [
    {
     "data": {
      "image/png": "[encoded data removed]",
      "text/plain": [
       "<Figure size 750x750 with 12 Axes>"
      ]
     },
     "metadata": {},
     "output_type": "display_data"
    }
   ],
   "source": [
    "import seaborn as sns\n",
    "\n",
    "def plot(experimentdata: ExperimentData):\n",
    "    input_data, output_data = experimentdata.to_pandas()\n",
    "    sns.pairplot(input_data)   \n",
    "    \n",
    "plot(experimentdata)"
   ]
  },
  {
   "cell_type": "markdown",
   "id": "a4c402ac",
   "metadata": {
    "slideshow": {
     "slide_type": "subslide"
    }
   },
   "source": [
    "Fantastic! You can use any packages or software to sample from your ``Domain`` as long as your sampling function complies to the interface that ``f3dasm`` describes!\n",
    "\n",
    "*The column 'jobs' keeps track of input_data that needs to be evaluated. In the case of our data, they are all open since we haven't evaluated our samples yet!*"
   ]
  },
  {
   "cell_type": "markdown",
   "id": "70702f51",
   "metadata": {
    "slideshow": {
     "slide_type": "subslide"
    }
   },
   "source": [
    "<img src=./img/schematics/block_sampling.png width=10%, align='right'>\n",
    "\n",
    "``f3dasm`` comes with some built-in samplers that you can use right away!\n",
    "\n",
    "| Name            | Method                             | Reference                                                                                              |\n",
    "|-----------------|-----------------------------------|--------------------------------------------------------------------------------------------------------|\n",
    "| `\"random\"`      | Random Uniform sampling           | [numpy.random.uniform](https://numpy.org/doc/stable/reference/random/generated/numpy.random.uniform.html) |\n",
    "| `\"latin\"`       | Latin Hypercube sampling          | [SALib.latin](https://salib.readthedocs.io/en/latest/api/SALib.sample.html?highlight=latin%20hypercube#SALib.sample.latin.sample)         |\n",
    "| `\"sobol\"`       | Sobol Sequence sampling           | [SALib.sobol_sequence](https://salib.readthedocs.io/en/latest/api/SALib.sample.html?highlight=sobol%20sequence#SALib.sample.sobol_sequence.sample) |\n"
   ]
  },
  {
   "cell_type": "code",
   "execution_count": 14,
   "id": "9b890d97",
   "metadata": {
    "slideshow": {
     "slide_type": "fragment"
    }
   },
   "outputs": [],
   "source": [
    "experimentdata = ExperimentData(domain)\n",
    "experimentdata.sample(sampler='random', n_samples=100, seed=2023)"
   ]
  },
  {
   "cell_type": "code",
   "execution_count": 15,
   "id": "4756298e",
   "metadata": {
    "slideshow": {
     "slide_type": "fragment"
    }
   },
   "outputs": [
    {
     "data": {
      "text/html": [
       "<div>\n",
       "<style scoped>\n",
       "    .dataframe tbody tr th:only-of-type {\n",
       "        vertical-align: middle;\n",
       "    }\n",
       "\n",
       "    .dataframe tbody tr th {\n",
       "        vertical-align: top;\n",
       "    }\n",
       "\n",
       "    .dataframe thead tr th {\n",
       "        text-align: left;\n",
       "    }\n",
       "</style>\n",
       "<table border=\"1\" class=\"dataframe\">\n",
       "  <thead>\n",
       "    <tr>\n",
       "      <th></th>\n",
       "      <th>jobs</th>\n",
       "      <th colspan=\"3\" halign=\"left\">input</th>\n",
       "    </tr>\n",
       "    <tr>\n",
       "      <th></th>\n",
       "      <th></th>\n",
       "      <th>x0</th>\n",
       "      <th>x1</th>\n",
       "      <th>x2</th>\n",
       "    </tr>\n",
       "  </thead>\n",
       "  <tbody>\n",
       "    <tr>\n",
       "      <th>0</th>\n",
       "      <td>open</td>\n",
       "      <td>0.321988</td>\n",
       "      <td>3.904225</td>\n",
       "      <td>2.588052</td>\n",
       "    </tr>\n",
       "    <tr>\n",
       "      <th>1</th>\n",
       "      <td>open</td>\n",
       "      <td>0.126596</td>\n",
       "      <td>-3.586588</td>\n",
       "      <td>2.467896</td>\n",
       "    </tr>\n",
       "    <tr>\n",
       "      <th>2</th>\n",
       "      <td>open</td>\n",
       "      <td>0.022090</td>\n",
       "      <td>2.272747</td>\n",
       "      <td>2.524387</td>\n",
       "    </tr>\n",
       "    <tr>\n",
       "      <th>3</th>\n",
       "      <td>open</td>\n",
       "      <td>0.544935</td>\n",
       "      <td>-0.436267</td>\n",
       "      <td>2.501382</td>\n",
       "    </tr>\n",
       "    <tr>\n",
       "      <th>4</th>\n",
       "      <td>open</td>\n",
       "      <td>0.394469</td>\n",
       "      <td>-3.488277</td>\n",
       "      <td>2.360875</td>\n",
       "    </tr>\n",
       "    <tr>\n",
       "      <th>...</th>\n",
       "      <td>...</td>\n",
       "      <td>...</td>\n",
       "      <td>...</td>\n",
       "      <td>...</td>\n",
       "    </tr>\n",
       "    <tr>\n",
       "      <th>95</th>\n",
       "      <td>open</td>\n",
       "      <td>0.323738</td>\n",
       "      <td>2.853825</td>\n",
       "      <td>2.381702</td>\n",
       "    </tr>\n",
       "    <tr>\n",
       "      <th>96</th>\n",
       "      <td>open</td>\n",
       "      <td>0.850285</td>\n",
       "      <td>4.655796</td>\n",
       "      <td>2.049404</td>\n",
       "    </tr>\n",
       "    <tr>\n",
       "      <th>97</th>\n",
       "      <td>open</td>\n",
       "      <td>0.626839</td>\n",
       "      <td>-2.189198</td>\n",
       "      <td>2.505979</td>\n",
       "    </tr>\n",
       "    <tr>\n",
       "      <th>98</th>\n",
       "      <td>open</td>\n",
       "      <td>0.532520</td>\n",
       "      <td>-0.532099</td>\n",
       "      <td>2.971766</td>\n",
       "    </tr>\n",
       "    <tr>\n",
       "      <th>99</th>\n",
       "      <td>open</td>\n",
       "      <td>0.433291</td>\n",
       "      <td>1.099487</td>\n",
       "      <td>2.996351</td>\n",
       "    </tr>\n",
       "  </tbody>\n",
       "</table>\n",
       "<p>100 rows × 4 columns</p>\n",
       "</div>"
      ],
      "text/plain": [
       "<f3dasm._src.experimentdata.experimentdata.ExperimentData at 0x7f2bd7ebbca0>"
      ]
     },
     "execution_count": 15,
     "metadata": {},
     "output_type": "execute_result"
    }
   ],
   "source": [
    "experimentdata"
   ]
  },
  {
   "cell_type": "code",
   "execution_count": 16,
   "id": "138b8c91",
   "metadata": {
    "slideshow": {
     "slide_type": "subslide"
    }
   },
   "outputs": [
    {
     "data": {
      "image/png": "[encoded data removed]",
      "text/plain": [
       "<Figure size 750x750 with 12 Axes>"
      ]
     },
     "metadata": {},
     "output_type": "display_data"
    }
   ],
   "source": [
    "plot(experimentdata)"
   ]
  },
  {
   "cell_type": "markdown",
   "id": "577ae081",
   "metadata": {
    "slideshow": {
     "slide_type": "subslide"
    }
   },
   "source": [
    "<img src=./img/schematics/block_sampling.png width=10%, align='right'>\n",
    "\n",
    "**Method 2**: If you already have input data, you can provide it as a ``pandas`` Dataframe, ``numpy`` array or .csv file"
   ]
  },
  {
   "cell_type": "code",
   "execution_count": 17,
   "id": "6c36ac99",
   "metadata": {
    "slideshow": {
     "slide_type": "fragment"
    }
   },
   "outputs": [
    {
     "data": {
      "text/html": [
       "<div>\n",
       "<style scoped>\n",
       "    .dataframe tbody tr th:only-of-type {\n",
       "        vertical-align: middle;\n",
       "    }\n",
       "\n",
       "    .dataframe tbody tr th {\n",
       "        vertical-align: top;\n",
       "    }\n",
       "\n",
       "    .dataframe thead tr th {\n",
       "        text-align: left;\n",
       "    }\n",
       "</style>\n",
       "<table border=\"1\" class=\"dataframe\">\n",
       "  <thead>\n",
       "    <tr>\n",
       "      <th></th>\n",
       "      <th>jobs</th>\n",
       "      <th colspan=\"3\" halign=\"left\">input</th>\n",
       "    </tr>\n",
       "    <tr>\n",
       "      <th></th>\n",
       "      <th></th>\n",
       "      <th>x0</th>\n",
       "      <th>x1</th>\n",
       "      <th>x2</th>\n",
       "    </tr>\n",
       "  </thead>\n",
       "  <tbody>\n",
       "    <tr>\n",
       "      <th>0</th>\n",
       "      <td>open</td>\n",
       "      <td>0.321988</td>\n",
       "      <td>3.904225</td>\n",
       "      <td>2.588052</td>\n",
       "    </tr>\n",
       "    <tr>\n",
       "      <th>1</th>\n",
       "      <td>open</td>\n",
       "      <td>0.126596</td>\n",
       "      <td>-3.586588</td>\n",
       "      <td>2.467896</td>\n",
       "    </tr>\n",
       "    <tr>\n",
       "      <th>2</th>\n",
       "      <td>open</td>\n",
       "      <td>0.022090</td>\n",
       "      <td>2.272747</td>\n",
       "      <td>2.524387</td>\n",
       "    </tr>\n",
       "    <tr>\n",
       "      <th>3</th>\n",
       "      <td>open</td>\n",
       "      <td>0.544935</td>\n",
       "      <td>-0.436267</td>\n",
       "      <td>2.501382</td>\n",
       "    </tr>\n",
       "    <tr>\n",
       "      <th>4</th>\n",
       "      <td>open</td>\n",
       "      <td>0.394469</td>\n",
       "      <td>-3.488277</td>\n",
       "      <td>2.360875</td>\n",
       "    </tr>\n",
       "    <tr>\n",
       "      <th>...</th>\n",
       "      <td>...</td>\n",
       "      <td>...</td>\n",
       "      <td>...</td>\n",
       "      <td>...</td>\n",
       "    </tr>\n",
       "    <tr>\n",
       "      <th>95</th>\n",
       "      <td>open</td>\n",
       "      <td>0.323738</td>\n",
       "      <td>2.853825</td>\n",
       "      <td>2.381702</td>\n",
       "    </tr>\n",
       "    <tr>\n",
       "      <th>96</th>\n",
       "      <td>open</td>\n",
       "      <td>0.850285</td>\n",
       "      <td>4.655796</td>\n",
       "      <td>2.049404</td>\n",
       "    </tr>\n",
       "    <tr>\n",
       "      <th>97</th>\n",
       "      <td>open</td>\n",
       "      <td>0.626839</td>\n",
       "      <td>-2.189198</td>\n",
       "      <td>2.505979</td>\n",
       "    </tr>\n",
       "    <tr>\n",
       "      <th>98</th>\n",
       "      <td>open</td>\n",
       "      <td>0.532520</td>\n",
       "      <td>-0.532099</td>\n",
       "      <td>2.971766</td>\n",
       "    </tr>\n",
       "    <tr>\n",
       "      <th>99</th>\n",
       "      <td>open</td>\n",
       "      <td>0.433291</td>\n",
       "      <td>1.099487</td>\n",
       "      <td>2.996351</td>\n",
       "    </tr>\n",
       "  </tbody>\n",
       "</table>\n",
       "<p>100 rows × 4 columns</p>\n",
       "</div>"
      ],
      "text/plain": [
       "<f3dasm._src.experimentdata.experimentdata.ExperimentData at 0x7f2bd7964460>"
      ]
     },
     "execution_count": 17,
     "metadata": {},
     "output_type": "execute_result"
    }
   ],
   "source": [
    "experimentdata_from_df = ExperimentData(domain=domain, input_data='./input_data.csv')\n",
    "experimentdata_from_df"
   ]
  },
  {
   "cell_type": "markdown",
   "id": "cbfb1552",
   "metadata": {
    "slideshow": {
     "slide_type": "slide"
    }
   },
   "source": [
    "## ExperimentSample\n",
    "\n",
    "Each sample of the ``ExperimentData`` can be accessed with the ``._get_experiment_sample`` method with the index of the sample you want to access:\n",
    "\n",
    "<img src=\"./img/f3dasm-design.png\" width=\"80%\" title=\"f3dasm experimentsample\">"
   ]
  },
  {
   "cell_type": "code",
   "execution_count": 18,
   "id": "a73371bf",
   "metadata": {
    "slideshow": {
     "slide_type": "fragment"
    }
   },
   "outputs": [
    {
     "data": {
      "text/plain": [
       "ExperimentSample(0 : {'x0': 0.3219883039919677, 'x1': 3.904224517894807, 'x2': 2.588052255450474} - {})"
      ]
     },
     "execution_count": 18,
     "metadata": {},
     "output_type": "execute_result"
    }
   ],
   "source": [
    "experimentdata_from_df._get_experiment_sample(0)"
   ]
  },
  {
   "cell_type": "markdown",
   "id": "e082d2ed",
   "metadata": {
    "slideshow": {
     "slide_type": "subslide"
    }
   },
   "source": [
    "<img src=./img/schematics/block_datageneration.png width=10%, align='right'>\n",
    "\n",
    "\n",
    "This will create a new object of type `ExperimentSample` that is useful in the next section: Data generation!"
   ]
  },
  {
   "cell_type": "markdown",
   "id": "0d69de89",
   "metadata": {
    "slideshow": {
     "slide_type": "slide"
    }
   },
   "source": [
    "<img src=./img/schematics/block_datageneration.png width=10%, align='right'>\n",
    "\n",
    "## 2. Data generation\n",
    "\n",
    "Now that we have sampled input-data, we can evaluate the designs with a ``DataGenerator``!\n",
    "\n",
    "To implement your datagenerator, you have to create a new class that inherits from the ``DataGenerator`` base class:"
   ]
  },
  {
   "cell_type": "markdown",
   "id": "eaf7dff8",
   "metadata": {
    "slideshow": {
     "slide_type": "fragment"
    }
   },
   "source": [
    "Let's create a simple data generator that computes $f(x) = x \\; \\mathrm{sin}(x)$"
   ]
  },
  {
   "cell_type": "code",
   "execution_count": 19,
   "id": "f9e30301",
   "metadata": {
    "slideshow": {
     "slide_type": "fragment"
    }
   },
   "outputs": [],
   "source": [
    "from f3dasm.datageneration import DataGenerator\n",
    "import numpy as np\n",
    "\n",
    "class MyDataGenerator(DataGenerator):\n",
    "    def execute(self):\n",
    "        \n",
    "        # Get the input_data and output_data of the ExperimentSample in numpy format\n",
    "        X, y = self.experiment_sample.to_numpy()\n",
    "        \n",
    "        # f(x) = x*sin(x)\n",
    "        y = np.sum(X * np.sin(X))\n",
    "        \n",
    "        # store the objective value under the name 'y'\n",
    "        self.experiment_sample.store(y, 'y')"
   ]
  },
  {
   "cell_type": "markdown",
   "id": "6830a50a",
   "metadata": {
    "slideshow": {
     "slide_type": "subslide"
    }
   },
   "source": [
    "<img src=./img/schematics/block_datageneration.png width=10%, align='right'>\n",
    "\n",
    "Now we instantiate the data generator:"
   ]
  },
  {
   "cell_type": "code",
   "execution_count": 20,
   "id": "0bd970e1",
   "metadata": {
    "slideshow": {
     "slide_type": "fragment"
    }
   },
   "outputs": [],
   "source": [
    "my_data_generator = MyDataGenerator()"
   ]
  },
  {
   "cell_type": "markdown",
   "id": "5e1faa76",
   "metadata": {
    "slideshow": {
     "slide_type": "fragment"
    }
   },
   "source": [
    "And we pass it to the ``evaluate`` method of your data object!"
   ]
  },
  {
   "cell_type": "code",
   "execution_count": 21,
   "id": "ee390c43",
   "metadata": {
    "slideshow": {
     "slide_type": "fragment"
    }
   },
   "outputs": [
    {
     "data": {
      "text/html": [
       "<div>\n",
       "<style scoped>\n",
       "    .dataframe tbody tr th:only-of-type {\n",
       "        vertical-align: middle;\n",
       "    }\n",
       "\n",
       "    .dataframe tbody tr th {\n",
       "        vertical-align: top;\n",
       "    }\n",
       "\n",
       "    .dataframe thead tr th {\n",
       "        text-align: left;\n",
       "    }\n",
       "</style>\n",
       "<table border=\"1\" class=\"dataframe\">\n",
       "  <thead>\n",
       "    <tr>\n",
       "      <th></th>\n",
       "      <th>jobs</th>\n",
       "      <th colspan=\"3\" halign=\"left\">input</th>\n",
       "      <th>output</th>\n",
       "    </tr>\n",
       "    <tr>\n",
       "      <th></th>\n",
       "      <th></th>\n",
       "      <th>x0</th>\n",
       "      <th>x1</th>\n",
       "      <th>x2</th>\n",
       "      <th>y</th>\n",
       "    </tr>\n",
       "  </thead>\n",
       "  <tbody>\n",
       "    <tr>\n",
       "      <th>0</th>\n",
       "      <td>finished</td>\n",
       "      <td>0.321988</td>\n",
       "      <td>3.904225</td>\n",
       "      <td>2.588052</td>\n",
       "      <td>-1.234704</td>\n",
       "    </tr>\n",
       "    <tr>\n",
       "      <th>1</th>\n",
       "      <td>finished</td>\n",
       "      <td>0.126596</td>\n",
       "      <td>-3.586588</td>\n",
       "      <td>2.467896</td>\n",
       "      <td>0.011794</td>\n",
       "    </tr>\n",
       "    <tr>\n",
       "      <th>2</th>\n",
       "      <td>finished</td>\n",
       "      <td>0.022090</td>\n",
       "      <td>2.272747</td>\n",
       "      <td>2.524387</td>\n",
       "      <td>3.196932</td>\n",
       "    </tr>\n",
       "    <tr>\n",
       "      <th>3</th>\n",
       "      <td>finished</td>\n",
       "      <td>0.544935</td>\n",
       "      <td>-0.436267</td>\n",
       "      <td>2.501382</td>\n",
       "      <td>1.961059</td>\n",
       "    </tr>\n",
       "    <tr>\n",
       "      <th>4</th>\n",
       "      <td>finished</td>\n",
       "      <td>0.394469</td>\n",
       "      <td>-3.488277</td>\n",
       "      <td>2.360875</td>\n",
       "      <td>0.627909</td>\n",
       "    </tr>\n",
       "    <tr>\n",
       "      <th>...</th>\n",
       "      <td>...</td>\n",
       "      <td>...</td>\n",
       "      <td>...</td>\n",
       "      <td>...</td>\n",
       "      <td>...</td>\n",
       "    </tr>\n",
       "    <tr>\n",
       "      <th>95</th>\n",
       "      <td>finished</td>\n",
       "      <td>0.323738</td>\n",
       "      <td>2.853825</td>\n",
       "      <td>2.381702</td>\n",
       "      <td>2.553553</td>\n",
       "    </tr>\n",
       "    <tr>\n",
       "      <th>96</th>\n",
       "      <td>finished</td>\n",
       "      <td>0.850285</td>\n",
       "      <td>4.655796</td>\n",
       "      <td>2.049404</td>\n",
       "      <td>-2.190253</td>\n",
       "    </tr>\n",
       "    <tr>\n",
       "      <th>97</th>\n",
       "      <td>finished</td>\n",
       "      <td>0.626839</td>\n",
       "      <td>-2.189198</td>\n",
       "      <td>2.505979</td>\n",
       "      <td>3.639196</td>\n",
       "    </tr>\n",
       "    <tr>\n",
       "      <th>98</th>\n",
       "      <td>finished</td>\n",
       "      <td>0.532520</td>\n",
       "      <td>-0.532099</td>\n",
       "      <td>2.971766</td>\n",
       "      <td>1.042584</td>\n",
       "    </tr>\n",
       "    <tr>\n",
       "      <th>99</th>\n",
       "      <td>finished</td>\n",
       "      <td>0.433291</td>\n",
       "      <td>1.099487</td>\n",
       "      <td>2.996351</td>\n",
       "      <td>1.595202</td>\n",
       "    </tr>\n",
       "  </tbody>\n",
       "</table>\n",
       "<p>100 rows × 5 columns</p>\n",
       "</div>"
      ],
      "text/plain": [
       "<f3dasm._src.experimentdata.experimentdata.ExperimentData at 0x7f2bd7ebbca0>"
      ]
     },
     "execution_count": 21,
     "metadata": {},
     "output_type": "execute_result"
    }
   ],
   "source": [
    "experimentdata.evaluate(my_data_generator, mode='sequential')\n",
    "experimentdata"
   ]
  },
  {
   "cell_type": "markdown",
   "id": "74bdf87c",
   "metadata": {
    "slideshow": {
     "slide_type": "fragment"
    }
   },
   "source": [
    "The values in the 'jobs' column have been changed from ``open`` to ``finished`` !"
   ]
  },
  {
   "cell_type": "markdown",
   "id": "401aee4e",
   "metadata": {
    "slideshow": {
     "slide_type": "subslide"
    }
   },
   "source": [
    "<img src=./img/schematics/block_datageneration.png width=10%, align='right'>\n",
    "\n",
    "There are three modes to evaluate your samples:"
   ]
  },
  {
   "cell_type": "markdown",
   "id": "b51ffac7",
   "metadata": {
    "slideshow": {
     "slide_type": "fragment"
    }
   },
   "source": [
    "* ``sequential``: each ``ExperimentSample`` object is processed one at a time"
   ]
  },
  {
   "cell_type": "markdown",
   "id": "f444fd96",
   "metadata": {
    "slideshow": {
     "slide_type": "fragment"
    }
   },
   "source": [
    "* ``parallel``: utilizing the multiprocessing capabilities, each ``ExperimentSample`` object is evaluate on a **separate core**"
   ]
  },
  {
   "cell_type": "markdown",
   "id": "a716655f",
   "metadata": {
    "slideshow": {
     "slide_type": "fragment"
    }
   },
   "source": [
    "* ``cluster``: Each ``ExperimentSample`` object is run in a **separate node**. After finishing of an evaluation, the node will automatically pick the next available ``ExperimentSample``. This is especially useful in a high-performance computation cluster setting"
   ]
  },
  {
   "cell_type": "markdown",
   "id": "f98736bb",
   "metadata": {
    "slideshow": {
     "slide_type": "subslide"
    }
   },
   "source": [
    "<img src=./img/schematics/block_datageneration.png width=10%, align='right'>\n",
    "\n",
    "<img src=\"./img/Levy.png\" width=\"30%\" title=\"Levy Image\" align=\"right\">\n",
    "\n",
    "A datagenerator can be a call to a **third-party simulation software** (e.g. ABAQUS).\n",
    "In this example, we are replacing an expensive simulation with any of the built-in benchmark functions: The ``\"Levy\"`` function:\n",
    "\n",
    "*Note: the bounds have been normalized to $[0,1]$ in this figure*\n",
    "\n",
    "``f3dasm`` comes with **73** built-in benchmark function that you can use right away!\n",
    "\n",
    "*Ports to third-party software will be available in the [f3dasm_simulate](https://bessagroup.github.io/f3dasm_simulate/) extension package*"
   ]
  },
  {
   "cell_type": "code",
   "execution_count": 22,
   "id": "3e5ecd60",
   "metadata": {
    "slideshow": {
     "slide_type": "fragment"
    }
   },
   "outputs": [],
   "source": [
    "experimentdata = ExperimentData(domain)\n",
    "experimentdata.sample(sampler='random', n_samples=100, seed=2023)\n",
    "experimentdata.evaluate(data_generator=\"Levy\", mode=\"sequential\")"
   ]
  },
  {
   "cell_type": "markdown",
   "id": "25aa730d",
   "metadata": {
    "slideshow": {
     "slide_type": "subslide"
    }
   },
   "source": [
    "<img src=./img/schematics/block_datageneration.png width=10%, align='right'>"
   ]
  },
  {
   "cell_type": "code",
   "execution_count": 23,
   "id": "662ef83e",
   "metadata": {
    "slideshow": {
     "slide_type": "-"
    }
   },
   "outputs": [
    {
     "data": {
      "text/html": [
       "<div>\n",
       "<style scoped>\n",
       "    .dataframe tbody tr th:only-of-type {\n",
       "        vertical-align: middle;\n",
       "    }\n",
       "\n",
       "    .dataframe tbody tr th {\n",
       "        vertical-align: top;\n",
       "    }\n",
       "\n",
       "    .dataframe thead tr th {\n",
       "        text-align: left;\n",
       "    }\n",
       "</style>\n",
       "<table border=\"1\" class=\"dataframe\">\n",
       "  <thead>\n",
       "    <tr>\n",
       "      <th></th>\n",
       "      <th>jobs</th>\n",
       "      <th colspan=\"3\" halign=\"left\">input</th>\n",
       "      <th>output</th>\n",
       "    </tr>\n",
       "    <tr>\n",
       "      <th></th>\n",
       "      <th></th>\n",
       "      <th>x0</th>\n",
       "      <th>x1</th>\n",
       "      <th>x2</th>\n",
       "      <th>y</th>\n",
       "    </tr>\n",
       "  </thead>\n",
       "  <tbody>\n",
       "    <tr>\n",
       "      <th>0</th>\n",
       "      <td>finished</td>\n",
       "      <td>0.321988</td>\n",
       "      <td>3.904225</td>\n",
       "      <td>2.588052</td>\n",
       "      <td>1.188647</td>\n",
       "    </tr>\n",
       "    <tr>\n",
       "      <th>1</th>\n",
       "      <td>finished</td>\n",
       "      <td>0.126596</td>\n",
       "      <td>-3.586588</td>\n",
       "      <td>2.467896</td>\n",
       "      <td>5.485291</td>\n",
       "    </tr>\n",
       "    <tr>\n",
       "      <th>2</th>\n",
       "      <td>finished</td>\n",
       "      <td>0.022090</td>\n",
       "      <td>2.272747</td>\n",
       "      <td>2.524387</td>\n",
       "      <td>1.724939</td>\n",
       "    </tr>\n",
       "    <tr>\n",
       "      <th>3</th>\n",
       "      <td>finished</td>\n",
       "      <td>0.544935</td>\n",
       "      <td>-0.436267</td>\n",
       "      <td>2.501382</td>\n",
       "      <td>0.542788</td>\n",
       "    </tr>\n",
       "    <tr>\n",
       "      <th>4</th>\n",
       "      <td>finished</td>\n",
       "      <td>0.394469</td>\n",
       "      <td>-3.488277</td>\n",
       "      <td>2.360875</td>\n",
       "      <td>5.956175</td>\n",
       "    </tr>\n",
       "    <tr>\n",
       "      <th>...</th>\n",
       "      <td>...</td>\n",
       "      <td>...</td>\n",
       "      <td>...</td>\n",
       "      <td>...</td>\n",
       "      <td>...</td>\n",
       "    </tr>\n",
       "    <tr>\n",
       "      <th>95</th>\n",
       "      <td>finished</td>\n",
       "      <td>0.323738</td>\n",
       "      <td>2.853825</td>\n",
       "      <td>2.381702</td>\n",
       "      <td>1.619962</td>\n",
       "    </tr>\n",
       "    <tr>\n",
       "      <th>96</th>\n",
       "      <td>finished</td>\n",
       "      <td>0.850285</td>\n",
       "      <td>4.655796</td>\n",
       "      <td>2.049404</td>\n",
       "      <td>4.707982</td>\n",
       "    </tr>\n",
       "    <tr>\n",
       "      <th>97</th>\n",
       "      <td>finished</td>\n",
       "      <td>0.626839</td>\n",
       "      <td>-2.189198</td>\n",
       "      <td>2.505979</td>\n",
       "      <td>7.305066</td>\n",
       "    </tr>\n",
       "    <tr>\n",
       "      <th>98</th>\n",
       "      <td>finished</td>\n",
       "      <td>0.532520</td>\n",
       "      <td>-0.532099</td>\n",
       "      <td>2.971766</td>\n",
       "      <td>0.640278</td>\n",
       "    </tr>\n",
       "    <tr>\n",
       "      <th>99</th>\n",
       "      <td>finished</td>\n",
       "      <td>0.433291</td>\n",
       "      <td>1.099487</td>\n",
       "      <td>2.996351</td>\n",
       "      <td>0.515674</td>\n",
       "    </tr>\n",
       "  </tbody>\n",
       "</table>\n",
       "<p>100 rows × 5 columns</p>\n",
       "</div>"
      ],
      "text/plain": [
       "<f3dasm._src.experimentdata.experimentdata.ExperimentData at 0x7f2bd797ab80>"
      ]
     },
     "execution_count": 23,
     "metadata": {},
     "output_type": "execute_result"
    }
   ],
   "source": [
    "experimentdata"
   ]
  },
  {
   "cell_type": "markdown",
   "id": "fb478404",
   "metadata": {
    "slideshow": {
     "slide_type": "slide"
    }
   },
   "source": [
    "<img src=./img/schematics/block_optimization.png width=10%, align='right'>\n",
    "\n",
    "## 3. Optimization\n",
    "\n",
    "With ``f3dasm``, you can optimize the input-parameters of your ``ExperimentData`` object by striving to minimize the output_data:"
   ]
  },
  {
   "cell_type": "code",
   "execution_count": 24,
   "id": "ef32eabb",
   "metadata": {
    "slideshow": {
     "slide_type": "fragment"
    }
   },
   "outputs": [
    {
     "name": "stderr",
     "output_type": "stream",
     "text": [
      "/home/martin/Documents/GitHub/F3DASM/src/f3dasm/_src/optimization/adapters/scipy_implementations.py:54: OptimizeWarning: Unknown solver options: population, force_bounds\n",
      "  minimize(\n"
     ]
    }
   ],
   "source": [
    "experimentdata.optimize(data_generator=\"Levy\", optimizer=\"L-BFGS-B\", iterations=100)"
   ]
  },
  {
   "cell_type": "code",
   "execution_count": 25,
   "id": "11e37263",
   "metadata": {
    "scrolled": true,
    "slideshow": {
     "slide_type": "fragment"
    }
   },
   "outputs": [
    {
     "data": {
      "text/html": [
       "<div>\n",
       "<style scoped>\n",
       "    .dataframe tbody tr th:only-of-type {\n",
       "        vertical-align: middle;\n",
       "    }\n",
       "\n",
       "    .dataframe tbody tr th {\n",
       "        vertical-align: top;\n",
       "    }\n",
       "\n",
       "    .dataframe thead tr th {\n",
       "        text-align: left;\n",
       "    }\n",
       "</style>\n",
       "<table border=\"1\" class=\"dataframe\">\n",
       "  <thead>\n",
       "    <tr>\n",
       "      <th></th>\n",
       "      <th>jobs</th>\n",
       "      <th colspan=\"3\" halign=\"left\">input</th>\n",
       "      <th>output</th>\n",
       "    </tr>\n",
       "    <tr>\n",
       "      <th></th>\n",
       "      <th></th>\n",
       "      <th>x0</th>\n",
       "      <th>x1</th>\n",
       "      <th>x2</th>\n",
       "      <th>y</th>\n",
       "    </tr>\n",
       "  </thead>\n",
       "  <tbody>\n",
       "    <tr>\n",
       "      <th>0</th>\n",
       "      <td>finished</td>\n",
       "      <td>0.321988</td>\n",
       "      <td>3.904225</td>\n",
       "      <td>2.588052</td>\n",
       "      <td>1.188647</td>\n",
       "    </tr>\n",
       "    <tr>\n",
       "      <th>1</th>\n",
       "      <td>finished</td>\n",
       "      <td>0.126596</td>\n",
       "      <td>-3.586588</td>\n",
       "      <td>2.467896</td>\n",
       "      <td>5.485291</td>\n",
       "    </tr>\n",
       "    <tr>\n",
       "      <th>2</th>\n",
       "      <td>finished</td>\n",
       "      <td>0.022090</td>\n",
       "      <td>2.272747</td>\n",
       "      <td>2.524387</td>\n",
       "      <td>1.724939</td>\n",
       "    </tr>\n",
       "    <tr>\n",
       "      <th>3</th>\n",
       "      <td>finished</td>\n",
       "      <td>0.544935</td>\n",
       "      <td>-0.436267</td>\n",
       "      <td>2.501382</td>\n",
       "      <td>0.542788</td>\n",
       "    </tr>\n",
       "    <tr>\n",
       "      <th>4</th>\n",
       "      <td>finished</td>\n",
       "      <td>0.394469</td>\n",
       "      <td>-3.488277</td>\n",
       "      <td>2.360875</td>\n",
       "      <td>5.956175</td>\n",
       "    </tr>\n",
       "    <tr>\n",
       "      <th>...</th>\n",
       "      <td>...</td>\n",
       "      <td>...</td>\n",
       "      <td>...</td>\n",
       "      <td>...</td>\n",
       "      <td>...</td>\n",
       "    </tr>\n",
       "    <tr>\n",
       "      <th>195</th>\n",
       "      <td>finished</td>\n",
       "      <td>1.000000</td>\n",
       "      <td>1.000001</td>\n",
       "      <td>2.000000</td>\n",
       "      <td>0.125000</td>\n",
       "    </tr>\n",
       "    <tr>\n",
       "      <th>196</th>\n",
       "      <td>finished</td>\n",
       "      <td>1.000000</td>\n",
       "      <td>1.000001</td>\n",
       "      <td>2.000000</td>\n",
       "      <td>0.125000</td>\n",
       "    </tr>\n",
       "    <tr>\n",
       "      <th>197</th>\n",
       "      <td>finished</td>\n",
       "      <td>1.000000</td>\n",
       "      <td>1.000001</td>\n",
       "      <td>2.000000</td>\n",
       "      <td>0.125000</td>\n",
       "    </tr>\n",
       "    <tr>\n",
       "      <th>198</th>\n",
       "      <td>finished</td>\n",
       "      <td>1.000000</td>\n",
       "      <td>1.000001</td>\n",
       "      <td>2.000000</td>\n",
       "      <td>0.125000</td>\n",
       "    </tr>\n",
       "    <tr>\n",
       "      <th>199</th>\n",
       "      <td>finished</td>\n",
       "      <td>1.000000</td>\n",
       "      <td>1.000001</td>\n",
       "      <td>2.000000</td>\n",
       "      <td>0.125000</td>\n",
       "    </tr>\n",
       "  </tbody>\n",
       "</table>\n",
       "<p>200 rows × 5 columns</p>\n",
       "</div>"
      ],
      "text/plain": [
       "<f3dasm._src.experimentdata.experimentdata.ExperimentData at 0x7f2bd797ab80>"
      ]
     },
     "execution_count": 25,
     "metadata": {},
     "output_type": "execute_result"
    }
   ],
   "source": [
    "experimentdata"
   ]
  },
  {
   "cell_type": "markdown",
   "id": "872e2723",
   "metadata": {
    "slideshow": {
     "slide_type": "subslide"
    }
   },
   "source": [
    "<img src=./img/schematics/block_optimization.png width=10%, align='right'>\n",
    "\n",
    "``f3dasm`` comes with some built-in optimizers that you can use right away!\n",
    "\n",
    "| Name           | Reference                                                      |\n",
    "| ---------------| --------------------------------------------------------------- |\n",
    "| `\"CG\"`             | [scipy.minimize CG](https://docs.scipy.org/doc/scipy/reference/optimize.minimize-cg.html) |\n",
    "| `\"L-BFGS-B\"`         | [scipy.minimize L-BFGS-B](https://docs.scipy.org/doc/scipy/reference/optimize.minimize-lbfgsb.html>) |\n",
    "| `\"NelderMead\"`     | [scipy.minimize NelderMead](https://docs.scipy.org/doc/scipy/reference/optimize.minimize-neldermead.html) |\n",
    "| `\"RandomSearch\"`   | [numpy.random](https://numpy.org/doc/>)       |\n",
    "\n",
    "*More optimizers are available in the [f3dasm_optimize](https://bessagroup.github.io/f3dasm_optimize/) extension package*\n"
   ]
  },
  {
   "cell_type": "markdown",
   "id": "bcac432f",
   "metadata": {
    "slideshow": {
     "slide_type": "slide"
    }
   },
   "source": [
    "## Storing\n",
    "\n",
    "After your data-driven process, you can store the data with the ``store`` method:"
   ]
  },
  {
   "cell_type": "markdown",
   "id": "b89fee85",
   "metadata": {
    "slideshow": {
     "slide_type": "fragment"
    }
   },
   "source": [
    "```\n",
    "experimentdata.store(filename='my_data')\n",
    "```"
   ]
  },
  {
   "cell_type": "markdown",
   "id": "7ee50760",
   "metadata": {
    "slideshow": {
     "slide_type": "fragment"
    }
   },
   "source": [
    "This will store the `input_data` (.csv), `output_data` (.csv) and `domain` (.pkl) to disk "
   ]
  },
  {
   "cell_type": "markdown",
   "id": "56c3a6bb",
   "metadata": {
    "slideshow": {
     "slide_type": "subslide"
    }
   },
   "source": [
    "## Current state of the project\n",
    "\n",
    "* Researchers of the 'Bessa Research Group' are implementing their research into the ``f3dasm`` framework\n",
    "* Students are working on projects with `f3dasm` at both Delft University of Technology and Brown University\n",
    "* Expect to submit the framework to the [Journal of Open Source Software](https://joss.theoj.org/)"
   ]
  },
  {
   "cell_type": "markdown",
   "id": "ff0ba7ac",
   "metadata": {
    "slideshow": {
     "slide_type": "slide"
    }
   },
   "source": [
    "## Summary\n",
    "\n",
    "⭐ ``f3dasm`` provides a **unified interface** for data-driven processes for structures and materials\n",
    "\n",
    "🫵 You handle the **implementation**, we handle the **process**!\n",
    "\n",
    "🔨 Built for **scaling** your experiments\n",
    "\n",
    "💡 Defaults for **benchmarking** and **comparison**\n",
    "\n",
    "📘 Extensive **documentation** and **testing**\n"
   ]
  },
  {
   "cell_type": "markdown",
   "id": "15218d47",
   "metadata": {
    "slideshow": {
     "slide_type": "slide"
    }
   },
   "source": [
    "<img src=./img/Brown_logo.svg width=30%>\n",
    "\n",
    "# F3DASM: Framework for Data-Driven Design & Analysis of Structures & Materials\n",
    "\n",
    "https://github.com/bessagroup/f3dasm\n",
    "\n",
    "### Martin van der Schelling | <a href = \"mailto: martin_van_der_schelling@brown.edu\">martin_van_der_schelling@brown.edu</a>  | PhD candidate"
   ]
  }
 ],
 "metadata": {
  "celltoolbar": "Slideshow",
  "kernelspec": {
   "display_name": "Python [conda env:presentation] *",
   "language": "python",
   "name": "conda-env-presentation-py"
  },
  "language_info": {
   "codemirror_mode": {
    "name": "ipython",
    "version": 3
   },
   "file_extension": ".py",
   "mimetype": "text/x-python",
   "name": "python",
   "nbconvert_exporter": "python",
   "pygments_lexer": "ipython3",
   "version": "3.8.17"
  }
 },
 "nbformat": 4,
 "nbformat_minor": 5
}

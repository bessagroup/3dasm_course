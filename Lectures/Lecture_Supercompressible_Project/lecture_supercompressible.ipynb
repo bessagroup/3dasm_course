{
 "cells": [
  {
   "cell_type": "markdown",
   "id": "c75bdef0",
   "metadata": {
    "slideshow": {
     "slide_type": "slide"
    }
   },
   "source": [
    "<img src=./img/Brown_logo.svg width=30%>\n",
    "\n",
    "# Project 2: Fragile becomes Supercompressible\n",
    "\n",
    "\n",
    "### Martin van der Schelling | <a href = \"mailto: martin_van_der_schelling@brown.edu\">martin_van_der_schelling@brown.edu</a>  | PhD candidate\n",
    "\n",
    "*Bessa, M. A., Glowacki, P., & Houlder, M. (2019). Bayesian Machine Learning in Metamaterial Design: Fragile Becomes Supercompressible. Advanced Materials, 31(48), 1–6. https://doi.org/10.1002/adma.201904845*"
   ]
  },
  {
   "cell_type": "markdown",
   "id": "6a5b1fad",
   "metadata": {
    "slideshow": {
     "slide_type": "slide"
    }
   },
   "source": [
    "## Outline of today\n",
    "\n",
    "At the end of this lecture you have learned:\n",
    "\n",
    "* How a fragile material can become supercompressible\n",
    "* How to use third-party simulation software like ABAQUS with `f3dasm`\n",
    "* How to get started on project 2: fragile becomes supercompressible\n",
    "\n"
   ]
  },
  {
   "cell_type": "markdown",
   "id": "93d2d003",
   "metadata": {
    "slideshow": {
     "slide_type": "slide"
    }
   },
   "source": [
    "## Designing Supercompressible materials\n",
    "\n",
    "<img src=./img/process.png width=60%, align='left'>\n",
    "\n",
    "<img src=./img/schematic.png width=30%, align='right'>\n",
    "\n",
    "<!-- <br><br><br><br><br><br><br><br><br><br><br><br><br><br><br> -->\n",
    "\n",
    "* Parametrizing your structure from a concept\n",
    "* Sampling designs\n",
    "* Run finite element simulation (ABAQUS)\n",
    "* Learn the objective for the full range of designs\n",
    "* Manufacture your found optimum"
   ]
  },
  {
   "cell_type": "markdown",
   "id": "af419530",
   "metadata": {
    "slideshow": {
     "slide_type": "slide"
    }
   },
   "source": [
    "## Datasets\n",
    "\n",
    "The supercompressible meta-material is parameterized by **5 geometric parameters and 2 material parameters**:\n",
    "* The geometry is defined by the top and bottom diameters, $D_1$ and $D_2$, \n",
    "* the height $P$\n",
    "* the cross-section parameters of the vertical longerons: area $A$, \n",
    "* moments of inertial $I_x$ and $I_y$, \n",
    "* torsional constant $J$,. \n",
    "* The isotropic material is defined by its elastic constants: Young's modulus $E$ and shear modulus $G$."
   ]
  },
  {
   "cell_type": "markdown",
   "id": "c8cca1db",
   "metadata": {
    "slideshow": {
     "slide_type": "fragment"
    }
   },
   "source": [
    "$\\frac{D_1-D_2}{D_1},\\ \\frac{P}{D_1},\\ \\frac{I_x}{D_1^4},\\ \\frac{I_y}{D_1^4},\\ \\frac{J}{D_1^4},\\ \\frac{A}{D_1^2}, \\frac{G}{E}$"
   ]
  },
  {
   "cell_type": "markdown",
   "id": "462eea41",
   "metadata": {
    "slideshow": {
     "slide_type": "slide"
    }
   },
   "source": [
    "A dataset with 50000 experiments that is parametrized by 7 parameters (`supercompressible_7d`) will be provided.\n",
    "\n",
    "This is a **7-dimensional problem** and learning the response surface may require a **significant amount of training points**"
   ]
  },
  {
   "cell_type": "markdown",
   "id": "322ea7ab",
   "metadata": {
    "slideshow": {
     "slide_type": "fragment"
    }
   },
   "source": [
    "Therefore, you will also consider a **simpler version** of the problem in 3 dimensions, defined by constraining the longerons' cross-section to be circular with diameter $d$, and choosing a particular material, leading to the following 3 features:"
   ]
  },
  {
   "cell_type": "markdown",
   "id": "c9ed7dbf",
   "metadata": {
    "slideshow": {
     "slide_type": "fragment"
    }
   },
   "source": [
    "$\\frac{d}{D_1}, \\frac{D_2-D_1}{D_1},\\ \\frac{P}{D_1}$"
   ]
  },
  {
   "cell_type": "markdown",
   "id": "addb7ca6",
   "metadata": {
    "slideshow": {
     "slide_type": "fragment"
    }
   },
   "source": [
    "This is the `supercompressible_3d` dataset with 1000 experiments"
   ]
  },
  {
   "cell_type": "markdown",
   "id": "0359e059",
   "metadata": {
    "slideshow": {
     "slide_type": "slide"
    }
   },
   "source": [
    "## Output data\n",
    "\n",
    "* We can use **non-linear finite element analyses** to predict the **complete buckling and post-buckling behavior**. \n",
    "* From the analyses, we can understand if a **material is coilable**, compute the **critical buckling stress** $\\sigma_{crit}$ and the **energy absorbed** $E_{abs}$.\n",
    "* Due to unsuccessful simulations, there are **missing points in the datasets** in the data)."
   ]
  },
  {
   "cell_type": "markdown",
   "id": "b6a6bd4e",
   "metadata": {
    "slideshow": {
     "slide_type": "slide"
    }
   },
   "source": [
    "## How do we normally create this dataset?\n",
    "\n",
    "<img src=\"./img/blocks_supercompressible_original.png\" width=\"50%\">"
   ]
  },
  {
   "cell_type": "markdown",
   "id": "fb77554b",
   "metadata": {
    "slideshow": {
     "slide_type": "fragment"
    }
   },
   "source": [
    "Some problems may arise:\n",
    "* How do we **parametrize** the design efficiently?\n",
    "* How do we run this in **parallel** or on a **high computation cluster**?\n",
    "* How do we **avoid reinventing the wheel** (e.g. calling Abaqus with python scripts)"
   ]
  },
  {
   "cell_type": "markdown",
   "id": "8daa10a5",
   "metadata": {
    "slideshow": {
     "slide_type": "slide"
    }
   },
   "source": [
    "## How is the dataset created with f3dasm?\n",
    "\n",
    "<img src=\"./img/supercompressible_colored.png\" width=\"100%\">"
   ]
  },
  {
   "cell_type": "markdown",
   "id": "7853d233",
   "metadata": {
    "slideshow": {
     "slide_type": "fragment"
    }
   },
   "source": [
    "First we import some packages .."
   ]
  },
  {
   "cell_type": "code",
   "execution_count": 7,
   "id": "684b58f1",
   "metadata": {
    "slideshow": {
     "slide_type": "fragment"
    }
   },
   "outputs": [],
   "source": [
    "from f3dasm.design import Domain\n",
    "from f3dasm import ExperimentData\n",
    "import numpy as np\n",
    "from pathlib import Path"
   ]
  },
  {
   "cell_type": "markdown",
   "id": "c7bf6c45",
   "metadata": {
    "slideshow": {
     "slide_type": "slide"
    }
   },
   "source": [
    "We define the number of experiments, the pseudo-random number generator seed and if the design is circular or not"
   ]
  },
  {
   "cell_type": "code",
   "execution_count": 3,
   "id": "d1c74b55",
   "metadata": {
    "slideshow": {
     "slide_type": "fragment"
    }
   },
   "outputs": [],
   "source": [
    "SEED = 55\n",
    "N_EXPERIMENTS = 2\n",
    "CIRCULAR = True\n",
    "\n",
    "np.random.seed(SEED)"
   ]
  },
  {
   "cell_type": "markdown",
   "id": "c480754f",
   "metadata": {
    "slideshow": {
     "slide_type": "fragment"
    }
   },
   "source": [
    "We create the empty domain object:"
   ]
  },
  {
   "cell_type": "code",
   "execution_count": null,
   "id": "549d62e4",
   "metadata": {
    "slideshow": {
     "slide_type": "fragment"
    }
   },
   "outputs": [],
   "source": [
    "domain = f3dasm.Domain()"
   ]
  },
  {
   "cell_type": "markdown",
   "id": "67b14e8c",
   "metadata": {
    "slideshow": {
     "slide_type": "slide"
    }
   },
   "source": [
    ".. and we add the parameters to our domain:"
   ]
  },
  {
   "cell_type": "code",
   "execution_count": 4,
   "id": "b07bf3b2",
   "metadata": {
    "slideshow": {
     "slide_type": "fragment"
    }
   },
   "outputs": [],
   "source": [
    "domain.add_constant('young_modulus', value=3500.0)\n",
    "domain.add_constant('n_longerons', value=3)\n",
    "domain.add_constant('bottom_diameter', value=100.0)\n",
    "\n",
    "domain.add_float('ratio_top_diameter', low=0.0, high=0.8)\n",
    "domain.add_float('ratio_pitch', low=0.25, high=1.5)\n",
    "\n",
    "if CIRCULAR:\n",
    "    domain.add_float('ratio_d', low=0.004, high=0.073)\n",
    "    domain.add_constant('ratio_shear_modulus', value=0.3677) "
   ]
  },
  {
   "cell_type": "code",
   "execution_count": 8,
   "id": "57a63839",
   "metadata": {
    "slideshow": {
     "slide_type": "fragment"
    }
   },
   "outputs": [
    {
     "data": {
      "text/plain": [
       "Domain(space={'young_modulus': ConstantParameter(value=3500.0), 'n_longerons': ConstantParameter(value=3), 'bottom_diameter': ConstantParameter(value=100.0), 'ratio_top_diameter': ContinuousParameter(lower_bound=0.0, upper_bound=0.8, log=False), 'ratio_pitch': ContinuousParameter(lower_bound=0.25, upper_bound=1.5, log=False), 'ratio_d': ContinuousParameter(lower_bound=0.004, upper_bound=0.073, log=False), 'ratio_shear_modulus': ConstantParameter(value=0.3677)})"
      ]
     },
     "execution_count": 8,
     "metadata": {},
     "output_type": "execute_result"
    }
   ],
   "source": [
    "domain"
   ]
  },
  {
   "cell_type": "markdown",
   "id": "dd7f1f3d",
   "metadata": {
    "slideshow": {
     "slide_type": "slide"
    }
   },
   "source": [
    "We sample from the domain using the [Sobol Sequence sampler](https://salib.readthedocs.io/en/latest/_modules/SALib/sample/sobol_sequence.html):"
   ]
  },
  {
   "cell_type": "code",
   "execution_count": 10,
   "id": "614f3e83",
   "metadata": {
    "slideshow": {
     "slide_type": "fragment"
    }
   },
   "outputs": [],
   "source": [
    "experimentdata = ExperimentData(domain)\n",
    "experimentdata.sample(sampler='sobol', n_samples=N_EXPERIMENTS, seed=SEED)"
   ]
  },
  {
   "cell_type": "code",
   "execution_count": 11,
   "id": "de29878b",
   "metadata": {
    "slideshow": {
     "slide_type": "fragment"
    }
   },
   "outputs": [
    {
     "data": {
      "text/html": [
       "<div>\n",
       "<style scoped>\n",
       "    .dataframe tbody tr th:only-of-type {\n",
       "        vertical-align: middle;\n",
       "    }\n",
       "\n",
       "    .dataframe tbody tr th {\n",
       "        vertical-align: top;\n",
       "    }\n",
       "\n",
       "    .dataframe thead tr th {\n",
       "        text-align: left;\n",
       "    }\n",
       "</style>\n",
       "<table border=\"1\" class=\"dataframe\">\n",
       "  <thead>\n",
       "    <tr>\n",
       "      <th></th>\n",
       "      <th>jobs</th>\n",
       "      <th colspan=\"7\" halign=\"left\">input</th>\n",
       "    </tr>\n",
       "    <tr>\n",
       "      <th></th>\n",
       "      <th></th>\n",
       "      <th>bottom_diameter</th>\n",
       "      <th>n_longerons</th>\n",
       "      <th>ratio_d</th>\n",
       "      <th>ratio_pitch</th>\n",
       "      <th>ratio_shear_modulus</th>\n",
       "      <th>ratio_top_diameter</th>\n",
       "      <th>young_modulus</th>\n",
       "    </tr>\n",
       "  </thead>\n",
       "  <tbody>\n",
       "    <tr>\n",
       "      <th>0</th>\n",
       "      <td>open</td>\n",
       "      <td>100.0</td>\n",
       "      <td>3.0</td>\n",
       "      <td>0.0040</td>\n",
       "      <td>0.250</td>\n",
       "      <td>0.3677</td>\n",
       "      <td>0.0</td>\n",
       "      <td>3500.0</td>\n",
       "    </tr>\n",
       "    <tr>\n",
       "      <th>1</th>\n",
       "      <td>open</td>\n",
       "      <td>100.0</td>\n",
       "      <td>3.0</td>\n",
       "      <td>0.0385</td>\n",
       "      <td>0.875</td>\n",
       "      <td>0.3677</td>\n",
       "      <td>0.4</td>\n",
       "      <td>3500.0</td>\n",
       "    </tr>\n",
       "  </tbody>\n",
       "</table>\n",
       "</div>"
      ],
      "text/plain": [
       "<f3dasm._src.experimentdata.experimentdata.ExperimentData at 0x7ff3cfb2fdc0>"
      ]
     },
     "execution_count": 11,
     "metadata": {},
     "output_type": "execute_result"
    }
   ],
   "source": [
    "experimentdata"
   ]
  },
  {
   "cell_type": "markdown",
   "id": "ebd661a4",
   "metadata": {
    "slideshow": {
     "slide_type": "fragment"
    }
   },
   "source": [
    "After that, we add another parameter to our domain (`imperfection`) which will be sampled from a lognormal distribution:"
   ]
  },
  {
   "cell_type": "code",
   "execution_count": 13,
   "id": "4b32598a",
   "metadata": {
    "slideshow": {
     "slide_type": "fragment"
    }
   },
   "outputs": [],
   "source": [
    "experimentdata.add_input_parameter('imperfection', f3dasm.ContinuousParameter())"
   ]
  },
  {
   "cell_type": "code",
   "execution_count": 15,
   "id": "f0c1f1ac",
   "metadata": {
    "slideshow": {
     "slide_type": "fragment"
    }
   },
   "outputs": [],
   "source": [
    "sampled_imperfections = np.random.lognormal(-2.705021452041446, 0.293560379208524, N_EXPERIMENTS)\n",
    "experimentdata.input_data.data['imperfection'] = sampled_imperfections"
   ]
  },
  {
   "cell_type": "code",
   "execution_count": 16,
   "id": "3766635b",
   "metadata": {
    "slideshow": {
     "slide_type": "slide"
    }
   },
   "outputs": [
    {
     "data": {
      "text/html": [
       "<div>\n",
       "<style scoped>\n",
       "    .dataframe tbody tr th:only-of-type {\n",
       "        vertical-align: middle;\n",
       "    }\n",
       "\n",
       "    .dataframe tbody tr th {\n",
       "        vertical-align: top;\n",
       "    }\n",
       "\n",
       "    .dataframe thead tr th {\n",
       "        text-align: left;\n",
       "    }\n",
       "</style>\n",
       "<table border=\"1\" class=\"dataframe\">\n",
       "  <thead>\n",
       "    <tr>\n",
       "      <th></th>\n",
       "      <th>jobs</th>\n",
       "      <th colspan=\"8\" halign=\"left\">input</th>\n",
       "    </tr>\n",
       "    <tr>\n",
       "      <th></th>\n",
       "      <th></th>\n",
       "      <th>bottom_diameter</th>\n",
       "      <th>n_longerons</th>\n",
       "      <th>ratio_d</th>\n",
       "      <th>ratio_pitch</th>\n",
       "      <th>ratio_shear_modulus</th>\n",
       "      <th>ratio_top_diameter</th>\n",
       "      <th>young_modulus</th>\n",
       "      <th>imperfection</th>\n",
       "    </tr>\n",
       "  </thead>\n",
       "  <tbody>\n",
       "    <tr>\n",
       "      <th>0</th>\n",
       "      <td>open</td>\n",
       "      <td>100.0</td>\n",
       "      <td>3.0</td>\n",
       "      <td>0.0040</td>\n",
       "      <td>0.250</td>\n",
       "      <td>0.3677</td>\n",
       "      <td>0.0</td>\n",
       "      <td>3500.0</td>\n",
       "      <td>0.039309</td>\n",
       "    </tr>\n",
       "    <tr>\n",
       "      <th>1</th>\n",
       "      <td>open</td>\n",
       "      <td>100.0</td>\n",
       "      <td>3.0</td>\n",
       "      <td>0.0385</td>\n",
       "      <td>0.875</td>\n",
       "      <td>0.3677</td>\n",
       "      <td>0.4</td>\n",
       "      <td>3500.0</td>\n",
       "      <td>0.072229</td>\n",
       "    </tr>\n",
       "  </tbody>\n",
       "</table>\n",
       "</div>"
      ],
      "text/plain": [
       "<f3dasm._src.experimentdata.experimentdata.ExperimentData at 0x7ff3cfb2fdc0>"
      ]
     },
     "execution_count": 16,
     "metadata": {},
     "output_type": "execute_result"
    }
   ],
   "source": [
    "experimentdata"
   ]
  },
  {
   "cell_type": "markdown",
   "id": "61c68019",
   "metadata": {
    "slideshow": {
     "slide_type": "fragment"
    }
   },
   "source": [
    "Now we are ready to evaluate our samples with a datagenerator:\n",
    "The simulation consists of two concurrent ABAQUS simulations:\n",
    "\n",
    "* The first one is a linear buckling simulation\n",
    "* The second one is a RIKS simulation"
   ]
  },
  {
   "cell_type": "code",
   "execution_count": 18,
   "id": "b88e0188",
   "metadata": {
    "slideshow": {
     "slide_type": "fragment"
    }
   },
   "outputs": [],
   "source": [
    "from f3dasm.datageneration.abaqus import pre_process, post_process, AbaqusSimulator"
   ]
  },
  {
   "cell_type": "markdown",
   "id": "9719e55b",
   "metadata": {
    "slideshow": {
     "slide_type": "slide"
    }
   },
   "source": [
    "We split up the components of the simulation in three parts:\n",
    "\n",
    "* **pre-processing**: combine the design and the other parameters/constants to an input file\n",
    "* **processing**: run the simulation\n",
    "* **post-processing**: convert the output of the simulator back to `f3dasm`\n",
    "\n",
    "<img src=\"./img/blocks_supercompressible_datagenerator.png\" width=\"100%\">"
   ]
  },
  {
   "cell_type": "code",
   "execution_count": 19,
   "id": "ce27248a",
   "metadata": {
    "slideshow": {
     "slide_type": "slide"
    }
   },
   "outputs": [],
   "source": [
    "# Buckling\n",
    "buckling_script_python_file = 'supercompressible_lin_buckle'\n",
    "buckling_function_name_execute = 'main'\n",
    "buckling_script_parent_folder_path = Path(r'H:\\GitHub\\f3dasm_simulate\\notebooks')\n",
    "buckling_post_python_file = 'supercompressible_lin_buckle_pp'\n",
    "buckling_function_name_post = 'main'\n",
    "\n",
    "simulator_buckling = AbaqusSimulator(name = \"Simul_SUPERCOMPRESSIBLE_LIN_BUCKLE\", \n",
    "                                     delete_odb=False, num_cpus=1)\n",
    "\n",
    "simulator_buckling.add_pre_process(pre_process, folder_path=buckling_script_parent_folder_path,   \n",
    "                                   python_file=buckling_script_python_file, \n",
    "                                   function_name=buckling_function_name_execute,\n",
    "                                   circular=CIRCULAR,\n",
    "                                   name = \"Simul_SUPERCOMPRESSIBLE_LIN_BUCKLE\",\n",
    "                                   remove_temp_files=False)\n",
    "\n",
    "simulator_buckling.add_post_process(post_process, folder_path=buckling_script_parent_folder_path, \n",
    "                                    python_file=buckling_post_python_file, \n",
    "                                    function_name=buckling_function_name_post,\n",
    "                                    name = \"Simul_SUPERCOMPRESSIBLE_LIN_BUCKLE\",\n",
    "                                    remove_temp_files=False)"
   ]
  },
  {
   "cell_type": "code",
   "execution_count": 20,
   "id": "280df446",
   "metadata": {
    "slideshow": {
     "slide_type": "slide"
    }
   },
   "outputs": [],
   "source": [
    "# RIKS\n",
    "riks_script_python_file = 'supercompressible_riks'\n",
    "riks_function_name_execute = 'main'\n",
    "riks_script_parent_folder_path = Path(r'H:\\GitHub\\f3dasm_simulate\\notebooks')\n",
    "riks_post_python_file = 'supercompressible_riks_pp'\n",
    "riks_function_name_post = 'main'\n",
    "\n",
    "simulator_riks = AbaqusSimulator(name = \"Simul_SUPERCOMPRESSIBLE_RIKS\", \n",
    "                                     delete_odb=False, num_cpus=1, delete_temp_files=False)\n",
    "\n",
    "simulator_riks.add_pre_process(pre_process, folder_path=riks_script_parent_folder_path, \n",
    "                               python_file=riks_script_python_file, \n",
    "                               function_name=riks_function_name_execute,\n",
    "                               circular=CIRCULAR,\n",
    "                               name = \"Simul_SUPERCOMPRESSIBLE_RIKS\",\n",
    "                               remove_temp_files=False)\n",
    "\n",
    "simulator_riks.add_post_process(post_process, folder_path=riks_script_parent_folder_path, \n",
    "                                python_file=riks_post_python_file, \n",
    "                                function_name=riks_function_name_post,\n",
    "                                name = \"Simul_SUPERCOMPRESSIBLE_RIKS\",\n",
    "                                remove_temp_files=False)"
   ]
  },
  {
   "cell_type": "markdown",
   "id": "82c59980",
   "metadata": {
    "slideshow": {
     "slide_type": "slide"
    }
   },
   "source": [
    "Now we can run the simulators:\n",
    "First the buckling simulation:"
   ]
  },
  {
   "cell_type": "markdown",
   "id": "895ebdf4",
   "metadata": {
    "slideshow": {
     "slide_type": "fragment"
    }
   },
   "source": [
    "```\n",
    "data.evaluate(simulator_buckling, mode='sequential')\n",
    "```"
   ]
  },
  {
   "cell_type": "markdown",
   "id": "d46ac858",
   "metadata": {
    "slideshow": {
     "slide_type": "fragment"
    }
   },
   "source": [
    "From this simulation we will know if the design we are testing is coilable or not.\n",
    "Only designs that are coilable will be subjected to the RIKS simulation"
   ]
  },
  {
   "cell_type": "markdown",
   "id": "e07ab59f",
   "metadata": {
    "slideshow": {
     "slide_type": "fragment"
    }
   },
   "source": [
    "```\n",
    "riks_selection = [index for index, \n",
    "                    sample in enumerate(data.output_data) \n",
    "                    if sample['coilable']]\n",
    "```"
   ]
  },
  {
   "cell_type": "markdown",
   "id": "6c800467",
   "metadata": {
    "slideshow": {
     "slide_type": "slide"
    }
   },
   "source": [
    "We mark the selected jobs 'open' again so that the `evaluate` method will evalute them!"
   ]
  },
  {
   "cell_type": "markdown",
   "id": "493722bb",
   "metadata": {
    "slideshow": {
     "slide_type": "fragment"
    }
   },
   "source": [
    "```\n",
    "experimentdata.mark(riks_selection, 'open')\n",
    "\n",
    "experimentdata.evaluate(simulator_riks, mode='cluster')\n",
    "```"
   ]
  },
  {
   "cell_type": "markdown",
   "id": "f2d74037",
   "metadata": {},
   "source": [
    "This is how the data for the 7 parameters looks like:"
   ]
  },
  {
   "cell_type": "code",
   "execution_count": 25,
   "id": "1cd34c73",
   "metadata": {
    "slideshow": {
     "slide_type": "slide"
    }
   },
   "outputs": [
    {
     "data": {
      "text/html": [
       "<div>\n",
       "<style scoped>\n",
       "    .dataframe tbody tr th:only-of-type {\n",
       "        vertical-align: middle;\n",
       "    }\n",
       "\n",
       "    .dataframe tbody tr th {\n",
       "        vertical-align: top;\n",
       "    }\n",
       "\n",
       "    .dataframe thead tr th {\n",
       "        text-align: left;\n",
       "    }\n",
       "</style>\n",
       "<table border=\"1\" class=\"dataframe\">\n",
       "  <thead>\n",
       "    <tr>\n",
       "      <th></th>\n",
       "      <th>jobs</th>\n",
       "      <th colspan=\"7\" halign=\"left\">input</th>\n",
       "      <th colspan=\"3\" halign=\"left\">output</th>\n",
       "    </tr>\n",
       "    <tr>\n",
       "      <th></th>\n",
       "      <th></th>\n",
       "      <th>ratio_area</th>\n",
       "      <th>ratio_Ixx</th>\n",
       "      <th>ratio_Iyy</th>\n",
       "      <th>ratio_J</th>\n",
       "      <th>ratio_pitch</th>\n",
       "      <th>ratio_top_diameter</th>\n",
       "      <th>ratio_shear_modulus</th>\n",
       "      <th>coilable</th>\n",
       "      <th>sigma_crit</th>\n",
       "      <th>energy</th>\n",
       "    </tr>\n",
       "  </thead>\n",
       "  <tbody>\n",
       "    <tr>\n",
       "      <th>0</th>\n",
       "      <td>finished</td>\n",
       "      <td>0.000012</td>\n",
       "      <td>1.128000e-11</td>\n",
       "      <td>1.128000e-11</td>\n",
       "      <td>1.353000e-11</td>\n",
       "      <td>0.250000</td>\n",
       "      <td>0.000000</td>\n",
       "      <td>0.035000</td>\n",
       "      <td>0</td>\n",
       "      <td>NaN</td>\n",
       "      <td>NaN</td>\n",
       "    </tr>\n",
       "    <tr>\n",
       "      <th>1</th>\n",
       "      <td>finished</td>\n",
       "      <td>0.002056</td>\n",
       "      <td>7.000056e-07</td>\n",
       "      <td>7.000056e-07</td>\n",
       "      <td>3.885007e-06</td>\n",
       "      <td>0.875000</td>\n",
       "      <td>0.400000</td>\n",
       "      <td>0.242500</td>\n",
       "      <td>1</td>\n",
       "      <td>72.802564</td>\n",
       "      <td>27.523754</td>\n",
       "    </tr>\n",
       "    <tr>\n",
       "      <th>2</th>\n",
       "      <td>finished</td>\n",
       "      <td>0.003078</td>\n",
       "      <td>3.500085e-07</td>\n",
       "      <td>3.500085e-07</td>\n",
       "      <td>1.942510e-06</td>\n",
       "      <td>1.187500</td>\n",
       "      <td>0.600000</td>\n",
       "      <td>0.138750</td>\n",
       "      <td>0</td>\n",
       "      <td>24.143168</td>\n",
       "      <td>NaN</td>\n",
       "    </tr>\n",
       "    <tr>\n",
       "      <th>3</th>\n",
       "      <td>finished</td>\n",
       "      <td>0.001034</td>\n",
       "      <td>1.050003e-06</td>\n",
       "      <td>1.050003e-06</td>\n",
       "      <td>5.827503e-06</td>\n",
       "      <td>0.562500</td>\n",
       "      <td>0.200000</td>\n",
       "      <td>0.346250</td>\n",
       "      <td>1</td>\n",
       "      <td>125.862275</td>\n",
       "      <td>34.059363</td>\n",
       "    </tr>\n",
       "    <tr>\n",
       "      <th>4</th>\n",
       "      <td>finished</td>\n",
       "      <td>0.001545</td>\n",
       "      <td>5.250071e-07</td>\n",
       "      <td>8.750042e-07</td>\n",
       "      <td>6.798752e-06</td>\n",
       "      <td>0.718750</td>\n",
       "      <td>0.100000</td>\n",
       "      <td>0.190625</td>\n",
       "      <td>1</td>\n",
       "      <td>75.063837</td>\n",
       "      <td>23.916408</td>\n",
       "    </tr>\n",
       "    <tr>\n",
       "      <th>...</th>\n",
       "      <td>...</td>\n",
       "      <td>...</td>\n",
       "      <td>...</td>\n",
       "      <td>...</td>\n",
       "      <td>...</td>\n",
       "      <td>...</td>\n",
       "      <td>...</td>\n",
       "      <td>...</td>\n",
       "      <td>...</td>\n",
       "      <td>...</td>\n",
       "      <td>...</td>\n",
       "    </tr>\n",
       "    <tr>\n",
       "      <th>49995</th>\n",
       "      <td>finished</td>\n",
       "      <td>0.001916</td>\n",
       "      <td>1.372379e-06</td>\n",
       "      <td>1.285349e-06</td>\n",
       "      <td>5.077371e-06</td>\n",
       "      <td>1.401104</td>\n",
       "      <td>0.593347</td>\n",
       "      <td>0.127624</td>\n",
       "      <td>0</td>\n",
       "      <td>68.073752</td>\n",
       "      <td>NaN</td>\n",
       "    </tr>\n",
       "    <tr>\n",
       "      <th>49996</th>\n",
       "      <td>finished</td>\n",
       "      <td>0.001405</td>\n",
       "      <td>4.973858e-07</td>\n",
       "      <td>7.603537e-07</td>\n",
       "      <td>4.106122e-06</td>\n",
       "      <td>1.244854</td>\n",
       "      <td>0.693347</td>\n",
       "      <td>0.283249</td>\n",
       "      <td>1</td>\n",
       "      <td>36.441389</td>\n",
       "      <td>NaN</td>\n",
       "    </tr>\n",
       "    <tr>\n",
       "      <th>49997</th>\n",
       "      <td>finished</td>\n",
       "      <td>0.003450</td>\n",
       "      <td>1.197380e-06</td>\n",
       "      <td>6.035930e-08</td>\n",
       "      <td>2.211290e-07</td>\n",
       "      <td>0.619854</td>\n",
       "      <td>0.293347</td>\n",
       "      <td>0.075749</td>\n",
       "      <td>1</td>\n",
       "      <td>1.298832</td>\n",
       "      <td>2.049802</td>\n",
       "    </tr>\n",
       "    <tr>\n",
       "      <th>49998</th>\n",
       "      <td>finished</td>\n",
       "      <td>0.002427</td>\n",
       "      <td>1.473886e-07</td>\n",
       "      <td>1.110351e-06</td>\n",
       "      <td>6.048619e-06</td>\n",
       "      <td>0.307354</td>\n",
       "      <td>0.093347</td>\n",
       "      <td>0.386999</td>\n",
       "      <td>1</td>\n",
       "      <td>87.300943</td>\n",
       "      <td>29.472708</td>\n",
       "    </tr>\n",
       "    <tr>\n",
       "      <th>49999</th>\n",
       "      <td>finished</td>\n",
       "      <td>0.000383</td>\n",
       "      <td>8.473830e-07</td>\n",
       "      <td>4.103565e-07</td>\n",
       "      <td>2.163626e-06</td>\n",
       "      <td>0.932354</td>\n",
       "      <td>0.493347</td>\n",
       "      <td>0.179499</td>\n",
       "      <td>1</td>\n",
       "      <td>39.661412</td>\n",
       "      <td>NaN</td>\n",
       "    </tr>\n",
       "  </tbody>\n",
       "</table>\n",
       "<p>50000 rows × 11 columns</p>\n",
       "</div>"
      ],
      "text/plain": [
       "<f3dasm._src.experimentdata.experimentdata.ExperimentData at 0x7ff3cfdc3c70>"
      ]
     },
     "execution_count": 25,
     "metadata": {},
     "output_type": "execute_result"
    }
   ],
   "source": [
    "ExperimentData.from_file('/home/martin/Documents/GitHub/3dasm_course/Projects/Supercompressible/STUFF_NOT_TO_UPLOAD/data/supercompressible_7d')"
   ]
  },
  {
   "cell_type": "markdown",
   "id": "35d3f494",
   "metadata": {
    "slideshow": {
     "slide_type": "slide"
    }
   },
   "source": [
    "## Let's do machine learning\n",
    "\n",
    "Now that we have evaluated samples from our design space, we are trying to predict the responses for the entire domain with a machine learning model:\n",
    "\n",
    "* The **coilability** with a **classification model**\n",
    "* The critical buckling load and energy with a **regression model**\n",
    "\n",
    "\n",
    "<img src=./img/regression_classification.png width=60%>"
   ]
  },
  {
   "cell_type": "markdown",
   "id": "83046644",
   "metadata": {
    "slideshow": {
     "slide_type": "slide"
    }
   },
   "source": [
    "## Aim of the project\n",
    "\n",
    "* Find good **regression** and **classification** models to predict the coilability, $\\sigma_{crit}$ and $E$ \n",
    "* Investigate the influence of the number of training points and hyperparameters\n",
    "* Optimize your models to find improved designs!"
   ]
  },
  {
   "cell_type": "markdown",
   "id": "9b46fffb",
   "metadata": {
    "slideshow": {
     "slide_type": "slide"
    }
   },
   "source": [
    "<img src=./img/Brown_logo.svg width=30%>\n",
    "\n",
    "# Project 2: Fragile becomes Supercompressible\n",
    "\n",
    "\n",
    "### Martin van der Schelling | <a href = \"mailto: martin_van_der_schelling@brown.edu\">martin_van_der_schelling@brown.edu</a>  | PhD candidate\n",
    "\n",
    "*Bessa, M. A., Glowacki, P., & Houlder, M. (2019). Bayesian Machine Learning in Metamaterial Design: Fragile Becomes Supercompressible. Advanced Materials, 31(48), 1–6. https://doi.org/10.1002/adma.201904845*"
   ]
  }
 ],
 "metadata": {
  "celltoolbar": "Slideshow",
  "kernelspec": {
   "display_name": "Python [conda env:presentation] *",
   "language": "python",
   "name": "conda-env-presentation-py"
  },
  "language_info": {
   "codemirror_mode": {
    "name": "ipython",
    "version": 3
   },
   "file_extension": ".py",
   "mimetype": "text/x-python",
   "name": "python",
   "nbconvert_exporter": "python",
   "pygments_lexer": "ipython3",
   "version": "3.8.17"
  }
 },
 "nbformat": 4,
 "nbformat_minor": 5
}

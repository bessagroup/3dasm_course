{
 "cells": [
  {
   "cell_type": "markdown",
   "id": "095a5ef5",
   "metadata": {
    "deletable": false,
    "editable": false
   },
   "source": [
    "# Data-Driven Design and Analysis of Structures and Materials\n",
    "\n",
    "### Instructor: Miguel A. Bessa\n",
    "\n",
    "## Homework 7\n",
    "\n",
    "Coding exercises to explore the data-driven process and [`f3dasm`](https://f3dasm.readthedocs.io/en/latest/) package.\n",
    "\n",
    "**General instructions**:\n",
    "\n",
    "- Read the questions and answer in the cells under the \"PUT YOUR CODE IN THE CELL BELOW\" message.\n",
    "- Work through the notebook and make sure you fill in any place that says `YOUR CODE HERE` or `YOUR ANSWER HERE`. You should start by removing the `'raise NotImplementedError()'` code in those cells.\n",
    "- After \"END OF YOUR CODE\" , there is a cell that contains simple tests (with `assert` statements) to see if you did the exercises correctly. Not all exercises have tests! If you run the cell containing the tests and no error is given, you have succesfully solved the exercise!\n",
    "- Make sure you have the right version of `f3dasm` (1.5.4). The cell below checks this:\n",
    "\n",
    "- **ONLY WORK ON THE EXERCISE IN A JUPYTER NOTEBOOK ENVIRONMENT**\n",
    "\n",
    "> The homework assignments are generated and automatically graded by the `nbgrader` extension. If you open and save the notebook in Google Colab, metadata from Colab will be added, and the `nbgrader` metadata will be altered. As a result, `nbgrader` will be unable to automatically grade your homework. Therefore, please work on the notebook in Jupyter Notebook.\n",
    "\n",
    "- **DO NOT ADD OR REMOVE CELLS IN THE NOTEBOOK**\n",
    "\n",
    "> Most cells containing tests are set to read-only, but VS Code can bypass this restriction. Modifying or removing cells in the notebook may disrupt the `nbgrader` system, preventing automatic grading of your homework.\n",
    "\n",
    "**Instructions for handing in the homework**\n",
    "\n",
    "- Upload the Jupyter Notebook (`.ipynb file`) to canvas\n",
    "\n",
    "If there are any questions about the homework, send an email to Miguel or Martin (m.p.vanderschelling@tudelft.nl)"
   ]
  },
  {
   "cell_type": "markdown",
   "id": "1fd3e62f",
   "metadata": {
    "deletable": false,
    "editable": false
   },
   "source": [
    "The cell below checks if you have the right version of `f3dasm` (1.5.4):"
   ]
  },
  {
   "cell_type": "code",
   "execution_count": null,
   "id": "ab0ff071",
   "metadata": {
    "deletable": false,
    "editable": false,
    "nbgrader": {
     "cell_type": "code",
     "checksum": "eb77065df8e10baff6decc95a6c1bcd3",
     "grade": false,
     "grade_id": "cell-2885211d7254cac3",
     "locked": true,
     "schema_version": 3,
     "solution": false,
     "task": false
    }
   },
   "outputs": [],
   "source": [
    "import f3dasm\n",
    "import IPython\n",
    "\n",
    "# Check if the f3dasm version is correct\n",
    "assert f3dasm.__version__ == '1.5.4', \"Your version of f3dasm is incorrect, please update it.\"\n",
    "\n",
    "# Check if the IPython version is at least 3\n",
    "assert IPython.version_info[0] >= 3, \"Your version of IPython is too old, please update it.\"\n",
    "\n",
    "# If no assert statements are triggered, print a succes message\n",
    "print(\"Your environment is set up correctly :)\")"
   ]
  },
  {
   "cell_type": "markdown",
   "id": "d2f23021",
   "metadata": {
    "deletable": false,
    "editable": false
   },
   "source": [
    "You can put your name in the cell below:"
   ]
  },
  {
   "cell_type": "code",
   "execution_count": null,
   "id": "1cb77a9b",
   "metadata": {},
   "outputs": [],
   "source": [
    "NAME = \"\""
   ]
  },
  {
   "cell_type": "markdown",
   "id": "d101b48f",
   "metadata": {
    "deletable": false,
    "editable": false
   },
   "source": [
    "---"
   ]
  },
  {
   "cell_type": "markdown",
   "id": "a557b9dc-14dc-473d-a21f-c88fd37fb5f4",
   "metadata": {
    "deletable": false,
    "editable": false
   },
   "source": [
    "### Homework 7\n",
    "\n",
    "In this homework you will explore the basic usage of the `f3dasm` package:\n",
    "\n",
    "At the end of this homework you will know\n",
    "- how to do Design of Experiments, including creating the `Domain` object, and `ExperimentData` object from a numpy array and a pandas DataFrame.\n",
    "- how to define the Data Generation module, including creating your custom evaluation function.\n",
    "- how to save your `ExperimentData` and later retrieve it from disk.\n",
    "- how to use the package to do simple model selection."
   ]
  },
  {
   "cell_type": "code",
   "execution_count": null,
   "id": "859e4470-1a77-42dc-a666-e443ddcb027f",
   "metadata": {
    "deletable": false,
    "editable": false,
    "nbgrader": {
     "cell_type": "code",
     "checksum": "eb8f7a9ce5d73880ac0ae58c1c15bb6f",
     "grade": false,
     "grade_id": "cell-695c433357ca68ea",
     "locked": true,
     "schema_version": 3,
     "solution": false,
     "task": false
    }
   },
   "outputs": [],
   "source": [
    "# Import some packages we might need later\n",
    "import numpy as np"
   ]
  },
  {
   "cell_type": "markdown",
   "id": "a7deb380-1954-4890-9d83-a41511853059",
   "metadata": {
    "deletable": false,
    "editable": false
   },
   "source": [
    "---\n",
    "### Exercise 1\n",
    "\n",
    "1.1 Consider the function $f(x) = x  \\; sin(x)$ in the domain $x \\in [0, 10]$\n",
    "\n",
    "Do the Design of Experiments manually by creating a `f3dasm.ExperimentData` dataset with $50$ input points that are equally spaced within those bounds.\n",
    "\n",
    "You are going to do this step-by-step!\n",
    "\n",
    "---\n",
    "\n",
    "- Create a `Domain` object called `my_domain` and add the input parameter $x$ to it. Make sure the bounds of the\n",
    "variable are between $0.0$ and $10.0$."
   ]
  },
  {
   "cell_type": "markdown",
   "id": "2c50ff6c-21fc-4997-8ffc-2a1b806f958f",
   "metadata": {
    "deletable": false,
    "editable": false
   },
   "source": [
    "PUT YOUR CODE IN THE CELL BELOW"
   ]
  },
  {
   "cell_type": "code",
   "execution_count": null,
   "id": "61ddf525-3c66-4130-a2cb-b57d08a5ba63",
   "metadata": {
    "deletable": false,
    "nbgrader": {
     "cell_type": "code",
     "checksum": "7ee452beb030f09714e6cf5238917f20",
     "grade": false,
     "grade_id": "my_domain",
     "locked": false,
     "schema_version": 3,
     "solution": true,
     "task": false
    }
   },
   "outputs": [],
   "source": [
    "# YOUR CODE HERE\n",
    "raise NotImplementedError()"
   ]
  },
  {
   "cell_type": "markdown",
   "id": "114869cc-cf45-4054-b305-87a6066c2933",
   "metadata": {
    "deletable": false,
    "editable": false
   },
   "source": [
    "END OF YOUR CODE"
   ]
  },
  {
   "cell_type": "code",
   "execution_count": null,
   "id": "01ad0c1a-7846-4710-ad2c-dc3fab007764",
   "metadata": {
    "deletable": false,
    "editable": false,
    "nbgrader": {
     "cell_type": "code",
     "checksum": "6afc4b47b8c12a6d2a6de81c09e914bc",
     "grade": true,
     "grade_id": "cell-d916c20f5d8fb8f5",
     "locked": true,
     "points": 1,
     "schema_version": 3,
     "solution": false,
     "task": false
    }
   },
   "outputs": [],
   "source": [
    "# This cell checks if you did the exercise correctly\n",
    "assert isinstance(my_domain, Domain), \"my_domain is not an instance of the Domain class!\"\n",
    "assert 'x' in my_domain.space, \"There is no parameter named 'x' in your domain!\"\n",
    "assert my_domain.space['x'].lower_bound == 0.0, \"The lower bound of the paramater x is not 0.0\"\n",
    "assert my_domain.space['x'].upper_bound == 10.0, \"The upper bound of the parameter x is not 10.0\""
   ]
  },
  {
   "cell_type": "markdown",
   "id": "7dcd627e-ba59-48d5-9dd5-f465e4e4bf5a",
   "metadata": {
    "deletable": false,
    "editable": false
   },
   "source": [
    "---\n",
    "\n",
    "- Create a `numpy` vector `x_data` of $50$ points that are equally spaced between $0$ and $10$."
   ]
  },
  {
   "cell_type": "markdown",
   "id": "80084d89-5bb8-4810-88ea-8c6741302f5b",
   "metadata": {
    "deletable": false,
    "editable": false
   },
   "source": [
    "PUT YOUR CODE IN THE CELL BELOW"
   ]
  },
  {
   "cell_type": "code",
   "execution_count": null,
   "id": "2eff8da7-048e-4927-aced-c85deb076ee0",
   "metadata": {
    "deletable": false,
    "nbgrader": {
     "cell_type": "code",
     "checksum": "7c051475270a663fee42f3810191f706",
     "grade": false,
     "grade_id": "cell-297b52680c4351f4",
     "locked": false,
     "schema_version": 3,
     "solution": true,
     "task": false
    }
   },
   "outputs": [],
   "source": [
    "# YOUR CODE HERE\n",
    "raise NotImplementedError()"
   ]
  },
  {
   "cell_type": "markdown",
   "id": "88d69539-1343-4a13-a357-d05118357d5e",
   "metadata": {
    "deletable": false,
    "editable": false
   },
   "source": [
    "END OF YOUR CODE"
   ]
  },
  {
   "cell_type": "code",
   "execution_count": null,
   "id": "6d000011-66b1-47d8-8eed-831c6c6281a0",
   "metadata": {
    "deletable": false,
    "editable": false,
    "nbgrader": {
     "cell_type": "code",
     "checksum": "875691562b7d3eda2c2f66627a55f35e",
     "grade": true,
     "grade_id": "cell-2af2df8e08967b59",
     "locked": true,
     "points": 1,
     "schema_version": 3,
     "solution": false,
     "task": false
    }
   },
   "outputs": [],
   "source": [
    "# This cell checks if you did the exercise correctly\n",
    "assert np.isclose(x_data[3], 0.61224), \"The value of x_data in position 3 is not correct!\"\n",
    "assert np.isclose(x_data[6], 1.22448), \"The value of x_data in position 6 is not correct!\"\n",
    "assert np.isclose(x_data[-1], 10.0), \"The value of x_data in the last position is not correct!\""
   ]
  },
  {
   "cell_type": "markdown",
   "id": "9bfd4ed1-a944-46c6-972c-81658e396eaf",
   "metadata": {
    "deletable": false,
    "editable": false
   },
   "source": [
    "---\n",
    "\n",
    "- Create a new `ExperimentData` object called `my_experimentdata` with the input data `x_data`\n",
    "and the domain object created in the first step."
   ]
  },
  {
   "cell_type": "markdown",
   "id": "e0d310c1-6c7d-45ae-b884-26eb8c720a62",
   "metadata": {
    "deletable": false,
    "editable": false
   },
   "source": [
    "PUT YOUR CODE IN THE CELL BELOW"
   ]
  },
  {
   "cell_type": "code",
   "execution_count": null,
   "id": "f7fa9120-52cd-4f15-84e3-92252e00e4e4",
   "metadata": {
    "deletable": false,
    "nbgrader": {
     "cell_type": "code",
     "checksum": "12220e4abdaa6d123520b480b3c54270",
     "grade": false,
     "grade_id": "cell-2600cfc7761b7942",
     "locked": false,
     "schema_version": 3,
     "solution": true,
     "task": false
    }
   },
   "outputs": [],
   "source": [
    "# YOUR CODE HERE\n",
    "raise NotImplementedError()"
   ]
  },
  {
   "cell_type": "markdown",
   "id": "ee39c47a-bde2-4d1c-a064-56282967f4bd",
   "metadata": {
    "deletable": false,
    "editable": false
   },
   "source": [
    "END OF YOUR CODE"
   ]
  },
  {
   "cell_type": "markdown",
   "id": "0a75f09f-8a77-4b60-920e-cdf60802c512",
   "metadata": {
    "deletable": false,
    "editable": false
   },
   "source": [
    "---\n",
    "\n",
    "- Create a function $f(x)$ that computes $x \\; sin(x)$"
   ]
  },
  {
   "cell_type": "markdown",
   "id": "01c13447-7652-4adf-9cbd-6d32225faf7f",
   "metadata": {
    "deletable": false,
    "editable": false
   },
   "source": [
    "PUT YOUR CODE IN THE CELL BELOW"
   ]
  },
  {
   "cell_type": "code",
   "execution_count": null,
   "id": "784ea977-0e4a-4821-92bd-00da1bc65c21",
   "metadata": {
    "deletable": false,
    "nbgrader": {
     "cell_type": "code",
     "checksum": "cf3724007603e2cc31f6ea6409b24cd7",
     "grade": false,
     "grade_id": "cell-e8432075abd233a6",
     "locked": false,
     "schema_version": 3,
     "solution": true,
     "task": false
    }
   },
   "outputs": [],
   "source": [
    "def f(x: float) -> float:\n",
    "    # YOUR CODE HERE\n",
    "    raise NotImplementedError()\n",
    "    return y"
   ]
  },
  {
   "cell_type": "markdown",
   "id": "7246fc27-b7b9-4b00-85ec-24ee69bfbf8e",
   "metadata": {
    "deletable": false,
    "editable": false
   },
   "source": [
    "END OF YOUR CODE"
   ]
  },
  {
   "cell_type": "code",
   "execution_count": null,
   "id": "b7574e4b-a5fd-45fa-b148-b140efe6e4bd",
   "metadata": {
    "deletable": false,
    "editable": false,
    "nbgrader": {
     "cell_type": "code",
     "checksum": "eabfc5c0ff2426c816534a8bf8680210",
     "grade": true,
     "grade_id": "cell-98d87c5fab17d24a",
     "locked": true,
     "points": 1,
     "schema_version": 3,
     "solution": false,
     "task": false
    }
   },
   "outputs": [],
   "source": [
    "# This cell checks if you did the exercise correctly\n",
    "assert np.isclose(f(1), 0.84147), \"When prompting the function with input x=1, the output is not correct!\"\n",
    "assert np.isclose(f(2), 1.81859), \"When prompting the function with input x=2, the output is not correct!\""
   ]
  },
  {
   "cell_type": "markdown",
   "id": "773cd263-447c-4a20-beab-0c4470534c69",
   "metadata": {
    "deletable": false,
    "editable": false
   },
   "source": [
    "---\n",
    "\n",
    "- Evaluate the input data of the `f3dasm.ExperimentData` object with function $f(x)$ and name\n",
    "the output `y`"
   ]
  },
  {
   "cell_type": "markdown",
   "id": "02590a43-c986-4834-abd7-61efcd3f9bbb",
   "metadata": {
    "deletable": false,
    "editable": false
   },
   "source": [
    "PUT YOUR CODE IN THE CELL BELOW"
   ]
  },
  {
   "cell_type": "code",
   "execution_count": null,
   "id": "4f42af73-7cc2-484e-b413-0024aef64c76",
   "metadata": {
    "deletable": false,
    "nbgrader": {
     "cell_type": "code",
     "checksum": "5ff22039f9677b493ee9282568042646",
     "grade": false,
     "grade_id": "cell-805e946d720c3668",
     "locked": false,
     "schema_version": 3,
     "solution": true,
     "task": false
    }
   },
   "outputs": [],
   "source": [
    "# YOUR CODE HERE\n",
    "raise NotImplementedError()"
   ]
  },
  {
   "cell_type": "markdown",
   "id": "ef028b7d-cdb4-4158-8640-e1ab046558ca",
   "metadata": {
    "deletable": false,
    "editable": false
   },
   "source": [
    "END OF YOUR CODE"
   ]
  },
  {
   "cell_type": "code",
   "execution_count": null,
   "id": "c7da110b-f158-4530-b11d-3292e049b60c",
   "metadata": {
    "deletable": false,
    "editable": false,
    "nbgrader": {
     "cell_type": "code",
     "checksum": "890c2681b6cfa8bbe59bde6761891418",
     "grade": true,
     "grade_id": "cell-df2fcbac53b4effc",
     "locked": true,
     "points": 1,
     "schema_version": 3,
     "solution": false,
     "task": false
    }
   },
   "outputs": [],
   "source": [
    "# This cell checks if you did the exercise correctly\n",
    "assert all(np.isclose(my_experimentdata.to_numpy()[1].ravel(), f(x_data))), \"The output of the experimentdata is not correct!\""
   ]
  },
  {
   "cell_type": "markdown",
   "id": "723c7a04-91dc-47b8-bf44-6b3d33b4ce2a",
   "metadata": {
    "deletable": false,
    "editable": false
   },
   "source": [
    "---\n",
    "\n",
    "1.2 Plot the function from the 50 points that you defined, label the x-axis as \"x\" and the y axis as \"y\",\n",
    "and include a title \"Exercise 1\" in the plot."
   ]
  },
  {
   "cell_type": "markdown",
   "id": "b2d57c37-7a95-45d7-8fc9-114f2bdd5fa0",
   "metadata": {
    "deletable": false,
    "editable": false
   },
   "source": [
    "PUT YOUR CODE IN THE CELL BELOW"
   ]
  },
  {
   "cell_type": "code",
   "execution_count": null,
   "id": "08856d45-32d0-4452-a9be-a55882974f3a",
   "metadata": {
    "deletable": false,
    "nbgrader": {
     "cell_type": "code",
     "checksum": "60fce4c6f629cc1fd2180834699c3e08",
     "grade": false,
     "grade_id": "cell-177d376bc1352fc8",
     "locked": false,
     "schema_version": 3,
     "solution": true,
     "task": false
    }
   },
   "outputs": [],
   "source": [
    "# YOUR CODE HERE\n",
    "raise NotImplementedError()"
   ]
  },
  {
   "cell_type": "markdown",
   "id": "791a0225-636d-46c8-bd0c-d12acb3bd8cb",
   "metadata": {
    "deletable": false,
    "editable": false
   },
   "source": [
    "END OF YOUR CODE"
   ]
  },
  {
   "cell_type": "markdown",
   "id": "ecba34f6-2b18-4eca-aae1-47c1bae40deb",
   "metadata": {
    "deletable": false,
    "editable": false
   },
   "source": [
    "---\n",
    "\n",
    "1.3. Make a new folder called \"HW7_exercise1\" and save the `ExperimentData` object to this folder.\n",
    "\n",
    "> Note: Make sure you put a relative path as the storing location!\n",
    ">\n",
    "> So: `./HW7_exercise` = good\n",
    ">\n",
    "> But: `/home/username/Documents/GitHub/3dasm_course/Assignments/your_Assignments/HW7_exercise1` = bad"
   ]
  },
  {
   "cell_type": "markdown",
   "id": "61bb55c2-7fd1-4a29-a227-d7ee58172d55",
   "metadata": {
    "deletable": false,
    "editable": false
   },
   "source": [
    "PUT YOUR CODE IN THE CELL BELOW"
   ]
  },
  {
   "cell_type": "code",
   "execution_count": null,
   "id": "1798054a-5dfe-42e7-88ac-a1bd7f876028",
   "metadata": {
    "deletable": false,
    "nbgrader": {
     "cell_type": "code",
     "checksum": "5963321faafebede11f51b4534fca082",
     "grade": false,
     "grade_id": "cell-b703e3d3b15a7c19",
     "locked": false,
     "schema_version": 3,
     "solution": true,
     "task": false
    }
   },
   "outputs": [],
   "source": [
    "# YOUR CODE HERE\n",
    "raise NotImplementedError()"
   ]
  },
  {
   "cell_type": "markdown",
   "id": "1c801a9f-3c4c-499a-a204-7c9a819dc43a",
   "metadata": {
    "deletable": false,
    "editable": false
   },
   "source": [
    "END OF YOUR CODE"
   ]
  },
  {
   "cell_type": "markdown",
   "id": "2ff0984b-db15-4fa2-b5c4-9721952a846f",
   "metadata": {
    "deletable": false,
    "editable": false
   },
   "source": [
    "---\n",
    "\n",
    "1.4. Load the ExperimentData object you saved previously into a variable called \"`my_loaded_experimentdata`\".\n",
    "Print this `ExperimentData` object and check that it is the same one you saved."
   ]
  },
  {
   "cell_type": "markdown",
   "id": "019c1678-33d6-4fee-bb03-6808e5c81f55",
   "metadata": {
    "deletable": false,
    "editable": false
   },
   "source": [
    "PUT YOUR CODE IN THE CELL BELOW"
   ]
  },
  {
   "cell_type": "code",
   "execution_count": null,
   "id": "27265d04-b08d-48b4-bddf-73563ca01047",
   "metadata": {
    "deletable": false,
    "nbgrader": {
     "cell_type": "code",
     "checksum": "ebf379df0b6ea914768430669f27f0cc",
     "grade": false,
     "grade_id": "cell-bea87a8dcd847790",
     "locked": false,
     "schema_version": 3,
     "solution": true,
     "task": false
    }
   },
   "outputs": [],
   "source": [
    "# YOUR CODE HERE\n",
    "raise NotImplementedError()"
   ]
  },
  {
   "cell_type": "markdown",
   "id": "7dd5a9f4-5551-4505-9116-58af7033e76a",
   "metadata": {
    "deletable": false,
    "editable": false
   },
   "source": [
    "END OF YOUR CODE"
   ]
  },
  {
   "cell_type": "code",
   "execution_count": null,
   "id": "9860515e-46a6-4a8b-8f4a-bda7f10c662e",
   "metadata": {
    "deletable": false,
    "editable": false,
    "nbgrader": {
     "cell_type": "code",
     "checksum": "295e8668320d37515dfbbcf1d3d35363",
     "grade": true,
     "grade_id": "cell-1f26809b6dfcf271",
     "locked": true,
     "points": 1,
     "schema_version": 3,
     "solution": false,
     "task": false
    }
   },
   "outputs": [],
   "source": [
    "# This cell checks if you did the exercise correctly\n",
    "assert my_loaded_experimentdata == my_experimentdata, \"The experimentdata in memory and the reloaded experimentdata are not the same!\" "
   ]
  },
  {
   "cell_type": "markdown",
   "id": "14dafdb5",
   "metadata": {
    "deletable": false,
    "editable": false
   },
   "source": [
    "---\n",
    "##  Exercise 2\n",
    "\n",
    "In this exercise, you will use `f3dasm` to train different Gaussian Process Regressor (GPR) models with different kernels. While you've done a similar exercise before, you'll find that `f3dasm` simplifies the workflow, making the process more efficient."
   ]
  },
  {
   "cell_type": "markdown",
   "id": "2e49adc2",
   "metadata": {
    "deletable": false,
    "editable": false
   },
   "source": [
    "2.1 Convert `my_experimentdata` from the previous exercise into two `numpy` arrays, `X` and `Y`, where `X` contains the input data and `Y` contains the output data."
   ]
  },
  {
   "cell_type": "markdown",
   "id": "41d97cc6-63b7-4652-9e4e-55cbbf755e89",
   "metadata": {
    "deletable": false,
    "editable": false
   },
   "source": [
    "PUT YOUR CODE IN THE CELL BELOW"
   ]
  },
  {
   "cell_type": "code",
   "execution_count": null,
   "id": "fce6726e",
   "metadata": {
    "deletable": false,
    "nbgrader": {
     "cell_type": "code",
     "checksum": "a2ef618d4693b48b7d32716abd29fa9f",
     "grade": false,
     "grade_id": "cell-a26d3907df2ede61",
     "locked": false,
     "schema_version": 3,
     "solution": true,
     "task": false
    }
   },
   "outputs": [],
   "source": [
    "# YOUR CODE HERE\n",
    "raise NotImplementedError()"
   ]
  },
  {
   "cell_type": "markdown",
   "id": "3c4fd031-07ff-481f-a7c4-2df36a3dd46c",
   "metadata": {
    "deletable": false,
    "editable": false
   },
   "source": [
    "END OF YOUR CODE"
   ]
  },
  {
   "cell_type": "code",
   "execution_count": null,
   "id": "5b0bc83a",
   "metadata": {
    "deletable": false,
    "editable": false,
    "nbgrader": {
     "cell_type": "code",
     "checksum": "32e9e9f6abb4498e6e8e00aad23a7603",
     "grade": true,
     "grade_id": "cell-4808aba7f0a9aeee",
     "locked": true,
     "points": 1,
     "schema_version": 3,
     "solution": false,
     "task": false
    }
   },
   "outputs": [],
   "source": [
    "# This cell checks if you did the exercise correctly\n",
    "assert isinstance(X, np.ndarray), \"X is not a numpy array\"\n",
    "assert isinstance(Y, np.ndarray), \"Y is not a numpy array\"\n",
    "assert X.shape == (50, 1), \"The shape of X is not correct\""
   ]
  },
  {
   "cell_type": "markdown",
   "id": "b76ad765-6e6d-457e-a8ff-27300530edda",
   "metadata": {
    "deletable": false,
    "editable": false
   },
   "source": [
    "---\n",
    "\n",
    "Let's add Gaussian noise ($z$) to the output $y$, such that:\n",
    "\n",
    "$$\n",
    "z \\sim \\mathcal{N}(0, \\sigma_z^2), \\quad \\sigma_z \\sim \\mathcal{U}(0.5, 1.5)\n",
    "$$\n",
    "\n",
    "\n"
   ]
  },
  {
   "cell_type": "code",
   "execution_count": null,
   "id": "a604c0ce-72c9-4a06-9c2d-9a50f3d51639",
   "metadata": {
    "deletable": false,
    "editable": false
   },
   "outputs": [],
   "source": [
    "rng = np.random.default_rng(seed=123) # Create a new random number generator\n",
    "std_devs = rng.uniform(0.5, 1.5, size=Y.shape) # Generaterandom standard deviation between 0.5 and 1.5\n",
    "z = rng.normal(0.0, std_devs) # Sample from a Gaussian distribution with the standard deviations\n",
    "Y += z # Add Gaussian noise to the data output"
   ]
  },
  {
   "cell_type": "markdown",
   "id": "22fd1b83-9812-4c7e-b223-d3454169fb6c",
   "metadata": {
    "deletable": false,
    "editable": false
   },
   "source": [
    "---"
   ]
  },
  {
   "cell_type": "markdown",
   "id": "54ce6d7a-f606-436a-9f40-8bc02a2731d0",
   "metadata": {
    "deletable": false,
    "editable": false
   },
   "source": [
    "2.2 With the `train_test_split` function of `scikit-learn`, split the dataset into a train and test set, with ratio 80/20 and use $123$ as the random seed:"
   ]
  },
  {
   "cell_type": "markdown",
   "id": "14513391-75eb-4723-b0c5-36c517b88f8c",
   "metadata": {
    "deletable": false,
    "editable": false
   },
   "source": [
    "PUT YOUR CODE IN THE CELL BELOW"
   ]
  },
  {
   "cell_type": "code",
   "execution_count": null,
   "id": "26008d2d-034d-48be-8b5f-28f3ab6410d7",
   "metadata": {
    "deletable": false,
    "nbgrader": {
     "cell_type": "code",
     "checksum": "21f19fbefa74c893dbbbd1c2ee8c49a7",
     "grade": false,
     "grade_id": "cell-9a0d262af3351f1e",
     "locked": false,
     "schema_version": 3,
     "solution": true,
     "task": false
    }
   },
   "outputs": [],
   "source": [
    "# YOUR CODE HERE\n",
    "raise NotImplementedError()"
   ]
  },
  {
   "cell_type": "markdown",
   "id": "0d98c10b-ec10-4f0d-8480-c5cbf390fedc",
   "metadata": {
    "deletable": false,
    "editable": false
   },
   "source": [
    "END OF YOUR CODE"
   ]
  },
  {
   "cell_type": "code",
   "execution_count": null,
   "id": "87d40406-785a-4dda-803c-953377e2848f",
   "metadata": {
    "deletable": false,
    "editable": false,
    "nbgrader": {
     "cell_type": "code",
     "checksum": "2f24d1b3d2e4da95ae92f53f730c669f",
     "grade": true,
     "grade_id": "cell-ca945699e784c3a1",
     "locked": true,
     "points": 1,
     "schema_version": 3,
     "solution": false,
     "task": false
    }
   },
   "outputs": [],
   "source": [
    "# This cell checks if you did the exercise correctly\n",
    "assert (X_train.shape == y_train.shape == (40, 1)), \"The shape of X_train or y_trainis not correct!\"\n",
    "assert (X_test.shape == y_test.shape == (10, 1)), \"The shape of X_test or y_test is not correct\""
   ]
  },
  {
   "cell_type": "markdown",
   "id": "8a3e374c-fc98-4bc9-af80-aebbe5fb1c6e",
   "metadata": {
    "deletable": false,
    "editable": false
   },
   "source": [
    "2.3 Create a dictionary called `kernels` where the keys are `'RBF'`, `'Matern'` and `'ExpSineSquared'` and the values are the respective kernel functions from [`sklearn.gaussian_process.kernels`](https://scikit-learn.org/1.5/api/sklearn.gaussian_process.html#module-sklearn.gaussian_process.kernels)."
   ]
  },
  {
   "cell_type": "markdown",
   "id": "b7a3d80d-4b70-474f-8581-a470add71c9c",
   "metadata": {
    "deletable": false,
    "editable": false
   },
   "source": [
    "PUT YOUR CODE IN THE CELL BELOW"
   ]
  },
  {
   "cell_type": "code",
   "execution_count": null,
   "id": "8444f646-e81f-4eb0-9578-4d9e33b0dd66",
   "metadata": {
    "deletable": false,
    "nbgrader": {
     "cell_type": "code",
     "checksum": "e0647cff217984ac7cbd6e8db6adb686",
     "grade": false,
     "grade_id": "cell-4a54aac2f0a685ce",
     "locked": false,
     "schema_version": 3,
     "solution": true,
     "task": false
    }
   },
   "outputs": [],
   "source": [
    "# YOUR CODE HERE\n",
    "raise NotImplementedError()"
   ]
  },
  {
   "cell_type": "markdown",
   "id": "bc233f8a-3be7-4d05-88fb-bfb0fe0d968f",
   "metadata": {
    "deletable": false,
    "editable": false
   },
   "source": [
    "END OF YOUR CODE"
   ]
  },
  {
   "cell_type": "code",
   "execution_count": null,
   "id": "a8f53bf4-71a4-4848-8e58-77112a69e70c",
   "metadata": {
    "deletable": false,
    "nbgrader": {
     "grade": false,
     "grade_id": "cell-662dc33a17651010",
     "locked": false,
     "schema_version": 3,
     "solution": true,
     "task": false
    }
   },
   "outputs": [],
   "source": [
    "# This cell checks if you did the exercise correctly\n",
    "from sklearn.gaussian_process.kernels import Kernel\n",
    "assert isinstance(kernels, dict)\n",
    "assert all(kernel_name in kernels for kernel_name in ['RBF', 'Matern', 'ExpSineSquared'])\n",
    "assert all(isinstance(kernel, Kernel) for kernel in kernels.values()), 'test'"
   ]
  },
  {
   "cell_type": "markdown",
   "id": "c4f279ce-1ea0-4c61-b49a-dbae83c7cffd",
   "metadata": {
    "deletable": false,
    "editable": false
   },
   "source": [
    "2.4 Create a new domain object named `domain_kernel` and add a categorical parameter called `kernel`. Add a list of the dictionary keys, `list(kernels.keys())`, as the available categories."
   ]
  },
  {
   "cell_type": "markdown",
   "id": "5772bea2-05d2-4660-8428-d2f6553f7f80",
   "metadata": {
    "deletable": false,
    "editable": false
   },
   "source": [
    "PUT YOUR CODE IN THE CELL BELOW"
   ]
  },
  {
   "cell_type": "code",
   "execution_count": null,
   "id": "36117143-ba6b-477b-8dc7-8855242637b6",
   "metadata": {
    "deletable": false,
    "nbgrader": {
     "cell_type": "code",
     "checksum": "8f8d3db3bff15ccb4540629545cb4260",
     "grade": false,
     "grade_id": "cell-50223319bf69be08",
     "locked": false,
     "schema_version": 3,
     "solution": true,
     "task": false
    }
   },
   "outputs": [],
   "source": [
    "# YOUR CODE HERE\n",
    "raise NotImplementedError()"
   ]
  },
  {
   "cell_type": "markdown",
   "id": "6748f66e-532c-4f0f-987b-c0f16e506df5",
   "metadata": {
    "deletable": false,
    "editable": false
   },
   "source": [
    "END OF YOUR CODE"
   ]
  },
  {
   "cell_type": "code",
   "execution_count": null,
   "id": "08b8560a-98c9-46f6-bc37-c3e4d18ef8fc",
   "metadata": {
    "deletable": false,
    "editable": false,
    "nbgrader": {
     "cell_type": "code",
     "checksum": "2f24d1b3d2e4da95ae92f53f730c669f",
     "grade": true,
     "grade_id": "cell-ca945699e784c3a1",
     "locked": true,
     "points": 1,
     "schema_version": 3,
     "solution": false,
     "task": false
    }
   },
   "outputs": [],
   "source": [
    "# This cell checks if you did the exercise correctly\n",
    "assert isinstance(domain_kernel, Domain), \"domain_kernel is not Domain instance!\"\n",
    "assert 'kernel' in domain_kernel.space, \"there is not parameter named 'kernel' in the domain!\""
   ]
  },
  {
   "cell_type": "markdown",
   "id": "4b31c57a-ae5f-4b1e-8287-7e4a21be2ccc",
   "metadata": {
    "deletable": false,
    "editable": false
   },
   "source": [
    "2.5 Create a function `evaluate_regressor` that inputs the `kernel` variable (the name of the kernel).\n",
    "- The function creates a Gaussian process regressor with the kernel given by the input of the function\n",
    "- The model is trained on the training data and predicts the testing data\n",
    "- The function returns the $R^2$ and MSE on the test data"
   ]
  },
  {
   "cell_type": "markdown",
   "id": "1e92e671-d9b0-4bc4-b37e-e1a85aa41893",
   "metadata": {
    "deletable": false,
    "editable": false
   },
   "source": [
    "PUT YOUR CODE IN THE CELL BELOW"
   ]
  },
  {
   "cell_type": "code",
   "execution_count": null,
   "id": "77939f07-9a95-4797-a628-239057ad714f",
   "metadata": {
    "deletable": false,
    "nbgrader": {
     "cell_type": "code",
     "checksum": "4558dba74c4a16d7fbac4afa944778b0",
     "grade": false,
     "grade_id": "cell-2faf21613c634e18",
     "locked": false,
     "schema_version": 3,
     "solution": true,
     "task": false
    }
   },
   "outputs": [],
   "source": [
    "# You might want to import some functions ..\n",
    "# YOUR CODE HERE\n",
    "raise NotImplementedError()\n",
    "\n",
    "def evaluate_regressor(kernel: str):\n",
    "    # YOUR CODE HERE\n",
    "    raise NotImplementedError()\n",
    "    return r2, mse"
   ]
  },
  {
   "cell_type": "markdown",
   "id": "e02d9af5-413c-4574-b940-2f719afc2115",
   "metadata": {
    "deletable": false,
    "editable": false
   },
   "source": [
    "END OF YOUR CODE"
   ]
  },
  {
   "cell_type": "markdown",
   "id": "eafd0c56-18e7-433d-b728-03a806ab637e",
   "metadata": {
    "deletable": false,
    "editable": false
   },
   "source": [
    "2.5 Create an `ExperimentData` object called `experimentdata_gpr` and add experiments `Data_kernels` (this array is given below) . Evaluate the experiments on the `evaluate_regressor` function."
   ]
  },
  {
   "cell_type": "markdown",
   "id": "2f65ba27-1a17-4ccc-958c-8733289c3c1f",
   "metadata": {
    "deletable": false,
    "editable": false
   },
   "source": [
    "PUT YOUR CODE IN THE CELL BELOW"
   ]
  },
  {
   "cell_type": "code",
   "execution_count": null,
   "id": "b3fa9550-0f4c-4d92-94f6-a861db69c66f",
   "metadata": {
    "deletable": false,
    "nbgrader": {
     "cell_type": "code",
     "checksum": "dbba12eb49a3bcb8acf50c4c8a3a6081",
     "grade": false,
     "grade_id": "cell-f9606ab5545bf7e3",
     "locked": false,
     "schema_version": 3,
     "solution": true,
     "task": false
    }
   },
   "outputs": [],
   "source": [
    "# The array of kernel names\n",
    "Data_kernels = np.array(['RBF', 'Matern', 'ExpSineSquared'])\n",
    "\n",
    "# YOUR CODE HERE\n",
    "raise NotImplementedError()"
   ]
  },
  {
   "cell_type": "markdown",
   "id": "f5712319-b0ea-425e-9c10-af01390dbe40",
   "metadata": {
    "deletable": false,
    "editable": false
   },
   "source": [
    "END OF YOUR CODE"
   ]
  },
  {
   "cell_type": "code",
   "execution_count": null,
   "id": "27f5be22-0469-4528-8be1-e5c652bbc26a",
   "metadata": {
    "deletable": false,
    "editable": false,
    "nbgrader": {
     "cell_type": "code",
     "checksum": "6949bad1b2fb8cf71f01ef123413febc",
     "grade": true,
     "grade_id": "cell-fb5af376b438719b",
     "locked": true,
     "points": 1,
     "schema_version": 3,
     "solution": false,
     "task": false
    }
   },
   "outputs": [],
   "source": [
    "assert np.isclose(experimentdata_gpr.to_pandas()[1].astype(float).to_numpy(),\n",
    "                  np.array([[-3.39304466, 38.55734305],\n",
    "                           [-0.06724966,  9.36715066],\n",
    "                           [ 0.6915303 ,  2.70740975]])\n",
    "                 ).all(), \"The values of R2 and MSE are not correct\""
   ]
  },
  {
   "cell_type": "markdown",
   "id": "f7c104e2-67b8-4f86-a0db-e50dd2b3322c",
   "metadata": {},
   "source": [
    "End of the homework!\n",
    "\n",
    "---"
   ]
  }
 ],
 "metadata": {
  "celltoolbar": "Edit Metadata",
  "kernelspec": {
   "display_name": "Python [conda env:3dasm]",
   "language": "python",
   "name": "conda-env-3dasm-py"
  },
  "language_info": {
   "codemirror_mode": {
    "name": "ipython",
    "version": 3
   },
   "file_extension": ".py",
   "mimetype": "text/x-python",
   "name": "python",
   "nbconvert_exporter": "python",
   "pygments_lexer": "ipython3",
   "version": "3.10.0"
  }
 },
 "nbformat": 4,
 "nbformat_minor": 5
}

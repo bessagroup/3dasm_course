{
 "cells": [
  {
   "cell_type": "markdown",
   "id": "6e41db1f",
   "metadata": {
    "deletable": false,
    "editable": false,
    "nbgrader": {
     "cell_type": "markdown",
     "checksum": "2aa7b7b11ddcdec4a758a8b25da72e89",
     "grade": false,
     "grade_id": "cell-bce01a551d8dabe6",
     "locked": true,
     "schema_version": 3,
     "solution": false,
     "task": false
    }
   },
   "source": [
    "# ENGN2350 Data-Driven Design and Analysis of Structures and Materials\n",
    "\n",
    "_Homeworks for fall semester 2025-2026_\n",
    "\n",
    "Coding exercises to explore the [`f3dasm`](https://f3dasm.readthedocs.io/en/latest/) package.\n",
    "\n",
    "**General instructions**:\n",
    "\n",
    "- Read the questions and answer in the cells under the \"PUT YOUR CODE IN THE CELL BELOW\" message.\n",
    "- Work through the notebook and make sure you fill in any place that says `YOUR CODE HERE` or `YOUR ANSWER HERE`. You can remove the `'raise NotImplementedError()'` code.\n",
    "- After \"END OF YOUR CODE\" , there is a cell that contains simple tests (with `assert` statements) to see if you did the exercises correctly. Not all exercises have tests! If you run the cell containing the tests and no error is given, you have succesfully solved the exercise!\n",
    "- Make sure you have the right version of `f3dasm` (2.1.0).\n",
    "\n",
    "> You can check your `f3dasm` version by running `pip show f3dasm`\n",
    "\n",
    "- **ONLY WORK ON THE EXERCISE IN A JUPYTER NOTEBOOK ENVIRONMENT**\n",
    "\n",
    "> The homework assignments are generated and automatically graded by the `nbgrader` extension. If you open and save the notebook in Google Colab, metadata from Colab will be added, and the `nbgrader` metadata will be altered. As a result, `nbgrader` will be unable to automatically grade your homework. Therefore, we kindly ask students to only work on the notebook in Jupyter Notebook.\n",
    "\n",
    "- **DO NOT ADD OR REMOVE CELLS IN THE NOTEBOOK**\n",
    "\n",
    "> Most cells containing tests are set to read-only, but VS Code can bypass this restriction. Modifying or removing cells in the notebook may disrupt the `nbgrader` system, preventing automatic grading of your homework.\n",
    "\n",
    "**Instructions for handing in the homework**\n",
    "\n",
    "- Upload the Jupyter Notebook (`.ipynb file`) to Canvas\n",
    "\n",
    "If there are any questions about the homework, send an email to Samik (samik_mukhopadhyay@brown.edu) or Elvis (elvis_alexander_aguero_vera@brown.edu)\n",
    "\n",
    "**Grading**\n",
    "\n",
    "- In each homework, you can obtain a maximum of 20 points\n",
    "- Next to each subquestion, the maximum amount of obtainable points is listed\n",
    "\n",
    "Good luck!"
   ]
  },
  {
   "cell_type": "markdown",
   "id": "f81a202f",
   "metadata": {
    "deletable": false,
    "editable": false,
    "nbgrader": {
     "cell_type": "markdown",
     "checksum": "40ada260916a8fcb3dcb0a68252395fa",
     "grade": false,
     "grade_id": "cell-29cde56aff653320",
     "locked": true,
     "schema_version": 3,
     "solution": false,
     "task": false
    }
   },
   "source": [
    "You can put your name in the cell below:"
   ]
  },
  {
   "cell_type": "code",
   "execution_count": null,
   "id": "6b21de0d",
   "metadata": {},
   "outputs": [],
   "source": [
    "NAME = \"\""
   ]
  },
  {
   "cell_type": "markdown",
   "id": "672da744",
   "metadata": {
    "deletable": false,
    "editable": false,
    "nbgrader": {
     "cell_type": "markdown",
     "checksum": "45c2bf59ec09d762fd2d607eb147c1a4",
     "grade": false,
     "grade_id": "cell-925719e94f410246",
     "locked": true,
     "schema_version": 3,
     "solution": false,
     "task": false
    }
   },
   "source": [
    "---"
   ]
  },
  {
   "cell_type": "markdown",
   "id": "a557b9dc-14dc-473d-a21f-c88fd37fb5f4",
   "metadata": {
    "editable": true,
    "slideshow": {
     "slide_type": ""
    },
    "tags": []
   },
   "source": [
    "## Homework 7\n",
    "\n",
    "In this homework you will explore the basic usage of the `f3dasm` package:\n",
    "\n",
    "At the end of this homework you will know\n",
    "- how to do Design of Experiments, including creating the `Domain` object, and `ExperimentData` object from a numpy array and a pandas DataFrame.\n",
    "- how to define the Data Generation module, including creating your custom evaluation function.\n",
    "- how to save your `ExperimentData` and later retrieve it from disk.\n",
    "- how to use the package to do simple model selection."
   ]
  },
  {
   "cell_type": "code",
   "execution_count": null,
   "id": "859e4470-1a77-42dc-a666-e443ddcb027f",
   "metadata": {
    "deletable": false,
    "editable": false,
    "nbgrader": {
     "cell_type": "code",
     "checksum": "eb8f7a9ce5d73880ac0ae58c1c15bb6f",
     "grade": false,
     "grade_id": "cell-695c433357ca68ea",
     "locked": true,
     "schema_version": 3,
     "solution": false,
     "task": false
    }
   },
   "outputs": [],
   "source": [
    "# Import some packages we might need later\n",
    "import numpy as np"
   ]
  },
  {
   "cell_type": "markdown",
   "id": "a7deb380-1954-4890-9d83-a41511853059",
   "metadata": {
    "editable": true,
    "slideshow": {
     "slide_type": ""
    },
    "tags": []
   },
   "source": [
    "---\n",
    "### Exercise 1\n",
    "\n",
    "Consider the function $f(x) = x  \\; sin(x)$ in the domain $x \\in [0, 10]$\n",
    "\n",
    "1.1 _(5 point_) Do the Design of Experiments manually by creating a `f3dasm.ExperimentData` dataset with $50$ input points that are equally spaced within those bounds.\n",
    "\n",
    "You are going to do this step-by-step!\n",
    "\n",
    "---\n",
    "\n",
    "- Create a `Domain` object called `my_domain` and add the input parameter $x$ to it. Make sure the bounds of the\n",
    "variable are between $0.0$ and $10.0$."
   ]
  },
  {
   "cell_type": "markdown",
   "id": "2c50ff6c-21fc-4997-8ffc-2a1b806f958f",
   "metadata": {},
   "source": [
    "PUT YOUR CODE IN THE CELL BELOW"
   ]
  },
  {
   "cell_type": "code",
   "execution_count": null,
   "id": "61ddf525-3c66-4130-a2cb-b57d08a5ba63",
   "metadata": {
    "deletable": false,
    "editable": true,
    "nbgrader": {
     "cell_type": "code",
     "checksum": "7ee452beb030f09714e6cf5238917f20",
     "grade": false,
     "grade_id": "my_domain",
     "locked": false,
     "schema_version": 3,
     "solution": true,
     "task": false
    },
    "slideshow": {
     "slide_type": ""
    },
    "tags": []
   },
   "outputs": [],
   "source": [
    "# YOUR CODE HERE\n",
    "raise NotImplementedError()"
   ]
  },
  {
   "cell_type": "markdown",
   "id": "114869cc-cf45-4054-b305-87a6066c2933",
   "metadata": {},
   "source": [
    "END OF YOUR CODE"
   ]
  },
  {
   "cell_type": "code",
   "execution_count": null,
   "id": "01ad0c1a-7846-4710-ad2c-dc3fab007764",
   "metadata": {
    "deletable": false,
    "editable": false,
    "nbgrader": {
     "cell_type": "code",
     "checksum": "dcfac18ce2a4cf21d80023fc40c027be",
     "grade": true,
     "grade_id": "cell-d916c20f5d8fb8f5",
     "locked": true,
     "points": 1,
     "schema_version": 3,
     "solution": false,
     "task": false
    },
    "slideshow": {
     "slide_type": ""
    },
    "tags": []
   },
   "outputs": [],
   "source": [
    "# This cell checks if you did the exercise correctly\n",
    "assert isinstance(my_domain, Domain), \"my_domain is not an instance of the Domain class!\"\n",
    "assert 'x' in my_domain.input_space, \"There is no parameter named 'x' in your domain!\"\n",
    "assert my_domain.input_space['x'].lower_bound == 0.0, \"The lower bound of the paramater x is not 0.0\"\n",
    "assert my_domain.input_space['x'].upper_bound == 10.0, \"The upper bound of the parameter x is not 10.0\""
   ]
  },
  {
   "cell_type": "markdown",
   "id": "7dcd627e-ba59-48d5-9dd5-f465e4e4bf5a",
   "metadata": {},
   "source": [
    "---\n",
    "\n",
    "- Create a `numpy` vector `x_data` of $50$ points that are uniformly spaced between $0$ and $10$."
   ]
  },
  {
   "cell_type": "markdown",
   "id": "80084d89-5bb8-4810-88ea-8c6741302f5b",
   "metadata": {},
   "source": [
    "PUT YOUR CODE IN THE CELL BELOW"
   ]
  },
  {
   "cell_type": "code",
   "execution_count": null,
   "id": "2eff8da7-048e-4927-aced-c85deb076ee0",
   "metadata": {
    "deletable": false,
    "nbgrader": {
     "cell_type": "code",
     "checksum": "7c051475270a663fee42f3810191f706",
     "grade": false,
     "grade_id": "cell-297b52680c4351f4",
     "locked": false,
     "schema_version": 3,
     "solution": true,
     "task": false
    }
   },
   "outputs": [],
   "source": [
    "# YOUR CODE HERE\n",
    "raise NotImplementedError()"
   ]
  },
  {
   "cell_type": "markdown",
   "id": "88d69539-1343-4a13-a357-d05118357d5e",
   "metadata": {},
   "source": [
    "END OF YOUR CODE"
   ]
  },
  {
   "cell_type": "code",
   "execution_count": null,
   "id": "6d000011-66b1-47d8-8eed-831c6c6281a0",
   "metadata": {
    "deletable": false,
    "editable": false,
    "nbgrader": {
     "cell_type": "code",
     "checksum": "875691562b7d3eda2c2f66627a55f35e",
     "grade": true,
     "grade_id": "cell-2af2df8e08967b59",
     "locked": true,
     "points": 1,
     "schema_version": 3,
     "solution": false,
     "task": false
    }
   },
   "outputs": [],
   "source": [
    "# This cell checks if you did the exercise correctly\n",
    "assert np.isclose(x_data[3], 0.61224), \"The value of x_data in position 3 is not correct!\"\n",
    "assert np.isclose(x_data[6], 1.22448), \"The value of x_data in position 6 is not correct!\"\n",
    "assert np.isclose(x_data[-1], 10.0), \"The value of x_data in the last position is not correct!\""
   ]
  },
  {
   "cell_type": "markdown",
   "id": "9bfd4ed1-a944-46c6-972c-81658e396eaf",
   "metadata": {},
   "source": [
    "---\n",
    "\n",
    "- Create a new `ExperimentData` object called `my_experimentdata` with the input data `x_data`\n",
    "and the domain object created in the first step."
   ]
  },
  {
   "cell_type": "markdown",
   "id": "e0d310c1-6c7d-45ae-b884-26eb8c720a62",
   "metadata": {},
   "source": [
    "PUT YOUR CODE IN THE CELL BELOW"
   ]
  },
  {
   "cell_type": "code",
   "execution_count": null,
   "id": "f7fa9120-52cd-4f15-84e3-92252e00e4e4",
   "metadata": {
    "deletable": false,
    "nbgrader": {
     "cell_type": "code",
     "checksum": "9813b3193e7d1d59fc75274fedefce0d",
     "grade": true,
     "grade_id": "cell-2600cfc7761b7942",
     "locked": false,
     "points": 1,
     "schema_version": 3,
     "solution": true,
     "task": false
    }
   },
   "outputs": [],
   "source": [
    "# YOUR CODE HERE\n",
    "raise NotImplementedError()"
   ]
  },
  {
   "cell_type": "markdown",
   "id": "ee39c47a-bde2-4d1c-a064-56282967f4bd",
   "metadata": {},
   "source": [
    "END OF YOUR CODE"
   ]
  },
  {
   "cell_type": "markdown",
   "id": "0a75f09f-8a77-4b60-920e-cdf60802c512",
   "metadata": {},
   "source": [
    "---\n",
    "\n",
    "- Create a function $f(x)$ that computes $x \\; sin(x)$\n",
    "- Add the decorator `@datagenerator` from `f3dasm` to the function. Name the output to the function `'y'`. "
   ]
  },
  {
   "cell_type": "markdown",
   "id": "01c13447-7652-4adf-9cbd-6d32225faf7f",
   "metadata": {},
   "source": [
    "PUT YOUR CODE IN THE CELL BELOW"
   ]
  },
  {
   "cell_type": "code",
   "execution_count": null,
   "id": "784ea977-0e4a-4821-92bd-00da1bc65c21",
   "metadata": {
    "deletable": false,
    "nbgrader": {
     "cell_type": "code",
     "checksum": "4a50305dabbbe3b2fc549df186d1cfd5",
     "grade": false,
     "grade_id": "cell-e8432075abd233a6",
     "locked": false,
     "schema_version": 3,
     "solution": true,
     "task": false
    }
   },
   "outputs": [],
   "source": [
    "from f3dasm import datagenerator\n",
    "\n",
    "@datagenerator(output_names=['y'])\n",
    "def f(x: np.ndarray) -> float:\n",
    "    # YOUR CODE HERE\n",
    "    raise NotImplementedError()\n",
    "    return float(y)"
   ]
  },
  {
   "cell_type": "markdown",
   "id": "7246fc27-b7b9-4b00-85ec-24ee69bfbf8e",
   "metadata": {},
   "source": [
    "END OF YOUR CODE"
   ]
  },
  {
   "cell_type": "code",
   "execution_count": null,
   "id": "b7574e4b-a5fd-45fa-b148-b140efe6e4bd",
   "metadata": {
    "deletable": false,
    "editable": false,
    "nbgrader": {
     "cell_type": "code",
     "checksum": "6ae73b4df372000f66a2ed9b4f22726e",
     "grade": true,
     "grade_id": "cell-98d87c5fab17d24a",
     "locked": true,
     "points": 1,
     "schema_version": 3,
     "solution": false,
     "task": false
    }
   },
   "outputs": [],
   "source": [
    "from f3dasm.datageneration import DataGenerator\n",
    "\n",
    "# This cell checks if you did the exercise correctly\n",
    "assert np.isclose(f.f(1), 0.84147), \"When prompting the function with input x=1, the output is not correct!\"\n",
    "assert np.isclose(f.f(2), 1.81859), \"When prompting the function with input x=2, the output is not correct!\"\n",
    "assert isinstance(f, DataGenerator), \"f is not an instance of the DataGenerator class!\""
   ]
  },
  {
   "cell_type": "markdown",
   "id": "773cd263-447c-4a20-beab-0c4470534c69",
   "metadata": {},
   "source": [
    "---\n",
    "\n",
    "- Call the datagenerator of funciton $f(x)$ with the `f3dasm.ExperimentData` and store the output back in `my_experimentdata`."
   ]
  },
  {
   "cell_type": "markdown",
   "id": "02590a43-c986-4834-abd7-61efcd3f9bbb",
   "metadata": {},
   "source": [
    "PUT YOUR CODE IN THE CELL BELOW"
   ]
  },
  {
   "cell_type": "code",
   "execution_count": null,
   "id": "4f42af73-7cc2-484e-b413-0024aef64c76",
   "metadata": {
    "deletable": false,
    "nbgrader": {
     "cell_type": "code",
     "checksum": "5ff22039f9677b493ee9282568042646",
     "grade": false,
     "grade_id": "cell-805e946d720c3668",
     "locked": false,
     "schema_version": 3,
     "solution": true,
     "task": false
    }
   },
   "outputs": [],
   "source": [
    "# YOUR CODE HERE\n",
    "raise NotImplementedError()"
   ]
  },
  {
   "cell_type": "markdown",
   "id": "ef028b7d-cdb4-4158-8640-e1ab046558ca",
   "metadata": {},
   "source": [
    "END OF YOUR CODE"
   ]
  },
  {
   "cell_type": "code",
   "execution_count": null,
   "id": "c7da110b-f158-4530-b11d-3292e049b60c",
   "metadata": {
    "deletable": false,
    "editable": false,
    "nbgrader": {
     "cell_type": "code",
     "checksum": "ae21888db677ff20314c51ac8fee88b8",
     "grade": true,
     "grade_id": "cell-df2fcbac53b4effc",
     "locked": true,
     "points": 1,
     "schema_version": 3,
     "solution": false,
     "task": false
    }
   },
   "outputs": [],
   "source": [
    "# This cell checks if you did the exercise correctly\n",
    "assert all(np.isclose(my_experimentdata.to_numpy()[1].ravel(), \n",
    "                      np.array([f.f(x) for x in x_data]))), \"The output of the experimentdata is not correct!\""
   ]
  },
  {
   "cell_type": "markdown",
   "id": "723c7a04-91dc-47b8-bf44-6b3d33b4ce2a",
   "metadata": {},
   "source": [
    "---\n",
    "\n",
    "1.2 _(1 point)_ Plot the function from the 50 points that you defined, label the x-axis as \"x\" and the y axis as \"y\",\n",
    "and include a title \"Exercise 1\" in the plot."
   ]
  },
  {
   "cell_type": "markdown",
   "id": "b2d57c37-7a95-45d7-8fc9-114f2bdd5fa0",
   "metadata": {},
   "source": [
    "PUT YOUR CODE IN THE CELL BELOW"
   ]
  },
  {
   "cell_type": "code",
   "execution_count": null,
   "id": "08856d45-32d0-4452-a9be-a55882974f3a",
   "metadata": {
    "deletable": false,
    "nbgrader": {
     "cell_type": "code",
     "checksum": "ecd9493d9eed4984561c287cc5798ec8",
     "grade": true,
     "grade_id": "cell-177d376bc1352fc8",
     "locked": false,
     "points": 1,
     "schema_version": 3,
     "solution": true,
     "task": false
    }
   },
   "outputs": [],
   "source": [
    "# YOUR CODE HERE\n",
    "raise NotImplementedError()"
   ]
  },
  {
   "cell_type": "markdown",
   "id": "791a0225-636d-46c8-bd0c-d12acb3bd8cb",
   "metadata": {},
   "source": [
    "END OF YOUR CODE"
   ]
  },
  {
   "cell_type": "markdown",
   "id": "ecba34f6-2b18-4eca-aae1-47c1bae40deb",
   "metadata": {},
   "source": [
    "---\n",
    "\n",
    "1.3. _(1 point)_ Make a new folder in the \"HW7_exercise1\" folder called \"exercise_1\" and save the `ExperimentData`\n",
    "object to this folder.\n",
    "\n",
    "> Note: For this exercise, make sure you put a relative path as the storing location!\n",
    ">\n",
    "> So: `./HW7_exercise1` = good, `/home/martin/Documents/GitHub/3dasm_course/Assignments/your_Assignments/HW7_exercise1` = bad"
   ]
  },
  {
   "cell_type": "markdown",
   "id": "61bb55c2-7fd1-4a29-a227-d7ee58172d55",
   "metadata": {},
   "source": [
    "PUT YOUR CODE IN THE CELL BELOW"
   ]
  },
  {
   "cell_type": "code",
   "execution_count": null,
   "id": "1798054a-5dfe-42e7-88ac-a1bd7f876028",
   "metadata": {
    "deletable": false,
    "nbgrader": {
     "cell_type": "code",
     "checksum": "974adec79f93b361739236d9e701976f",
     "grade": true,
     "grade_id": "cell-b703e3d3b15a7c19",
     "locked": false,
     "points": 1,
     "schema_version": 3,
     "solution": true,
     "task": false
    }
   },
   "outputs": [],
   "source": [
    "# YOUR CODE HERE\n",
    "raise NotImplementedError()"
   ]
  },
  {
   "cell_type": "markdown",
   "id": "1c801a9f-3c4c-499a-a204-7c9a819dc43a",
   "metadata": {},
   "source": [
    "END OF YOUR CODE"
   ]
  },
  {
   "cell_type": "markdown",
   "id": "2ff0984b-db15-4fa2-b5c4-9721952a846f",
   "metadata": {},
   "source": [
    "---\n",
    "\n",
    "1.4. _(1 point)_ Load the ExperimentData object you saved previously into a variable called \"`my_loaded_experimentdata`\".\n",
    "Print this `ExperimentData` object and check that it is the same one you saved."
   ]
  },
  {
   "cell_type": "markdown",
   "id": "019c1678-33d6-4fee-bb03-6808e5c81f55",
   "metadata": {},
   "source": [
    "PUT YOUR CODE IN THE CELL BELOW"
   ]
  },
  {
   "cell_type": "code",
   "execution_count": null,
   "id": "27265d04-b08d-48b4-bddf-73563ca01047",
   "metadata": {
    "deletable": false,
    "nbgrader": {
     "cell_type": "code",
     "checksum": "ebf379df0b6ea914768430669f27f0cc",
     "grade": false,
     "grade_id": "cell-bea87a8dcd847790",
     "locked": false,
     "schema_version": 3,
     "solution": true,
     "task": false
    }
   },
   "outputs": [],
   "source": [
    "# YOUR CODE HERE\n",
    "raise NotImplementedError()"
   ]
  },
  {
   "cell_type": "markdown",
   "id": "7dd5a9f4-5551-4505-9116-58af7033e76a",
   "metadata": {},
   "source": [
    "END OF YOUR CODE"
   ]
  },
  {
   "cell_type": "code",
   "execution_count": null,
   "id": "9860515e-46a6-4a8b-8f4a-bda7f10c662e",
   "metadata": {
    "deletable": false,
    "editable": false,
    "nbgrader": {
     "cell_type": "code",
     "checksum": "fe6d9ce94ba834d4f6ff24ff0cbc6926",
     "grade": true,
     "grade_id": "cell-1f26809b6dfcf271",
     "locked": true,
     "points": 1,
     "schema_version": 3,
     "solution": false,
     "task": false
    }
   },
   "outputs": [],
   "source": [
    "# This cell checks if you did the exercise correctly\n",
    "assert my_loaded_experimentdata.round(6) == my_experimentdata.round(6), \"The experimentdata in memory and the reloaded experimentdata are not the same!\" "
   ]
  },
  {
   "cell_type": "markdown",
   "id": "14dafdb5",
   "metadata": {},
   "source": [
    "---\n",
    "##  Exercise 2\n",
    "\n",
    "In this exercise, you will use `f3dasm` to train different Gaussian Process Regressor (GPR) models with different kernels. While you've done a similar exercise before, you'll find that `f3dasm` simplifies the workflow, making the process more efficient."
   ]
  },
  {
   "cell_type": "markdown",
   "id": "2e49adc2",
   "metadata": {},
   "source": [
    "2.1 _(1 point)_ Convert `my_experimentdata` from the previous exercise into two `numpy` arrays, `X` and `Y`, where `X` contains the input data and `Y` contains the output data."
   ]
  },
  {
   "cell_type": "markdown",
   "id": "41d97cc6-63b7-4652-9e4e-55cbbf755e89",
   "metadata": {},
   "source": [
    "PUT YOUR CODE IN THE CELL BELOW"
   ]
  },
  {
   "cell_type": "code",
   "execution_count": null,
   "id": "fce6726e",
   "metadata": {
    "deletable": false,
    "nbgrader": {
     "cell_type": "code",
     "checksum": "a2ef618d4693b48b7d32716abd29fa9f",
     "grade": false,
     "grade_id": "cell-a26d3907df2ede61",
     "locked": false,
     "schema_version": 3,
     "solution": true,
     "task": false
    }
   },
   "outputs": [],
   "source": [
    "# YOUR CODE HERE\n",
    "raise NotImplementedError()"
   ]
  },
  {
   "cell_type": "markdown",
   "id": "3c4fd031-07ff-481f-a7c4-2df36a3dd46c",
   "metadata": {},
   "source": [
    "END OF YOUR CODE"
   ]
  },
  {
   "cell_type": "code",
   "execution_count": null,
   "id": "5b0bc83a",
   "metadata": {
    "deletable": false,
    "editable": false,
    "nbgrader": {
     "cell_type": "code",
     "checksum": "32e9e9f6abb4498e6e8e00aad23a7603",
     "grade": true,
     "grade_id": "cell-4808aba7f0a9aeee",
     "locked": true,
     "points": 1,
     "schema_version": 3,
     "solution": false,
     "task": false
    }
   },
   "outputs": [],
   "source": [
    "# This cell checks if you did the exercise correctly\n",
    "assert isinstance(X, np.ndarray), \"X is not a numpy array\"\n",
    "assert isinstance(Y, np.ndarray), \"Y is not a numpy array\"\n",
    "assert X.shape == (50, 1), \"The shape of X is not correct\""
   ]
  },
  {
   "cell_type": "markdown",
   "id": "b76ad765-6e6d-457e-a8ff-27300530edda",
   "metadata": {},
   "source": [
    "---\n",
    "\n",
    "2.2 _(2 points)_ Add Gaussian noise ($z$) to the output (`Y`), such that:\n",
    "\n",
    "$$\n",
    "z \\sim \\mathcal{N}(0, \\sigma_z^2), \\quad \\sigma_z \\sim \\mathcal{U}(0.5, 1.5)\n",
    "$$\n",
    "\n",
    "To handle the stochasticity, create a `numpy.random.Generator` object with `np.random.default_rng` ([link to documentation](https://numpy.org/doc/2.1/reference/random/generator.html#numpy.random.default_rng)) and use $123$ as the seed\n"
   ]
  },
  {
   "cell_type": "markdown",
   "id": "f133deef-db05-4bca-93ce-4ad53752f36e",
   "metadata": {},
   "source": [
    "PUT YOUR CODE IN THE CELL BELOW"
   ]
  },
  {
   "cell_type": "code",
   "execution_count": null,
   "id": "a604c0ce-72c9-4a06-9c2d-9a50f3d51639",
   "metadata": {
    "deletable": false,
    "nbgrader": {
     "cell_type": "code",
     "checksum": "9dca23e8618bfe3867a35cc7c3b31756",
     "grade": true,
     "grade_id": "cell-e8ee9a954fd7f319",
     "locked": false,
     "points": 2,
     "schema_version": 3,
     "solution": true,
     "task": false
    }
   },
   "outputs": [],
   "source": [
    "# YOUR CODE HERE\n",
    "raise NotImplementedError()"
   ]
  },
  {
   "cell_type": "markdown",
   "id": "c88dc235-b23a-4074-9869-a651aa525aaa",
   "metadata": {},
   "source": [
    "END OF YOUR CODE"
   ]
  },
  {
   "cell_type": "markdown",
   "id": "22fd1b83-9812-4c7e-b223-d3454169fb6c",
   "metadata": {},
   "source": [
    "---"
   ]
  },
  {
   "cell_type": "markdown",
   "id": "54ce6d7a-f606-436a-9f40-8bc02a2731d0",
   "metadata": {},
   "source": [
    "2.3 _(1 point)_ With the `train_test_split` function of `scikit-learn`, split the dataset into a train (`X_train`, `y_train`) and test (`X_test`, `y_test`) set, with ratio 80/20 and use $123$ as the random seed:"
   ]
  },
  {
   "cell_type": "markdown",
   "id": "14513391-75eb-4723-b0c5-36c517b88f8c",
   "metadata": {},
   "source": [
    "PUT YOUR CODE IN THE CELL BELOW"
   ]
  },
  {
   "cell_type": "code",
   "execution_count": null,
   "id": "26008d2d-034d-48be-8b5f-28f3ab6410d7",
   "metadata": {
    "deletable": false,
    "nbgrader": {
     "cell_type": "code",
     "checksum": "21f19fbefa74c893dbbbd1c2ee8c49a7",
     "grade": false,
     "grade_id": "cell-9a0d262af3351f1e",
     "locked": false,
     "schema_version": 3,
     "solution": true,
     "task": false
    }
   },
   "outputs": [],
   "source": [
    "# YOUR CODE HERE\n",
    "raise NotImplementedError()"
   ]
  },
  {
   "cell_type": "markdown",
   "id": "0d98c10b-ec10-4f0d-8480-c5cbf390fedc",
   "metadata": {},
   "source": [
    "END OF YOUR CODE"
   ]
  },
  {
   "cell_type": "code",
   "execution_count": null,
   "id": "87d40406-785a-4dda-803c-953377e2848f",
   "metadata": {
    "deletable": false,
    "editable": false,
    "nbgrader": {
     "cell_type": "code",
     "checksum": "2f24d1b3d2e4da95ae92f53f730c669f",
     "grade": true,
     "grade_id": "cell-ca945699e784c3a1",
     "locked": true,
     "points": 1,
     "schema_version": 3,
     "solution": false,
     "task": false
    }
   },
   "outputs": [],
   "source": [
    "# This cell checks if you did the exercise correctly\n",
    "assert (X_train.shape == y_train.shape == (40, 1)), \"The shape of X_train or y_trainis not correct!\"\n",
    "assert (X_test.shape == y_test.shape == (10, 1)), \"The shape of X_test or y_test is not correct\""
   ]
  },
  {
   "cell_type": "markdown",
   "id": "082afa26-f6fe-4264-93ed-4d39061454df",
   "metadata": {},
   "source": [
    "---"
   ]
  },
  {
   "cell_type": "markdown",
   "id": "c4f279ce-1ea0-4c61-b49a-dbae83c7cffd",
   "metadata": {},
   "source": [
    "2.4 _(1 point)_ Create a new domain object named `domain_kernel` and add a parameter called `kernel`."
   ]
  },
  {
   "cell_type": "markdown",
   "id": "5772bea2-05d2-4660-8428-d2f6553f7f80",
   "metadata": {},
   "source": [
    "PUT YOUR CODE IN THE CELL BELOW"
   ]
  },
  {
   "cell_type": "code",
   "execution_count": null,
   "id": "36117143-ba6b-477b-8dc7-8855242637b6",
   "metadata": {
    "deletable": false,
    "nbgrader": {
     "cell_type": "code",
     "checksum": "8f8d3db3bff15ccb4540629545cb4260",
     "grade": false,
     "grade_id": "cell-50223319bf69be08",
     "locked": false,
     "schema_version": 3,
     "solution": true,
     "task": false
    }
   },
   "outputs": [],
   "source": [
    "# YOUR CODE HERE\n",
    "raise NotImplementedError()"
   ]
  },
  {
   "cell_type": "markdown",
   "id": "6748f66e-532c-4f0f-987b-c0f16e506df5",
   "metadata": {},
   "source": [
    "END OF YOUR CODE"
   ]
  },
  {
   "cell_type": "code",
   "execution_count": null,
   "id": "08b8560a-98c9-46f6-bc37-c3e4d18ef8fc",
   "metadata": {
    "deletable": false,
    "editable": false,
    "nbgrader": {
     "cell_type": "code",
     "checksum": "57599323b66acfb0f1eb976ce1b3411b",
     "grade": true,
     "grade_id": "cell-876960a9bc635654",
     "locked": true,
     "points": 1,
     "schema_version": 3,
     "solution": false,
     "task": false
    }
   },
   "outputs": [],
   "source": [
    "# This cell checks if you did the exercise correctly\n",
    "assert isinstance(domain_kernel, Domain), \"domain_kernel is not Domain instance!\"\n",
    "assert 'kernel' in domain_kernel.input_space, \"there is not parameter named 'kernel' in the domain!\""
   ]
  },
  {
   "cell_type": "markdown",
   "id": "58ead7c7-b3bb-464b-abe1-c2dbf5f68dd2",
   "metadata": {},
   "source": [
    "---"
   ]
  },
  {
   "cell_type": "markdown",
   "id": "4b31c57a-ae5f-4b1e-8287-7e4a21be2ccc",
   "metadata": {},
   "source": [
    "2.5 _(2 points)_ Create a datagenerator function `evaluate_regressor` that requires an argument `kernel` and `seed`.\n",
    "- The function creates a gaussian process regressor with the kernel and seed given by the input of the function\n",
    "- The model is trained on the training data and predicts the testing data\n",
    "- The function returns the $R^2$ and MSE on the test data"
   ]
  },
  {
   "cell_type": "markdown",
   "id": "1e92e671-d9b0-4bc4-b37e-e1a85aa41893",
   "metadata": {},
   "source": [
    "PUT YOUR CODE IN THE CELL BELOW"
   ]
  },
  {
   "cell_type": "code",
   "execution_count": null,
   "id": "77939f07-9a95-4797-a628-239057ad714f",
   "metadata": {
    "deletable": false,
    "nbgrader": {
     "cell_type": "code",
     "checksum": "f18ec56cbf7af1a15259e10a9782b3a6",
     "grade": true,
     "grade_id": "cell-2faf21613c634e18",
     "locked": false,
     "points": 2,
     "schema_version": 3,
     "solution": true,
     "task": false
    }
   },
   "outputs": [],
   "source": [
    "# You might want to import some functions ..\n",
    "# YOUR CODE HERE\n",
    "raise NotImplementedError()\n",
    "\n",
    "@datagenerator(output_names=['r2', 'mse'])\n",
    "def evaluate_regressor(kernel, seed):\n",
    "    # YOUR CODE HERE\n",
    "    raise NotImplementedError()\n",
    "    return r2, mse"
   ]
  },
  {
   "cell_type": "markdown",
   "id": "e02d9af5-413c-4574-b940-2f719afc2115",
   "metadata": {},
   "source": [
    "END OF YOUR CODE"
   ]
  },
  {
   "cell_type": "markdown",
   "id": "9d14cc1e-0732-4917-9ce8-68bafcb1abed",
   "metadata": {},
   "source": [
    "---"
   ]
  },
  {
   "cell_type": "markdown",
   "id": "01d76180",
   "metadata": {},
   "source": [
    "2.6 _(1 point)_ Create a variable `Data_kernels` that is a list of dictionaries. Each dictionary should have only one key (`'kernel'`) and the value should be instances of the `'RBF'`, `'Matern'` and `'ExpSineSquared'` kernel classes from [`sklearn.gaussian_process.kernels`](https://scikit-learn.org/1.5/api/sklearn.gaussian_process.html#module-sklearn.gaussian_process.kernels)."
   ]
  },
  {
   "cell_type": "markdown",
   "id": "3ba4260d",
   "metadata": {},
   "source": [
    "PUT YOUR CODE IN THE CELL BELOW"
   ]
  },
  {
   "cell_type": "code",
   "execution_count": null,
   "id": "ebaa177b",
   "metadata": {
    "deletable": false,
    "nbgrader": {
     "cell_type": "code",
     "checksum": "11f67270b1b2048b38c1b5ccd959552f",
     "grade": false,
     "grade_id": "cell-cd00b1b7f33afd9f",
     "locked": false,
     "schema_version": 3,
     "solution": true,
     "task": false
    }
   },
   "outputs": [],
   "source": [
    "# YOUR CODE HERE\n",
    "raise NotImplementedError()"
   ]
  },
  {
   "cell_type": "markdown",
   "id": "c38a5496",
   "metadata": {},
   "source": [
    "END OF YOUR CODE"
   ]
  },
  {
   "cell_type": "code",
   "execution_count": null,
   "id": "f818eb6a",
   "metadata": {
    "deletable": false,
    "editable": false,
    "nbgrader": {
     "cell_type": "code",
     "checksum": "16eb16ca7da20ffb2415020ea193106d",
     "grade": true,
     "grade_id": "cell-67c66bf293110127",
     "locked": true,
     "points": 1,
     "schema_version": 3,
     "solution": false,
     "task": false
    }
   },
   "outputs": [],
   "source": [
    "assert isinstance(Data_kernels, list), \"Data_kernels is not a list!\"\n",
    "assert all(isinstance(d, dict) for d in Data_kernels), \"Not all elements in Data_kernels are dictionaries!\"\n",
    "assert all(list(d.keys()) == ['kernel'] for d in Data_kernels), \"Not all dictionaries in Data_kernels have the correct keys!\""
   ]
  },
  {
   "cell_type": "markdown",
   "id": "a9c5692f-3780-4e72-a851-ba4a04d752e6",
   "metadata": {},
   "source": [
    "---"
   ]
  },
  {
   "cell_type": "markdown",
   "id": "eafd0c56-18e7-433d-b728-03a806ab637e",
   "metadata": {},
   "source": [
    "2.7 _(2 points)_ Create an `ExperimentData` object called `experimentdata_gpr` and initialize with the experiments `Data_kernels` (created in the previous exercise) . Evaluate the experiments on the `evaluate_regressor` function. Use $123$ as the seed. Print the output to the terminal"
   ]
  },
  {
   "cell_type": "markdown",
   "id": "2f65ba27-1a17-4ccc-958c-8733289c3c1f",
   "metadata": {},
   "source": [
    "PUT YOUR CODE IN THE CELL BELOW"
   ]
  },
  {
   "cell_type": "code",
   "execution_count": null,
   "id": "b3fa9550-0f4c-4d92-94f6-a861db69c66f",
   "metadata": {
    "deletable": false,
    "nbgrader": {
     "cell_type": "code",
     "checksum": "8dc1ef0a529cbac5858954bb186321dd",
     "grade": true,
     "grade_id": "cell-f9606ab5545bf7e3",
     "locked": false,
     "points": 2,
     "schema_version": 3,
     "solution": true,
     "task": false
    }
   },
   "outputs": [],
   "source": [
    "# YOUR CODE HERE\n",
    "raise NotImplementedError()"
   ]
  },
  {
   "cell_type": "markdown",
   "id": "f5712319-b0ea-425e-9c10-af01390dbe40",
   "metadata": {},
   "source": [
    "END OF YOUR CODE"
   ]
  },
  {
   "cell_type": "markdown",
   "id": "182adc2f",
   "metadata": {},
   "source": [
    "The resulting `ExperimentData` should look something like this:\n",
    "\n",
    "|  | jobs     | kernel                                         | mse       | r2        |\n",
    "|------|----------|------------------------------------------------|-----------|-----------|\n",
    "| 0    | finished | 1**2 * RBF(length_scale=1)                     | 38.557356 | -3.393046 |\n",
    "| 1    | finished | Matern(length_scale=1, nu=1.5)                 | 9.367152  | -0.067250 |\n",
    "| 2    | finished | ExpSineSquared(length_scale=1, periodicity=1)  | 2.707409  | 0.691530  |\n"
   ]
  },
  {
   "cell_type": "markdown",
   "id": "327b4248-07fe-49ab-a0e9-fb732293e4e8",
   "metadata": {},
   "source": [
    "---"
   ]
  },
  {
   "cell_type": "markdown",
   "id": "591f29dd-7b36-4063-bf69-3b1ca8ec5f28",
   "metadata": {},
   "source": [
    "2.8 _(2 points)_ Recreate the same experiment, but now also store output the predictions (`y_pred`) of the test data (`X_test`). Store a reference to the predicted numpy array to the `ExperimentData` object using the `to_disk=True` functionality. You can find more information on this [in the `f3dasm` documentation](https://f3dasm.readthedocs.io/en/latest/notebooks/design/domain_creation.html#Storing-parameters-on-disk)."
   ]
  },
  {
   "cell_type": "markdown",
   "id": "baac7e8a-c1c3-4987-857b-60754f5d28d2",
   "metadata": {},
   "source": [
    "YOUR CODE IN THE CELL BELOW"
   ]
  },
  {
   "cell_type": "code",
   "execution_count": null,
   "id": "4aa34af1-a9c3-4c3a-82d1-c91c3477b9e9",
   "metadata": {
    "deletable": false,
    "nbgrader": {
     "cell_type": "code",
     "checksum": "3ea7ec87bfcd056652a6c79c03e2b51e",
     "grade": true,
     "grade_id": "cell-9121c3c62facc957",
     "locked": false,
     "points": 2,
     "schema_version": 3,
     "solution": true,
     "task": false
    }
   },
   "outputs": [],
   "source": [
    "# YOUR CODE HERE\n",
    "raise NotImplementedError()"
   ]
  },
  {
   "cell_type": "markdown",
   "id": "f1c86509-8f14-44c7-9475-b0b92e4dad3c",
   "metadata": {},
   "source": [
    "END OF YOUR CODE"
   ]
  },
  {
   "cell_type": "markdown",
   "id": "fa17045f-7467-4421-91d2-94b323ceaaf1",
   "metadata": {},
   "source": [
    "---"
   ]
  },
  {
   "cell_type": "markdown",
   "id": "f7c104e2-67b8-4f86-a0db-e50dd2b3322c",
   "metadata": {},
   "source": [
    "End of the homework!\n",
    "\n",
    "---"
   ]
  },
  {
   "cell_type": "code",
   "execution_count": null,
   "id": "7287fe9c-2f65-4f7d-9603-a929a50aa9a9",
   "metadata": {},
   "outputs": [],
   "source": []
  }
 ],
 "metadata": {
  "kernelspec": {
   "display_name": "Python 3 (ipykernel)",
   "language": "python",
   "name": "python3"
  },
  "language_info": {
   "codemirror_mode": {
    "name": "ipython",
    "version": 3
   },
   "file_extension": ".py",
   "mimetype": "text/x-python",
   "name": "python",
   "nbconvert_exporter": "python",
   "pygments_lexer": "ipython3",
   "version": "3.10.0"
  }
 },
 "nbformat": 4,
 "nbformat_minor": 5
}
